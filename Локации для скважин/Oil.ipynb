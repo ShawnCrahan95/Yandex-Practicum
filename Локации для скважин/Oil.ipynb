{
 "cells": [
  {
   "cell_type": "markdown",
   "metadata": {},
   "source": [
    "# Выбор локации для скважины"
   ]
  },
  {
   "cell_type": "markdown",
   "metadata": {},
   "source": [
    "Допустим, вы работаете в добывающей компании «ГлавРосГосНефть». Нужно решить, где бурить новую скважину.\n",
    "\n",
    "Вам предоставлены пробы нефти в трёх регионах: в каждом 10 000 месторождений, где измерили качество нефти и объём её запасов. Постройте модель машинного обучения, которая поможет определить регион, где добыча принесёт наибольшую прибыль. Проанализируйте возможную прибыль и риски техникой *Bootstrap.*\n",
    "\n",
    "Шаги для выбора локации:\n",
    "\n",
    "- В избранном регионе ищут месторождения, для каждого определяют значения признаков;\n",
    "- Строят модель и оценивают объём запасов;\n",
    "- Выбирают месторождения с самым высокими оценками значений. Количество месторождений зависит от бюджета компании и стоимости разработки одной скважины;\n",
    "- Прибыль равна суммарной прибыли отобранных месторождений."
   ]
  },
  {
   "cell_type": "markdown",
   "metadata": {},
   "source": [
    "Описание данных\\\n",
    "Данные геологоразведки трёх регионов находятся в файлах: \\\n",
    "/datasets/geo_data_0.csv.\\\n",
    "/datasets/geo_data_1.csv.\\\n",
    "/datasets/geo_data_2.csv.\\\n",
    "id — уникальный идентификатор скважины;\\\n",
    "f0, f1, f2 — три признака точек (неважно, что они означают, но сами признаки значимы);\\\n",
    "product — объём запасов в скважине (тыс. баррелей).\\\n",
    "\\\n",
    "Условия задачи:\\\n",
    "\\\n",
    "Для обучения модели подходит только линейная регрессия (остальные — недостаточно предсказуемые).\\\n",
    "При разведке региона исследуют 500 точек, из которых с помощью машинного обучения выбирают 200 лучших для разработки.\\\n",
    "Бюджет на разработку скважин в регионе — 10 млрд рублей.\\\n",
    "При нынешних ценах один баррель сырья приносит 450 рублей дохода. Доход с каждой единицы продукта составляет 450 тыс. рублей, поскольку объём указан в тысячах баррелей.\\\n",
    "После оценки рисков нужно оставить лишь те регионы, в которых вероятность убытков меньше 2.5%. Среди них выбирают регион с наибольшей средней прибылью.\\\n",
    "Данные синтетические: детали контрактов и характеристики месторождений не разглашаются."
   ]
  },
  {
   "cell_type": "markdown",
   "metadata": {},
   "source": [
    "## Загрузка и подготовка данных"
   ]
  },
  {
   "cell_type": "code",
   "execution_count": 1,
   "metadata": {},
   "outputs": [],
   "source": [
    "import pandas as pd\n",
    "import matplotlib.pyplot as plt\n",
    "import seaborn as sns\n",
    "from sklearn.model_selection import train_test_split\n",
    "from sklearn.preprocessing import StandardScaler\n",
    "from sklearn.linear_model import LinearRegression\n",
    "from sklearn.metrics import mean_squared_error\n",
    "from numpy.random import RandomState"
   ]
  },
  {
   "cell_type": "code",
   "execution_count": 2,
   "metadata": {},
   "outputs": [],
   "source": [
    "data_1 = pd.read_csv('/datasets/geo_data_0.csv')\n",
    "data_2 = pd.read_csv('/datasets/geo_data_1.csv')\n",
    "data_3 = pd.read_csv('/datasets/geo_data_2.csv')"
   ]
  },
  {
   "cell_type": "code",
   "execution_count": 3,
   "metadata": {},
   "outputs": [],
   "source": [
    "def get_data_info(data):\n",
    "    display(data.sample(10))\n",
    "    display(data.info())\n",
    "    display(data.describe(include='all'))\n",
    "    display(data.isna().sum())\n",
    "    display(data.duplicated().sum())\n",
    "    display(data.corr())\n",
    "    plt.rcParams['figure.figsize'] = (9, 7)\n",
    "    sns.heatmap(data.corr(), annot=True, linewidths=3, linecolor='white')"
   ]
  },
  {
   "cell_type": "code",
   "execution_count": 4,
   "metadata": {},
   "outputs": [
    {
     "data": {
      "text/html": [
       "<div>\n",
       "<style scoped>\n",
       "    .dataframe tbody tr th:only-of-type {\n",
       "        vertical-align: middle;\n",
       "    }\n",
       "\n",
       "    .dataframe tbody tr th {\n",
       "        vertical-align: top;\n",
       "    }\n",
       "\n",
       "    .dataframe thead th {\n",
       "        text-align: right;\n",
       "    }\n",
       "</style>\n",
       "<table border=\"1\" class=\"dataframe\">\n",
       "  <thead>\n",
       "    <tr style=\"text-align: right;\">\n",
       "      <th></th>\n",
       "      <th>id</th>\n",
       "      <th>f0</th>\n",
       "      <th>f1</th>\n",
       "      <th>f2</th>\n",
       "      <th>product</th>\n",
       "    </tr>\n",
       "  </thead>\n",
       "  <tbody>\n",
       "    <tr>\n",
       "      <th>38613</th>\n",
       "      <td>LkO3n</td>\n",
       "      <td>-0.008681</td>\n",
       "      <td>0.417443</td>\n",
       "      <td>2.102853</td>\n",
       "      <td>123.164211</td>\n",
       "    </tr>\n",
       "    <tr>\n",
       "      <th>18938</th>\n",
       "      <td>GXLtl</td>\n",
       "      <td>0.736656</td>\n",
       "      <td>-0.368375</td>\n",
       "      <td>0.253948</td>\n",
       "      <td>56.829188</td>\n",
       "    </tr>\n",
       "    <tr>\n",
       "      <th>91732</th>\n",
       "      <td>N24EI</td>\n",
       "      <td>-0.959095</td>\n",
       "      <td>0.369525</td>\n",
       "      <td>2.591265</td>\n",
       "      <td>29.067162</td>\n",
       "    </tr>\n",
       "    <tr>\n",
       "      <th>49390</th>\n",
       "      <td>ZYegp</td>\n",
       "      <td>-0.910290</td>\n",
       "      <td>0.120511</td>\n",
       "      <td>5.825675</td>\n",
       "      <td>146.044429</td>\n",
       "    </tr>\n",
       "    <tr>\n",
       "      <th>49142</th>\n",
       "      <td>UwrrE</td>\n",
       "      <td>0.022856</td>\n",
       "      <td>0.304838</td>\n",
       "      <td>5.458302</td>\n",
       "      <td>129.897561</td>\n",
       "    </tr>\n",
       "    <tr>\n",
       "      <th>29092</th>\n",
       "      <td>oLNk4</td>\n",
       "      <td>0.414960</td>\n",
       "      <td>-0.192932</td>\n",
       "      <td>8.572461</td>\n",
       "      <td>109.401231</td>\n",
       "    </tr>\n",
       "    <tr>\n",
       "      <th>26587</th>\n",
       "      <td>NUYcF</td>\n",
       "      <td>-0.993709</td>\n",
       "      <td>0.004752</td>\n",
       "      <td>0.851686</td>\n",
       "      <td>82.514532</td>\n",
       "    </tr>\n",
       "    <tr>\n",
       "      <th>11984</th>\n",
       "      <td>kATPm</td>\n",
       "      <td>-0.887445</td>\n",
       "      <td>0.290775</td>\n",
       "      <td>0.994160</td>\n",
       "      <td>22.433330</td>\n",
       "    </tr>\n",
       "    <tr>\n",
       "      <th>87194</th>\n",
       "      <td>YLnb8</td>\n",
       "      <td>0.492155</td>\n",
       "      <td>1.246989</td>\n",
       "      <td>0.984304</td>\n",
       "      <td>115.200518</td>\n",
       "    </tr>\n",
       "    <tr>\n",
       "      <th>62377</th>\n",
       "      <td>EWNeg</td>\n",
       "      <td>-0.354587</td>\n",
       "      <td>1.148640</td>\n",
       "      <td>6.103000</td>\n",
       "      <td>33.560544</td>\n",
       "    </tr>\n",
       "  </tbody>\n",
       "</table>\n",
       "</div>"
      ],
      "text/plain": [
       "          id        f0        f1        f2     product\n",
       "38613  LkO3n -0.008681  0.417443  2.102853  123.164211\n",
       "18938  GXLtl  0.736656 -0.368375  0.253948   56.829188\n",
       "91732  N24EI -0.959095  0.369525  2.591265   29.067162\n",
       "49390  ZYegp -0.910290  0.120511  5.825675  146.044429\n",
       "49142  UwrrE  0.022856  0.304838  5.458302  129.897561\n",
       "29092  oLNk4  0.414960 -0.192932  8.572461  109.401231\n",
       "26587  NUYcF -0.993709  0.004752  0.851686   82.514532\n",
       "11984  kATPm -0.887445  0.290775  0.994160   22.433330\n",
       "87194  YLnb8  0.492155  1.246989  0.984304  115.200518\n",
       "62377  EWNeg -0.354587  1.148640  6.103000   33.560544"
      ]
     },
     "metadata": {},
     "output_type": "display_data"
    },
    {
     "name": "stdout",
     "output_type": "stream",
     "text": [
      "<class 'pandas.core.frame.DataFrame'>\n",
      "RangeIndex: 100000 entries, 0 to 99999\n",
      "Data columns (total 5 columns):\n",
      " #   Column   Non-Null Count   Dtype  \n",
      "---  ------   --------------   -----  \n",
      " 0   id       100000 non-null  object \n",
      " 1   f0       100000 non-null  float64\n",
      " 2   f1       100000 non-null  float64\n",
      " 3   f2       100000 non-null  float64\n",
      " 4   product  100000 non-null  float64\n",
      "dtypes: float64(4), object(1)\n",
      "memory usage: 3.8+ MB\n"
     ]
    },
    {
     "data": {
      "text/plain": [
       "None"
      ]
     },
     "metadata": {},
     "output_type": "display_data"
    },
    {
     "data": {
      "text/html": [
       "<div>\n",
       "<style scoped>\n",
       "    .dataframe tbody tr th:only-of-type {\n",
       "        vertical-align: middle;\n",
       "    }\n",
       "\n",
       "    .dataframe tbody tr th {\n",
       "        vertical-align: top;\n",
       "    }\n",
       "\n",
       "    .dataframe thead th {\n",
       "        text-align: right;\n",
       "    }\n",
       "</style>\n",
       "<table border=\"1\" class=\"dataframe\">\n",
       "  <thead>\n",
       "    <tr style=\"text-align: right;\">\n",
       "      <th></th>\n",
       "      <th>id</th>\n",
       "      <th>f0</th>\n",
       "      <th>f1</th>\n",
       "      <th>f2</th>\n",
       "      <th>product</th>\n",
       "    </tr>\n",
       "  </thead>\n",
       "  <tbody>\n",
       "    <tr>\n",
       "      <th>count</th>\n",
       "      <td>100000</td>\n",
       "      <td>100000.000000</td>\n",
       "      <td>100000.000000</td>\n",
       "      <td>100000.000000</td>\n",
       "      <td>100000.000000</td>\n",
       "    </tr>\n",
       "    <tr>\n",
       "      <th>unique</th>\n",
       "      <td>99990</td>\n",
       "      <td>NaN</td>\n",
       "      <td>NaN</td>\n",
       "      <td>NaN</td>\n",
       "      <td>NaN</td>\n",
       "    </tr>\n",
       "    <tr>\n",
       "      <th>top</th>\n",
       "      <td>fiKDv</td>\n",
       "      <td>NaN</td>\n",
       "      <td>NaN</td>\n",
       "      <td>NaN</td>\n",
       "      <td>NaN</td>\n",
       "    </tr>\n",
       "    <tr>\n",
       "      <th>freq</th>\n",
       "      <td>2</td>\n",
       "      <td>NaN</td>\n",
       "      <td>NaN</td>\n",
       "      <td>NaN</td>\n",
       "      <td>NaN</td>\n",
       "    </tr>\n",
       "    <tr>\n",
       "      <th>mean</th>\n",
       "      <td>NaN</td>\n",
       "      <td>0.500419</td>\n",
       "      <td>0.250143</td>\n",
       "      <td>2.502647</td>\n",
       "      <td>92.500000</td>\n",
       "    </tr>\n",
       "    <tr>\n",
       "      <th>std</th>\n",
       "      <td>NaN</td>\n",
       "      <td>0.871832</td>\n",
       "      <td>0.504433</td>\n",
       "      <td>3.248248</td>\n",
       "      <td>44.288691</td>\n",
       "    </tr>\n",
       "    <tr>\n",
       "      <th>min</th>\n",
       "      <td>NaN</td>\n",
       "      <td>-1.408605</td>\n",
       "      <td>-0.848218</td>\n",
       "      <td>-12.088328</td>\n",
       "      <td>0.000000</td>\n",
       "    </tr>\n",
       "    <tr>\n",
       "      <th>25%</th>\n",
       "      <td>NaN</td>\n",
       "      <td>-0.072580</td>\n",
       "      <td>-0.200881</td>\n",
       "      <td>0.287748</td>\n",
       "      <td>56.497507</td>\n",
       "    </tr>\n",
       "    <tr>\n",
       "      <th>50%</th>\n",
       "      <td>NaN</td>\n",
       "      <td>0.502360</td>\n",
       "      <td>0.250252</td>\n",
       "      <td>2.515969</td>\n",
       "      <td>91.849972</td>\n",
       "    </tr>\n",
       "    <tr>\n",
       "      <th>75%</th>\n",
       "      <td>NaN</td>\n",
       "      <td>1.073581</td>\n",
       "      <td>0.700646</td>\n",
       "      <td>4.715088</td>\n",
       "      <td>128.564089</td>\n",
       "    </tr>\n",
       "    <tr>\n",
       "      <th>max</th>\n",
       "      <td>NaN</td>\n",
       "      <td>2.362331</td>\n",
       "      <td>1.343769</td>\n",
       "      <td>16.003790</td>\n",
       "      <td>185.364347</td>\n",
       "    </tr>\n",
       "  </tbody>\n",
       "</table>\n",
       "</div>"
      ],
      "text/plain": [
       "            id             f0             f1             f2        product\n",
       "count   100000  100000.000000  100000.000000  100000.000000  100000.000000\n",
       "unique   99990            NaN            NaN            NaN            NaN\n",
       "top      fiKDv            NaN            NaN            NaN            NaN\n",
       "freq         2            NaN            NaN            NaN            NaN\n",
       "mean       NaN       0.500419       0.250143       2.502647      92.500000\n",
       "std        NaN       0.871832       0.504433       3.248248      44.288691\n",
       "min        NaN      -1.408605      -0.848218     -12.088328       0.000000\n",
       "25%        NaN      -0.072580      -0.200881       0.287748      56.497507\n",
       "50%        NaN       0.502360       0.250252       2.515969      91.849972\n",
       "75%        NaN       1.073581       0.700646       4.715088     128.564089\n",
       "max        NaN       2.362331       1.343769      16.003790     185.364347"
      ]
     },
     "metadata": {},
     "output_type": "display_data"
    },
    {
     "data": {
      "text/plain": [
       "id         0\n",
       "f0         0\n",
       "f1         0\n",
       "f2         0\n",
       "product    0\n",
       "dtype: int64"
      ]
     },
     "metadata": {},
     "output_type": "display_data"
    },
    {
     "data": {
      "text/plain": [
       "0"
      ]
     },
     "metadata": {},
     "output_type": "display_data"
    },
    {
     "data": {
      "text/html": [
       "<div>\n",
       "<style scoped>\n",
       "    .dataframe tbody tr th:only-of-type {\n",
       "        vertical-align: middle;\n",
       "    }\n",
       "\n",
       "    .dataframe tbody tr th {\n",
       "        vertical-align: top;\n",
       "    }\n",
       "\n",
       "    .dataframe thead th {\n",
       "        text-align: right;\n",
       "    }\n",
       "</style>\n",
       "<table border=\"1\" class=\"dataframe\">\n",
       "  <thead>\n",
       "    <tr style=\"text-align: right;\">\n",
       "      <th></th>\n",
       "      <th>f0</th>\n",
       "      <th>f1</th>\n",
       "      <th>f2</th>\n",
       "      <th>product</th>\n",
       "    </tr>\n",
       "  </thead>\n",
       "  <tbody>\n",
       "    <tr>\n",
       "      <th>f0</th>\n",
       "      <td>1.000000</td>\n",
       "      <td>-0.440723</td>\n",
       "      <td>-0.003153</td>\n",
       "      <td>0.143536</td>\n",
       "    </tr>\n",
       "    <tr>\n",
       "      <th>f1</th>\n",
       "      <td>-0.440723</td>\n",
       "      <td>1.000000</td>\n",
       "      <td>0.001724</td>\n",
       "      <td>-0.192356</td>\n",
       "    </tr>\n",
       "    <tr>\n",
       "      <th>f2</th>\n",
       "      <td>-0.003153</td>\n",
       "      <td>0.001724</td>\n",
       "      <td>1.000000</td>\n",
       "      <td>0.483663</td>\n",
       "    </tr>\n",
       "    <tr>\n",
       "      <th>product</th>\n",
       "      <td>0.143536</td>\n",
       "      <td>-0.192356</td>\n",
       "      <td>0.483663</td>\n",
       "      <td>1.000000</td>\n",
       "    </tr>\n",
       "  </tbody>\n",
       "</table>\n",
       "</div>"
      ],
      "text/plain": [
       "               f0        f1        f2   product\n",
       "f0       1.000000 -0.440723 -0.003153  0.143536\n",
       "f1      -0.440723  1.000000  0.001724 -0.192356\n",
       "f2      -0.003153  0.001724  1.000000  0.483663\n",
       "product  0.143536 -0.192356  0.483663  1.000000"
      ]
     },
     "metadata": {},
     "output_type": "display_data"
    },
    {
     "data": {
      "image/png": "[encoded data removed]",
      "text/plain": [
       "<Figure size 648x504 with 2 Axes>"
      ]
     },
     "metadata": {
      "needs_background": "light"
     },
     "output_type": "display_data"
    }
   ],
   "source": [
    "get_data_info(data_1)"
   ]
  },
  {
   "cell_type": "code",
   "execution_count": 5,
   "metadata": {},
   "outputs": [
    {
     "data": {
      "text/html": [
       "<div>\n",
       "<style scoped>\n",
       "    .dataframe tbody tr th:only-of-type {\n",
       "        vertical-align: middle;\n",
       "    }\n",
       "\n",
       "    .dataframe tbody tr th {\n",
       "        vertical-align: top;\n",
       "    }\n",
       "\n",
       "    .dataframe thead th {\n",
       "        text-align: right;\n",
       "    }\n",
       "</style>\n",
       "<table border=\"1\" class=\"dataframe\">\n",
       "  <thead>\n",
       "    <tr style=\"text-align: right;\">\n",
       "      <th></th>\n",
       "      <th>id</th>\n",
       "      <th>f0</th>\n",
       "      <th>f1</th>\n",
       "      <th>f2</th>\n",
       "      <th>product</th>\n",
       "    </tr>\n",
       "  </thead>\n",
       "  <tbody>\n",
       "    <tr>\n",
       "      <th>61106</th>\n",
       "      <td>EcRRI</td>\n",
       "      <td>12.376046</td>\n",
       "      <td>-5.951145</td>\n",
       "      <td>2.994024</td>\n",
       "      <td>80.859783</td>\n",
       "    </tr>\n",
       "    <tr>\n",
       "      <th>74747</th>\n",
       "      <td>pIwhq</td>\n",
       "      <td>2.194781</td>\n",
       "      <td>-11.816815</td>\n",
       "      <td>4.000737</td>\n",
       "      <td>110.992147</td>\n",
       "    </tr>\n",
       "    <tr>\n",
       "      <th>36942</th>\n",
       "      <td>o8kYg</td>\n",
       "      <td>4.473688</td>\n",
       "      <td>-3.375524</td>\n",
       "      <td>2.997731</td>\n",
       "      <td>84.038886</td>\n",
       "    </tr>\n",
       "    <tr>\n",
       "      <th>68905</th>\n",
       "      <td>0QtmH</td>\n",
       "      <td>-14.903497</td>\n",
       "      <td>-6.948697</td>\n",
       "      <td>2.999857</td>\n",
       "      <td>84.038886</td>\n",
       "    </tr>\n",
       "    <tr>\n",
       "      <th>8021</th>\n",
       "      <td>mHTKz</td>\n",
       "      <td>-5.110986</td>\n",
       "      <td>-4.110421</td>\n",
       "      <td>3.998896</td>\n",
       "      <td>110.992147</td>\n",
       "    </tr>\n",
       "    <tr>\n",
       "      <th>89990</th>\n",
       "      <td>so8xg</td>\n",
       "      <td>-8.723533</td>\n",
       "      <td>-4.869391</td>\n",
       "      <td>4.998989</td>\n",
       "      <td>137.945408</td>\n",
       "    </tr>\n",
       "    <tr>\n",
       "      <th>62333</th>\n",
       "      <td>wqjgF</td>\n",
       "      <td>5.128704</td>\n",
       "      <td>-4.819091</td>\n",
       "      <td>2.001539</td>\n",
       "      <td>53.906522</td>\n",
       "    </tr>\n",
       "    <tr>\n",
       "      <th>61999</th>\n",
       "      <td>maTDz</td>\n",
       "      <td>8.874648</td>\n",
       "      <td>-9.142833</td>\n",
       "      <td>1.994184</td>\n",
       "      <td>53.906522</td>\n",
       "    </tr>\n",
       "    <tr>\n",
       "      <th>20446</th>\n",
       "      <td>kh0qn</td>\n",
       "      <td>-8.136675</td>\n",
       "      <td>-11.850237</td>\n",
       "      <td>0.005748</td>\n",
       "      <td>3.179103</td>\n",
       "    </tr>\n",
       "    <tr>\n",
       "      <th>48725</th>\n",
       "      <td>1dKEu</td>\n",
       "      <td>8.485000</td>\n",
       "      <td>-5.871563</td>\n",
       "      <td>-0.011562</td>\n",
       "      <td>0.000000</td>\n",
       "    </tr>\n",
       "  </tbody>\n",
       "</table>\n",
       "</div>"
      ],
      "text/plain": [
       "          id         f0         f1        f2     product\n",
       "61106  EcRRI  12.376046  -5.951145  2.994024   80.859783\n",
       "74747  pIwhq   2.194781 -11.816815  4.000737  110.992147\n",
       "36942  o8kYg   4.473688  -3.375524  2.997731   84.038886\n",
       "68905  0QtmH -14.903497  -6.948697  2.999857   84.038886\n",
       "8021   mHTKz  -5.110986  -4.110421  3.998896  110.992147\n",
       "89990  so8xg  -8.723533  -4.869391  4.998989  137.945408\n",
       "62333  wqjgF   5.128704  -4.819091  2.001539   53.906522\n",
       "61999  maTDz   8.874648  -9.142833  1.994184   53.906522\n",
       "20446  kh0qn  -8.136675 -11.850237  0.005748    3.179103\n",
       "48725  1dKEu   8.485000  -5.871563 -0.011562    0.000000"
      ]
     },
     "metadata": {},
     "output_type": "display_data"
    },
    {
     "name": "stdout",
     "output_type": "stream",
     "text": [
      "<class 'pandas.core.frame.DataFrame'>\n",
      "RangeIndex: 100000 entries, 0 to 99999\n",
      "Data columns (total 5 columns):\n",
      " #   Column   Non-Null Count   Dtype  \n",
      "---  ------   --------------   -----  \n",
      " 0   id       100000 non-null  object \n",
      " 1   f0       100000 non-null  float64\n",
      " 2   f1       100000 non-null  float64\n",
      " 3   f2       100000 non-null  float64\n",
      " 4   product  100000 non-null  float64\n",
      "dtypes: float64(4), object(1)\n",
      "memory usage: 3.8+ MB\n"
     ]
    },
    {
     "data": {
      "text/plain": [
       "None"
      ]
     },
     "metadata": {},
     "output_type": "display_data"
    },
    {
     "data": {
      "text/html": [
       "<div>\n",
       "<style scoped>\n",
       "    .dataframe tbody tr th:only-of-type {\n",
       "        vertical-align: middle;\n",
       "    }\n",
       "\n",
       "    .dataframe tbody tr th {\n",
       "        vertical-align: top;\n",
       "    }\n",
       "\n",
       "    .dataframe thead th {\n",
       "        text-align: right;\n",
       "    }\n",
       "</style>\n",
       "<table border=\"1\" class=\"dataframe\">\n",
       "  <thead>\n",
       "    <tr style=\"text-align: right;\">\n",
       "      <th></th>\n",
       "      <th>id</th>\n",
       "      <th>f0</th>\n",
       "      <th>f1</th>\n",
       "      <th>f2</th>\n",
       "      <th>product</th>\n",
       "    </tr>\n",
       "  </thead>\n",
       "  <tbody>\n",
       "    <tr>\n",
       "      <th>count</th>\n",
       "      <td>100000</td>\n",
       "      <td>100000.000000</td>\n",
       "      <td>100000.000000</td>\n",
       "      <td>100000.000000</td>\n",
       "      <td>100000.000000</td>\n",
       "    </tr>\n",
       "    <tr>\n",
       "      <th>unique</th>\n",
       "      <td>99996</td>\n",
       "      <td>NaN</td>\n",
       "      <td>NaN</td>\n",
       "      <td>NaN</td>\n",
       "      <td>NaN</td>\n",
       "    </tr>\n",
       "    <tr>\n",
       "      <th>top</th>\n",
       "      <td>bfPNe</td>\n",
       "      <td>NaN</td>\n",
       "      <td>NaN</td>\n",
       "      <td>NaN</td>\n",
       "      <td>NaN</td>\n",
       "    </tr>\n",
       "    <tr>\n",
       "      <th>freq</th>\n",
       "      <td>2</td>\n",
       "      <td>NaN</td>\n",
       "      <td>NaN</td>\n",
       "      <td>NaN</td>\n",
       "      <td>NaN</td>\n",
       "    </tr>\n",
       "    <tr>\n",
       "      <th>mean</th>\n",
       "      <td>NaN</td>\n",
       "      <td>1.141296</td>\n",
       "      <td>-4.796579</td>\n",
       "      <td>2.494541</td>\n",
       "      <td>68.825000</td>\n",
       "    </tr>\n",
       "    <tr>\n",
       "      <th>std</th>\n",
       "      <td>NaN</td>\n",
       "      <td>8.965932</td>\n",
       "      <td>5.119872</td>\n",
       "      <td>1.703572</td>\n",
       "      <td>45.944423</td>\n",
       "    </tr>\n",
       "    <tr>\n",
       "      <th>min</th>\n",
       "      <td>NaN</td>\n",
       "      <td>-31.609576</td>\n",
       "      <td>-26.358598</td>\n",
       "      <td>-0.018144</td>\n",
       "      <td>0.000000</td>\n",
       "    </tr>\n",
       "    <tr>\n",
       "      <th>25%</th>\n",
       "      <td>NaN</td>\n",
       "      <td>-6.298551</td>\n",
       "      <td>-8.267985</td>\n",
       "      <td>1.000021</td>\n",
       "      <td>26.953261</td>\n",
       "    </tr>\n",
       "    <tr>\n",
       "      <th>50%</th>\n",
       "      <td>NaN</td>\n",
       "      <td>1.153055</td>\n",
       "      <td>-4.813172</td>\n",
       "      <td>2.011479</td>\n",
       "      <td>57.085625</td>\n",
       "    </tr>\n",
       "    <tr>\n",
       "      <th>75%</th>\n",
       "      <td>NaN</td>\n",
       "      <td>8.621015</td>\n",
       "      <td>-1.332816</td>\n",
       "      <td>3.999904</td>\n",
       "      <td>107.813044</td>\n",
       "    </tr>\n",
       "    <tr>\n",
       "      <th>max</th>\n",
       "      <td>NaN</td>\n",
       "      <td>29.421755</td>\n",
       "      <td>18.734063</td>\n",
       "      <td>5.019721</td>\n",
       "      <td>137.945408</td>\n",
       "    </tr>\n",
       "  </tbody>\n",
       "</table>\n",
       "</div>"
      ],
      "text/plain": [
       "            id             f0             f1             f2        product\n",
       "count   100000  100000.000000  100000.000000  100000.000000  100000.000000\n",
       "unique   99996            NaN            NaN            NaN            NaN\n",
       "top      bfPNe            NaN            NaN            NaN            NaN\n",
       "freq         2            NaN            NaN            NaN            NaN\n",
       "mean       NaN       1.141296      -4.796579       2.494541      68.825000\n",
       "std        NaN       8.965932       5.119872       1.703572      45.944423\n",
       "min        NaN     -31.609576     -26.358598      -0.018144       0.000000\n",
       "25%        NaN      -6.298551      -8.267985       1.000021      26.953261\n",
       "50%        NaN       1.153055      -4.813172       2.011479      57.085625\n",
       "75%        NaN       8.621015      -1.332816       3.999904     107.813044\n",
       "max        NaN      29.421755      18.734063       5.019721     137.945408"
      ]
     },
     "metadata": {},
     "output_type": "display_data"
    },
    {
     "data": {
      "text/plain": [
       "id         0\n",
       "f0         0\n",
       "f1         0\n",
       "f2         0\n",
       "product    0\n",
       "dtype: int64"
      ]
     },
     "metadata": {},
     "output_type": "display_data"
    },
    {
     "data": {
      "text/plain": [
       "0"
      ]
     },
     "metadata": {},
     "output_type": "display_data"
    },
    {
     "data": {
      "text/html": [
       "<div>\n",
       "<style scoped>\n",
       "    .dataframe tbody tr th:only-of-type {\n",
       "        vertical-align: middle;\n",
       "    }\n",
       "\n",
       "    .dataframe tbody tr th {\n",
       "        vertical-align: top;\n",
       "    }\n",
       "\n",
       "    .dataframe thead th {\n",
       "        text-align: right;\n",
       "    }\n",
       "</style>\n",
       "<table border=\"1\" class=\"dataframe\">\n",
       "  <thead>\n",
       "    <tr style=\"text-align: right;\">\n",
       "      <th></th>\n",
       "      <th>f0</th>\n",
       "      <th>f1</th>\n",
       "      <th>f2</th>\n",
       "      <th>product</th>\n",
       "    </tr>\n",
       "  </thead>\n",
       "  <tbody>\n",
       "    <tr>\n",
       "      <th>f0</th>\n",
       "      <td>1.000000</td>\n",
       "      <td>0.182287</td>\n",
       "      <td>-0.001777</td>\n",
       "      <td>-0.030491</td>\n",
       "    </tr>\n",
       "    <tr>\n",
       "      <th>f1</th>\n",
       "      <td>0.182287</td>\n",
       "      <td>1.000000</td>\n",
       "      <td>-0.002595</td>\n",
       "      <td>-0.010155</td>\n",
       "    </tr>\n",
       "    <tr>\n",
       "      <th>f2</th>\n",
       "      <td>-0.001777</td>\n",
       "      <td>-0.002595</td>\n",
       "      <td>1.000000</td>\n",
       "      <td>0.999397</td>\n",
       "    </tr>\n",
       "    <tr>\n",
       "      <th>product</th>\n",
       "      <td>-0.030491</td>\n",
       "      <td>-0.010155</td>\n",
       "      <td>0.999397</td>\n",
       "      <td>1.000000</td>\n",
       "    </tr>\n",
       "  </tbody>\n",
       "</table>\n",
       "</div>"
      ],
      "text/plain": [
       "               f0        f1        f2   product\n",
       "f0       1.000000  0.182287 -0.001777 -0.030491\n",
       "f1       0.182287  1.000000 -0.002595 -0.010155\n",
       "f2      -0.001777 -0.002595  1.000000  0.999397\n",
       "product -0.030491 -0.010155  0.999397  1.000000"
      ]
     },
     "metadata": {},
     "output_type": "display_data"
    },
    {
     "data": {
      "image/png": "[encoded data removed]",
      "text/plain": [
       "<Figure size 648x504 with 2 Axes>"
      ]
     },
     "metadata": {
      "needs_background": "light"
     },
     "output_type": "display_data"
    }
   ],
   "source": [
    "get_data_info(data_2)"
   ]
  },
  {
   "cell_type": "code",
   "execution_count": 6,
   "metadata": {},
   "outputs": [
    {
     "data": {
      "text/html": [
       "<div>\n",
       "<style scoped>\n",
       "    .dataframe tbody tr th:only-of-type {\n",
       "        vertical-align: middle;\n",
       "    }\n",
       "\n",
       "    .dataframe tbody tr th {\n",
       "        vertical-align: top;\n",
       "    }\n",
       "\n",
       "    .dataframe thead th {\n",
       "        text-align: right;\n",
       "    }\n",
       "</style>\n",
       "<table border=\"1\" class=\"dataframe\">\n",
       "  <thead>\n",
       "    <tr style=\"text-align: right;\">\n",
       "      <th></th>\n",
       "      <th>id</th>\n",
       "      <th>f0</th>\n",
       "      <th>f1</th>\n",
       "      <th>f2</th>\n",
       "      <th>product</th>\n",
       "    </tr>\n",
       "  </thead>\n",
       "  <tbody>\n",
       "    <tr>\n",
       "      <th>36571</th>\n",
       "      <td>Yy6NU</td>\n",
       "      <td>0.720859</td>\n",
       "      <td>1.762313</td>\n",
       "      <td>6.777944</td>\n",
       "      <td>142.859922</td>\n",
       "    </tr>\n",
       "    <tr>\n",
       "      <th>28533</th>\n",
       "      <td>sXD1n</td>\n",
       "      <td>1.174650</td>\n",
       "      <td>-1.252004</td>\n",
       "      <td>4.501813</td>\n",
       "      <td>96.737856</td>\n",
       "    </tr>\n",
       "    <tr>\n",
       "      <th>10614</th>\n",
       "      <td>Kd2Bc</td>\n",
       "      <td>1.241825</td>\n",
       "      <td>-3.171119</td>\n",
       "      <td>-0.396064</td>\n",
       "      <td>84.568290</td>\n",
       "    </tr>\n",
       "    <tr>\n",
       "      <th>14018</th>\n",
       "      <td>YYd4j</td>\n",
       "      <td>-0.251918</td>\n",
       "      <td>-1.184372</td>\n",
       "      <td>0.103189</td>\n",
       "      <td>86.601858</td>\n",
       "    </tr>\n",
       "    <tr>\n",
       "      <th>55837</th>\n",
       "      <td>Hwh1c</td>\n",
       "      <td>2.241002</td>\n",
       "      <td>-0.411815</td>\n",
       "      <td>-1.064260</td>\n",
       "      <td>65.395524</td>\n",
       "    </tr>\n",
       "    <tr>\n",
       "      <th>14556</th>\n",
       "      <td>o6114</td>\n",
       "      <td>-4.190285</td>\n",
       "      <td>0.005829</td>\n",
       "      <td>2.882609</td>\n",
       "      <td>119.077369</td>\n",
       "    </tr>\n",
       "    <tr>\n",
       "      <th>9891</th>\n",
       "      <td>tk2hn</td>\n",
       "      <td>-1.822401</td>\n",
       "      <td>-0.102968</td>\n",
       "      <td>6.973978</td>\n",
       "      <td>154.194829</td>\n",
       "    </tr>\n",
       "    <tr>\n",
       "      <th>76205</th>\n",
       "      <td>1J8u2</td>\n",
       "      <td>1.345364</td>\n",
       "      <td>-2.716008</td>\n",
       "      <td>2.310478</td>\n",
       "      <td>87.801212</td>\n",
       "    </tr>\n",
       "    <tr>\n",
       "      <th>52294</th>\n",
       "      <td>AWQxW</td>\n",
       "      <td>-1.675497</td>\n",
       "      <td>0.247119</td>\n",
       "      <td>-0.059039</td>\n",
       "      <td>113.396216</td>\n",
       "    </tr>\n",
       "    <tr>\n",
       "      <th>48851</th>\n",
       "      <td>9UB7I</td>\n",
       "      <td>-0.852271</td>\n",
       "      <td>-2.093992</td>\n",
       "      <td>7.452740</td>\n",
       "      <td>48.346502</td>\n",
       "    </tr>\n",
       "  </tbody>\n",
       "</table>\n",
       "</div>"
      ],
      "text/plain": [
       "          id        f0        f1        f2     product\n",
       "36571  Yy6NU  0.720859  1.762313  6.777944  142.859922\n",
       "28533  sXD1n  1.174650 -1.252004  4.501813   96.737856\n",
       "10614  Kd2Bc  1.241825 -3.171119 -0.396064   84.568290\n",
       "14018  YYd4j -0.251918 -1.184372  0.103189   86.601858\n",
       "55837  Hwh1c  2.241002 -0.411815 -1.064260   65.395524\n",
       "14556  o6114 -4.190285  0.005829  2.882609  119.077369\n",
       "9891   tk2hn -1.822401 -0.102968  6.973978  154.194829\n",
       "76205  1J8u2  1.345364 -2.716008  2.310478   87.801212\n",
       "52294  AWQxW -1.675497  0.247119 -0.059039  113.396216\n",
       "48851  9UB7I -0.852271 -2.093992  7.452740   48.346502"
      ]
     },
     "metadata": {},
     "output_type": "display_data"
    },
    {
     "name": "stdout",
     "output_type": "stream",
     "text": [
      "<class 'pandas.core.frame.DataFrame'>\n",
      "RangeIndex: 100000 entries, 0 to 99999\n",
      "Data columns (total 5 columns):\n",
      " #   Column   Non-Null Count   Dtype  \n",
      "---  ------   --------------   -----  \n",
      " 0   id       100000 non-null  object \n",
      " 1   f0       100000 non-null  float64\n",
      " 2   f1       100000 non-null  float64\n",
      " 3   f2       100000 non-null  float64\n",
      " 4   product  100000 non-null  float64\n",
      "dtypes: float64(4), object(1)\n",
      "memory usage: 3.8+ MB\n"
     ]
    },
    {
     "data": {
      "text/plain": [
       "None"
      ]
     },
     "metadata": {},
     "output_type": "display_data"
    },
    {
     "data": {
      "text/html": [
       "<div>\n",
       "<style scoped>\n",
       "    .dataframe tbody tr th:only-of-type {\n",
       "        vertical-align: middle;\n",
       "    }\n",
       "\n",
       "    .dataframe tbody tr th {\n",
       "        vertical-align: top;\n",
       "    }\n",
       "\n",
       "    .dataframe thead th {\n",
       "        text-align: right;\n",
       "    }\n",
       "</style>\n",
       "<table border=\"1\" class=\"dataframe\">\n",
       "  <thead>\n",
       "    <tr style=\"text-align: right;\">\n",
       "      <th></th>\n",
       "      <th>id</th>\n",
       "      <th>f0</th>\n",
       "      <th>f1</th>\n",
       "      <th>f2</th>\n",
       "      <th>product</th>\n",
       "    </tr>\n",
       "  </thead>\n",
       "  <tbody>\n",
       "    <tr>\n",
       "      <th>count</th>\n",
       "      <td>100000</td>\n",
       "      <td>100000.000000</td>\n",
       "      <td>100000.000000</td>\n",
       "      <td>100000.000000</td>\n",
       "      <td>100000.000000</td>\n",
       "    </tr>\n",
       "    <tr>\n",
       "      <th>unique</th>\n",
       "      <td>99996</td>\n",
       "      <td>NaN</td>\n",
       "      <td>NaN</td>\n",
       "      <td>NaN</td>\n",
       "      <td>NaN</td>\n",
       "    </tr>\n",
       "    <tr>\n",
       "      <th>top</th>\n",
       "      <td>KUPhW</td>\n",
       "      <td>NaN</td>\n",
       "      <td>NaN</td>\n",
       "      <td>NaN</td>\n",
       "      <td>NaN</td>\n",
       "    </tr>\n",
       "    <tr>\n",
       "      <th>freq</th>\n",
       "      <td>2</td>\n",
       "      <td>NaN</td>\n",
       "      <td>NaN</td>\n",
       "      <td>NaN</td>\n",
       "      <td>NaN</td>\n",
       "    </tr>\n",
       "    <tr>\n",
       "      <th>mean</th>\n",
       "      <td>NaN</td>\n",
       "      <td>0.002023</td>\n",
       "      <td>-0.002081</td>\n",
       "      <td>2.495128</td>\n",
       "      <td>95.000000</td>\n",
       "    </tr>\n",
       "    <tr>\n",
       "      <th>std</th>\n",
       "      <td>NaN</td>\n",
       "      <td>1.732045</td>\n",
       "      <td>1.730417</td>\n",
       "      <td>3.473445</td>\n",
       "      <td>44.749921</td>\n",
       "    </tr>\n",
       "    <tr>\n",
       "      <th>min</th>\n",
       "      <td>NaN</td>\n",
       "      <td>-8.760004</td>\n",
       "      <td>-7.084020</td>\n",
       "      <td>-11.970335</td>\n",
       "      <td>0.000000</td>\n",
       "    </tr>\n",
       "    <tr>\n",
       "      <th>25%</th>\n",
       "      <td>NaN</td>\n",
       "      <td>-1.162288</td>\n",
       "      <td>-1.174820</td>\n",
       "      <td>0.130359</td>\n",
       "      <td>59.450441</td>\n",
       "    </tr>\n",
       "    <tr>\n",
       "      <th>50%</th>\n",
       "      <td>NaN</td>\n",
       "      <td>0.009424</td>\n",
       "      <td>-0.009482</td>\n",
       "      <td>2.484236</td>\n",
       "      <td>94.925613</td>\n",
       "    </tr>\n",
       "    <tr>\n",
       "      <th>75%</th>\n",
       "      <td>NaN</td>\n",
       "      <td>1.158535</td>\n",
       "      <td>1.163678</td>\n",
       "      <td>4.858794</td>\n",
       "      <td>130.595027</td>\n",
       "    </tr>\n",
       "    <tr>\n",
       "      <th>max</th>\n",
       "      <td>NaN</td>\n",
       "      <td>7.238262</td>\n",
       "      <td>7.844801</td>\n",
       "      <td>16.739402</td>\n",
       "      <td>190.029838</td>\n",
       "    </tr>\n",
       "  </tbody>\n",
       "</table>\n",
       "</div>"
      ],
      "text/plain": [
       "            id             f0             f1             f2        product\n",
       "count   100000  100000.000000  100000.000000  100000.000000  100000.000000\n",
       "unique   99996            NaN            NaN            NaN            NaN\n",
       "top      KUPhW            NaN            NaN            NaN            NaN\n",
       "freq         2            NaN            NaN            NaN            NaN\n",
       "mean       NaN       0.002023      -0.002081       2.495128      95.000000\n",
       "std        NaN       1.732045       1.730417       3.473445      44.749921\n",
       "min        NaN      -8.760004      -7.084020     -11.970335       0.000000\n",
       "25%        NaN      -1.162288      -1.174820       0.130359      59.450441\n",
       "50%        NaN       0.009424      -0.009482       2.484236      94.925613\n",
       "75%        NaN       1.158535       1.163678       4.858794     130.595027\n",
       "max        NaN       7.238262       7.844801      16.739402     190.029838"
      ]
     },
     "metadata": {},
     "output_type": "display_data"
    },
    {
     "data": {
      "text/plain": [
       "id         0\n",
       "f0         0\n",
       "f1         0\n",
       "f2         0\n",
       "product    0\n",
       "dtype: int64"
      ]
     },
     "metadata": {},
     "output_type": "display_data"
    },
    {
     "data": {
      "text/plain": [
       "0"
      ]
     },
     "metadata": {},
     "output_type": "display_data"
    },
    {
     "data": {
      "text/html": [
       "<div>\n",
       "<style scoped>\n",
       "    .dataframe tbody tr th:only-of-type {\n",
       "        vertical-align: middle;\n",
       "    }\n",
       "\n",
       "    .dataframe tbody tr th {\n",
       "        vertical-align: top;\n",
       "    }\n",
       "\n",
       "    .dataframe thead th {\n",
       "        text-align: right;\n",
       "    }\n",
       "</style>\n",
       "<table border=\"1\" class=\"dataframe\">\n",
       "  <thead>\n",
       "    <tr style=\"text-align: right;\">\n",
       "      <th></th>\n",
       "      <th>f0</th>\n",
       "      <th>f1</th>\n",
       "      <th>f2</th>\n",
       "      <th>product</th>\n",
       "    </tr>\n",
       "  </thead>\n",
       "  <tbody>\n",
       "    <tr>\n",
       "      <th>f0</th>\n",
       "      <td>1.000000</td>\n",
       "      <td>0.000528</td>\n",
       "      <td>-0.000448</td>\n",
       "      <td>-0.001987</td>\n",
       "    </tr>\n",
       "    <tr>\n",
       "      <th>f1</th>\n",
       "      <td>0.000528</td>\n",
       "      <td>1.000000</td>\n",
       "      <td>0.000779</td>\n",
       "      <td>-0.001012</td>\n",
       "    </tr>\n",
       "    <tr>\n",
       "      <th>f2</th>\n",
       "      <td>-0.000448</td>\n",
       "      <td>0.000779</td>\n",
       "      <td>1.000000</td>\n",
       "      <td>0.445871</td>\n",
       "    </tr>\n",
       "    <tr>\n",
       "      <th>product</th>\n",
       "      <td>-0.001987</td>\n",
       "      <td>-0.001012</td>\n",
       "      <td>0.445871</td>\n",
       "      <td>1.000000</td>\n",
       "    </tr>\n",
       "  </tbody>\n",
       "</table>\n",
       "</div>"
      ],
      "text/plain": [
       "               f0        f1        f2   product\n",
       "f0       1.000000  0.000528 -0.000448 -0.001987\n",
       "f1       0.000528  1.000000  0.000779 -0.001012\n",
       "f2      -0.000448  0.000779  1.000000  0.445871\n",
       "product -0.001987 -0.001012  0.445871  1.000000"
      ]
     },
     "metadata": {},
     "output_type": "display_data"
    },
    {
     "data": {
      "image/png": "[encoded data removed]",
      "text/plain": [
       "<Figure size 648x504 with 2 Axes>"
      ]
     },
     "metadata": {
      "needs_background": "light"
     },
     "output_type": "display_data"
    }
   ],
   "source": [
    "get_data_info(data_3)"
   ]
  },
  {
   "cell_type": "markdown",
   "metadata": {},
   "source": [
    "Данные успешно загружены, пропуски и дубликаты отсутствуют. Дополнительной предобработки не требуется. В 3 совокупностях одинаковое количество данных. Признаки f0, f1, f2 во всех 3 совокупностях имеют одинаковый тип данных.  Для всех датасетов средние значения близки к медианным, значит значительных выбросов в данных нет. Корреляции между признаками практически нет. Однако для второго региона имеется зависимость продукта от признака f2."
   ]
  },
  {
   "cell_type": "markdown",
   "metadata": {},
   "source": [
    "## Обучение и проверка модели"
   ]
  },
  {
   "cell_type": "code",
   "execution_count": 7,
   "metadata": {},
   "outputs": [],
   "source": [
    "def LR(data):\n",
    "    features = data.drop(['id', 'product'], axis=1)\n",
    "    target = data['product']\n",
    "    \n",
    "    features_train, features_valid, target_train, target_valid = train_test_split(\n",
    "        features, target, test_size= 0.25, random_state=12345)\n",
    "\n",
    "    scaler = StandardScaler()\n",
    "    features_train = scaler.fit_transform(features_train)\n",
    "    features_valid = scaler.transform(features_valid)\n",
    "    \n",
    "    model = LinearRegression()\n",
    "    model.fit(features_train, target_train)\n",
    "    predictions_valid = model.predict(features_valid)\n",
    "    \n",
    "    rmse = mean_squared_error(target_valid, predictions_valid)**0.5\n",
    "    average_stock = predictions_valid.mean()\n",
    "\n",
    "    print('Cредний запас предсказанного сырья:', average_stock)\n",
    "    print('RMSE модели:', rmse)\n",
    "    return predictions_valid, target_valid.reset_index(drop=True), average_stock"
   ]
  },
  {
   "cell_type": "code",
   "execution_count": 8,
   "metadata": {},
   "outputs": [
    {
     "name": "stdout",
     "output_type": "stream",
     "text": [
      "Регион 1\n",
      "\n",
      "Cредний запас предсказанного сырья: 92.59256778438035\n",
      "RMSE модели: 37.5794217150813\n",
      "\n",
      "\n",
      "Регион 2\n",
      "\n",
      "Cредний запас предсказанного сырья: 68.728546895446\n",
      "RMSE модели: 0.893099286775617\n",
      "\n",
      "\n",
      "Регион 3\n",
      "\n",
      "Cредний запас предсказанного сырья: 94.96504596800489\n",
      "RMSE модели: 40.02970873393434\n"
     ]
    }
   ],
   "source": [
    "print('Регион 1')\n",
    "print('')\n",
    "predictions_1, target_valid_1, average_stock_1 = LR(data_1)\n",
    "print('')\n",
    "print('')\n",
    "print('Регион 2')\n",
    "print('')\n",
    "predictions_2, target_valid_2, average_stock_2 = LR(data_2)\n",
    "print('')\n",
    "print('')\n",
    "print('Регион 3')\n",
    "print('')\n",
    "predictions_3, target_valid_3, average_stock_3 = LR(data_3)"
   ]
  },
  {
   "cell_type": "markdown",
   "metadata": {},
   "source": [
    "Обучив линейную регрессию на 3 тренировочных выборках, мы определили, что лучший RMSE на валидационной выборке у модели региона 2"
   ]
  },
  {
   "cell_type": "markdown",
   "metadata": {},
   "source": [
    "## Подготовка к расчёту прибыли"
   ]
  },
  {
   "cell_type": "markdown",
   "metadata": {},
   "source": [
    "При разведке региона исследуют 500 точек, из которых с помощью машинного обучения выбирают 200 лучших для разработки.\\\n",
    "Бюджет на разработку скважин в регионе — 10 млрд рублей.\\\n",
    "При нынешних ценах один баррель сырья приносит 450 рублей дохода.\\\n",
    "Доход с каждой единицы продукта составляет 450 тыс. рублей, поскольку объём указан в тысячах баррелей.\\\n",
    "После оценки рисков нужно оставить лишь те регионы, в которых вероятность убытков меньше 2.5%.\\\n",
    "Среди них выбирают регион с наибольшей средней прибылью."
   ]
  },
  {
   "cell_type": "code",
   "execution_count": 10,
   "metadata": {},
   "outputs": [],
   "source": [
    "POINTS = 500\n",
    "BEST_POINTS = 200\n",
    "BUDGET = 10_000_000_000\n",
    "PRICE_BARREL = 450_000\n",
    "PROBABILITY = 0.025"
   ]
  },
  {
   "cell_type": "code",
   "execution_count": 11,
   "metadata": {},
   "outputs": [
    {
     "name": "stdout",
     "output_type": "stream",
     "text": [
      "Необходимый объем сырья для безубыточной разработки скважины: 111.11\n"
     ]
    }
   ],
   "source": [
    "volume = BUDGET / (BEST_POINTS * PRICE_BARREL)\n",
    "print('Необходимый объем сырья для безубыточной разработки скважины:', round(volume, 2))"
   ]
  },
  {
   "cell_type": "markdown",
   "metadata": {},
   "source": [
    "Достаточный объём сырья для безубыточной разработки новой скважины 111.11 тыс. баррелей. Средний запас сырья скважин в первом, втором и третьем регионе ниже необходимого для безубыточной разработки новой скважины.\\\n",
    "Нужно иметь модель, которая наиболее корректно предсказывала бы объем продукта в зависимости от известных факторов."
   ]
  },
  {
   "cell_type": "markdown",
   "metadata": {},
   "source": [
    "## Расчёт прибыли и рисков "
   ]
  },
  {
   "cell_type": "markdown",
   "metadata": {},
   "source": [
    "Функция для расчета прибыли"
   ]
  },
  {
   "cell_type": "code",
   "execution_count": 12,
   "metadata": {},
   "outputs": [],
   "source": [
    "def profit(predictions, target, BEST_POINTS):\n",
    "    target = target.reset_index(drop=True)\n",
    "    predictions = pd.Series(predictions).reset_index(drop=True)\n",
    "    probs_sorted = predictions.sort_values(ascending=False)[:BEST_POINTS]\n",
    "    selected = target[probs_sorted.index]\n",
    "    sum_data_sorted = selected.sum()\n",
    "    return sum_data_sorted * PRICE_BARREL - BUDGET"
   ]
  },
  {
   "cell_type": "code",
   "execution_count": 13,
   "metadata": {},
   "outputs": [
    {
     "name": "stdout",
     "output_type": "stream",
     "text": [
      "Прибыль в 1 регионе: 3.3208 млрд.рублей\n",
      "Прибыль в 2 регионе: 2.4151 млрд.рублей\n",
      "Прибыль в 3 регионе: 2.7103 млрд.рублей\n"
     ]
    }
   ],
   "source": [
    "print('Прибыль в 1 регионе:', round(profit(predictions_1, target_valid_1, BEST_POINTS)/ 1000000000, 4), 'млрд.рублей')\n",
    "print('Прибыль в 2 регионе:', round(profit(predictions_2, target_valid_2, BEST_POINTS)/ 1000000000, 4), 'млрд.рублей')\n",
    "print('Прибыль в 3 регионе:', round(profit(predictions_3, target_valid_3, BEST_POINTS)/ 1000000000, 4), 'млрд.рублей')"
   ]
  },
  {
   "cell_type": "code",
   "execution_count": 14,
   "metadata": {},
   "outputs": [],
   "source": [
    "state = RandomState(12345)\n",
    "def get_values(predictions, target_valid):\n",
    "    values = []\n",
    "    for i in range(1000):\n",
    "        target_subsample = target_valid.sample(n=POINTS, replace=True, random_state=state)\n",
    "        probs_subsample = pd.Series(predictions)[target_subsample.index]\n",
    "        values.append(profit(probs_subsample, target_subsample, BEST_POINTS))\n",
    "    values = pd.Series(values)\n",
    "    lower = values.quantile(PROBABILITY)\n",
    "    upper = values.quantile(1 - PROBABILITY)\n",
    "    loss = sum(values < 0) / values.count() * 100\n",
    "    mean = values.mean()\n",
    "    print('Средняя прибыль:', round(mean / 1000000, 4), 'млн.руб.')\n",
    "    print('95%-й доверительный интервал:  от', round(lower / 1000000, 4), 'млн.руб. до', round(upper / 1_000_000, 4), 'млн.руб.')\n",
    "    print('Риск убытков:', loss, '%')"
   ]
  },
  {
   "cell_type": "code",
   "execution_count": 15,
   "metadata": {},
   "outputs": [
    {
     "name": "stdout",
     "output_type": "stream",
     "text": [
      "Регион 1\n",
      "\n",
      "Средняя прибыль: 396.165 млн.руб.\n",
      "95%-й доверительный интервал:  от -111.2155 млн.руб. до 909.7669 млн.руб.\n",
      "Риск убытков: 6.9 %\n",
      "\n",
      "\n",
      "Регион 2\n",
      "\n",
      "Средняя прибыль: 461.1558 млн.руб.\n",
      "95%-й доверительный интервал:  от 78.0508 млн.руб. до 862.9521 млн.руб.\n",
      "Риск убытков: 0.7000000000000001 %\n",
      "\n",
      "\n",
      "Регион 3\n",
      "\n",
      "Средняя прибыль: 392.9505 млн.руб.\n",
      "95%-й доверительный интервал:  от -112.2276 млн.руб. до 934.5629 млн.руб.\n",
      "Риск убытков: 6.5 %\n"
     ]
    }
   ],
   "source": [
    "print('Регион 1')\n",
    "print('')\n",
    "get_values(predictions_1, target_valid_1)\n",
    "print('')\n",
    "print('')\n",
    "print('Регион 2')\n",
    "print('')\n",
    "get_values(predictions_2, target_valid_2)\n",
    "print('')\n",
    "print('')\n",
    "print('Регион 3')\n",
    "print('')\n",
    "get_values(predictions_3, target_valid_3)"
   ]
  },
  {
   "cell_type": "markdown",
   "metadata": {},
   "source": [
    "В первом и третьем регионах риск убытков больше требуемых 2.5%. Таким образом, единственным подходящим будет второй регион, средняя прибыль в котором составит 461.1558 млн.руб."
   ]
  },
  {
   "cell_type": "markdown",
   "metadata": {},
   "source": [
    "**Вывод**\\\n",
    "\\\n",
    "Мы обработали пробы нефти в трёх регионах в каждом из которых по 10 000 месторождений.\\\n",
    "Для прогноза по объёму запасов мы создали модель линейной регрессии по каждой из локаций. У 2 модели получились наиболее точные предсказания, показатель rmse был равен 0.89.\\\n",
    "Также мы рассчитали обём сырья для безубыточной разработки новой скважины(111.11 тыс. баррелей).\\\n",
    "Далее мы рассчитали прибыль по каждому региону. Наибольшая прибыль оказалась в 1 регионе(3.3208 млрд.рублей).\\\n",
    "Далее, чтобы рассчитать распределение прибыли мы применили технику Bootstrap на 1000 выборок. Таким образом,техника показала, что наиболее подходящим регионом для разработки является второй, по причине наименьшей вероятности убытка(0.7%) и наибольшей средней возможной прибыли(461.1558 млн.рублей).\n"
   ]
  }
 ],
 "metadata": {
  "ExecuteTimeLog": [
   {
    "duration": 368,
    "start_time": "2023-11-15T14:07:01.313Z"
   },
   {
    "duration": 1646,
    "start_time": "2023-11-15T14:07:50.383Z"
   },
   {
    "duration": 3,
    "start_time": "2023-11-15T14:19:35.036Z"
   },
   {
    "duration": 61,
    "start_time": "2023-11-15T14:19:45.781Z"
   },
   {
    "duration": 447,
    "start_time": "2023-11-15T14:19:50.127Z"
   },
   {
    "duration": 3,
    "start_time": "2023-11-15T14:19:51.190Z"
   },
   {
    "duration": 38,
    "start_time": "2023-11-15T14:19:51.807Z"
   },
   {
    "duration": 37,
    "start_time": "2023-11-15T14:21:27.295Z"
   },
   {
    "duration": 3,
    "start_time": "2023-11-15T14:21:57.797Z"
   },
   {
    "duration": 124,
    "start_time": "2023-11-15T14:21:58.751Z"
   },
   {
    "duration": 3,
    "start_time": "2023-11-15T14:22:30.842Z"
   },
   {
    "duration": 3,
    "start_time": "2023-11-15T14:22:37.551Z"
   },
   {
    "duration": 27,
    "start_time": "2023-11-15T14:22:38.104Z"
   },
   {
    "duration": 3,
    "start_time": "2023-11-15T14:22:44.080Z"
   },
   {
    "duration": 122,
    "start_time": "2023-11-15T14:22:45.487Z"
   },
   {
    "duration": 3,
    "start_time": "2023-11-15T14:24:11.333Z"
   },
   {
    "duration": 171,
    "start_time": "2023-11-15T14:24:13.268Z"
   },
   {
    "duration": 145,
    "start_time": "2023-11-15T14:24:36.547Z"
   },
   {
    "duration": 166,
    "start_time": "2023-11-15T14:24:56.135Z"
   },
   {
    "duration": 3,
    "start_time": "2023-11-15T14:26:01.143Z"
   },
   {
    "duration": 144,
    "start_time": "2023-11-15T14:26:02.509Z"
   },
   {
    "duration": 171,
    "start_time": "2023-11-15T14:26:08.231Z"
   },
   {
    "duration": 4,
    "start_time": "2023-11-15T14:26:17.879Z"
   },
   {
    "duration": 179,
    "start_time": "2023-11-15T14:26:18.739Z"
   },
   {
    "duration": 5,
    "start_time": "2023-11-15T14:53:43.193Z"
   },
   {
    "duration": 11,
    "start_time": "2023-11-15T14:55:26.215Z"
   },
   {
    "duration": 767,
    "start_time": "2023-11-15T14:56:18.300Z"
   },
   {
    "duration": 5,
    "start_time": "2023-11-15T14:56:22.980Z"
   },
   {
    "duration": 205,
    "start_time": "2023-11-15T14:56:25.180Z"
   },
   {
    "duration": 4,
    "start_time": "2023-11-15T14:56:54.626Z"
   },
   {
    "duration": 128,
    "start_time": "2023-11-15T14:56:55.138Z"
   },
   {
    "duration": 53,
    "start_time": "2023-11-15T14:58:09.004Z"
   },
   {
    "duration": 30,
    "start_time": "2023-11-15T14:58:15.385Z"
   },
   {
    "duration": 435,
    "start_time": "2023-11-15T14:59:00.236Z"
   },
   {
    "duration": 401,
    "start_time": "2023-11-15T14:59:05.261Z"
   },
   {
    "duration": 57,
    "start_time": "2023-11-15T15:00:14.506Z"
   },
   {
    "duration": 30,
    "start_time": "2023-11-15T15:00:16.920Z"
   },
   {
    "duration": 30,
    "start_time": "2023-11-15T15:00:20.160Z"
   },
   {
    "duration": 30,
    "start_time": "2023-11-15T15:00:22.092Z"
   },
   {
    "duration": 1149,
    "start_time": "2023-11-16T12:46:28.064Z"
   },
   {
    "duration": 809,
    "start_time": "2023-11-16T12:46:29.215Z"
   },
   {
    "duration": 142,
    "start_time": "2023-11-16T12:46:30.690Z"
   },
   {
    "duration": 3,
    "start_time": "2023-11-16T12:46:38.830Z"
   },
   {
    "duration": 5,
    "start_time": "2023-11-16T12:47:02.389Z"
   },
   {
    "duration": 3,
    "start_time": "2023-11-16T12:47:14.419Z"
   },
   {
    "duration": 4,
    "start_time": "2023-11-16T12:47:21.570Z"
   },
   {
    "duration": 200,
    "start_time": "2023-11-16T12:47:22.415Z"
   },
   {
    "duration": 197,
    "start_time": "2023-11-16T12:47:24.071Z"
   },
   {
    "duration": 190,
    "start_time": "2023-11-16T12:47:25.004Z"
   },
   {
    "duration": 5,
    "start_time": "2023-11-16T12:47:30.650Z"
   },
   {
    "duration": 38,
    "start_time": "2023-11-16T12:47:32.229Z"
   },
   {
    "duration": 51,
    "start_time": "2023-11-16T12:47:33.163Z"
   },
   {
    "duration": 112,
    "start_time": "2023-11-16T12:47:34.000Z"
   },
   {
    "duration": 3,
    "start_time": "2023-11-16T13:12:40.962Z"
   },
   {
    "duration": 4,
    "start_time": "2023-11-16T13:19:45.213Z"
   },
   {
    "duration": 4,
    "start_time": "2023-11-16T13:22:03.088Z"
   },
   {
    "duration": 3,
    "start_time": "2023-11-16T13:24:24.110Z"
   },
   {
    "duration": 3,
    "start_time": "2023-11-16T13:42:38.232Z"
   },
   {
    "duration": 3,
    "start_time": "2023-11-16T13:45:21.154Z"
   },
   {
    "duration": 135,
    "start_time": "2023-11-16T13:53:50.803Z"
   },
   {
    "duration": 3,
    "start_time": "2023-11-16T13:54:34.339Z"
   },
   {
    "duration": 15,
    "start_time": "2023-11-16T13:54:35.432Z"
   },
   {
    "duration": 3,
    "start_time": "2023-11-16T14:04:32.675Z"
   },
   {
    "duration": 4,
    "start_time": "2023-11-16T14:04:55.351Z"
   },
   {
    "duration": 10,
    "start_time": "2023-11-16T14:05:38.875Z"
   },
   {
    "duration": 5,
    "start_time": "2023-11-16T14:10:32.231Z"
   },
   {
    "duration": 9,
    "start_time": "2023-11-16T14:11:05.907Z"
   },
   {
    "duration": 175,
    "start_time": "2023-11-16T14:11:26.037Z"
   },
   {
    "duration": 5,
    "start_time": "2023-11-16T14:11:38.466Z"
   },
   {
    "duration": 89,
    "start_time": "2023-11-16T14:11:39.324Z"
   },
   {
    "duration": 9,
    "start_time": "2023-11-16T14:14:32.672Z"
   },
   {
    "duration": 78,
    "start_time": "2023-11-16T14:14:35.846Z"
   },
   {
    "duration": 9,
    "start_time": "2023-11-16T14:14:55.068Z"
   },
   {
    "duration": 103,
    "start_time": "2023-11-16T14:14:58.620Z"
   },
   {
    "duration": 12,
    "start_time": "2023-11-16T14:15:16.647Z"
   },
   {
    "duration": 13,
    "start_time": "2023-11-16T14:15:34.144Z"
   },
   {
    "duration": 5,
    "start_time": "2023-11-16T14:16:21.712Z"
   },
   {
    "duration": 35,
    "start_time": "2023-11-16T14:16:23.956Z"
   },
   {
    "duration": 58,
    "start_time": "2023-11-16T14:16:30.455Z"
   },
   {
    "duration": 49,
    "start_time": "2023-11-16T14:16:57.069Z"
   },
   {
    "duration": 5,
    "start_time": "2023-11-16T14:17:48.023Z"
   },
   {
    "duration": 31,
    "start_time": "2023-11-16T14:17:48.740Z"
   },
   {
    "duration": 31,
    "start_time": "2023-11-16T14:17:50.069Z"
   },
   {
    "duration": 5,
    "start_time": "2023-11-16T14:18:13.068Z"
   },
   {
    "duration": 32,
    "start_time": "2023-11-16T14:18:14.208Z"
   },
   {
    "duration": 1184,
    "start_time": "2023-11-16T14:19:17.308Z"
   },
   {
    "duration": 426,
    "start_time": "2023-11-16T14:19:18.494Z"
   },
   {
    "duration": 4,
    "start_time": "2023-11-16T14:19:18.921Z"
   },
   {
    "duration": 209,
    "start_time": "2023-11-16T14:19:18.927Z"
   },
   {
    "duration": 199,
    "start_time": "2023-11-16T14:19:19.138Z"
   },
   {
    "duration": 209,
    "start_time": "2023-11-16T14:19:19.339Z"
   },
   {
    "duration": 5,
    "start_time": "2023-11-16T14:19:19.549Z"
   },
   {
    "duration": 178,
    "start_time": "2023-11-16T14:19:19.556Z"
   },
   {
    "duration": 0,
    "start_time": "2023-11-16T14:19:19.736Z"
   },
   {
    "duration": 0,
    "start_time": "2023-11-16T14:19:19.737Z"
   },
   {
    "duration": 0,
    "start_time": "2023-11-16T14:19:19.738Z"
   },
   {
    "duration": 0,
    "start_time": "2023-11-16T14:19:19.739Z"
   },
   {
    "duration": 0,
    "start_time": "2023-11-16T14:19:19.740Z"
   },
   {
    "duration": 0,
    "start_time": "2023-11-16T14:19:19.741Z"
   },
   {
    "duration": 0,
    "start_time": "2023-11-16T14:19:19.742Z"
   },
   {
    "duration": 373,
    "start_time": "2023-11-16T14:20:08.359Z"
   },
   {
    "duration": 383,
    "start_time": "2023-11-16T14:20:33.548Z"
   },
   {
    "duration": 4,
    "start_time": "2023-11-16T14:21:05.378Z"
   },
   {
    "duration": 9,
    "start_time": "2023-11-16T14:21:06.503Z"
   },
   {
    "duration": 16,
    "start_time": "2023-11-16T14:21:34.804Z"
   },
   {
    "duration": 3,
    "start_time": "2023-11-16T14:22:03.284Z"
   },
   {
    "duration": 19,
    "start_time": "2023-11-16T14:22:17.464Z"
   },
   {
    "duration": 1124,
    "start_time": "2023-11-16T14:22:32.197Z"
   },
   {
    "duration": 422,
    "start_time": "2023-11-16T14:22:33.322Z"
   },
   {
    "duration": 3,
    "start_time": "2023-11-16T14:22:33.746Z"
   },
   {
    "duration": 219,
    "start_time": "2023-11-16T14:22:33.751Z"
   },
   {
    "duration": 192,
    "start_time": "2023-11-16T14:22:33.972Z"
   },
   {
    "duration": 196,
    "start_time": "2023-11-16T14:22:34.166Z"
   },
   {
    "duration": 5,
    "start_time": "2023-11-16T14:22:34.363Z"
   },
   {
    "duration": 457,
    "start_time": "2023-11-16T14:22:34.370Z"
   },
   {
    "duration": 83,
    "start_time": "2023-11-16T14:22:34.830Z"
   },
   {
    "duration": 5,
    "start_time": "2023-11-16T14:22:34.917Z"
   },
   {
    "duration": 5,
    "start_time": "2023-11-16T14:22:35.011Z"
   },
   {
    "duration": 19,
    "start_time": "2023-11-16T14:22:35.017Z"
   },
   {
    "duration": 18,
    "start_time": "2023-11-16T14:23:30.623Z"
   },
   {
    "duration": 17,
    "start_time": "2023-11-16T14:24:41.104Z"
   },
   {
    "duration": 19,
    "start_time": "2023-11-16T14:25:17.829Z"
   },
   {
    "duration": 16,
    "start_time": "2023-11-16T14:25:42.285Z"
   },
   {
    "duration": 5,
    "start_time": "2023-11-16T14:29:44.176Z"
   },
   {
    "duration": 103,
    "start_time": "2023-11-16T14:30:12.423Z"
   },
   {
    "duration": 13,
    "start_time": "2023-11-16T14:31:06.287Z"
   },
   {
    "duration": 90,
    "start_time": "2023-11-16T14:41:57.388Z"
   },
   {
    "duration": 12,
    "start_time": "2023-11-16T14:42:02.479Z"
   },
   {
    "duration": 1150,
    "start_time": "2023-11-16T14:42:37.060Z"
   },
   {
    "duration": 455,
    "start_time": "2023-11-16T14:42:38.212Z"
   },
   {
    "duration": 4,
    "start_time": "2023-11-16T14:42:38.671Z"
   },
   {
    "duration": 219,
    "start_time": "2023-11-16T14:42:38.677Z"
   },
   {
    "duration": 208,
    "start_time": "2023-11-16T14:42:38.897Z"
   },
   {
    "duration": 209,
    "start_time": "2023-11-16T14:42:39.111Z"
   },
   {
    "duration": 5,
    "start_time": "2023-11-16T14:42:39.321Z"
   },
   {
    "duration": 400,
    "start_time": "2023-11-16T14:42:39.328Z"
   },
   {
    "duration": 4,
    "start_time": "2023-11-16T14:42:39.730Z"
   },
   {
    "duration": 5,
    "start_time": "2023-11-16T14:42:39.811Z"
   },
   {
    "duration": 4,
    "start_time": "2023-11-16T14:42:39.818Z"
   },
   {
    "duration": 105,
    "start_time": "2023-11-16T14:42:39.824Z"
   },
   {
    "duration": 123,
    "start_time": "2023-11-16T14:42:39.932Z"
   },
   {
    "duration": 0,
    "start_time": "2023-11-16T14:42:40.056Z"
   },
   {
    "duration": 0,
    "start_time": "2023-11-16T14:42:40.057Z"
   },
   {
    "duration": 14,
    "start_time": "2023-11-16T14:43:01.903Z"
   },
   {
    "duration": 14,
    "start_time": "2023-11-16T14:44:17.212Z"
   },
   {
    "duration": 4,
    "start_time": "2023-11-16T14:49:37.313Z"
   },
   {
    "duration": 10,
    "start_time": "2023-11-16T14:49:38.338Z"
   },
   {
    "duration": 10,
    "start_time": "2023-11-16T14:51:58.374Z"
   },
   {
    "duration": 226,
    "start_time": "2023-11-16T14:52:38.494Z"
   },
   {
    "duration": 98,
    "start_time": "2023-11-16T14:53:04.795Z"
   },
   {
    "duration": 110,
    "start_time": "2023-11-16T14:53:45.047Z"
   },
   {
    "duration": 1144,
    "start_time": "2023-11-16T14:54:15.121Z"
   },
   {
    "duration": 431,
    "start_time": "2023-11-16T14:54:16.267Z"
   },
   {
    "duration": 4,
    "start_time": "2023-11-16T14:54:16.699Z"
   },
   {
    "duration": 207,
    "start_time": "2023-11-16T14:54:16.705Z"
   },
   {
    "duration": 183,
    "start_time": "2023-11-16T14:54:16.915Z"
   },
   {
    "duration": 190,
    "start_time": "2023-11-16T14:54:17.099Z"
   },
   {
    "duration": 4,
    "start_time": "2023-11-16T14:54:17.291Z"
   },
   {
    "duration": 499,
    "start_time": "2023-11-16T14:54:17.311Z"
   },
   {
    "duration": 3,
    "start_time": "2023-11-16T14:54:17.813Z"
   },
   {
    "duration": 94,
    "start_time": "2023-11-16T14:54:17.819Z"
   },
   {
    "duration": 5,
    "start_time": "2023-11-16T14:54:17.915Z"
   },
   {
    "duration": 139,
    "start_time": "2023-11-16T14:54:17.922Z"
   },
   {
    "duration": 0,
    "start_time": "2023-11-16T14:54:18.063Z"
   },
   {
    "duration": 0,
    "start_time": "2023-11-16T14:54:18.065Z"
   },
   {
    "duration": 0,
    "start_time": "2023-11-16T14:54:18.067Z"
   },
   {
    "duration": 160,
    "start_time": "2023-11-16T14:54:35.782Z"
   },
   {
    "duration": 16,
    "start_time": "2023-11-16T14:55:17.562Z"
   },
   {
    "duration": 3982,
    "start_time": "2023-11-16T14:55:34.232Z"
   },
   {
    "duration": 3966,
    "start_time": "2023-11-16T14:56:15.136Z"
   },
   {
    "duration": 5,
    "start_time": "2023-11-16T15:01:36.167Z"
   },
   {
    "duration": 105,
    "start_time": "2023-11-16T15:02:05.708Z"
   },
   {
    "duration": 14,
    "start_time": "2023-11-16T15:02:23.827Z"
   },
   {
    "duration": 9,
    "start_time": "2023-11-16T15:02:58.874Z"
   },
   {
    "duration": 5,
    "start_time": "2023-11-16T15:03:17.185Z"
   },
   {
    "duration": 13,
    "start_time": "2023-11-16T15:03:20.816Z"
   },
   {
    "duration": 1161,
    "start_time": "2023-11-16T15:03:29.879Z"
   },
   {
    "duration": 423,
    "start_time": "2023-11-16T15:03:31.042Z"
   },
   {
    "duration": 4,
    "start_time": "2023-11-16T15:03:31.466Z"
   },
   {
    "duration": 214,
    "start_time": "2023-11-16T15:03:31.471Z"
   },
   {
    "duration": 198,
    "start_time": "2023-11-16T15:03:31.687Z"
   },
   {
    "duration": 226,
    "start_time": "2023-11-16T15:03:31.886Z"
   },
   {
    "duration": 7,
    "start_time": "2023-11-16T15:03:32.116Z"
   },
   {
    "duration": 396,
    "start_time": "2023-11-16T15:03:32.125Z"
   },
   {
    "duration": 4,
    "start_time": "2023-11-16T15:03:32.523Z"
   },
   {
    "duration": 8,
    "start_time": "2023-11-16T15:03:32.612Z"
   },
   {
    "duration": 4,
    "start_time": "2023-11-16T15:03:32.712Z"
   },
   {
    "duration": 20,
    "start_time": "2023-11-16T15:03:32.717Z"
   },
   {
    "duration": 5,
    "start_time": "2023-11-16T15:03:32.739Z"
   },
   {
    "duration": 3968,
    "start_time": "2023-11-16T15:03:32.747Z"
   },
   {
    "duration": 118,
    "start_time": "2023-11-16T15:03:36.716Z"
   },
   {
    "duration": 13,
    "start_time": "2023-11-16T15:04:22.273Z"
   },
   {
    "duration": 10,
    "start_time": "2023-11-16T15:04:31.383Z"
   },
   {
    "duration": 5,
    "start_time": "2023-11-16T15:04:43.927Z"
   },
   {
    "duration": 21,
    "start_time": "2023-11-16T15:04:46.217Z"
   },
   {
    "duration": 1159,
    "start_time": "2023-11-16T15:04:52.171Z"
   },
   {
    "duration": 448,
    "start_time": "2023-11-16T15:04:53.332Z"
   },
   {
    "duration": 4,
    "start_time": "2023-11-16T15:04:53.783Z"
   },
   {
    "duration": 188,
    "start_time": "2023-11-16T15:04:53.790Z"
   },
   {
    "duration": 187,
    "start_time": "2023-11-16T15:04:53.980Z"
   },
   {
    "duration": 192,
    "start_time": "2023-11-16T15:04:54.168Z"
   },
   {
    "duration": 5,
    "start_time": "2023-11-16T15:04:54.362Z"
   },
   {
    "duration": 451,
    "start_time": "2023-11-16T15:04:54.368Z"
   },
   {
    "duration": 4,
    "start_time": "2023-11-16T15:04:54.821Z"
   },
   {
    "duration": 94,
    "start_time": "2023-11-16T15:04:54.918Z"
   },
   {
    "duration": 21,
    "start_time": "2023-11-16T15:04:55.014Z"
   },
   {
    "duration": 35,
    "start_time": "2023-11-16T15:04:55.037Z"
   },
   {
    "duration": 13,
    "start_time": "2023-11-16T15:04:55.075Z"
   },
   {
    "duration": 3996,
    "start_time": "2023-11-16T15:04:55.090Z"
   },
   {
    "duration": 109,
    "start_time": "2023-11-16T15:04:59.088Z"
   },
   {
    "duration": 5,
    "start_time": "2023-11-16T15:05:39.400Z"
   },
   {
    "duration": 3610,
    "start_time": "2023-11-16T15:05:44.648Z"
   },
   {
    "duration": 402,
    "start_time": "2023-11-16T15:08:58.827Z"
   },
   {
    "duration": 422,
    "start_time": "2023-11-16T15:09:03.801Z"
   },
   {
    "duration": 3694,
    "start_time": "2023-11-16T15:09:53.927Z"
   },
   {
    "duration": 6,
    "start_time": "2023-11-16T15:12:23.330Z"
   },
   {
    "duration": 3711,
    "start_time": "2023-11-16T15:12:31.007Z"
   },
   {
    "duration": 7,
    "start_time": "2023-11-16T15:15:04.162Z"
   },
   {
    "duration": 3728,
    "start_time": "2023-11-16T15:15:06.629Z"
   },
   {
    "duration": 1459,
    "start_time": "2023-11-16T15:29:05.700Z"
   },
   {
    "duration": 435,
    "start_time": "2023-11-16T15:29:07.161Z"
   },
   {
    "duration": 4,
    "start_time": "2023-11-16T15:29:07.598Z"
   },
   {
    "duration": 234,
    "start_time": "2023-11-16T15:29:07.612Z"
   },
   {
    "duration": 220,
    "start_time": "2023-11-16T15:29:07.848Z"
   },
   {
    "duration": 199,
    "start_time": "2023-11-16T15:29:08.070Z"
   },
   {
    "duration": 5,
    "start_time": "2023-11-16T15:29:08.271Z"
   },
   {
    "duration": 452,
    "start_time": "2023-11-16T15:29:08.277Z"
   },
   {
    "duration": 78,
    "start_time": "2023-11-16T15:29:08.732Z"
   },
   {
    "duration": 5,
    "start_time": "2023-11-16T15:29:08.813Z"
   },
   {
    "duration": 91,
    "start_time": "2023-11-16T15:29:08.821Z"
   },
   {
    "duration": 29,
    "start_time": "2023-11-16T15:29:08.914Z"
   },
   {
    "duration": 15,
    "start_time": "2023-11-16T15:29:08.945Z"
   },
   {
    "duration": 3760,
    "start_time": "2023-11-16T15:29:08.962Z"
   },
   {
    "duration": 1199,
    "start_time": "2023-11-16T19:39:58.966Z"
   },
   {
    "duration": 786,
    "start_time": "2023-11-16T19:40:00.167Z"
   },
   {
    "duration": 4,
    "start_time": "2023-11-16T19:40:00.954Z"
   },
   {
    "duration": 197,
    "start_time": "2023-11-16T19:40:00.959Z"
   },
   {
    "duration": 185,
    "start_time": "2023-11-16T19:40:01.164Z"
   },
   {
    "duration": 198,
    "start_time": "2023-11-16T19:40:01.351Z"
   },
   {
    "duration": 15,
    "start_time": "2023-11-16T19:40:01.551Z"
   },
   {
    "duration": 499,
    "start_time": "2023-11-16T19:40:01.567Z"
   },
   {
    "duration": 3,
    "start_time": "2023-11-16T19:40:02.069Z"
   },
   {
    "duration": 104,
    "start_time": "2023-11-16T19:40:02.074Z"
   },
   {
    "duration": 70,
    "start_time": "2023-11-16T19:40:02.179Z"
   },
   {
    "duration": 53,
    "start_time": "2023-11-16T19:40:02.251Z"
   },
   {
    "duration": 28,
    "start_time": "2023-11-16T19:40:02.306Z"
   },
   {
    "duration": 3691,
    "start_time": "2023-11-16T19:40:02.337Z"
   },
   {
    "duration": 3373,
    "start_time": "2023-11-16T22:19:44.635Z"
   },
   {
    "duration": 740,
    "start_time": "2023-11-16T22:19:48.010Z"
   },
   {
    "duration": 3,
    "start_time": "2023-11-16T22:19:48.752Z"
   },
   {
    "duration": 166,
    "start_time": "2023-11-16T22:19:48.757Z"
   },
   {
    "duration": 165,
    "start_time": "2023-11-16T22:19:48.926Z"
   },
   {
    "duration": 183,
    "start_time": "2023-11-16T22:19:49.093Z"
   },
   {
    "duration": 4,
    "start_time": "2023-11-16T22:19:49.278Z"
   },
   {
    "duration": 378,
    "start_time": "2023-11-16T22:19:49.283Z"
   },
   {
    "duration": 4,
    "start_time": "2023-11-16T22:19:49.663Z"
   },
   {
    "duration": 4,
    "start_time": "2023-11-16T22:19:49.753Z"
   },
   {
    "duration": 97,
    "start_time": "2023-11-16T22:19:49.759Z"
   },
   {
    "duration": 14,
    "start_time": "2023-11-16T22:19:49.858Z"
   },
   {
    "duration": 4,
    "start_time": "2023-11-16T22:19:49.874Z"
   },
   {
    "duration": 3232,
    "start_time": "2023-11-16T22:19:49.880Z"
   },
   {
    "duration": 51,
    "start_time": "2023-11-17T07:40:28.240Z"
   },
   {
    "duration": 8,
    "start_time": "2023-11-17T07:40:48.822Z"
   },
   {
    "duration": 11,
    "start_time": "2023-11-17T07:42:32.943Z"
   },
   {
    "duration": 6,
    "start_time": "2023-11-17T07:43:11.518Z"
   },
   {
    "duration": 4,
    "start_time": "2023-11-17T08:43:36.794Z"
   },
   {
    "duration": 1249,
    "start_time": "2023-11-17T08:43:41.112Z"
   },
   {
    "duration": 830,
    "start_time": "2023-11-17T08:43:46.626Z"
   },
   {
    "duration": 5,
    "start_time": "2023-11-17T08:43:47.562Z"
   },
   {
    "duration": 330,
    "start_time": "2023-11-17T08:43:51.233Z"
   },
   {
    "duration": 234,
    "start_time": "2023-11-17T08:44:28.536Z"
   },
   {
    "duration": 517,
    "start_time": "2023-11-17T08:44:37.424Z"
   },
   {
    "duration": 593,
    "start_time": "2023-11-17T08:44:42.292Z"
   },
   {
    "duration": 542,
    "start_time": "2023-11-17T08:44:49.986Z"
   },
   {
    "duration": 573,
    "start_time": "2023-11-17T08:44:55.784Z"
   },
   {
    "duration": 8,
    "start_time": "2023-11-17T11:15:07.755Z"
   },
   {
    "duration": 4,
    "start_time": "2023-11-17T11:15:09.803Z"
   },
   {
    "duration": 1597,
    "start_time": "2023-11-17T11:18:58.566Z"
   },
   {
    "duration": 810,
    "start_time": "2023-11-17T11:19:00.165Z"
   },
   {
    "duration": 4,
    "start_time": "2023-11-17T11:19:00.977Z"
   },
   {
    "duration": 650,
    "start_time": "2023-11-17T11:19:00.983Z"
   },
   {
    "duration": 535,
    "start_time": "2023-11-17T11:19:01.636Z"
   },
   {
    "duration": 511,
    "start_time": "2023-11-17T11:19:02.173Z"
   },
   {
    "duration": 5,
    "start_time": "2023-11-17T11:19:02.686Z"
   },
   {
    "duration": 489,
    "start_time": "2023-11-17T11:19:02.692Z"
   },
   {
    "duration": 82,
    "start_time": "2023-11-17T11:19:03.183Z"
   },
   {
    "duration": 94,
    "start_time": "2023-11-17T11:19:03.273Z"
   },
   {
    "duration": 41,
    "start_time": "2023-11-17T11:19:03.368Z"
   },
   {
    "duration": 51,
    "start_time": "2023-11-17T11:19:03.410Z"
   },
   {
    "duration": 179,
    "start_time": "2023-11-17T11:19:03.462Z"
   },
   {
    "duration": 0,
    "start_time": "2023-11-17T11:19:03.643Z"
   },
   {
    "duration": 0,
    "start_time": "2023-11-17T11:19:03.645Z"
   },
   {
    "duration": 1446,
    "start_time": "2023-11-17T11:22:59.412Z"
   },
   {
    "duration": 430,
    "start_time": "2023-11-17T11:23:00.860Z"
   },
   {
    "duration": 4,
    "start_time": "2023-11-17T11:23:01.292Z"
   },
   {
    "duration": 724,
    "start_time": "2023-11-17T11:23:01.298Z"
   },
   {
    "duration": 508,
    "start_time": "2023-11-17T11:23:02.025Z"
   },
   {
    "duration": 554,
    "start_time": "2023-11-17T11:23:02.535Z"
   },
   {
    "duration": 5,
    "start_time": "2023-11-17T11:23:03.090Z"
   },
   {
    "duration": 389,
    "start_time": "2023-11-17T11:23:03.097Z"
   },
   {
    "duration": 78,
    "start_time": "2023-11-17T11:23:03.488Z"
   },
   {
    "duration": 8,
    "start_time": "2023-11-17T11:23:03.568Z"
   },
   {
    "duration": 91,
    "start_time": "2023-11-17T11:23:03.580Z"
   },
   {
    "duration": 28,
    "start_time": "2023-11-17T11:23:03.673Z"
   },
   {
    "duration": 43,
    "start_time": "2023-11-17T11:23:03.703Z"
   },
   {
    "duration": 25,
    "start_time": "2023-11-17T11:23:03.748Z"
   },
   {
    "duration": 3774,
    "start_time": "2023-11-17T11:23:03.775Z"
   },
   {
    "duration": 50,
    "start_time": "2023-11-17T13:55:40.131Z"
   }
  ],
  "kernelspec": {
   "display_name": "Python 3 (ipykernel)",
   "language": "python",
   "name": "python3"
  },
  "language_info": {
   "codemirror_mode": {
    "name": "ipython",
    "version": 3
   },
   "file_extension": ".py",
   "mimetype": "text/x-python",
   "name": "python",
   "nbconvert_exporter": "python",
   "pygments_lexer": "ipython3",
   "version": "3.9.5"
  },
  "toc": {
   "base_numbering": 1,
   "nav_menu": {},
   "number_sections": true,
   "sideBar": true,
   "skip_h1_title": true,
   "title_cell": "Table of Contents",
   "title_sidebar": "Contents",
   "toc_cell": false,
   "toc_position": {},
   "toc_section_display": true,
   "toc_window_display": false
  }
 },
 "nbformat": 4,
 "nbformat_minor": 2
}
