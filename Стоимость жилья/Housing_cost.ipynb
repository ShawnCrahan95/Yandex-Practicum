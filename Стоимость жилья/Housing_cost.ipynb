{
 "cells": [
  {
   "cell_type": "markdown",
   "id": "GEqQaHzsZ_bA",
   "metadata": {
    "id": "GEqQaHzsZ_bA"
   },
   "source": [
    "## Предсказание стоимости жилья\n",
    "\n",
    "В проекте вам нужно обучить модель линейной регрессии на данных о жилье в Калифорнии в 1990 году. На основе данных нужно предсказать медианную стоимость дома в жилом массиве. Обучите модель и сделайте предсказания на тестовой выборке. Для оценки качества модели используйте метрики RMSE, MAE и R2."
   ]
  },
  {
   "cell_type": "markdown",
   "id": "f88dd0a1",
   "metadata": {},
   "source": [
    "В колонках датасета содержатся следующие данные:\n",
    "\n",
    "- longitude — широта;\n",
    "- latitude — долгота;\n",
    "- housing_median_age — медианный возраст жителей жилого массива;\n",
    "- total_rooms — общее количество комнат в домах жилого массива;\n",
    "- total_bedrooms — общее количество спален в домах жилого массива;\n",
    "- population — количество человек, которые проживают в жилом массиве;\n",
    "- households — количество домовладений в жилом массиве;\n",
    "- median_income — медианный доход жителей жилого массива;\n",
    "- median_house_value — медианная стоимость дома в жилом массиве;\n",
    "- ocean_proximity — близость к океану."
   ]
  },
  {
   "cell_type": "markdown",
   "id": "53871372",
   "metadata": {
    "id": "53871372"
   },
   "source": [
    "# Подготовка данных"
   ]
  },
  {
   "cell_type": "code",
   "execution_count": null,
   "id": "df92e3ec",
   "metadata": {
    "id": "df92e3ec"
   },
   "outputs": [],
   "source": [
    "import pandas as pd \n",
    "import numpy as np\n",
    "\n",
    "import pyspark\n",
    "from pyspark.sql import SparkSession\n",
    "from pyspark.sql.types import *\n",
    "import pyspark.sql.functions as F\n",
    "\n",
    "from pyspark.ml.feature import StringIndexer, VectorAssembler, StandardScaler\n",
    "from pyspark.ml.regression import LinearRegression\n",
    "from pyspark.ml.evaluation import RegressionEvaluator\n",
    "\n",
    "pyspark_version = pyspark.__version__\n",
    "if int(pyspark_version[0]) == 3:\n",
    "    from pyspark.ml.feature import OneHotEncoder as Encoder    \n",
    "elif int(pyspark_version[0]) == 2:\n",
    "    from pyspark.ml.feature import OneHotEncodeEstimator as Encoder\n",
    "\n",
    "RANDOM_SEED = 2022"
   ]
  },
  {
   "cell_type": "code",
   "execution_count": 2,
   "id": "bae7268f",
   "metadata": {},
   "outputs": [],
   "source": [
    "spark = SparkSession.builder \\\n",
    "                    .master(\"local\") \\\n",
    "                    .appName(\"California Housing\") \\\n",
    "                    .getOrCreate()"
   ]
  },
  {
   "cell_type": "code",
   "execution_count": 3,
   "id": "31383c71",
   "metadata": {},
   "outputs": [
    {
     "name": "stderr",
     "output_type": "stream",
     "text": [
      "                                                                                \r"
     ]
    },
    {
     "name": "stdout",
     "output_type": "stream",
     "text": [
      "+---------+--------+------------------+-----------+--------------+----------+----------+-------------+------------------+---------------+\n",
      "|longitude|latitude|housing_median_age|total_rooms|total_bedrooms|population|households|median_income|median_house_value|ocean_proximity|\n",
      "+---------+--------+------------------+-----------+--------------+----------+----------+-------------+------------------+---------------+\n",
      "|  -122.23|   37.88|              41.0|      880.0|         129.0|     322.0|     126.0|       8.3252|          452600.0|       NEAR BAY|\n",
      "|  -122.22|   37.86|              21.0|     7099.0|        1106.0|    2401.0|    1138.0|       8.3014|          358500.0|       NEAR BAY|\n",
      "|  -122.24|   37.85|              52.0|     1467.0|         190.0|     496.0|     177.0|       7.2574|          352100.0|       NEAR BAY|\n",
      "|  -122.25|   37.85|              52.0|     1274.0|         235.0|     558.0|     219.0|       5.6431|          341300.0|       NEAR BAY|\n",
      "|  -122.25|   37.85|              52.0|     1627.0|         280.0|     565.0|     259.0|       3.8462|          342200.0|       NEAR BAY|\n",
      "|  -122.25|   37.85|              52.0|      919.0|         213.0|     413.0|     193.0|       4.0368|          269700.0|       NEAR BAY|\n",
      "|  -122.25|   37.84|              52.0|     2535.0|         489.0|    1094.0|     514.0|       3.6591|          299200.0|       NEAR BAY|\n",
      "|  -122.25|   37.84|              52.0|     3104.0|         687.0|    1157.0|     647.0|         3.12|          241400.0|       NEAR BAY|\n",
      "|  -122.26|   37.84|              42.0|     2555.0|         665.0|    1206.0|     595.0|       2.0804|          226700.0|       NEAR BAY|\n",
      "|  -122.25|   37.84|              52.0|     3549.0|         707.0|    1551.0|     714.0|       3.6912|          261100.0|       NEAR BAY|\n",
      "|  -122.26|   37.85|              52.0|     2202.0|         434.0|     910.0|     402.0|       3.2031|          281500.0|       NEAR BAY|\n",
      "|  -122.26|   37.85|              52.0|     3503.0|         752.0|    1504.0|     734.0|       3.2705|          241800.0|       NEAR BAY|\n",
      "|  -122.26|   37.85|              52.0|     2491.0|         474.0|    1098.0|     468.0|        3.075|          213500.0|       NEAR BAY|\n",
      "|  -122.26|   37.84|              52.0|      696.0|         191.0|     345.0|     174.0|       2.6736|          191300.0|       NEAR BAY|\n",
      "|  -122.26|   37.85|              52.0|     2643.0|         626.0|    1212.0|     620.0|       1.9167|          159200.0|       NEAR BAY|\n",
      "|  -122.26|   37.85|              50.0|     1120.0|         283.0|     697.0|     264.0|        2.125|          140000.0|       NEAR BAY|\n",
      "|  -122.27|   37.85|              52.0|     1966.0|         347.0|     793.0|     331.0|        2.775|          152500.0|       NEAR BAY|\n",
      "|  -122.27|   37.85|              52.0|     1228.0|         293.0|     648.0|     303.0|       2.1202|          155500.0|       NEAR BAY|\n",
      "|  -122.26|   37.84|              50.0|     2239.0|         455.0|     990.0|     419.0|       1.9911|          158700.0|       NEAR BAY|\n",
      "|  -122.27|   37.84|              52.0|     1503.0|         298.0|     690.0|     275.0|       2.6033|          162900.0|       NEAR BAY|\n",
      "+---------+--------+------------------+-----------+--------------+----------+----------+-------------+------------------+---------------+\n",
      "only showing top 20 rows\n",
      "\n"
     ]
    }
   ],
   "source": [
    "data = spark.read.load('/datasets/housing.csv', format=\"csv\", sep=\",\", inferSchema=True, header=\"true\")\n",
    "data.show()"
   ]
  },
  {
   "cell_type": "code",
   "execution_count": 4,
   "id": "c85143f3",
   "metadata": {},
   "outputs": [
    {
     "name": "stdout",
     "output_type": "stream",
     "text": [
      "root\n",
      " |-- longitude: double (nullable = true)\n",
      " |-- latitude: double (nullable = true)\n",
      " |-- housing_median_age: double (nullable = true)\n",
      " |-- total_rooms: double (nullable = true)\n",
      " |-- total_bedrooms: double (nullable = true)\n",
      " |-- population: double (nullable = true)\n",
      " |-- households: double (nullable = true)\n",
      " |-- median_income: double (nullable = true)\n",
      " |-- median_house_value: double (nullable = true)\n",
      " |-- ocean_proximity: string (nullable = true)\n",
      "\n"
     ]
    }
   ],
   "source": [
    "data.printSchema()"
   ]
  },
  {
   "cell_type": "code",
   "execution_count": 5,
   "id": "42c91f68",
   "metadata": {},
   "outputs": [
    {
     "name": "stderr",
     "output_type": "stream",
     "text": [
      "                                                                                \r"
     ]
    },
    {
     "data": {
      "text/html": [
       "<div>\n",
       "<style scoped>\n",
       "    .dataframe tbody tr th:only-of-type {\n",
       "        vertical-align: middle;\n",
       "    }\n",
       "\n",
       "    .dataframe tbody tr th {\n",
       "        vertical-align: top;\n",
       "    }\n",
       "\n",
       "    .dataframe thead th {\n",
       "        text-align: right;\n",
       "    }\n",
       "</style>\n",
       "<table border=\"1\" class=\"dataframe\">\n",
       "  <thead>\n",
       "    <tr style=\"text-align: right;\">\n",
       "      <th></th>\n",
       "      <th>summary</th>\n",
       "      <th>longitude</th>\n",
       "      <th>latitude</th>\n",
       "      <th>housing_median_age</th>\n",
       "      <th>total_rooms</th>\n",
       "      <th>total_bedrooms</th>\n",
       "      <th>population</th>\n",
       "      <th>households</th>\n",
       "      <th>median_income</th>\n",
       "      <th>median_house_value</th>\n",
       "      <th>ocean_proximity</th>\n",
       "    </tr>\n",
       "  </thead>\n",
       "  <tbody>\n",
       "    <tr>\n",
       "      <th>0</th>\n",
       "      <td>count</td>\n",
       "      <td>20640</td>\n",
       "      <td>20640</td>\n",
       "      <td>20640</td>\n",
       "      <td>20640</td>\n",
       "      <td>20433</td>\n",
       "      <td>20640</td>\n",
       "      <td>20640</td>\n",
       "      <td>20640</td>\n",
       "      <td>20640</td>\n",
       "      <td>20640</td>\n",
       "    </tr>\n",
       "    <tr>\n",
       "      <th>1</th>\n",
       "      <td>mean</td>\n",
       "      <td>-119.56970445736148</td>\n",
       "      <td>35.6318614341087</td>\n",
       "      <td>28.639486434108527</td>\n",
       "      <td>2635.7630813953488</td>\n",
       "      <td>537.8705525375618</td>\n",
       "      <td>1425.4767441860465</td>\n",
       "      <td>499.5396802325581</td>\n",
       "      <td>3.8706710029070246</td>\n",
       "      <td>206855.81690891474</td>\n",
       "      <td>None</td>\n",
       "    </tr>\n",
       "    <tr>\n",
       "      <th>2</th>\n",
       "      <td>stddev</td>\n",
       "      <td>2.003531723502584</td>\n",
       "      <td>2.135952397457101</td>\n",
       "      <td>12.58555761211163</td>\n",
       "      <td>2181.6152515827944</td>\n",
       "      <td>421.38507007403115</td>\n",
       "      <td>1132.46212176534</td>\n",
       "      <td>382.3297528316098</td>\n",
       "      <td>1.899821717945263</td>\n",
       "      <td>115395.61587441359</td>\n",
       "      <td>None</td>\n",
       "    </tr>\n",
       "    <tr>\n",
       "      <th>3</th>\n",
       "      <td>min</td>\n",
       "      <td>-124.35</td>\n",
       "      <td>32.54</td>\n",
       "      <td>1.0</td>\n",
       "      <td>2.0</td>\n",
       "      <td>1.0</td>\n",
       "      <td>3.0</td>\n",
       "      <td>1.0</td>\n",
       "      <td>0.4999</td>\n",
       "      <td>14999.0</td>\n",
       "      <td>&lt;1H OCEAN</td>\n",
       "    </tr>\n",
       "    <tr>\n",
       "      <th>4</th>\n",
       "      <td>max</td>\n",
       "      <td>-114.31</td>\n",
       "      <td>41.95</td>\n",
       "      <td>52.0</td>\n",
       "      <td>39320.0</td>\n",
       "      <td>6445.0</td>\n",
       "      <td>35682.0</td>\n",
       "      <td>6082.0</td>\n",
       "      <td>15.0001</td>\n",
       "      <td>500001.0</td>\n",
       "      <td>NEAR OCEAN</td>\n",
       "    </tr>\n",
       "  </tbody>\n",
       "</table>\n",
       "</div>"
      ],
      "text/plain": [
       "  summary            longitude           latitude  housing_median_age  \\\n",
       "0   count                20640              20640               20640   \n",
       "1    mean  -119.56970445736148   35.6318614341087  28.639486434108527   \n",
       "2  stddev    2.003531723502584  2.135952397457101   12.58555761211163   \n",
       "3     min              -124.35              32.54                 1.0   \n",
       "4     max              -114.31              41.95                52.0   \n",
       "\n",
       "          total_rooms      total_bedrooms          population  \\\n",
       "0               20640               20433               20640   \n",
       "1  2635.7630813953488   537.8705525375618  1425.4767441860465   \n",
       "2  2181.6152515827944  421.38507007403115    1132.46212176534   \n",
       "3                 2.0                 1.0                 3.0   \n",
       "4             39320.0              6445.0             35682.0   \n",
       "\n",
       "          households       median_income  median_house_value ocean_proximity  \n",
       "0              20640               20640               20640           20640  \n",
       "1  499.5396802325581  3.8706710029070246  206855.81690891474            None  \n",
       "2  382.3297528316098   1.899821717945263  115395.61587441359            None  \n",
       "3                1.0              0.4999             14999.0       <1H OCEAN  \n",
       "4             6082.0             15.0001            500001.0      NEAR OCEAN  "
      ]
     },
     "execution_count": 5,
     "metadata": {},
     "output_type": "execute_result"
    }
   ],
   "source": [
    "data.describe().toPandas() "
   ]
  },
  {
   "cell_type": "code",
   "execution_count": 6,
   "id": "8016e9a7",
   "metadata": {},
   "outputs": [
    {
     "name": "stdout",
     "output_type": "stream",
     "text": [
      "longitude 0\n",
      "latitude 0\n",
      "housing_median_age 0\n",
      "total_rooms 0\n",
      "total_bedrooms 207\n",
      "population 0\n",
      "households 0\n",
      "median_income 0\n",
      "median_house_value 0\n",
      "ocean_proximity 0\n"
     ]
    }
   ],
   "source": [
    "for column in data.columns:\n",
    "    print(column, data.filter(data[column].isNull()).count())"
   ]
  },
  {
   "cell_type": "code",
   "execution_count": 8,
   "id": "753ada21",
   "metadata": {},
   "outputs": [
    {
     "data": {
      "text/plain": [
       "435"
      ]
     },
     "execution_count": 8,
     "metadata": {},
     "output_type": "execute_result"
    }
   ],
   "source": [
    "int(data.approxQuantile('total_bedrooms', [0.5], 0)[0])"
   ]
  },
  {
   "cell_type": "code",
   "execution_count": 9,
   "id": "acf0113e",
   "metadata": {},
   "outputs": [],
   "source": [
    "data = data.na.fill({'total_bedrooms': 435})"
   ]
  },
  {
   "cell_type": "code",
   "execution_count": 10,
   "id": "5bcbf270",
   "metadata": {},
   "outputs": [
    {
     "name": "stdout",
     "output_type": "stream",
     "text": [
      "longitude 0\n",
      "latitude 0\n",
      "housing_median_age 0\n",
      "total_rooms 0\n",
      "total_bedrooms 0\n",
      "population 0\n",
      "households 0\n",
      "median_income 0\n",
      "median_house_value 0\n",
      "ocean_proximity 0\n"
     ]
    }
   ],
   "source": [
    "for column in data.columns:\n",
    "    print(column, data.filter(data[column].isNull()).count())"
   ]
  },
  {
   "cell_type": "code",
   "execution_count": 11,
   "id": "4dcd9c8c",
   "metadata": {},
   "outputs": [
    {
     "name": "stderr",
     "output_type": "stream",
     "text": [
      "                                                                                \r"
     ]
    },
    {
     "name": "stdout",
     "output_type": "stream",
     "text": [
      "16418 4222\n"
     ]
    }
   ],
   "source": [
    "data_train, data_test = data.randomSplit([.8,.2], seed=RANDOM_SEED)\n",
    "print(data_train.count(), data_test.count())"
   ]
  },
  {
   "cell_type": "markdown",
   "id": "0ef4b460",
   "metadata": {},
   "source": [
    "В первую очередь трансформируем категориальный признак с помощью трансформера StringIndexer."
   ]
  },
  {
   "cell_type": "code",
   "execution_count": 12,
   "id": "3725cad5",
   "metadata": {},
   "outputs": [
    {
     "name": "stderr",
     "output_type": "stream",
     "text": [
      "                                                                                \r"
     ]
    },
    {
     "name": "stdout",
     "output_type": "stream",
     "text": [
      "+---------+--------+------------------+-----------+--------------+----------+----------+-------------+------------------+---------------+-------------------+\n",
      "|longitude|latitude|housing_median_age|total_rooms|total_bedrooms|population|households|median_income|median_house_value|ocean_proximity|ocean_proximity_idx|\n",
      "+---------+--------+------------------+-----------+--------------+----------+----------+-------------+------------------+---------------+-------------------+\n",
      "|  -124.35|   40.54|              52.0|     1820.0|         300.0|     806.0|     270.0|       3.0147|           94600.0|     NEAR OCEAN|                2.0|\n",
      "|   -124.3|    41.8|              19.0|     2672.0|         552.0|    1298.0|     478.0|       1.9797|           85800.0|     NEAR OCEAN|                2.0|\n",
      "|  -124.27|   40.69|              36.0|     2349.0|         528.0|    1194.0|     465.0|       2.5179|           79000.0|     NEAR OCEAN|                2.0|\n",
      "+---------+--------+------------------+-----------+--------------+----------+----------+-------------+------------------+---------------+-------------------+\n",
      "only showing top 3 rows\n",
      "\n"
     ]
    }
   ],
   "source": [
    "indexer = StringIndexer(inputCols=['ocean_proximity'], \n",
    "                        outputCols=['ocean_proximity_idx'], handleInvalid='keep').fit(data_train) \n",
    "\n",
    "data_train = indexer.transform(data_train)\n",
    "data_test = indexer.transform(data_test)\n",
    "\n",
    "data_train.show(3)"
   ]
  },
  {
   "cell_type": "markdown",
   "id": "ad62c2ae",
   "metadata": {},
   "source": [
    "OHE-кодирование "
   ]
  },
  {
   "cell_type": "code",
   "execution_count": 13,
   "id": "735180e6",
   "metadata": {},
   "outputs": [
    {
     "name": "stdout",
     "output_type": "stream",
     "text": [
      "+---------+--------+------------------+-----------+--------------+----------+----------+-------------+------------------+---------------+-------------------+-------------------+\n",
      "|longitude|latitude|housing_median_age|total_rooms|total_bedrooms|population|households|median_income|median_house_value|ocean_proximity|ocean_proximity_idx|ocean_proximity_ohe|\n",
      "+---------+--------+------------------+-----------+--------------+----------+----------+-------------+------------------+---------------+-------------------+-------------------+\n",
      "|  -124.35|   40.54|              52.0|     1820.0|         300.0|     806.0|     270.0|       3.0147|           94600.0|     NEAR OCEAN|                2.0|      (4,[2],[1.0])|\n",
      "|   -124.3|    41.8|              19.0|     2672.0|         552.0|    1298.0|     478.0|       1.9797|           85800.0|     NEAR OCEAN|                2.0|      (4,[2],[1.0])|\n",
      "|  -124.27|   40.69|              36.0|     2349.0|         528.0|    1194.0|     465.0|       2.5179|           79000.0|     NEAR OCEAN|                2.0|      (4,[2],[1.0])|\n",
      "+---------+--------+------------------+-----------+--------------+----------+----------+-------------+------------------+---------------+-------------------+-------------------+\n",
      "only showing top 3 rows\n",
      "\n"
     ]
    }
   ],
   "source": [
    "encoder = Encoder(inputCols=['ocean_proximity_idx'],\n",
    "                        outputCols=['ocean_proximity_ohe']).fit(data_train)\n",
    "\n",
    "data_train = encoder.transform(data_train)\n",
    "data_test = encoder.transform(data_test)\n",
    "data_train.show(3)"
   ]
  },
  {
   "cell_type": "markdown",
   "id": "c0c7efa2",
   "metadata": {},
   "source": [
    "объединение признаков в один вектор."
   ]
  },
  {
   "cell_type": "code",
   "execution_count": 14,
   "id": "fa94acc1",
   "metadata": {},
   "outputs": [
    {
     "name": "stdout",
     "output_type": "stream",
     "text": [
      "+---------+--------+------------------+-----------+--------------+----------+----------+-------------+------------------+---------------+-------------------+-------------------+--------------------+\n",
      "|longitude|latitude|housing_median_age|total_rooms|total_bedrooms|population|households|median_income|median_house_value|ocean_proximity|ocean_proximity_idx|ocean_proximity_ohe|categorical_features|\n",
      "+---------+--------+------------------+-----------+--------------+----------+----------+-------------+------------------+---------------+-------------------+-------------------+--------------------+\n",
      "|  -124.35|   40.54|              52.0|     1820.0|         300.0|     806.0|     270.0|       3.0147|           94600.0|     NEAR OCEAN|                2.0|      (4,[2],[1.0])|       (4,[2],[1.0])|\n",
      "|   -124.3|    41.8|              19.0|     2672.0|         552.0|    1298.0|     478.0|       1.9797|           85800.0|     NEAR OCEAN|                2.0|      (4,[2],[1.0])|       (4,[2],[1.0])|\n",
      "|  -124.27|   40.69|              36.0|     2349.0|         528.0|    1194.0|     465.0|       2.5179|           79000.0|     NEAR OCEAN|                2.0|      (4,[2],[1.0])|       (4,[2],[1.0])|\n",
      "+---------+--------+------------------+-----------+--------------+----------+----------+-------------+------------------+---------------+-------------------+-------------------+--------------------+\n",
      "only showing top 3 rows\n",
      "\n"
     ]
    }
   ],
   "source": [
    "categorical_assembler = VectorAssembler(inputCols=['ocean_proximity_ohe'],\n",
    "                                        outputCol=\"categorical_features\")\n",
    "\n",
    "data_train = categorical_assembler.transform(data_train)\n",
    "data_test = categorical_assembler.transform(data_test)\n",
    "data_train.show(3)"
   ]
  },
  {
   "cell_type": "markdown",
   "id": "26f497db",
   "metadata": {},
   "source": [
    "Трансформация числовых признаков."
   ]
  },
  {
   "cell_type": "code",
   "execution_count": 16,
   "id": "7ebce00b",
   "metadata": {},
   "outputs": [],
   "source": [
    "numerical_cols  = ['longitude', 'latitude', 'housing_median_age',\n",
    "                   'total_rooms', 'total_bedrooms', 'population',\n",
    "                   'households', 'median_income']"
   ]
  },
  {
   "cell_type": "code",
   "execution_count": 17,
   "id": "130481d6",
   "metadata": {},
   "outputs": [
    {
     "name": "stdout",
     "output_type": "stream",
     "text": [
      "+---------+--------+------------------+-----------+--------------+----------+----------+-------------+------------------+---------------+-------------------+-------------------+--------------------+--------------------+\n",
      "|longitude|latitude|housing_median_age|total_rooms|total_bedrooms|population|households|median_income|median_house_value|ocean_proximity|ocean_proximity_idx|ocean_proximity_ohe|categorical_features|  numerical_features|\n",
      "+---------+--------+------------------+-----------+--------------+----------+----------+-------------+------------------+---------------+-------------------+-------------------+--------------------+--------------------+\n",
      "|  -124.35|   40.54|              52.0|     1820.0|         300.0|     806.0|     270.0|       3.0147|           94600.0|     NEAR OCEAN|                2.0|      (4,[2],[1.0])|       (4,[2],[1.0])|[-124.35,40.54,52...|\n",
      "|   -124.3|    41.8|              19.0|     2672.0|         552.0|    1298.0|     478.0|       1.9797|           85800.0|     NEAR OCEAN|                2.0|      (4,[2],[1.0])|       (4,[2],[1.0])|[-124.3,41.8,19.0...|\n",
      "|  -124.27|   40.69|              36.0|     2349.0|         528.0|    1194.0|     465.0|       2.5179|           79000.0|     NEAR OCEAN|                2.0|      (4,[2],[1.0])|       (4,[2],[1.0])|[-124.27,40.69,36...|\n",
      "+---------+--------+------------------+-----------+--------------+----------+----------+-------------+------------------+---------------+-------------------+-------------------+--------------------+--------------------+\n",
      "only showing top 3 rows\n",
      "\n"
     ]
    }
   ],
   "source": [
    "numerical_assembler = VectorAssembler(inputCols=numerical_cols, \n",
    "                                      outputCol=\"numerical_features\")\n",
    "\n",
    "data_train = numerical_assembler.transform(data_train)\n",
    "data_test = numerical_assembler.transform(data_test)\n",
    "\n",
    "data_train.show(3)"
   ]
  },
  {
   "cell_type": "code",
   "execution_count": 18,
   "id": "59211c4f",
   "metadata": {},
   "outputs": [
    {
     "name": "stdout",
     "output_type": "stream",
     "text": [
      "+---------+--------+------------------+-----------+--------------+----------+----------+-------------+------------------+---------------+-------------------+-------------------+--------------------+--------------------+-------------------------+\n",
      "|longitude|latitude|housing_median_age|total_rooms|total_bedrooms|population|households|median_income|median_house_value|ocean_proximity|ocean_proximity_idx|ocean_proximity_ohe|categorical_features|  numerical_features|numerical_features_scaled|\n",
      "+---------+--------+------------------+-----------+--------------+----------+----------+-------------+------------------+---------------+-------------------+-------------------+--------------------+--------------------+-------------------------+\n",
      "|  -124.35|   40.54|              52.0|     1820.0|         300.0|     806.0|     270.0|       3.0147|           94600.0|     NEAR OCEAN|                2.0|      (4,[2],[1.0])|       (4,[2],[1.0])|[-124.35,40.54,52...|     [-61.952887791441...|\n",
      "|   -124.3|    41.8|              19.0|     2672.0|         552.0|    1298.0|     478.0|       1.9797|           85800.0|     NEAR OCEAN|                2.0|      (4,[2],[1.0])|       (4,[2],[1.0])|[-124.3,41.8,19.0...|     [-61.927977100733...|\n",
      "|  -124.27|   40.69|              36.0|     2349.0|         528.0|    1194.0|     465.0|       2.5179|           79000.0|     NEAR OCEAN|                2.0|      (4,[2],[1.0])|       (4,[2],[1.0])|[-124.27,40.69,36...|     [-61.913030686308...|\n",
      "+---------+--------+------------------+-----------+--------------+----------+----------+-------------+------------------+---------------+-------------------+-------------------+--------------------+--------------------+-------------------------+\n",
      "only showing top 3 rows\n",
      "\n"
     ]
    }
   ],
   "source": [
    "standardScaler = StandardScaler(inputCol='numerical_features',\n",
    "                                outputCol=\"numerical_features_scaled\").fit(data_train)\n",
    "\n",
    "data_train = standardScaler.transform(data_train)\n",
    "data_test = standardScaler.transform(data_test)\n",
    "\n",
    "data_train.show(3)"
   ]
  },
  {
   "cell_type": "code",
   "execution_count": 19,
   "id": "0a59c214",
   "metadata": {},
   "outputs": [
    {
     "data": {
      "text/plain": [
       "['longitude',\n",
       " 'latitude',\n",
       " 'housing_median_age',\n",
       " 'total_rooms',\n",
       " 'total_bedrooms',\n",
       " 'population',\n",
       " 'households',\n",
       " 'median_income',\n",
       " 'median_house_value',\n",
       " 'ocean_proximity',\n",
       " 'ocean_proximity_idx',\n",
       " 'ocean_proximity_ohe',\n",
       " 'categorical_features',\n",
       " 'numerical_features',\n",
       " 'numerical_features_scaled']"
      ]
     },
     "execution_count": 19,
     "metadata": {},
     "output_type": "execute_result"
    }
   ],
   "source": [
    "data_train.columns"
   ]
  },
  {
   "cell_type": "markdown",
   "id": "70640721",
   "metadata": {},
   "source": [
    "Собирем трансформированные категорийные и числовые признаки с помощью VectorAssembler."
   ]
  },
  {
   "cell_type": "code",
   "execution_count": 20,
   "id": "119321cb",
   "metadata": {},
   "outputs": [],
   "source": [
    "all_features = ['categorical_features','numerical_features_scaled']\n",
    "\n",
    "final_assembler = VectorAssembler(inputCols=all_features, \n",
    "                                  outputCol=\"features_all\") \n",
    "\n",
    "data_train = final_assembler.transform(data_train)\n",
    "data_test = final_assembler.transform(data_test)"
   ]
  },
  {
   "cell_type": "code",
   "execution_count": 21,
   "id": "4a9058e2",
   "metadata": {},
   "outputs": [],
   "source": [
    "numerical_features = ['numerical_features_scaled']\n",
    "\n",
    "numerical_final_assembler = VectorAssembler(inputCols=numerical_features, \n",
    "                                  outputCol='features_numerical')\n",
    "\n",
    "data_train = numerical_final_assembler.transform(data_train)\n",
    "data_test = numerical_final_assembler.transform(data_test)"
   ]
  },
  {
   "cell_type": "markdown",
   "id": "9bb5f5d8",
   "metadata": {},
   "source": [
    "Разделение на выборки."
   ]
  },
  {
   "cell_type": "markdown",
   "id": "9f0a82f3",
   "metadata": {
    "id": "9f0a82f3"
   },
   "source": [
    "# Обучение моделей"
   ]
  },
  {
   "cell_type": "code",
   "execution_count": 22,
   "id": "bddb08c4",
   "metadata": {
    "id": "bddb08c4",
    "scrolled": true
   },
   "outputs": [
    {
     "name": "stderr",
     "output_type": "stream",
     "text": [
      "24/05/04 20:09:48 WARN Instrumentation: [2a726840] regParam is zero, which might cause numerical instability and overfitting.\n",
      "24/05/04 20:09:48 WARN BLAS: Failed to load implementation from: com.github.fommil.netlib.NativeSystemBLAS\n",
      "24/05/04 20:09:48 WARN BLAS: Failed to load implementation from: com.github.fommil.netlib.NativeRefBLAS\n",
      "24/05/04 20:09:49 WARN LAPACK: Failed to load implementation from: com.github.fommil.netlib.NativeSystemLAPACK\n",
      "24/05/04 20:09:49 WARN LAPACK: Failed to load implementation from: com.github.fommil.netlib.NativeRefLAPACK\n",
      "24/05/04 20:09:49 WARN Instrumentation: [2a726840] Cholesky solver failed due to singular covariance matrix. Retrying with Quasi-Newton solver.\n",
      "24/05/04 20:09:50 ERROR LBFGS: Failure! Resetting history: breeze.optimize.FirstOrderException: Line search zoom failed\n",
      "24/05/04 20:09:50 ERROR LBFGS: Failure! Resetting history: breeze.optimize.FirstOrderException: Line search zoom failed\n",
      "                                                                                \r"
     ]
    }
   ],
   "source": [
    "lr = LinearRegression(labelCol='median_house_value', featuresCol='features_all')\n",
    "\n",
    "model_all = lr.fit(data_train) \n",
    "predictions_all = model_all.transform(data_test)"
   ]
  },
  {
   "cell_type": "code",
   "execution_count": 23,
   "id": "9d8a9152",
   "metadata": {
    "scrolled": false
   },
   "outputs": [
    {
     "name": "stdout",
     "output_type": "stream",
     "text": [
      "метрика R2: 0.6535582201164198\n",
      "метрика MAE: 49867.04607181885\n",
      "метрика RMSE: 68486.7300501659\n"
     ]
    }
   ],
   "source": [
    "r2_all = RegressionEvaluator(labelCol='median_house_value',metricName='r2').evaluate(predictions_all.select(\"median_house_value\", \"prediction\"))\n",
    "mae_all = RegressionEvaluator(labelCol='median_house_value',metricName='mae').evaluate(predictions_all.select(\"median_house_value\", \"prediction\"))\n",
    "rmse_all = RegressionEvaluator(labelCol='median_house_value',metricName='rmse').evaluate(predictions_all.select(\"median_house_value\", \"prediction\"))\n",
    "print(f'метрика R2: {r2_all}')\n",
    "print(f'метрика MAE: {mae_all}')\n",
    "print(f'метрика RMSE: {rmse_all}')"
   ]
  },
  {
   "cell_type": "code",
   "execution_count": 24,
   "id": "075ef4d0",
   "metadata": {},
   "outputs": [
    {
     "name": "stderr",
     "output_type": "stream",
     "text": [
      "24/05/04 20:09:54 WARN Instrumentation: [ef411830] regParam is zero, which might cause numerical instability and overfitting.\n"
     ]
    }
   ],
   "source": [
    "lr = LinearRegression(labelCol='median_house_value', featuresCol='features_numerical')\n",
    "\n",
    "model_numerical = lr.fit(data_train) \n",
    "predictions_numerical = model_numerical.transform(data_test)"
   ]
  },
  {
   "cell_type": "code",
   "execution_count": 25,
   "id": "ff9aeb48",
   "metadata": {},
   "outputs": [
    {
     "name": "stdout",
     "output_type": "stream",
     "text": [
      "метрика R2: 0.6461729709922107\n",
      "метрика MAE: 50866.55977336322\n",
      "метрика RMSE: 69212.86125298042\n"
     ]
    }
   ],
   "source": [
    "r2_numerical = RegressionEvaluator(labelCol='median_house_value',metricName='r2').evaluate(predictions_numerical.select(\"median_house_value\", \"prediction\"))\n",
    "mae_numerical = RegressionEvaluator(labelCol='median_house_value',metricName='mae').evaluate(predictions_numerical.select(\"median_house_value\", \"prediction\"))\n",
    "rmse_numerical = RegressionEvaluator(labelCol='median_house_value',metricName='rmse').evaluate(predictions_numerical.select(\"median_house_value\", \"prediction\"))\n",
    "print(f'метрика R2: {r2_numerical}')\n",
    "print(f'метрика MAE: {mae_numerical}')\n",
    "print(f'метрика RMSE: {rmse_numerical}')"
   ]
  },
  {
   "cell_type": "code",
   "execution_count": 26,
   "id": "2c65f66a",
   "metadata": {},
   "outputs": [],
   "source": [
    "spark.stop()"
   ]
  },
  {
   "cell_type": "markdown",
   "id": "757fd103",
   "metadata": {
    "id": "757fd103"
   },
   "source": [
    "# Анализ результатов"
   ]
  },
  {
   "cell_type": "markdown",
   "id": "4dc50716",
   "metadata": {},
   "source": [
    "Как мы видим, отличия при использовании разных данных минимальны.\\\n",
    "Значения метрик в обоих случаях довольно близки, что говорит о том, что модель, построенная на всех данных, показывает практически такие же результаты, как и модель, построенная только на числовых переменных.\\\n",
    "\\\n",
    "Вывод: Обе модели показывают примерно одинаковые результаты, и использование всех доступных переменных (как числовых, так и категориальных) позволяет построить немного более качественную модель, чем использование только числовых переменных."
   ]
  }
 ],
 "metadata": {
  "ExecuteTimeLog": [
   {
    "duration": 709,
    "start_time": "2024-05-01T17:22:39.053Z"
   },
   {
    "duration": 14493,
    "start_time": "2024-05-01T17:23:28.827Z"
   },
   {
    "duration": 449,
    "start_time": "2024-05-01T17:24:13.469Z"
   },
   {
    "duration": 179,
    "start_time": "2024-05-01T17:24:52.742Z"
   },
   {
    "duration": 179,
    "start_time": "2024-05-01T17:24:57.770Z"
   },
   {
    "duration": 727,
    "start_time": "2024-05-03T10:16:11.418Z"
   },
   {
    "duration": 16516,
    "start_time": "2024-05-03T10:16:13.103Z"
   },
   {
    "duration": 372,
    "start_time": "2024-05-03T10:16:30.887Z"
   },
   {
    "duration": 9645,
    "start_time": "2024-05-03T10:26:31.352Z"
   },
   {
    "duration": 4,
    "start_time": "2024-05-03T10:29:46.636Z"
   },
   {
    "duration": 3,
    "start_time": "2024-05-03T10:29:48.302Z"
   },
   {
    "duration": 1187,
    "start_time": "2024-05-03T10:29:50.007Z"
   },
   {
    "duration": 4,
    "start_time": "2024-05-03T10:30:58.147Z"
   },
   {
    "duration": 3,
    "start_time": "2024-05-03T10:31:29.440Z"
   },
   {
    "duration": 1020,
    "start_time": "2024-05-03T10:32:25.108Z"
   },
   {
    "duration": 16,
    "start_time": "2024-05-03T10:42:13.969Z"
   },
   {
    "duration": 35,
    "start_time": "2024-05-03T10:44:59.263Z"
   },
   {
    "duration": 8,
    "start_time": "2024-05-03T10:45:10.047Z"
   },
   {
    "duration": 974,
    "start_time": "2024-05-03T10:45:24.043Z"
   },
   {
    "duration": 8,
    "start_time": "2024-05-03T10:49:05.560Z"
   },
   {
    "duration": 4163,
    "start_time": "2024-05-03T10:49:22.725Z"
   },
   {
    "duration": 16,
    "start_time": "2024-05-03T10:52:18.387Z"
   },
   {
    "duration": 11,
    "start_time": "2024-05-03T10:52:28.457Z"
   },
   {
    "duration": 11,
    "start_time": "2024-05-03T10:54:56.714Z"
   },
   {
    "duration": 12,
    "start_time": "2024-05-03T10:55:06.325Z"
   },
   {
    "duration": 40,
    "start_time": "2024-05-03T10:59:28.550Z"
   },
   {
    "duration": 2915,
    "start_time": "2024-05-03T10:59:44.185Z"
   },
   {
    "duration": 2913,
    "start_time": "2024-05-03T11:00:10.582Z"
   },
   {
    "duration": 1410,
    "start_time": "2024-05-03T11:00:33.092Z"
   },
   {
    "duration": 3,
    "start_time": "2024-05-03T11:24:01.022Z"
   },
   {
    "duration": 1336,
    "start_time": "2024-05-03T11:27:58.483Z"
   },
   {
    "duration": 123,
    "start_time": "2024-05-03T11:28:07.287Z"
   },
   {
    "duration": 107,
    "start_time": "2024-05-03T11:29:38.284Z"
   },
   {
    "duration": 179,
    "start_time": "2024-05-03T11:30:30.416Z"
   },
   {
    "duration": 8,
    "start_time": "2024-05-03T11:31:11.349Z"
   },
   {
    "duration": 133,
    "start_time": "2024-05-03T11:31:18.481Z"
   },
   {
    "duration": 749,
    "start_time": "2024-05-03T11:32:04.383Z"
   },
   {
    "duration": 16563,
    "start_time": "2024-05-03T11:32:05.134Z"
   },
   {
    "duration": 9904,
    "start_time": "2024-05-03T11:32:21.700Z"
   },
   {
    "duration": 81,
    "start_time": "2024-05-03T11:32:31.606Z"
   },
   {
    "duration": 4521,
    "start_time": "2024-05-03T11:32:31.689Z"
   },
   {
    "duration": 4184,
    "start_time": "2024-05-03T11:32:36.212Z"
   },
   {
    "duration": 94,
    "start_time": "2024-05-03T11:32:40.398Z"
   },
   {
    "duration": 2712,
    "start_time": "2024-05-03T11:32:40.494Z"
   },
   {
    "duration": 4,
    "start_time": "2024-05-03T11:32:43.208Z"
   },
   {
    "duration": 1494,
    "start_time": "2024-05-03T11:32:43.215Z"
   },
   {
    "duration": 185,
    "start_time": "2024-05-03T11:32:44.710Z"
   },
   {
    "duration": 272,
    "start_time": "2024-05-03T11:33:32.434Z"
   },
   {
    "duration": 104,
    "start_time": "2024-05-03T11:33:46.327Z"
   },
   {
    "duration": 760,
    "start_time": "2024-05-03T11:34:00.369Z"
   },
   {
    "duration": 16152,
    "start_time": "2024-05-03T11:34:01.131Z"
   },
   {
    "duration": 10620,
    "start_time": "2024-05-03T11:34:17.286Z"
   },
   {
    "duration": 76,
    "start_time": "2024-05-03T11:34:27.909Z"
   },
   {
    "duration": 4804,
    "start_time": "2024-05-03T11:34:27.987Z"
   },
   {
    "duration": 4203,
    "start_time": "2024-05-03T11:34:32.794Z"
   },
   {
    "duration": 116,
    "start_time": "2024-05-03T11:34:37.000Z"
   },
   {
    "duration": 3513,
    "start_time": "2024-05-03T11:34:37.183Z"
   },
   {
    "duration": 3,
    "start_time": "2024-05-03T11:34:40.699Z"
   },
   {
    "duration": 2303,
    "start_time": "2024-05-03T11:34:40.706Z"
   },
   {
    "duration": 284,
    "start_time": "2024-05-03T11:34:43.011Z"
   },
   {
    "duration": 161,
    "start_time": "2024-05-03T11:34:43.298Z"
   },
   {
    "duration": 734,
    "start_time": "2024-05-03T11:37:44.881Z"
   },
   {
    "duration": 46,
    "start_time": "2024-05-03T11:40:38.478Z"
   },
   {
    "duration": 2734,
    "start_time": "2024-05-03T11:41:47.995Z"
   },
   {
    "duration": 4,
    "start_time": "2024-05-03T11:43:06.187Z"
   },
   {
    "duration": 36,
    "start_time": "2024-05-03T11:46:16.890Z"
   },
   {
    "duration": 1135,
    "start_time": "2024-05-03T11:46:17.767Z"
   },
   {
    "duration": 8,
    "start_time": "2024-05-03T11:46:44.889Z"
   },
   {
    "duration": 5,
    "start_time": "2024-05-03T11:46:51.343Z"
   },
   {
    "duration": 498,
    "start_time": "2024-05-03T11:55:32.550Z"
   },
   {
    "duration": 122,
    "start_time": "2024-05-03T11:57:31.753Z"
   },
   {
    "duration": 799,
    "start_time": "2024-05-03T11:57:49.337Z"
   },
   {
    "duration": 16344,
    "start_time": "2024-05-03T11:57:50.138Z"
   },
   {
    "duration": 10215,
    "start_time": "2024-05-03T11:58:06.484Z"
   },
   {
    "duration": 80,
    "start_time": "2024-05-03T11:58:16.701Z"
   },
   {
    "duration": 4527,
    "start_time": "2024-05-03T11:58:16.784Z"
   },
   {
    "duration": 4478,
    "start_time": "2024-05-03T11:58:21.313Z"
   },
   {
    "duration": 97,
    "start_time": "2024-05-03T11:58:25.794Z"
   },
   {
    "duration": 3000,
    "start_time": "2024-05-03T11:58:25.894Z"
   },
   {
    "duration": 1900,
    "start_time": "2024-05-03T11:58:28.896Z"
   },
   {
    "duration": 795,
    "start_time": "2024-05-03T11:58:30.798Z"
   },
   {
    "duration": 111,
    "start_time": "2024-05-03T11:58:31.595Z"
   },
   {
    "duration": 2767,
    "start_time": "2024-05-03T11:58:31.708Z"
   },
   {
    "duration": 3,
    "start_time": "2024-05-03T11:58:34.479Z"
   },
   {
    "duration": 48,
    "start_time": "2024-05-03T11:58:34.485Z"
   },
   {
    "duration": 1175,
    "start_time": "2024-05-03T11:58:34.535Z"
   },
   {
    "duration": 6,
    "start_time": "2024-05-03T11:58:35.712Z"
   },
   {
    "duration": 619,
    "start_time": "2024-05-03T11:58:35.781Z"
   },
   {
    "duration": 199,
    "start_time": "2024-05-03T11:58:36.402Z"
   },
   {
    "duration": 0,
    "start_time": "2024-05-03T11:58:36.603Z"
   },
   {
    "duration": 420,
    "start_time": "2024-05-03T12:00:17.275Z"
   },
   {
    "duration": 798,
    "start_time": "2024-05-03T12:12:19.117Z"
   },
   {
    "duration": 16770,
    "start_time": "2024-05-03T12:12:19.917Z"
   },
   {
    "duration": 10490,
    "start_time": "2024-05-03T12:12:36.690Z"
   },
   {
    "duration": 19,
    "start_time": "2024-05-03T12:12:47.182Z"
   },
   {
    "duration": 5178,
    "start_time": "2024-05-03T12:12:47.203Z"
   },
   {
    "duration": 4506,
    "start_time": "2024-05-03T12:12:52.382Z"
   },
   {
    "duration": 117,
    "start_time": "2024-05-03T12:12:56.889Z"
   },
   {
    "duration": 3072,
    "start_time": "2024-05-03T12:12:57.008Z"
   },
   {
    "duration": 1762,
    "start_time": "2024-05-03T12:13:00.082Z"
   },
   {
    "duration": 734,
    "start_time": "2024-05-03T12:13:01.846Z"
   },
   {
    "duration": 112,
    "start_time": "2024-05-03T12:13:02.583Z"
   },
   {
    "duration": 2949,
    "start_time": "2024-05-03T12:13:02.697Z"
   },
   {
    "duration": 3,
    "start_time": "2024-05-03T12:13:05.647Z"
   },
   {
    "duration": 48,
    "start_time": "2024-05-03T12:13:05.654Z"
   },
   {
    "duration": 1105,
    "start_time": "2024-05-03T12:13:05.704Z"
   },
   {
    "duration": 72,
    "start_time": "2024-05-03T12:13:06.811Z"
   },
   {
    "duration": 30,
    "start_time": "2024-05-03T12:13:06.886Z"
   },
   {
    "duration": 3,
    "start_time": "2024-05-03T12:13:06.981Z"
   },
   {
    "duration": 80,
    "start_time": "2024-05-03T12:13:06.986Z"
   },
   {
    "duration": 0,
    "start_time": "2024-05-03T12:13:07.068Z"
   },
   {
    "duration": 0,
    "start_time": "2024-05-03T12:13:07.069Z"
   },
   {
    "duration": 24,
    "start_time": "2024-05-03T12:13:11.713Z"
   },
   {
    "duration": 27,
    "start_time": "2024-05-03T12:14:40.565Z"
   },
   {
    "duration": 4468,
    "start_time": "2024-05-03T12:22:01.690Z"
   },
   {
    "duration": 166,
    "start_time": "2024-05-03T12:44:40.159Z"
   },
   {
    "duration": 763,
    "start_time": "2024-05-03T12:54:27.368Z"
   },
   {
    "duration": 17391,
    "start_time": "2024-05-03T12:54:28.133Z"
   },
   {
    "duration": 10679,
    "start_time": "2024-05-03T12:54:45.526Z"
   },
   {
    "duration": 90,
    "start_time": "2024-05-03T12:54:56.207Z"
   },
   {
    "duration": 5496,
    "start_time": "2024-05-03T12:54:56.299Z"
   },
   {
    "duration": 4805,
    "start_time": "2024-05-03T12:55:01.797Z"
   },
   {
    "duration": 111,
    "start_time": "2024-05-03T12:55:06.604Z"
   },
   {
    "duration": 3205,
    "start_time": "2024-05-03T12:55:06.717Z"
   },
   {
    "duration": 2215,
    "start_time": "2024-05-03T12:55:09.985Z"
   },
   {
    "duration": 812,
    "start_time": "2024-05-03T12:55:12.202Z"
   },
   {
    "duration": 167,
    "start_time": "2024-05-03T12:55:13.016Z"
   },
   {
    "duration": 2925,
    "start_time": "2024-05-03T12:55:13.185Z"
   },
   {
    "duration": 3,
    "start_time": "2024-05-03T12:55:16.111Z"
   },
   {
    "duration": 76,
    "start_time": "2024-05-03T12:55:16.117Z"
   },
   {
    "duration": 1199,
    "start_time": "2024-05-03T12:55:16.198Z"
   },
   {
    "duration": 8,
    "start_time": "2024-05-03T12:55:17.399Z"
   },
   {
    "duration": 104,
    "start_time": "2024-05-03T12:55:17.409Z"
   },
   {
    "duration": 87,
    "start_time": "2024-05-03T12:55:17.516Z"
   },
   {
    "duration": 6699,
    "start_time": "2024-05-03T12:55:17.604Z"
   },
   {
    "duration": 794,
    "start_time": "2024-05-03T13:04:13.351Z"
   },
   {
    "duration": 17460,
    "start_time": "2024-05-03T13:04:14.148Z"
   },
   {
    "duration": 10987,
    "start_time": "2024-05-03T13:04:31.611Z"
   },
   {
    "duration": 87,
    "start_time": "2024-05-03T13:04:42.599Z"
   },
   {
    "duration": 5135,
    "start_time": "2024-05-03T13:04:42.690Z"
   },
   {
    "duration": 4663,
    "start_time": "2024-05-03T13:04:47.826Z"
   },
   {
    "duration": 119,
    "start_time": "2024-05-03T13:04:52.491Z"
   },
   {
    "duration": 2978,
    "start_time": "2024-05-03T13:04:52.612Z"
   },
   {
    "duration": 2293,
    "start_time": "2024-05-03T13:04:55.591Z"
   },
   {
    "duration": 930,
    "start_time": "2024-05-03T13:04:57.886Z"
   },
   {
    "duration": 175,
    "start_time": "2024-05-03T13:04:58.817Z"
   },
   {
    "duration": 3376,
    "start_time": "2024-05-03T13:04:58.995Z"
   },
   {
    "duration": 13,
    "start_time": "2024-05-03T13:05:02.373Z"
   },
   {
    "duration": 161,
    "start_time": "2024-05-03T13:05:02.389Z"
   },
   {
    "duration": 1446,
    "start_time": "2024-05-03T13:05:02.552Z"
   },
   {
    "duration": 10,
    "start_time": "2024-05-03T13:05:04.000Z"
   },
   {
    "duration": 102,
    "start_time": "2024-05-03T13:05:04.012Z"
   },
   {
    "duration": 86,
    "start_time": "2024-05-03T13:05:04.116Z"
   },
   {
    "duration": 6792,
    "start_time": "2024-05-03T13:05:04.204Z"
   },
   {
    "duration": 773,
    "start_time": "2024-05-03T14:14:34.068Z"
   },
   {
    "duration": 17770,
    "start_time": "2024-05-03T14:14:34.843Z"
   },
   {
    "duration": 12172,
    "start_time": "2024-05-03T14:14:52.621Z"
   },
   {
    "duration": 88,
    "start_time": "2024-05-03T14:15:04.796Z"
   },
   {
    "duration": 6404,
    "start_time": "2024-05-03T14:15:04.887Z"
   },
   {
    "duration": 5611,
    "start_time": "2024-05-03T14:15:11.297Z"
   },
   {
    "duration": 187,
    "start_time": "2024-05-03T14:15:16.910Z"
   },
   {
    "duration": 3593,
    "start_time": "2024-05-03T14:15:17.100Z"
   },
   {
    "duration": 2433,
    "start_time": "2024-05-03T14:15:20.695Z"
   },
   {
    "duration": 1074,
    "start_time": "2024-05-03T14:15:23.130Z"
   },
   {
    "duration": 194,
    "start_time": "2024-05-03T14:15:24.207Z"
   },
   {
    "duration": 3738,
    "start_time": "2024-05-03T14:15:24.404Z"
   },
   {
    "duration": 3,
    "start_time": "2024-05-03T14:15:28.145Z"
   },
   {
    "duration": 79,
    "start_time": "2024-05-03T14:15:28.149Z"
   },
   {
    "duration": 1482,
    "start_time": "2024-05-03T14:15:28.230Z"
   },
   {
    "duration": 77,
    "start_time": "2024-05-03T14:15:29.713Z"
   },
   {
    "duration": 108,
    "start_time": "2024-05-03T14:15:29.792Z"
   },
   {
    "duration": 79,
    "start_time": "2024-05-03T14:15:29.902Z"
   },
   {
    "duration": 6805,
    "start_time": "2024-05-03T14:15:29.984Z"
   },
   {
    "duration": 727,
    "start_time": "2024-05-03T14:53:36.001Z"
   },
   {
    "duration": 16890,
    "start_time": "2024-05-03T14:53:36.731Z"
   },
   {
    "duration": 11171,
    "start_time": "2024-05-03T14:53:53.624Z"
   },
   {
    "duration": 17,
    "start_time": "2024-05-03T14:54:04.797Z"
   },
   {
    "duration": 5133,
    "start_time": "2024-05-03T14:54:04.882Z"
   },
   {
    "duration": 4372,
    "start_time": "2024-05-03T14:54:10.017Z"
   },
   {
    "duration": 106,
    "start_time": "2024-05-03T14:54:14.392Z"
   },
   {
    "duration": 3500,
    "start_time": "2024-05-03T14:54:14.500Z"
   },
   {
    "duration": 2309,
    "start_time": "2024-05-03T14:54:18.002Z"
   },
   {
    "duration": 880,
    "start_time": "2024-05-03T14:54:20.313Z"
   },
   {
    "duration": 122,
    "start_time": "2024-05-03T14:54:21.195Z"
   },
   {
    "duration": 3111,
    "start_time": "2024-05-03T14:54:21.319Z"
   },
   {
    "duration": 3,
    "start_time": "2024-05-03T14:54:24.432Z"
   },
   {
    "duration": 59,
    "start_time": "2024-05-03T14:54:24.438Z"
   },
   {
    "duration": 1311,
    "start_time": "2024-05-03T14:54:24.503Z"
   },
   {
    "duration": 71,
    "start_time": "2024-05-03T14:54:25.816Z"
   },
   {
    "duration": 101,
    "start_time": "2024-05-03T14:54:25.889Z"
   },
   {
    "duration": 94,
    "start_time": "2024-05-03T14:54:25.993Z"
   },
   {
    "duration": 3598,
    "start_time": "2024-05-03T14:54:26.090Z"
   },
   {
    "duration": 253,
    "start_time": "2024-05-03T14:54:29.690Z"
   },
   {
    "duration": 0,
    "start_time": "2024-05-03T14:54:29.945Z"
   },
   {
    "duration": 0,
    "start_time": "2024-05-03T14:54:29.946Z"
   },
   {
    "duration": 0,
    "start_time": "2024-05-03T14:54:29.948Z"
   },
   {
    "duration": 735,
    "start_time": "2024-05-03T15:53:34.489Z"
   },
   {
    "duration": 16094,
    "start_time": "2024-05-03T15:53:35.226Z"
   },
   {
    "duration": 10014,
    "start_time": "2024-05-03T15:53:51.379Z"
   },
   {
    "duration": 17,
    "start_time": "2024-05-03T15:54:01.396Z"
   },
   {
    "duration": 4538,
    "start_time": "2024-05-03T15:54:01.481Z"
   },
   {
    "duration": 3968,
    "start_time": "2024-05-03T15:54:06.021Z"
   },
   {
    "duration": 108,
    "start_time": "2024-05-03T15:54:09.991Z"
   },
   {
    "duration": 2784,
    "start_time": "2024-05-03T15:54:10.101Z"
   },
   {
    "duration": 1822,
    "start_time": "2024-05-03T15:54:12.887Z"
   },
   {
    "duration": 694,
    "start_time": "2024-05-03T15:54:14.711Z"
   },
   {
    "duration": 101,
    "start_time": "2024-05-03T15:54:15.407Z"
   },
   {
    "duration": 3536,
    "start_time": "2024-05-03T15:54:15.510Z"
   },
   {
    "duration": 2,
    "start_time": "2024-05-03T15:54:19.049Z"
   },
   {
    "duration": 58,
    "start_time": "2024-05-03T15:54:19.053Z"
   },
   {
    "duration": 1092,
    "start_time": "2024-05-03T15:54:19.113Z"
   },
   {
    "duration": 76,
    "start_time": "2024-05-03T15:54:20.206Z"
   },
   {
    "duration": 22,
    "start_time": "2024-05-03T15:54:20.284Z"
   },
   {
    "duration": 97,
    "start_time": "2024-05-03T15:54:20.308Z"
   },
   {
    "duration": 3695,
    "start_time": "2024-05-03T15:54:20.407Z"
   },
   {
    "duration": 143,
    "start_time": "2024-05-03T15:54:24.103Z"
   },
   {
    "duration": 0,
    "start_time": "2024-05-03T15:54:24.247Z"
   },
   {
    "duration": 0,
    "start_time": "2024-05-03T15:54:24.249Z"
   },
   {
    "duration": 0,
    "start_time": "2024-05-03T15:54:24.250Z"
   },
   {
    "duration": 5,
    "start_time": "2024-05-03T15:55:50.866Z"
   },
   {
    "duration": 6224,
    "start_time": "2024-05-03T15:55:56.266Z"
   },
   {
    "duration": 10,
    "start_time": "2024-05-03T15:56:14.258Z"
   },
   {
    "duration": 5,
    "start_time": "2024-05-03T15:56:36.264Z"
   },
   {
    "duration": 2872,
    "start_time": "2024-05-03T15:56:41.110Z"
   },
   {
    "duration": 3408,
    "start_time": "2024-05-03T15:57:49.694Z"
   },
   {
    "duration": 19,
    "start_time": "2024-05-03T15:57:56.078Z"
   },
   {
    "duration": 2261,
    "start_time": "2024-05-03T15:58:32.870Z"
   },
   {
    "duration": 2257,
    "start_time": "2024-05-03T15:58:35.180Z"
   },
   {
    "duration": 48,
    "start_time": "2024-05-04T09:28:10.517Z"
   },
   {
    "duration": 746,
    "start_time": "2024-05-04T09:54:30.531Z"
   },
   {
    "duration": 14613,
    "start_time": "2024-05-04T09:54:31.278Z"
   },
   {
    "duration": 8665,
    "start_time": "2024-05-04T09:54:45.893Z"
   },
   {
    "duration": 16,
    "start_time": "2024-05-04T09:54:54.560Z"
   },
   {
    "duration": 4082,
    "start_time": "2024-05-04T09:54:54.578Z"
   },
   {
    "duration": 3725,
    "start_time": "2024-05-04T09:54:58.662Z"
   },
   {
    "duration": 72,
    "start_time": "2024-05-04T09:55:02.389Z"
   },
   {
    "duration": 3491,
    "start_time": "2024-05-04T09:55:02.462Z"
   },
   {
    "duration": 1614,
    "start_time": "2024-05-04T09:55:05.954Z"
   },
   {
    "duration": 1788,
    "start_time": "2024-05-04T09:55:07.570Z"
   },
   {
    "duration": 0,
    "start_time": "2024-05-04T09:55:09.360Z"
   },
   {
    "duration": 0,
    "start_time": "2024-05-04T09:55:09.361Z"
   },
   {
    "duration": 0,
    "start_time": "2024-05-04T09:55:09.362Z"
   },
   {
    "duration": 0,
    "start_time": "2024-05-04T09:55:09.363Z"
   },
   {
    "duration": 0,
    "start_time": "2024-05-04T09:55:09.364Z"
   },
   {
    "duration": 0,
    "start_time": "2024-05-04T09:55:09.365Z"
   },
   {
    "duration": 0,
    "start_time": "2024-05-04T09:55:09.367Z"
   },
   {
    "duration": 0,
    "start_time": "2024-05-04T09:55:09.368Z"
   },
   {
    "duration": 0,
    "start_time": "2024-05-04T09:55:09.369Z"
   },
   {
    "duration": 0,
    "start_time": "2024-05-04T09:55:09.370Z"
   },
   {
    "duration": 0,
    "start_time": "2024-05-04T09:55:09.371Z"
   },
   {
    "duration": 0,
    "start_time": "2024-05-04T09:55:09.372Z"
   },
   {
    "duration": 0,
    "start_time": "2024-05-04T09:55:09.372Z"
   },
   {
    "duration": 0,
    "start_time": "2024-05-04T09:55:09.373Z"
   },
   {
    "duration": 701,
    "start_time": "2024-05-04T09:58:03.288Z"
   },
   {
    "duration": 14772,
    "start_time": "2024-05-04T09:58:03.991Z"
   },
   {
    "duration": 8909,
    "start_time": "2024-05-04T09:58:18.765Z"
   },
   {
    "duration": 93,
    "start_time": "2024-05-04T09:58:27.675Z"
   },
   {
    "duration": 4097,
    "start_time": "2024-05-04T09:58:27.771Z"
   },
   {
    "duration": 3389,
    "start_time": "2024-05-04T09:58:31.869Z"
   },
   {
    "duration": 15,
    "start_time": "2024-05-04T09:58:35.259Z"
   },
   {
    "duration": 3481,
    "start_time": "2024-05-04T09:58:35.276Z"
   },
   {
    "duration": 1486,
    "start_time": "2024-05-04T09:58:38.759Z"
   },
   {
    "duration": 1576,
    "start_time": "2024-05-04T09:58:40.247Z"
   },
   {
    "duration": 0,
    "start_time": "2024-05-04T09:58:41.825Z"
   },
   {
    "duration": 0,
    "start_time": "2024-05-04T09:58:41.826Z"
   },
   {
    "duration": 0,
    "start_time": "2024-05-04T09:58:41.827Z"
   },
   {
    "duration": 0,
    "start_time": "2024-05-04T09:58:41.829Z"
   },
   {
    "duration": 0,
    "start_time": "2024-05-04T09:58:41.830Z"
   },
   {
    "duration": 0,
    "start_time": "2024-05-04T09:58:41.831Z"
   },
   {
    "duration": 0,
    "start_time": "2024-05-04T09:58:41.832Z"
   },
   {
    "duration": 0,
    "start_time": "2024-05-04T09:58:41.833Z"
   },
   {
    "duration": 0,
    "start_time": "2024-05-04T09:58:41.834Z"
   },
   {
    "duration": 0,
    "start_time": "2024-05-04T09:58:41.835Z"
   },
   {
    "duration": 0,
    "start_time": "2024-05-04T09:58:41.837Z"
   },
   {
    "duration": 0,
    "start_time": "2024-05-04T09:58:41.838Z"
   },
   {
    "duration": 0,
    "start_time": "2024-05-04T09:58:41.839Z"
   },
   {
    "duration": 0,
    "start_time": "2024-05-04T09:58:41.840Z"
   },
   {
    "duration": 109,
    "start_time": "2024-05-04T10:01:13.075Z"
   },
   {
    "duration": 638,
    "start_time": "2024-05-04T10:01:23.749Z"
   },
   {
    "duration": 14588,
    "start_time": "2024-05-04T10:01:24.389Z"
   },
   {
    "duration": 8783,
    "start_time": "2024-05-04T10:01:38.979Z"
   },
   {
    "duration": 80,
    "start_time": "2024-05-04T10:01:47.765Z"
   },
   {
    "duration": 4036,
    "start_time": "2024-05-04T10:01:47.847Z"
   },
   {
    "duration": 3725,
    "start_time": "2024-05-04T10:01:51.945Z"
   },
   {
    "duration": 74,
    "start_time": "2024-05-04T10:01:55.672Z"
   },
   {
    "duration": 3848,
    "start_time": "2024-05-04T10:01:55.748Z"
   },
   {
    "duration": 1497,
    "start_time": "2024-05-04T10:01:59.598Z"
   },
   {
    "duration": 2305,
    "start_time": "2024-05-04T10:02:01.146Z"
   },
   {
    "duration": 658,
    "start_time": "2024-05-04T10:02:03.453Z"
   },
   {
    "duration": 0,
    "start_time": "2024-05-04T10:02:04.145Z"
   },
   {
    "duration": 0,
    "start_time": "2024-05-04T10:02:04.146Z"
   },
   {
    "duration": 0,
    "start_time": "2024-05-04T10:02:04.148Z"
   },
   {
    "duration": 0,
    "start_time": "2024-05-04T10:02:04.149Z"
   },
   {
    "duration": 0,
    "start_time": "2024-05-04T10:02:04.151Z"
   },
   {
    "duration": 0,
    "start_time": "2024-05-04T10:02:04.153Z"
   },
   {
    "duration": 0,
    "start_time": "2024-05-04T10:02:04.154Z"
   },
   {
    "duration": 0,
    "start_time": "2024-05-04T10:02:04.155Z"
   },
   {
    "duration": 0,
    "start_time": "2024-05-04T10:02:04.157Z"
   },
   {
    "duration": 0,
    "start_time": "2024-05-04T10:02:04.159Z"
   },
   {
    "duration": 0,
    "start_time": "2024-05-04T10:02:04.160Z"
   },
   {
    "duration": 0,
    "start_time": "2024-05-04T10:02:04.161Z"
   },
   {
    "duration": 0,
    "start_time": "2024-05-04T10:02:04.162Z"
   },
   {
    "duration": 83,
    "start_time": "2024-05-04T10:02:19.818Z"
   },
   {
    "duration": 678,
    "start_time": "2024-05-04T10:02:39.706Z"
   },
   {
    "duration": 14891,
    "start_time": "2024-05-04T10:02:40.386Z"
   },
   {
    "duration": 8296,
    "start_time": "2024-05-04T10:02:55.279Z"
   },
   {
    "duration": 81,
    "start_time": "2024-05-04T10:03:03.577Z"
   },
   {
    "duration": 4055,
    "start_time": "2024-05-04T10:03:03.661Z"
   },
   {
    "duration": 3707,
    "start_time": "2024-05-04T10:03:07.745Z"
   },
   {
    "duration": 15,
    "start_time": "2024-05-04T10:03:11.454Z"
   },
   {
    "duration": 3518,
    "start_time": "2024-05-04T10:03:11.470Z"
   },
   {
    "duration": 1461,
    "start_time": "2024-05-04T10:03:14.990Z"
   },
   {
    "duration": 2093,
    "start_time": "2024-05-04T10:03:16.453Z"
   },
   {
    "duration": 829,
    "start_time": "2024-05-04T10:03:18.547Z"
   },
   {
    "duration": 701,
    "start_time": "2024-05-04T10:03:19.378Z"
   },
   {
    "duration": 2,
    "start_time": "2024-05-04T10:03:20.081Z"
   },
   {
    "duration": 62,
    "start_time": "2024-05-04T10:03:20.084Z"
   },
   {
    "duration": 537,
    "start_time": "2024-05-04T10:03:20.148Z"
   },
   {
    "duration": 1139,
    "start_time": "2024-05-04T10:03:20.687Z"
   },
   {
    "duration": 0,
    "start_time": "2024-05-04T10:03:21.828Z"
   },
   {
    "duration": 0,
    "start_time": "2024-05-04T10:03:21.844Z"
   },
   {
    "duration": 0,
    "start_time": "2024-05-04T10:03:21.845Z"
   },
   {
    "duration": 0,
    "start_time": "2024-05-04T10:03:21.847Z"
   },
   {
    "duration": 0,
    "start_time": "2024-05-04T10:03:21.849Z"
   },
   {
    "duration": 0,
    "start_time": "2024-05-04T10:03:21.850Z"
   },
   {
    "duration": 0,
    "start_time": "2024-05-04T10:03:21.852Z"
   },
   {
    "duration": 0,
    "start_time": "2024-05-04T10:03:21.853Z"
   },
   {
    "duration": 714,
    "start_time": "2024-05-04T10:06:41.067Z"
   },
   {
    "duration": 14996,
    "start_time": "2024-05-04T10:06:41.783Z"
   },
   {
    "duration": 9078,
    "start_time": "2024-05-04T10:06:56.781Z"
   },
   {
    "duration": 84,
    "start_time": "2024-05-04T10:07:05.862Z"
   },
   {
    "duration": 4525,
    "start_time": "2024-05-04T10:07:05.948Z"
   },
   {
    "duration": 4189,
    "start_time": "2024-05-04T10:07:10.475Z"
   },
   {
    "duration": 83,
    "start_time": "2024-05-04T10:07:14.666Z"
   },
   {
    "duration": 3694,
    "start_time": "2024-05-04T10:07:14.751Z"
   },
   {
    "duration": 1725,
    "start_time": "2024-05-04T10:07:18.447Z"
   },
   {
    "duration": 2280,
    "start_time": "2024-05-04T10:07:20.174Z"
   },
   {
    "duration": 906,
    "start_time": "2024-05-04T10:07:22.456Z"
   },
   {
    "duration": 707,
    "start_time": "2024-05-04T10:07:23.364Z"
   },
   {
    "duration": 2,
    "start_time": "2024-05-04T10:07:24.074Z"
   },
   {
    "duration": 78,
    "start_time": "2024-05-04T10:07:24.077Z"
   },
   {
    "duration": 612,
    "start_time": "2024-05-04T10:07:24.157Z"
   },
   {
    "duration": 1777,
    "start_time": "2024-05-04T10:07:24.770Z"
   },
   {
    "duration": 5,
    "start_time": "2024-05-04T10:07:26.549Z"
   },
   {
    "duration": 93,
    "start_time": "2024-05-04T10:07:26.555Z"
   },
   {
    "duration": 99,
    "start_time": "2024-05-04T10:07:26.650Z"
   },
   {
    "duration": 3616,
    "start_time": "2024-05-04T10:07:26.751Z"
   },
   {
    "duration": 1688,
    "start_time": "2024-05-04T10:07:30.370Z"
   },
   {
    "duration": 1812,
    "start_time": "2024-05-04T10:07:32.060Z"
   },
   {
    "duration": 1237,
    "start_time": "2024-05-04T10:07:33.874Z"
   },
   {
    "duration": 467,
    "start_time": "2024-05-04T10:07:35.113Z"
   },
   {
    "duration": 700,
    "start_time": "2024-05-04T10:08:27.180Z"
   },
   {
    "duration": 14772,
    "start_time": "2024-05-04T10:08:27.882Z"
   },
   {
    "duration": 8704,
    "start_time": "2024-05-04T10:08:42.656Z"
   },
   {
    "duration": 82,
    "start_time": "2024-05-04T10:08:51.363Z"
   },
   {
    "duration": 4241,
    "start_time": "2024-05-04T10:08:51.447Z"
   },
   {
    "duration": 3734,
    "start_time": "2024-05-04T10:08:55.746Z"
   },
   {
    "duration": 77,
    "start_time": "2024-05-04T10:08:59.482Z"
   },
   {
    "duration": 3589,
    "start_time": "2024-05-04T10:08:59.561Z"
   },
   {
    "duration": 1424,
    "start_time": "2024-05-04T10:09:03.152Z"
   },
   {
    "duration": 2224,
    "start_time": "2024-05-04T10:09:04.580Z"
   },
   {
    "duration": 962,
    "start_time": "2024-05-04T10:09:06.805Z"
   },
   {
    "duration": 786,
    "start_time": "2024-05-04T10:09:07.769Z"
   },
   {
    "duration": 3,
    "start_time": "2024-05-04T10:09:08.557Z"
   },
   {
    "duration": 83,
    "start_time": "2024-05-04T10:09:08.562Z"
   },
   {
    "duration": 644,
    "start_time": "2024-05-04T10:09:08.647Z"
   },
   {
    "duration": 1669,
    "start_time": "2024-05-04T10:09:09.292Z"
   },
   {
    "duration": 8,
    "start_time": "2024-05-04T10:09:10.963Z"
   },
   {
    "duration": 102,
    "start_time": "2024-05-04T10:09:10.972Z"
   },
   {
    "duration": 88,
    "start_time": "2024-05-04T10:09:11.075Z"
   },
   {
    "duration": 3098,
    "start_time": "2024-05-04T10:09:11.165Z"
   },
   {
    "duration": 1624,
    "start_time": "2024-05-04T10:09:14.265Z"
   },
   {
    "duration": 1668,
    "start_time": "2024-05-04T10:09:15.891Z"
   },
   {
    "duration": 1291,
    "start_time": "2024-05-04T10:09:17.560Z"
   },
   {
    "duration": 504,
    "start_time": "2024-05-04T10:09:18.853Z"
   },
   {
    "duration": 690,
    "start_time": "2024-05-04T19:49:37.686Z"
   },
   {
    "duration": 15262,
    "start_time": "2024-05-04T19:49:39.702Z"
   },
   {
    "duration": 9372,
    "start_time": "2024-05-04T19:49:54.967Z"
   },
   {
    "duration": 4830,
    "start_time": "2024-05-04T19:50:04.341Z"
   },
   {
    "duration": 669,
    "start_time": "2024-05-04T19:50:33.879Z"
   },
   {
    "duration": 93,
    "start_time": "2024-05-04T19:50:38.437Z"
   },
   {
    "duration": 699,
    "start_time": "2024-05-04T19:52:59.986Z"
   },
   {
    "duration": 15879,
    "start_time": "2024-05-04T19:53:00.687Z"
   },
   {
    "duration": 9670,
    "start_time": "2024-05-04T19:53:16.569Z"
   },
   {
    "duration": 14,
    "start_time": "2024-05-04T19:53:26.241Z"
   },
   {
    "duration": 4300,
    "start_time": "2024-05-04T19:53:26.257Z"
   },
   {
    "duration": 4210,
    "start_time": "2024-05-04T19:53:30.559Z"
   },
   {
    "duration": 4,
    "start_time": "2024-05-04T19:53:34.829Z"
   },
   {
    "duration": 711,
    "start_time": "2024-05-04T19:53:34.834Z"
   },
   {
    "duration": 92,
    "start_time": "2024-05-04T19:53:35.547Z"
   },
   {
    "duration": 2814,
    "start_time": "2024-05-04T19:53:35.642Z"
   },
   {
    "duration": 1485,
    "start_time": "2024-05-04T19:53:38.458Z"
   },
   {
    "duration": 2146,
    "start_time": "2024-05-04T19:53:39.945Z"
   },
   {
    "duration": 882,
    "start_time": "2024-05-04T19:53:42.130Z"
   },
   {
    "duration": 827,
    "start_time": "2024-05-04T19:53:43.014Z"
   },
   {
    "duration": 3,
    "start_time": "2024-05-04T19:53:43.843Z"
   },
   {
    "duration": 16,
    "start_time": "2024-05-04T19:53:43.849Z"
   },
   {
    "duration": 668,
    "start_time": "2024-05-04T19:53:43.868Z"
   },
   {
    "duration": 1619,
    "start_time": "2024-05-04T19:53:44.538Z"
   },
   {
    "duration": 10,
    "start_time": "2024-05-04T19:53:46.159Z"
   },
   {
    "duration": 88,
    "start_time": "2024-05-04T19:53:46.171Z"
   },
   {
    "duration": 96,
    "start_time": "2024-05-04T19:53:46.261Z"
   },
   {
    "duration": 2988,
    "start_time": "2024-05-04T19:53:46.359Z"
   },
   {
    "duration": 960,
    "start_time": "2024-05-04T19:53:49.348Z"
   },
   {
    "duration": 0,
    "start_time": "2024-05-04T19:53:50.310Z"
   },
   {
    "duration": 0,
    "start_time": "2024-05-04T19:53:50.312Z"
   },
   {
    "duration": 0,
    "start_time": "2024-05-04T19:53:50.313Z"
   },
   {
    "duration": 698,
    "start_time": "2024-05-04T19:54:35.981Z"
   },
   {
    "duration": 15150,
    "start_time": "2024-05-04T19:54:36.681Z"
   },
   {
    "duration": 9204,
    "start_time": "2024-05-04T19:54:51.834Z"
   },
   {
    "duration": 16,
    "start_time": "2024-05-04T19:55:01.041Z"
   },
   {
    "duration": 4300,
    "start_time": "2024-05-04T19:55:01.059Z"
   },
   {
    "duration": 4078,
    "start_time": "2024-05-04T19:55:05.361Z"
   },
   {
    "duration": 204,
    "start_time": "2024-05-04T19:55:09.441Z"
   },
   {
    "duration": 0,
    "start_time": "2024-05-04T19:55:09.650Z"
   },
   {
    "duration": 0,
    "start_time": "2024-05-04T19:55:09.652Z"
   },
   {
    "duration": 0,
    "start_time": "2024-05-04T19:55:09.654Z"
   },
   {
    "duration": 0,
    "start_time": "2024-05-04T19:55:09.655Z"
   },
   {
    "duration": 0,
    "start_time": "2024-05-04T19:55:09.657Z"
   },
   {
    "duration": 0,
    "start_time": "2024-05-04T19:55:09.658Z"
   },
   {
    "duration": 0,
    "start_time": "2024-05-04T19:55:09.660Z"
   },
   {
    "duration": 0,
    "start_time": "2024-05-04T19:55:09.661Z"
   },
   {
    "duration": 0,
    "start_time": "2024-05-04T19:55:09.662Z"
   },
   {
    "duration": 0,
    "start_time": "2024-05-04T19:55:09.663Z"
   },
   {
    "duration": 0,
    "start_time": "2024-05-04T19:55:09.729Z"
   },
   {
    "duration": 0,
    "start_time": "2024-05-04T19:55:09.731Z"
   },
   {
    "duration": 0,
    "start_time": "2024-05-04T19:55:09.732Z"
   },
   {
    "duration": 0,
    "start_time": "2024-05-04T19:55:09.734Z"
   },
   {
    "duration": 0,
    "start_time": "2024-05-04T19:55:09.735Z"
   },
   {
    "duration": 0,
    "start_time": "2024-05-04T19:55:09.736Z"
   },
   {
    "duration": 0,
    "start_time": "2024-05-04T19:55:09.737Z"
   },
   {
    "duration": 0,
    "start_time": "2024-05-04T19:55:09.738Z"
   },
   {
    "duration": 0,
    "start_time": "2024-05-04T19:55:09.739Z"
   },
   {
    "duration": 0,
    "start_time": "2024-05-04T19:55:09.740Z"
   },
   {
    "duration": 603,
    "start_time": "2024-05-04T19:55:17.951Z"
   },
   {
    "duration": 2780,
    "start_time": "2024-05-04T19:57:41.291Z"
   },
   {
    "duration": 355,
    "start_time": "2024-05-04T19:57:46.806Z"
   },
   {
    "duration": 29,
    "start_time": "2024-05-04T19:59:36.074Z"
   },
   {
    "duration": 2219,
    "start_time": "2024-05-04T19:59:39.732Z"
   },
   {
    "duration": 810,
    "start_time": "2024-05-04T19:59:50.669Z"
   },
   {
    "duration": 15255,
    "start_time": "2024-05-04T19:59:51.482Z"
   },
   {
    "duration": 9717,
    "start_time": "2024-05-04T20:00:06.740Z"
   },
   {
    "duration": 85,
    "start_time": "2024-05-04T20:00:16.460Z"
   },
   {
    "duration": 4712,
    "start_time": "2024-05-04T20:00:16.546Z"
   },
   {
    "duration": 4191,
    "start_time": "2024-05-04T20:00:21.260Z"
   },
   {
    "duration": 2,
    "start_time": "2024-05-04T20:00:25.453Z"
   },
   {
    "duration": 687,
    "start_time": "2024-05-04T20:00:25.457Z"
   },
   {
    "duration": 96,
    "start_time": "2024-05-04T20:00:26.146Z"
   },
   {
    "duration": 2885,
    "start_time": "2024-05-04T20:00:26.245Z"
   },
   {
    "duration": 1449,
    "start_time": "2024-05-04T20:00:29.132Z"
   },
   {
    "duration": 2409,
    "start_time": "2024-05-04T20:00:30.630Z"
   },
   {
    "duration": 1101,
    "start_time": "2024-05-04T20:00:33.041Z"
   },
   {
    "duration": 811,
    "start_time": "2024-05-04T20:00:34.145Z"
   },
   {
    "duration": 2,
    "start_time": "2024-05-04T20:00:34.958Z"
   },
   {
    "duration": 68,
    "start_time": "2024-05-04T20:00:34.962Z"
   },
   {
    "duration": 726,
    "start_time": "2024-05-04T20:00:35.031Z"
   },
   {
    "duration": 1787,
    "start_time": "2024-05-04T20:00:35.759Z"
   },
   {
    "duration": 84,
    "start_time": "2024-05-04T20:00:37.548Z"
   },
   {
    "duration": 110,
    "start_time": "2024-05-04T20:00:37.635Z"
   },
   {
    "duration": 96,
    "start_time": "2024-05-04T20:00:37.747Z"
   },
   {
    "duration": 3704,
    "start_time": "2024-05-04T20:00:37.845Z"
   },
   {
    "duration": 1036,
    "start_time": "2024-05-04T20:00:41.550Z"
   },
   {
    "duration": 0,
    "start_time": "2024-05-04T20:00:42.587Z"
   },
   {
    "duration": 0,
    "start_time": "2024-05-04T20:00:42.589Z"
   },
   {
    "duration": 0,
    "start_time": "2024-05-04T20:00:42.590Z"
   },
   {
    "duration": 753,
    "start_time": "2024-05-04T20:01:49.319Z"
   },
   {
    "duration": 15765,
    "start_time": "2024-05-04T20:01:50.076Z"
   },
   {
    "duration": 9689,
    "start_time": "2024-05-04T20:02:05.843Z"
   },
   {
    "duration": 16,
    "start_time": "2024-05-04T20:02:15.535Z"
   },
   {
    "duration": 4910,
    "start_time": "2024-05-04T20:02:15.554Z"
   },
   {
    "duration": 3700,
    "start_time": "2024-05-04T20:02:20.465Z"
   },
   {
    "duration": 2,
    "start_time": "2024-05-04T20:02:24.167Z"
   },
   {
    "duration": 620,
    "start_time": "2024-05-04T20:02:24.229Z"
   },
   {
    "duration": 97,
    "start_time": "2024-05-04T20:02:24.851Z"
   },
   {
    "duration": 2896,
    "start_time": "2024-05-04T20:02:24.952Z"
   },
   {
    "duration": 1692,
    "start_time": "2024-05-04T20:02:27.849Z"
   },
   {
    "duration": 2321,
    "start_time": "2024-05-04T20:02:29.543Z"
   },
   {
    "duration": 1071,
    "start_time": "2024-05-04T20:02:31.866Z"
   },
   {
    "duration": 1109,
    "start_time": "2024-05-04T20:02:32.940Z"
   },
   {
    "duration": 3,
    "start_time": "2024-05-04T20:02:34.051Z"
   },
   {
    "duration": 7,
    "start_time": "2024-05-04T20:02:34.055Z"
   },
   {
    "duration": 1065,
    "start_time": "2024-05-04T20:02:34.064Z"
   },
   {
    "duration": 2306,
    "start_time": "2024-05-04T20:02:35.131Z"
   },
   {
    "duration": 15,
    "start_time": "2024-05-04T20:02:37.439Z"
   },
   {
    "duration": 175,
    "start_time": "2024-05-04T20:02:37.456Z"
   },
   {
    "duration": 97,
    "start_time": "2024-05-04T20:02:37.632Z"
   },
   {
    "duration": 4112,
    "start_time": "2024-05-04T20:02:37.731Z"
   },
   {
    "duration": 1097,
    "start_time": "2024-05-04T20:02:41.845Z"
   },
   {
    "duration": 0,
    "start_time": "2024-05-04T20:02:42.944Z"
   },
   {
    "duration": 0,
    "start_time": "2024-05-04T20:02:42.945Z"
   },
   {
    "duration": 0,
    "start_time": "2024-05-04T20:02:42.946Z"
   },
   {
    "duration": 403,
    "start_time": "2024-05-04T20:04:07.038Z"
   },
   {
    "duration": 707,
    "start_time": "2024-05-04T20:04:17.666Z"
   },
   {
    "duration": 15477,
    "start_time": "2024-05-04T20:04:18.375Z"
   },
   {
    "duration": 9883,
    "start_time": "2024-05-04T20:04:33.854Z"
   },
   {
    "duration": 14,
    "start_time": "2024-05-04T20:04:43.740Z"
   },
   {
    "duration": 4403,
    "start_time": "2024-05-04T20:04:43.756Z"
   },
   {
    "duration": 4276,
    "start_time": "2024-05-04T20:04:48.161Z"
   },
   {
    "duration": 2,
    "start_time": "2024-05-04T20:04:52.439Z"
   },
   {
    "duration": 701,
    "start_time": "2024-05-04T20:04:52.443Z"
   },
   {
    "duration": 91,
    "start_time": "2024-05-04T20:04:53.146Z"
   },
   {
    "duration": 2617,
    "start_time": "2024-05-04T20:04:53.240Z"
   },
   {
    "duration": 1486,
    "start_time": "2024-05-04T20:04:55.859Z"
   },
   {
    "duration": 2291,
    "start_time": "2024-05-04T20:04:57.347Z"
   },
   {
    "duration": 1098,
    "start_time": "2024-05-04T20:04:59.641Z"
   },
   {
    "duration": 812,
    "start_time": "2024-05-04T20:05:00.742Z"
   },
   {
    "duration": 4,
    "start_time": "2024-05-04T20:05:01.556Z"
   },
   {
    "duration": 188,
    "start_time": "2024-05-04T20:05:01.562Z"
   },
   {
    "duration": 678,
    "start_time": "2024-05-04T20:05:01.752Z"
   },
   {
    "duration": 1708,
    "start_time": "2024-05-04T20:05:02.433Z"
   },
   {
    "duration": 10,
    "start_time": "2024-05-04T20:05:04.142Z"
   },
   {
    "duration": 236,
    "start_time": "2024-05-04T20:05:04.154Z"
   },
   {
    "duration": 69,
    "start_time": "2024-05-04T20:05:04.392Z"
   },
   {
    "duration": 3237,
    "start_time": "2024-05-04T20:05:04.530Z"
   },
   {
    "duration": 1005,
    "start_time": "2024-05-04T20:05:07.769Z"
   },
   {
    "duration": 0,
    "start_time": "2024-05-04T20:05:08.776Z"
   },
   {
    "duration": 0,
    "start_time": "2024-05-04T20:05:08.777Z"
   },
   {
    "duration": 0,
    "start_time": "2024-05-04T20:05:08.778Z"
   },
   {
    "duration": 749,
    "start_time": "2024-05-04T20:09:01.929Z"
   },
   {
    "duration": 15570,
    "start_time": "2024-05-04T20:09:02.680Z"
   },
   {
    "duration": 9501,
    "start_time": "2024-05-04T20:09:18.252Z"
   },
   {
    "duration": 81,
    "start_time": "2024-05-04T20:09:27.755Z"
   },
   {
    "duration": 4415,
    "start_time": "2024-05-04T20:09:27.838Z"
   },
   {
    "duration": 3885,
    "start_time": "2024-05-04T20:09:32.256Z"
   },
   {
    "duration": 3,
    "start_time": "2024-05-04T20:09:36.143Z"
   },
   {
    "duration": 701,
    "start_time": "2024-05-04T20:09:36.148Z"
   },
   {
    "duration": 87,
    "start_time": "2024-05-04T20:09:36.851Z"
   },
   {
    "duration": 2597,
    "start_time": "2024-05-04T20:09:36.941Z"
   },
   {
    "duration": 1508,
    "start_time": "2024-05-04T20:09:39.540Z"
   },
   {
    "duration": 2095,
    "start_time": "2024-05-04T20:09:41.051Z"
   },
   {
    "duration": 1082,
    "start_time": "2024-05-04T20:09:43.148Z"
   },
   {
    "duration": 708,
    "start_time": "2024-05-04T20:09:44.232Z"
   },
   {
    "duration": 3,
    "start_time": "2024-05-04T20:09:44.942Z"
   },
   {
    "duration": 21,
    "start_time": "2024-05-04T20:09:44.947Z"
   },
   {
    "duration": 760,
    "start_time": "2024-05-04T20:09:44.970Z"
   },
   {
    "duration": 1819,
    "start_time": "2024-05-04T20:09:45.732Z"
   },
   {
    "duration": 76,
    "start_time": "2024-05-04T20:09:47.554Z"
   },
   {
    "duration": 97,
    "start_time": "2024-05-04T20:09:47.632Z"
   },
   {
    "duration": 98,
    "start_time": "2024-05-04T20:09:47.731Z"
   },
   {
    "duration": 4222,
    "start_time": "2024-05-04T20:09:47.831Z"
   },
   {
    "duration": 1894,
    "start_time": "2024-05-04T20:09:52.055Z"
   },
   {
    "duration": 1892,
    "start_time": "2024-05-04T20:09:53.951Z"
   },
   {
    "duration": 1438,
    "start_time": "2024-05-04T20:09:55.845Z"
   },
   {
    "duration": 659,
    "start_time": "2024-05-04T20:09:57.285Z"
   }
  ],
  "colab": {
   "name": "PySparkSprint.ipynb",
   "provenance": []
  },
  "kernelspec": {
   "display_name": "Python 3 (ipykernel)",
   "language": "python",
   "name": "python3"
  },
  "language_info": {
   "codemirror_mode": {
    "name": "ipython",
    "version": 3
   },
   "file_extension": ".py",
   "mimetype": "text/x-python",
   "name": "python",
   "nbconvert_exporter": "python",
   "pygments_lexer": "ipython3",
   "version": "3.9.5"
  },
  "toc": {
   "base_numbering": 1,
   "nav_menu": {},
   "number_sections": true,
   "sideBar": true,
   "skip_h1_title": true,
   "title_cell": "Table of Contents",
   "title_sidebar": "Contents",
   "toc_cell": false,
   "toc_position": {},
   "toc_section_display": true,
   "toc_window_display": false
  }
 },
 "nbformat": 4,
 "nbformat_minor": 5
}
