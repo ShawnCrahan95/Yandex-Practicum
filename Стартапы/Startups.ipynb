{
 "cells": [
  {
   "cell_type": "markdown",
   "id": "96fb849f",
   "metadata": {},
   "source": [
    "# Стартапы"
   ]
  },
  {
   "cell_type": "markdown",
   "id": "fdd48905",
   "metadata": {},
   "source": [
    "Цель данного исследования - разработать модель для предсказания успешности стартапа (закроется или нет)"
   ]
  },
  {
   "cell_type": "markdown",
   "id": "5dbd596d",
   "metadata": {},
   "source": [
    "## Описание даных"
   ]
  },
  {
   "cell_type": "markdown",
   "id": "35966125",
   "metadata": {},
   "source": [
    "### Файлы"
   ]
  },
  {
   "cell_type": "markdown",
   "id": "c46999d0",
   "metadata": {},
   "source": [
    "Даны два файла:\n",
    "- kaggle_startups_train_01.csv - информация (53 000) стартапах, которые будут использоваться в качестве обучающих данных.\n",
    "- kaggle_startups_test_01.csv - информация (13 000) стартапах, которые будут использоваться в качестве тестовых данных."
   ]
  },
  {
   "cell_type": "markdown",
   "id": "a196e083",
   "metadata": {},
   "source": [
    "### Описание полей данных"
   ]
  },
  {
   "cell_type": "markdown",
   "id": "1dd0156e",
   "metadata": {},
   "source": [
    "1. name - Название стартапа\n",
    "2. category_list - Список категорий, к которым относится стартап\n",
    "3. funding_total_usd - Общая сумма финансирования в USD\n",
    "4. status - Статус стартапа (закрыт или действующий)\n",
    "5. country_code - Код страны\n",
    "6. state_code - Код штата\n",
    "7. region - Регион\n",
    "8. city - Город\n",
    "9. funding_rounds - Количество раундов финансирования\n",
    "10. founded_at - Дата основания\n",
    "11. first_funding_at - Дата первого раунда финансирования\n",
    "12. last_funding_at - Дата последнего раунда финансирования\n",
    "13. closed_at - Дата закрытия стартапа (если применимо)"
   ]
  },
  {
   "cell_type": "markdown",
   "id": "155a3c2f",
   "metadata": {},
   "source": [
    "## Обзор данных"
   ]
  },
  {
   "cell_type": "code",
   "execution_count": 147,
   "id": "f36d174e",
   "metadata": {},
   "outputs": [],
   "source": [
    "import warnings\n",
    "warnings.filterwarnings('ignore')\n",
    "\n",
    "import pandas as pd\n",
    "import matplotlib.pyplot as plt\n",
    "import seaborn as sns\n",
    "import numpy as np\n",
    "from sklearn.impute import SimpleImputer\n",
    "from phik.report import plot_correlation_matrix\n",
    "from sklearn.model_selection import train_test_split\n",
    "from numpy.random import RandomState\n",
    "from sklearn.pipeline import Pipeline\n",
    "from sklearn.preprocessing import OneHotEncoder, StandardScaler, MinMaxScaler\n",
    "from sklearn.compose import ColumnTransformer\n",
    "from sklearn.tree import DecisionTreeClassifier\n",
    "from sklearn.linear_model import LogisticRegression\n",
    "from sklearn.ensemble import RandomForestClassifier\n",
    "from sklearn.model_selection import GridSearchCV\n",
    "from sklearn.neighbors import KNeighborsClassifier\n",
    "from sklearn.metrics import f1_score\n",
    "\n",
    "pd.set_option('display.max_columns', None)\n",
    "pd.set_option('display.max_colwidth', None)"
   ]
  },
  {
   "cell_type": "code",
   "execution_count": 148,
   "id": "1ef6a715",
   "metadata": {},
   "outputs": [],
   "source": [
    "data_train = pd.read_csv('./kaggle_startups_train_01.csv') \n",
    "data_test = pd.read_csv('./kaggle_startups_test_01.csv')"
   ]
  },
  {
   "cell_type": "code",
   "execution_count": 149,
   "id": "d4caf079",
   "metadata": {},
   "outputs": [],
   "source": [
    "def get_info(data):\n",
    "    display(data.sample(10))\n",
    "    display(data.info())\n",
    "    display(data.describe(include='all'))\n",
    "    display(data.isna().sum())\n",
    "    display(data.duplicated().sum())\n",
    "    data_train.hist(figsize=(10, 10), bins=50)\n",
    "    "
   ]
  },
  {
   "cell_type": "code",
   "execution_count": 150,
   "id": "aea0abba",
   "metadata": {
    "scrolled": true
   },
   "outputs": [
    {
     "data": {
      "text/html": [
       "<div>\n",
       "<style scoped>\n",
       "    .dataframe tbody tr th:only-of-type {\n",
       "        vertical-align: middle;\n",
       "    }\n",
       "\n",
       "    .dataframe tbody tr th {\n",
       "        vertical-align: top;\n",
       "    }\n",
       "\n",
       "    .dataframe thead th {\n",
       "        text-align: right;\n",
       "    }\n",
       "</style>\n",
       "<table border=\"1\" class=\"dataframe\">\n",
       "  <thead>\n",
       "    <tr style=\"text-align: right;\">\n",
       "      <th></th>\n",
       "      <th>name</th>\n",
       "      <th>category_list</th>\n",
       "      <th>funding_total_usd</th>\n",
       "      <th>status</th>\n",
       "      <th>country_code</th>\n",
       "      <th>state_code</th>\n",
       "      <th>region</th>\n",
       "      <th>city</th>\n",
       "      <th>funding_rounds</th>\n",
       "      <th>founded_at</th>\n",
       "      <th>first_funding_at</th>\n",
       "      <th>last_funding_at</th>\n",
       "      <th>closed_at</th>\n",
       "    </tr>\n",
       "  </thead>\n",
       "  <tbody>\n",
       "    <tr>\n",
       "      <th>27529</th>\n",
       "      <td>Wan Shidao management</td>\n",
       "      <td>Networking</td>\n",
       "      <td>70000000.0</td>\n",
       "      <td>operating</td>\n",
       "      <td>CHN</td>\n",
       "      <td>NaN</td>\n",
       "      <td>NaN</td>\n",
       "      <td>NaN</td>\n",
       "      <td>1</td>\n",
       "      <td>2012-09-03</td>\n",
       "      <td>2014-04-01</td>\n",
       "      <td>2014-04-01</td>\n",
       "      <td>NaN</td>\n",
       "    </tr>\n",
       "    <tr>\n",
       "      <th>14415</th>\n",
       "      <td>SnackFeed</td>\n",
       "      <td>Politics|Video</td>\n",
       "      <td>NaN</td>\n",
       "      <td>operating</td>\n",
       "      <td>NaN</td>\n",
       "      <td>NaN</td>\n",
       "      <td>NaN</td>\n",
       "      <td>NaN</td>\n",
       "      <td>1</td>\n",
       "      <td>2008-09-01</td>\n",
       "      <td>2008-09-01</td>\n",
       "      <td>2008-09-01</td>\n",
       "      <td>NaN</td>\n",
       "    </tr>\n",
       "    <tr>\n",
       "      <th>7433</th>\n",
       "      <td>YadaHome</td>\n",
       "      <td>Social Media</td>\n",
       "      <td>250000.0</td>\n",
       "      <td>operating</td>\n",
       "      <td>USA</td>\n",
       "      <td>DC</td>\n",
       "      <td>Washington, D.C.</td>\n",
       "      <td>Washington</td>\n",
       "      <td>1</td>\n",
       "      <td>2008-01-03</td>\n",
       "      <td>2008-01-03</td>\n",
       "      <td>2008-01-03</td>\n",
       "      <td>NaN</td>\n",
       "    </tr>\n",
       "    <tr>\n",
       "      <th>9416</th>\n",
       "      <td>Tiger Brokers</td>\n",
       "      <td>Internet</td>\n",
       "      <td>15600000.0</td>\n",
       "      <td>operating</td>\n",
       "      <td>CHN</td>\n",
       "      <td>30</td>\n",
       "      <td>CHN - Other</td>\n",
       "      <td>Beijin</td>\n",
       "      <td>1</td>\n",
       "      <td>2013-11-08</td>\n",
       "      <td>2015-09-10</td>\n",
       "      <td>2015-09-10</td>\n",
       "      <td>NaN</td>\n",
       "    </tr>\n",
       "    <tr>\n",
       "      <th>41197</th>\n",
       "      <td>TeraCloud Corporation</td>\n",
       "      <td>NaN</td>\n",
       "      <td>5500000.0</td>\n",
       "      <td>closed</td>\n",
       "      <td>NaN</td>\n",
       "      <td>NaN</td>\n",
       "      <td>NaN</td>\n",
       "      <td>NaN</td>\n",
       "      <td>1</td>\n",
       "      <td>2001-05-14</td>\n",
       "      <td>2002-05-17</td>\n",
       "      <td>2002-05-17</td>\n",
       "      <td>2003-06-25</td>\n",
       "    </tr>\n",
       "    <tr>\n",
       "      <th>17960</th>\n",
       "      <td>Black Tie Ventures</td>\n",
       "      <td>Entertainment|Games|Software</td>\n",
       "      <td>360000.0</td>\n",
       "      <td>operating</td>\n",
       "      <td>CAN</td>\n",
       "      <td>QC</td>\n",
       "      <td>Quebec City</td>\n",
       "      <td>Quebec</td>\n",
       "      <td>1</td>\n",
       "      <td>2013-07-13</td>\n",
       "      <td>2014-04-21</td>\n",
       "      <td>2014-04-21</td>\n",
       "      <td>NaN</td>\n",
       "    </tr>\n",
       "    <tr>\n",
       "      <th>8700</th>\n",
       "      <td>Microsonic Systems</td>\n",
       "      <td>Biotechnology</td>\n",
       "      <td>1924006.0</td>\n",
       "      <td>operating</td>\n",
       "      <td>USA</td>\n",
       "      <td>CA</td>\n",
       "      <td>SF Bay Area</td>\n",
       "      <td>San Jose</td>\n",
       "      <td>2</td>\n",
       "      <td>2004-01-01</td>\n",
       "      <td>2009-07-10</td>\n",
       "      <td>2010-09-16</td>\n",
       "      <td>NaN</td>\n",
       "    </tr>\n",
       "    <tr>\n",
       "      <th>35009</th>\n",
       "      <td>BLender</td>\n",
       "      <td>Financial Services</td>\n",
       "      <td>5000000.0</td>\n",
       "      <td>operating</td>\n",
       "      <td>ISR</td>\n",
       "      <td>5</td>\n",
       "      <td>Tel Aviv</td>\n",
       "      <td>Ramat Gan</td>\n",
       "      <td>1</td>\n",
       "      <td>2014-10-01</td>\n",
       "      <td>2015-07-12</td>\n",
       "      <td>2015-07-12</td>\n",
       "      <td>NaN</td>\n",
       "    </tr>\n",
       "    <tr>\n",
       "      <th>51694</th>\n",
       "      <td>BloomReach</td>\n",
       "      <td>Enterprise Software</td>\n",
       "      <td>41000000.0</td>\n",
       "      <td>operating</td>\n",
       "      <td>USA</td>\n",
       "      <td>CA</td>\n",
       "      <td>SF Bay Area</td>\n",
       "      <td>Mountain View</td>\n",
       "      <td>3</td>\n",
       "      <td>2009-01-01</td>\n",
       "      <td>2008-09-01</td>\n",
       "      <td>2012-10-18</td>\n",
       "      <td>NaN</td>\n",
       "    </tr>\n",
       "    <tr>\n",
       "      <th>6664</th>\n",
       "      <td>Dataspin</td>\n",
       "      <td>Games|Mobile|Monetization|Publishing</td>\n",
       "      <td>110000.0</td>\n",
       "      <td>operating</td>\n",
       "      <td>GBR</td>\n",
       "      <td>H9</td>\n",
       "      <td>London</td>\n",
       "      <td>London</td>\n",
       "      <td>1</td>\n",
       "      <td>2010-01-01</td>\n",
       "      <td>2012-06-01</td>\n",
       "      <td>2012-06-01</td>\n",
       "      <td>NaN</td>\n",
       "    </tr>\n",
       "  </tbody>\n",
       "</table>\n",
       "</div>"
      ],
      "text/plain": [
       "                        name                         category_list  \\\n",
       "27529  Wan Shidao management                            Networking   \n",
       "14415              SnackFeed                        Politics|Video   \n",
       "7433                YadaHome                          Social Media   \n",
       "9416           Tiger Brokers                              Internet   \n",
       "41197  TeraCloud Corporation                                   NaN   \n",
       "17960     Black Tie Ventures          Entertainment|Games|Software   \n",
       "8700      Microsonic Systems                         Biotechnology   \n",
       "35009                BLender                    Financial Services   \n",
       "51694             BloomReach                   Enterprise Software   \n",
       "6664                Dataspin  Games|Mobile|Monetization|Publishing   \n",
       "\n",
       "       funding_total_usd     status country_code state_code            region  \\\n",
       "27529         70000000.0  operating          CHN        NaN               NaN   \n",
       "14415                NaN  operating          NaN        NaN               NaN   \n",
       "7433            250000.0  operating          USA         DC  Washington, D.C.   \n",
       "9416          15600000.0  operating          CHN         30       CHN - Other   \n",
       "41197          5500000.0     closed          NaN        NaN               NaN   \n",
       "17960           360000.0  operating          CAN         QC       Quebec City   \n",
       "8700           1924006.0  operating          USA         CA       SF Bay Area   \n",
       "35009          5000000.0  operating          ISR          5          Tel Aviv   \n",
       "51694         41000000.0  operating          USA         CA       SF Bay Area   \n",
       "6664            110000.0  operating          GBR         H9            London   \n",
       "\n",
       "                city  funding_rounds  founded_at first_funding_at  \\\n",
       "27529            NaN               1  2012-09-03       2014-04-01   \n",
       "14415            NaN               1  2008-09-01       2008-09-01   \n",
       "7433      Washington               1  2008-01-03       2008-01-03   \n",
       "9416          Beijin               1  2013-11-08       2015-09-10   \n",
       "41197            NaN               1  2001-05-14       2002-05-17   \n",
       "17960         Quebec               1  2013-07-13       2014-04-21   \n",
       "8700        San Jose               2  2004-01-01       2009-07-10   \n",
       "35009      Ramat Gan               1  2014-10-01       2015-07-12   \n",
       "51694  Mountain View               3  2009-01-01       2008-09-01   \n",
       "6664          London               1  2010-01-01       2012-06-01   \n",
       "\n",
       "      last_funding_at   closed_at  \n",
       "27529      2014-04-01         NaN  \n",
       "14415      2008-09-01         NaN  \n",
       "7433       2008-01-03         NaN  \n",
       "9416       2015-09-10         NaN  \n",
       "41197      2002-05-17  2003-06-25  \n",
       "17960      2014-04-21         NaN  \n",
       "8700       2010-09-16         NaN  \n",
       "35009      2015-07-12         NaN  \n",
       "51694      2012-10-18         NaN  \n",
       "6664       2012-06-01         NaN  "
      ]
     },
     "metadata": {},
     "output_type": "display_data"
    },
    {
     "name": "stdout",
     "output_type": "stream",
     "text": [
      "<class 'pandas.core.frame.DataFrame'>\n",
      "RangeIndex: 52879 entries, 0 to 52878\n",
      "Data columns (total 13 columns):\n",
      " #   Column             Non-Null Count  Dtype  \n",
      "---  ------             --------------  -----  \n",
      " 0   name               52878 non-null  object \n",
      " 1   category_list      50374 non-null  object \n",
      " 2   funding_total_usd  42753 non-null  float64\n",
      " 3   status             52879 non-null  object \n",
      " 4   country_code       47351 non-null  object \n",
      " 5   state_code         46082 non-null  object \n",
      " 6   region             46489 non-null  object \n",
      " 7   city               46489 non-null  object \n",
      " 8   funding_rounds     52879 non-null  int64  \n",
      " 9   founded_at         52879 non-null  object \n",
      " 10  first_funding_at   52858 non-null  object \n",
      " 11  last_funding_at    52879 non-null  object \n",
      " 12  closed_at          4962 non-null   object \n",
      "dtypes: float64(1), int64(1), object(11)\n",
      "memory usage: 5.2+ MB\n"
     ]
    },
    {
     "data": {
      "text/plain": [
       "None"
      ]
     },
     "metadata": {},
     "output_type": "display_data"
    },
    {
     "data": {
      "text/html": [
       "<div>\n",
       "<style scoped>\n",
       "    .dataframe tbody tr th:only-of-type {\n",
       "        vertical-align: middle;\n",
       "    }\n",
       "\n",
       "    .dataframe tbody tr th {\n",
       "        vertical-align: top;\n",
       "    }\n",
       "\n",
       "    .dataframe thead th {\n",
       "        text-align: right;\n",
       "    }\n",
       "</style>\n",
       "<table border=\"1\" class=\"dataframe\">\n",
       "  <thead>\n",
       "    <tr style=\"text-align: right;\">\n",
       "      <th></th>\n",
       "      <th>name</th>\n",
       "      <th>category_list</th>\n",
       "      <th>funding_total_usd</th>\n",
       "      <th>status</th>\n",
       "      <th>country_code</th>\n",
       "      <th>state_code</th>\n",
       "      <th>region</th>\n",
       "      <th>city</th>\n",
       "      <th>funding_rounds</th>\n",
       "      <th>founded_at</th>\n",
       "      <th>first_funding_at</th>\n",
       "      <th>last_funding_at</th>\n",
       "      <th>closed_at</th>\n",
       "    </tr>\n",
       "  </thead>\n",
       "  <tbody>\n",
       "    <tr>\n",
       "      <th>count</th>\n",
       "      <td>52878</td>\n",
       "      <td>50374</td>\n",
       "      <td>4.275300e+04</td>\n",
       "      <td>52879</td>\n",
       "      <td>47351</td>\n",
       "      <td>46082</td>\n",
       "      <td>46489</td>\n",
       "      <td>46489</td>\n",
       "      <td>52879.000000</td>\n",
       "      <td>52879</td>\n",
       "      <td>52858</td>\n",
       "      <td>52879</td>\n",
       "      <td>4962</td>\n",
       "    </tr>\n",
       "    <tr>\n",
       "      <th>unique</th>\n",
       "      <td>52878</td>\n",
       "      <td>22196</td>\n",
       "      <td>NaN</td>\n",
       "      <td>2</td>\n",
       "      <td>134</td>\n",
       "      <td>300</td>\n",
       "      <td>1037</td>\n",
       "      <td>4524</td>\n",
       "      <td>NaN</td>\n",
       "      <td>5536</td>\n",
       "      <td>4618</td>\n",
       "      <td>4322</td>\n",
       "      <td>3064</td>\n",
       "    </tr>\n",
       "    <tr>\n",
       "      <th>top</th>\n",
       "      <td>Lunchgate</td>\n",
       "      <td>Software</td>\n",
       "      <td>NaN</td>\n",
       "      <td>operating</td>\n",
       "      <td>USA</td>\n",
       "      <td>CA</td>\n",
       "      <td>SF Bay Area</td>\n",
       "      <td>San Francisco</td>\n",
       "      <td>NaN</td>\n",
       "      <td>2012-01-01</td>\n",
       "      <td>2013-01-01</td>\n",
       "      <td>2014-01-01</td>\n",
       "      <td>2015-05-29</td>\n",
       "    </tr>\n",
       "    <tr>\n",
       "      <th>freq</th>\n",
       "      <td>1</td>\n",
       "      <td>3216</td>\n",
       "      <td>NaN</td>\n",
       "      <td>47917</td>\n",
       "      <td>29954</td>\n",
       "      <td>10258</td>\n",
       "      <td>6988</td>\n",
       "      <td>2831</td>\n",
       "      <td>NaN</td>\n",
       "      <td>2176</td>\n",
       "      <td>450</td>\n",
       "      <td>369</td>\n",
       "      <td>7</td>\n",
       "    </tr>\n",
       "    <tr>\n",
       "      <th>mean</th>\n",
       "      <td>NaN</td>\n",
       "      <td>NaN</td>\n",
       "      <td>1.893059e+07</td>\n",
       "      <td>NaN</td>\n",
       "      <td>NaN</td>\n",
       "      <td>NaN</td>\n",
       "      <td>NaN</td>\n",
       "      <td>NaN</td>\n",
       "      <td>1.738270</td>\n",
       "      <td>NaN</td>\n",
       "      <td>NaN</td>\n",
       "      <td>NaN</td>\n",
       "      <td>NaN</td>\n",
       "    </tr>\n",
       "    <tr>\n",
       "      <th>std</th>\n",
       "      <td>NaN</td>\n",
       "      <td>NaN</td>\n",
       "      <td>2.053288e+08</td>\n",
       "      <td>NaN</td>\n",
       "      <td>NaN</td>\n",
       "      <td>NaN</td>\n",
       "      <td>NaN</td>\n",
       "      <td>NaN</td>\n",
       "      <td>1.371993</td>\n",
       "      <td>NaN</td>\n",
       "      <td>NaN</td>\n",
       "      <td>NaN</td>\n",
       "      <td>NaN</td>\n",
       "    </tr>\n",
       "    <tr>\n",
       "      <th>min</th>\n",
       "      <td>NaN</td>\n",
       "      <td>NaN</td>\n",
       "      <td>1.000000e+00</td>\n",
       "      <td>NaN</td>\n",
       "      <td>NaN</td>\n",
       "      <td>NaN</td>\n",
       "      <td>NaN</td>\n",
       "      <td>NaN</td>\n",
       "      <td>1.000000</td>\n",
       "      <td>NaN</td>\n",
       "      <td>NaN</td>\n",
       "      <td>NaN</td>\n",
       "      <td>NaN</td>\n",
       "    </tr>\n",
       "    <tr>\n",
       "      <th>25%</th>\n",
       "      <td>NaN</td>\n",
       "      <td>NaN</td>\n",
       "      <td>3.400000e+05</td>\n",
       "      <td>NaN</td>\n",
       "      <td>NaN</td>\n",
       "      <td>NaN</td>\n",
       "      <td>NaN</td>\n",
       "      <td>NaN</td>\n",
       "      <td>1.000000</td>\n",
       "      <td>NaN</td>\n",
       "      <td>NaN</td>\n",
       "      <td>NaN</td>\n",
       "      <td>NaN</td>\n",
       "    </tr>\n",
       "    <tr>\n",
       "      <th>50%</th>\n",
       "      <td>NaN</td>\n",
       "      <td>NaN</td>\n",
       "      <td>2.000000e+06</td>\n",
       "      <td>NaN</td>\n",
       "      <td>NaN</td>\n",
       "      <td>NaN</td>\n",
       "      <td>NaN</td>\n",
       "      <td>NaN</td>\n",
       "      <td>1.000000</td>\n",
       "      <td>NaN</td>\n",
       "      <td>NaN</td>\n",
       "      <td>NaN</td>\n",
       "      <td>NaN</td>\n",
       "    </tr>\n",
       "    <tr>\n",
       "      <th>75%</th>\n",
       "      <td>NaN</td>\n",
       "      <td>NaN</td>\n",
       "      <td>1.000000e+07</td>\n",
       "      <td>NaN</td>\n",
       "      <td>NaN</td>\n",
       "      <td>NaN</td>\n",
       "      <td>NaN</td>\n",
       "      <td>NaN</td>\n",
       "      <td>2.000000</td>\n",
       "      <td>NaN</td>\n",
       "      <td>NaN</td>\n",
       "      <td>NaN</td>\n",
       "      <td>NaN</td>\n",
       "    </tr>\n",
       "    <tr>\n",
       "      <th>max</th>\n",
       "      <td>NaN</td>\n",
       "      <td>NaN</td>\n",
       "      <td>3.007950e+10</td>\n",
       "      <td>NaN</td>\n",
       "      <td>NaN</td>\n",
       "      <td>NaN</td>\n",
       "      <td>NaN</td>\n",
       "      <td>NaN</td>\n",
       "      <td>19.000000</td>\n",
       "      <td>NaN</td>\n",
       "      <td>NaN</td>\n",
       "      <td>NaN</td>\n",
       "      <td>NaN</td>\n",
       "    </tr>\n",
       "  </tbody>\n",
       "</table>\n",
       "</div>"
      ],
      "text/plain": [
       "             name category_list  funding_total_usd     status country_code  \\\n",
       "count       52878         50374       4.275300e+04      52879        47351   \n",
       "unique      52878         22196                NaN          2          134   \n",
       "top     Lunchgate      Software                NaN  operating          USA   \n",
       "freq            1          3216                NaN      47917        29954   \n",
       "mean          NaN           NaN       1.893059e+07        NaN          NaN   \n",
       "std           NaN           NaN       2.053288e+08        NaN          NaN   \n",
       "min           NaN           NaN       1.000000e+00        NaN          NaN   \n",
       "25%           NaN           NaN       3.400000e+05        NaN          NaN   \n",
       "50%           NaN           NaN       2.000000e+06        NaN          NaN   \n",
       "75%           NaN           NaN       1.000000e+07        NaN          NaN   \n",
       "max           NaN           NaN       3.007950e+10        NaN          NaN   \n",
       "\n",
       "       state_code       region           city  funding_rounds  founded_at  \\\n",
       "count       46082        46489          46489    52879.000000       52879   \n",
       "unique        300         1037           4524             NaN        5536   \n",
       "top            CA  SF Bay Area  San Francisco             NaN  2012-01-01   \n",
       "freq        10258         6988           2831             NaN        2176   \n",
       "mean          NaN          NaN            NaN        1.738270         NaN   \n",
       "std           NaN          NaN            NaN        1.371993         NaN   \n",
       "min           NaN          NaN            NaN        1.000000         NaN   \n",
       "25%           NaN          NaN            NaN        1.000000         NaN   \n",
       "50%           NaN          NaN            NaN        1.000000         NaN   \n",
       "75%           NaN          NaN            NaN        2.000000         NaN   \n",
       "max           NaN          NaN            NaN       19.000000         NaN   \n",
       "\n",
       "       first_funding_at last_funding_at   closed_at  \n",
       "count             52858           52879        4962  \n",
       "unique             4618            4322        3064  \n",
       "top          2013-01-01      2014-01-01  2015-05-29  \n",
       "freq                450             369           7  \n",
       "mean                NaN             NaN         NaN  \n",
       "std                 NaN             NaN         NaN  \n",
       "min                 NaN             NaN         NaN  \n",
       "25%                 NaN             NaN         NaN  \n",
       "50%                 NaN             NaN         NaN  \n",
       "75%                 NaN             NaN         NaN  \n",
       "max                 NaN             NaN         NaN  "
      ]
     },
     "metadata": {},
     "output_type": "display_data"
    },
    {
     "data": {
      "text/plain": [
       "name                     1\n",
       "category_list         2505\n",
       "funding_total_usd    10126\n",
       "status                   0\n",
       "country_code          5528\n",
       "state_code            6797\n",
       "region                6390\n",
       "city                  6390\n",
       "funding_rounds           0\n",
       "founded_at               0\n",
       "first_funding_at        21\n",
       "last_funding_at          0\n",
       "closed_at            47917\n",
       "dtype: int64"
      ]
     },
     "metadata": {},
     "output_type": "display_data"
    },
    {
     "data": {
      "text/plain": [
       "0"
      ]
     },
     "metadata": {},
     "output_type": "display_data"
    },
    {
     "data": {
      "image/png": "[encoded data removed]",
      "text/plain": [
       "<Figure size 1000x1000 with 2 Axes>"
      ]
     },
     "metadata": {},
     "output_type": "display_data"
    }
   ],
   "source": [
    "get_info(data_train)"
   ]
  },
  {
   "cell_type": "code",
   "execution_count": 151,
   "id": "cebf8508",
   "metadata": {
    "scrolled": true
   },
   "outputs": [
    {
     "data": {
      "text/html": [
       "<div>\n",
       "<style scoped>\n",
       "    .dataframe tbody tr th:only-of-type {\n",
       "        vertical-align: middle;\n",
       "    }\n",
       "\n",
       "    .dataframe tbody tr th {\n",
       "        vertical-align: top;\n",
       "    }\n",
       "\n",
       "    .dataframe thead th {\n",
       "        text-align: right;\n",
       "    }\n",
       "</style>\n",
       "<table border=\"1\" class=\"dataframe\">\n",
       "  <thead>\n",
       "    <tr style=\"text-align: right;\">\n",
       "      <th></th>\n",
       "      <th>name</th>\n",
       "      <th>category_list</th>\n",
       "      <th>funding_total_usd</th>\n",
       "      <th>country_code</th>\n",
       "      <th>state_code</th>\n",
       "      <th>region</th>\n",
       "      <th>city</th>\n",
       "      <th>funding_rounds</th>\n",
       "      <th>founded_at</th>\n",
       "      <th>first_funding_at</th>\n",
       "      <th>last_funding_at</th>\n",
       "      <th>closed_at</th>\n",
       "    </tr>\n",
       "  </thead>\n",
       "  <tbody>\n",
       "    <tr>\n",
       "      <th>904</th>\n",
       "      <td>Global Yodel</td>\n",
       "      <td>Media</td>\n",
       "      <td>50000.0</td>\n",
       "      <td>USA</td>\n",
       "      <td>WA</td>\n",
       "      <td>WA - Other</td>\n",
       "      <td>Anacortes</td>\n",
       "      <td>1</td>\n",
       "      <td>2013-11-08</td>\n",
       "      <td>2014-09-10</td>\n",
       "      <td>2014-09-10</td>\n",
       "      <td>NaN</td>\n",
       "    </tr>\n",
       "    <tr>\n",
       "      <th>12078</th>\n",
       "      <td>Good.Co</td>\n",
       "      <td>Analytics|Big Data|Human Resources|Networking|Psychology|Recruiting|Social Media</td>\n",
       "      <td>2318000.0</td>\n",
       "      <td>USA</td>\n",
       "      <td>CA</td>\n",
       "      <td>SF Bay Area</td>\n",
       "      <td>San Francisco</td>\n",
       "      <td>3</td>\n",
       "      <td>2013-01-01</td>\n",
       "      <td>2012-12-20</td>\n",
       "      <td>2014-05-01</td>\n",
       "      <td>NaN</td>\n",
       "    </tr>\n",
       "    <tr>\n",
       "      <th>11181</th>\n",
       "      <td>BorderJump</td>\n",
       "      <td>E-Commerce</td>\n",
       "      <td>735000.0</td>\n",
       "      <td>USA</td>\n",
       "      <td>TN</td>\n",
       "      <td>Nashville</td>\n",
       "      <td>Nashville</td>\n",
       "      <td>5</td>\n",
       "      <td>2008-01-01</td>\n",
       "      <td>2012-06-01</td>\n",
       "      <td>2014-02-12</td>\n",
       "      <td>NaN</td>\n",
       "    </tr>\n",
       "    <tr>\n",
       "      <th>3801</th>\n",
       "      <td>Sherpa Digital Media</td>\n",
       "      <td>Business Analytics|Digital Media|Enterprise Software|Marketing Automation|Predictive Analytics|Video on Demand|Video Streaming</td>\n",
       "      <td>NaN</td>\n",
       "      <td>USA</td>\n",
       "      <td>CA</td>\n",
       "      <td>SF Bay Area</td>\n",
       "      <td>Redwood City</td>\n",
       "      <td>2</td>\n",
       "      <td>2011-07-01</td>\n",
       "      <td>2013-12-19</td>\n",
       "      <td>2015-08-07</td>\n",
       "      <td>NaN</td>\n",
       "    </tr>\n",
       "    <tr>\n",
       "      <th>12682</th>\n",
       "      <td>Flextown</td>\n",
       "      <td>Software</td>\n",
       "      <td>185000.0</td>\n",
       "      <td>DNK</td>\n",
       "      <td>17</td>\n",
       "      <td>Copenhagen</td>\n",
       "      <td>Copenhagen</td>\n",
       "      <td>1</td>\n",
       "      <td>2012-03-01</td>\n",
       "      <td>2014-01-14</td>\n",
       "      <td>2014-01-14</td>\n",
       "      <td>NaN</td>\n",
       "    </tr>\n",
       "    <tr>\n",
       "      <th>5342</th>\n",
       "      <td>DataOceans</td>\n",
       "      <td>Software</td>\n",
       "      <td>1276900.0</td>\n",
       "      <td>USA</td>\n",
       "      <td>GA</td>\n",
       "      <td>Atlanta</td>\n",
       "      <td>Norcross</td>\n",
       "      <td>1</td>\n",
       "      <td>2005-01-01</td>\n",
       "      <td>2014-12-04</td>\n",
       "      <td>2014-12-04</td>\n",
       "      <td>NaN</td>\n",
       "    </tr>\n",
       "    <tr>\n",
       "      <th>7124</th>\n",
       "      <td>Sitrion</td>\n",
       "      <td>Collaboration|Enterprise Software|Mobile|Mobile Enterprise|Mobile Infrastructure|Mobility|Social Business</td>\n",
       "      <td>59838411.0</td>\n",
       "      <td>NaN</td>\n",
       "      <td>NaN</td>\n",
       "      <td>NaN</td>\n",
       "      <td>NaN</td>\n",
       "      <td>12</td>\n",
       "      <td>2004-01-01</td>\n",
       "      <td>2004-06-23</td>\n",
       "      <td>2014-07-07</td>\n",
       "      <td>NaN</td>\n",
       "    </tr>\n",
       "    <tr>\n",
       "      <th>10671</th>\n",
       "      <td>Sadbhav Infrastructure Projects</td>\n",
       "      <td>Real Estate</td>\n",
       "      <td>31000000.0</td>\n",
       "      <td>IND</td>\n",
       "      <td>9</td>\n",
       "      <td>Ahmedabad</td>\n",
       "      <td>Ahmedabad</td>\n",
       "      <td>1</td>\n",
       "      <td>1988-01-01</td>\n",
       "      <td>2015-08-31</td>\n",
       "      <td>2015-08-31</td>\n",
       "      <td>NaN</td>\n",
       "    </tr>\n",
       "    <tr>\n",
       "      <th>1923</th>\n",
       "      <td>Palladium Life Sciences</td>\n",
       "      <td>Biotechnology</td>\n",
       "      <td>1800000.0</td>\n",
       "      <td>USA</td>\n",
       "      <td>IL</td>\n",
       "      <td>Chicago</td>\n",
       "      <td>Chicago</td>\n",
       "      <td>1</td>\n",
       "      <td>2013-01-01</td>\n",
       "      <td>2013-07-10</td>\n",
       "      <td>2013-07-10</td>\n",
       "      <td>NaN</td>\n",
       "    </tr>\n",
       "    <tr>\n",
       "      <th>4187</th>\n",
       "      <td>Pose</td>\n",
       "      <td>CRM|Enterprises|Internet|Local Businesses|Point of Sale|Retail|SaaS|Small and Medium Businesses|Web Development</td>\n",
       "      <td>1750000.0</td>\n",
       "      <td>ISR</td>\n",
       "      <td>5</td>\n",
       "      <td>Tel Aviv</td>\n",
       "      <td>Tel Aviv</td>\n",
       "      <td>1</td>\n",
       "      <td>2011-04-01</td>\n",
       "      <td>2011-07-07</td>\n",
       "      <td>2011-07-07</td>\n",
       "      <td>NaN</td>\n",
       "    </tr>\n",
       "  </tbody>\n",
       "</table>\n",
       "</div>"
      ],
      "text/plain": [
       "                                  name  \\\n",
       "904                       Global Yodel   \n",
       "12078                          Good.Co   \n",
       "11181                       BorderJump   \n",
       "3801              Sherpa Digital Media   \n",
       "12682                         Flextown   \n",
       "5342                        DataOceans   \n",
       "7124                           Sitrion   \n",
       "10671  Sadbhav Infrastructure Projects   \n",
       "1923           Palladium Life Sciences   \n",
       "4187                              Pose   \n",
       "\n",
       "                                                                                                                        category_list  \\\n",
       "904                                                                                                                             Media   \n",
       "12078                                                Analytics|Big Data|Human Resources|Networking|Psychology|Recruiting|Social Media   \n",
       "11181                                                                                                                      E-Commerce   \n",
       "3801   Business Analytics|Digital Media|Enterprise Software|Marketing Automation|Predictive Analytics|Video on Demand|Video Streaming   \n",
       "12682                                                                                                                        Software   \n",
       "5342                                                                                                                         Software   \n",
       "7124                        Collaboration|Enterprise Software|Mobile|Mobile Enterprise|Mobile Infrastructure|Mobility|Social Business   \n",
       "10671                                                                                                                     Real Estate   \n",
       "1923                                                                                                                    Biotechnology   \n",
       "4187                  CRM|Enterprises|Internet|Local Businesses|Point of Sale|Retail|SaaS|Small and Medium Businesses|Web Development   \n",
       "\n",
       "       funding_total_usd country_code state_code       region           city  \\\n",
       "904              50000.0          USA         WA   WA - Other      Anacortes   \n",
       "12078          2318000.0          USA         CA  SF Bay Area  San Francisco   \n",
       "11181           735000.0          USA         TN    Nashville      Nashville   \n",
       "3801                 NaN          USA         CA  SF Bay Area   Redwood City   \n",
       "12682           185000.0          DNK         17   Copenhagen     Copenhagen   \n",
       "5342           1276900.0          USA         GA      Atlanta       Norcross   \n",
       "7124          59838411.0          NaN        NaN          NaN            NaN   \n",
       "10671         31000000.0          IND          9    Ahmedabad      Ahmedabad   \n",
       "1923           1800000.0          USA         IL      Chicago        Chicago   \n",
       "4187           1750000.0          ISR          5     Tel Aviv       Tel Aviv   \n",
       "\n",
       "       funding_rounds  founded_at first_funding_at last_funding_at closed_at  \n",
       "904                 1  2013-11-08       2014-09-10      2014-09-10       NaN  \n",
       "12078               3  2013-01-01       2012-12-20      2014-05-01       NaN  \n",
       "11181               5  2008-01-01       2012-06-01      2014-02-12       NaN  \n",
       "3801                2  2011-07-01       2013-12-19      2015-08-07       NaN  \n",
       "12682               1  2012-03-01       2014-01-14      2014-01-14       NaN  \n",
       "5342                1  2005-01-01       2014-12-04      2014-12-04       NaN  \n",
       "7124               12  2004-01-01       2004-06-23      2014-07-07       NaN  \n",
       "10671               1  1988-01-01       2015-08-31      2015-08-31       NaN  \n",
       "1923                1  2013-01-01       2013-07-10      2013-07-10       NaN  \n",
       "4187                1  2011-04-01       2011-07-07      2011-07-07       NaN  "
      ]
     },
     "metadata": {},
     "output_type": "display_data"
    },
    {
     "name": "stdout",
     "output_type": "stream",
     "text": [
      "<class 'pandas.core.frame.DataFrame'>\n",
      "RangeIndex: 13211 entries, 0 to 13210\n",
      "Data columns (total 12 columns):\n",
      " #   Column             Non-Null Count  Dtype  \n",
      "---  ------             --------------  -----  \n",
      " 0   name               13211 non-null  object \n",
      " 1   category_list      12610 non-null  object \n",
      " 2   funding_total_usd  10616 non-null  float64\n",
      " 3   country_code       11827 non-null  object \n",
      " 4   state_code         11512 non-null  object \n",
      " 5   region             11618 non-null  object \n",
      " 6   city               11620 non-null  object \n",
      " 7   funding_rounds     13211 non-null  int64  \n",
      " 8   founded_at         13211 non-null  object \n",
      " 9   first_funding_at   13211 non-null  object \n",
      " 10  last_funding_at    13211 non-null  object \n",
      " 11  closed_at          1234 non-null   object \n",
      "dtypes: float64(1), int64(1), object(10)\n",
      "memory usage: 1.2+ MB\n"
     ]
    },
    {
     "data": {
      "text/plain": [
       "None"
      ]
     },
     "metadata": {},
     "output_type": "display_data"
    },
    {
     "data": {
      "text/html": [
       "<div>\n",
       "<style scoped>\n",
       "    .dataframe tbody tr th:only-of-type {\n",
       "        vertical-align: middle;\n",
       "    }\n",
       "\n",
       "    .dataframe tbody tr th {\n",
       "        vertical-align: top;\n",
       "    }\n",
       "\n",
       "    .dataframe thead th {\n",
       "        text-align: right;\n",
       "    }\n",
       "</style>\n",
       "<table border=\"1\" class=\"dataframe\">\n",
       "  <thead>\n",
       "    <tr style=\"text-align: right;\">\n",
       "      <th></th>\n",
       "      <th>name</th>\n",
       "      <th>category_list</th>\n",
       "      <th>funding_total_usd</th>\n",
       "      <th>country_code</th>\n",
       "      <th>state_code</th>\n",
       "      <th>region</th>\n",
       "      <th>city</th>\n",
       "      <th>funding_rounds</th>\n",
       "      <th>founded_at</th>\n",
       "      <th>first_funding_at</th>\n",
       "      <th>last_funding_at</th>\n",
       "      <th>closed_at</th>\n",
       "    </tr>\n",
       "  </thead>\n",
       "  <tbody>\n",
       "    <tr>\n",
       "      <th>count</th>\n",
       "      <td>13211</td>\n",
       "      <td>12610</td>\n",
       "      <td>1.061600e+04</td>\n",
       "      <td>11827</td>\n",
       "      <td>11512</td>\n",
       "      <td>11618</td>\n",
       "      <td>11620</td>\n",
       "      <td>13211.000000</td>\n",
       "      <td>13211</td>\n",
       "      <td>13211</td>\n",
       "      <td>13211</td>\n",
       "      <td>1234</td>\n",
       "    </tr>\n",
       "    <tr>\n",
       "      <th>unique</th>\n",
       "      <td>13211</td>\n",
       "      <td>6220</td>\n",
       "      <td>NaN</td>\n",
       "      <td>96</td>\n",
       "      <td>235</td>\n",
       "      <td>691</td>\n",
       "      <td>2135</td>\n",
       "      <td>NaN</td>\n",
       "      <td>3232</td>\n",
       "      <td>3305</td>\n",
       "      <td>3027</td>\n",
       "      <td>1088</td>\n",
       "    </tr>\n",
       "    <tr>\n",
       "      <th>top</th>\n",
       "      <td>Crystalsol</td>\n",
       "      <td>Software</td>\n",
       "      <td>NaN</td>\n",
       "      <td>USA</td>\n",
       "      <td>CA</td>\n",
       "      <td>SF Bay Area</td>\n",
       "      <td>San Francisco</td>\n",
       "      <td>NaN</td>\n",
       "      <td>2012-01-01</td>\n",
       "      <td>2014-01-01</td>\n",
       "      <td>2014-01-01</td>\n",
       "      <td>2016-10-18</td>\n",
       "    </tr>\n",
       "    <tr>\n",
       "      <th>freq</th>\n",
       "      <td>1</td>\n",
       "      <td>775</td>\n",
       "      <td>NaN</td>\n",
       "      <td>7494</td>\n",
       "      <td>2565</td>\n",
       "      <td>1756</td>\n",
       "      <td>657</td>\n",
       "      <td>NaN</td>\n",
       "      <td>550</td>\n",
       "      <td>126</td>\n",
       "      <td>111</td>\n",
       "      <td>4</td>\n",
       "    </tr>\n",
       "    <tr>\n",
       "      <th>mean</th>\n",
       "      <td>NaN</td>\n",
       "      <td>NaN</td>\n",
       "      <td>1.683966e+07</td>\n",
       "      <td>NaN</td>\n",
       "      <td>NaN</td>\n",
       "      <td>NaN</td>\n",
       "      <td>NaN</td>\n",
       "      <td>1.712058</td>\n",
       "      <td>NaN</td>\n",
       "      <td>NaN</td>\n",
       "      <td>NaN</td>\n",
       "      <td>NaN</td>\n",
       "    </tr>\n",
       "    <tr>\n",
       "      <th>std</th>\n",
       "      <td>NaN</td>\n",
       "      <td>NaN</td>\n",
       "      <td>9.283283e+07</td>\n",
       "      <td>NaN</td>\n",
       "      <td>NaN</td>\n",
       "      <td>NaN</td>\n",
       "      <td>NaN</td>\n",
       "      <td>1.316542</td>\n",
       "      <td>NaN</td>\n",
       "      <td>NaN</td>\n",
       "      <td>NaN</td>\n",
       "      <td>NaN</td>\n",
       "    </tr>\n",
       "    <tr>\n",
       "      <th>min</th>\n",
       "      <td>NaN</td>\n",
       "      <td>NaN</td>\n",
       "      <td>1.000000e+00</td>\n",
       "      <td>NaN</td>\n",
       "      <td>NaN</td>\n",
       "      <td>NaN</td>\n",
       "      <td>NaN</td>\n",
       "      <td>1.000000</td>\n",
       "      <td>NaN</td>\n",
       "      <td>NaN</td>\n",
       "      <td>NaN</td>\n",
       "      <td>NaN</td>\n",
       "    </tr>\n",
       "    <tr>\n",
       "      <th>25%</th>\n",
       "      <td>NaN</td>\n",
       "      <td>NaN</td>\n",
       "      <td>3.250000e+05</td>\n",
       "      <td>NaN</td>\n",
       "      <td>NaN</td>\n",
       "      <td>NaN</td>\n",
       "      <td>NaN</td>\n",
       "      <td>1.000000</td>\n",
       "      <td>NaN</td>\n",
       "      <td>NaN</td>\n",
       "      <td>NaN</td>\n",
       "      <td>NaN</td>\n",
       "    </tr>\n",
       "    <tr>\n",
       "      <th>50%</th>\n",
       "      <td>NaN</td>\n",
       "      <td>NaN</td>\n",
       "      <td>2.000000e+06</td>\n",
       "      <td>NaN</td>\n",
       "      <td>NaN</td>\n",
       "      <td>NaN</td>\n",
       "      <td>NaN</td>\n",
       "      <td>1.000000</td>\n",
       "      <td>NaN</td>\n",
       "      <td>NaN</td>\n",
       "      <td>NaN</td>\n",
       "      <td>NaN</td>\n",
       "    </tr>\n",
       "    <tr>\n",
       "      <th>75%</th>\n",
       "      <td>NaN</td>\n",
       "      <td>NaN</td>\n",
       "      <td>1.000000e+07</td>\n",
       "      <td>NaN</td>\n",
       "      <td>NaN</td>\n",
       "      <td>NaN</td>\n",
       "      <td>NaN</td>\n",
       "      <td>2.000000</td>\n",
       "      <td>NaN</td>\n",
       "      <td>NaN</td>\n",
       "      <td>NaN</td>\n",
       "      <td>NaN</td>\n",
       "    </tr>\n",
       "    <tr>\n",
       "      <th>max</th>\n",
       "      <td>NaN</td>\n",
       "      <td>NaN</td>\n",
       "      <td>4.715000e+09</td>\n",
       "      <td>NaN</td>\n",
       "      <td>NaN</td>\n",
       "      <td>NaN</td>\n",
       "      <td>NaN</td>\n",
       "      <td>15.000000</td>\n",
       "      <td>NaN</td>\n",
       "      <td>NaN</td>\n",
       "      <td>NaN</td>\n",
       "      <td>NaN</td>\n",
       "    </tr>\n",
       "  </tbody>\n",
       "</table>\n",
       "</div>"
      ],
      "text/plain": [
       "              name category_list  funding_total_usd country_code state_code  \\\n",
       "count        13211         12610       1.061600e+04        11827      11512   \n",
       "unique       13211          6220                NaN           96        235   \n",
       "top     Crystalsol      Software                NaN          USA         CA   \n",
       "freq             1           775                NaN         7494       2565   \n",
       "mean           NaN           NaN       1.683966e+07          NaN        NaN   \n",
       "std            NaN           NaN       9.283283e+07          NaN        NaN   \n",
       "min            NaN           NaN       1.000000e+00          NaN        NaN   \n",
       "25%            NaN           NaN       3.250000e+05          NaN        NaN   \n",
       "50%            NaN           NaN       2.000000e+06          NaN        NaN   \n",
       "75%            NaN           NaN       1.000000e+07          NaN        NaN   \n",
       "max            NaN           NaN       4.715000e+09          NaN        NaN   \n",
       "\n",
       "             region           city  funding_rounds  founded_at  \\\n",
       "count         11618          11620    13211.000000       13211   \n",
       "unique          691           2135             NaN        3232   \n",
       "top     SF Bay Area  San Francisco             NaN  2012-01-01   \n",
       "freq           1756            657             NaN         550   \n",
       "mean            NaN            NaN        1.712058         NaN   \n",
       "std             NaN            NaN        1.316542         NaN   \n",
       "min             NaN            NaN        1.000000         NaN   \n",
       "25%             NaN            NaN        1.000000         NaN   \n",
       "50%             NaN            NaN        1.000000         NaN   \n",
       "75%             NaN            NaN        2.000000         NaN   \n",
       "max             NaN            NaN       15.000000         NaN   \n",
       "\n",
       "       first_funding_at last_funding_at   closed_at  \n",
       "count             13211           13211        1234  \n",
       "unique             3305            3027        1088  \n",
       "top          2014-01-01      2014-01-01  2016-10-18  \n",
       "freq                126             111           4  \n",
       "mean                NaN             NaN         NaN  \n",
       "std                 NaN             NaN         NaN  \n",
       "min                 NaN             NaN         NaN  \n",
       "25%                 NaN             NaN         NaN  \n",
       "50%                 NaN             NaN         NaN  \n",
       "75%                 NaN             NaN         NaN  \n",
       "max                 NaN             NaN         NaN  "
      ]
     },
     "metadata": {},
     "output_type": "display_data"
    },
    {
     "data": {
      "text/plain": [
       "name                     0\n",
       "category_list          601\n",
       "funding_total_usd     2595\n",
       "country_code          1384\n",
       "state_code            1699\n",
       "region                1593\n",
       "city                  1591\n",
       "funding_rounds           0\n",
       "founded_at               0\n",
       "first_funding_at         0\n",
       "last_funding_at          0\n",
       "closed_at            11977\n",
       "dtype: int64"
      ]
     },
     "metadata": {},
     "output_type": "display_data"
    },
    {
     "data": {
      "text/plain": [
       "0"
      ]
     },
     "metadata": {},
     "output_type": "display_data"
    },
    {
     "data": {
      "image/png": "[encoded data removed]",
      "text/plain": [
       "<Figure size 1000x1000 with 2 Axes>"
      ]
     },
     "metadata": {},
     "output_type": "display_data"
    }
   ],
   "source": [
    "get_info(data_test)"
   ]
  },
  {
   "cell_type": "markdown",
   "id": "9787aa76",
   "metadata": {},
   "source": [
    "1. Данные успешно загружены.\n",
    "\n",
    "2. Есть несоответствия в типах данных связанных с датами.\n",
    "\n",
    "3. Присутствует большое количество пропущенных значений: name - 1, category_list - 2505, funding_total_usd - 10126, country_code - 5528, state_code - 6797, region - 6390, city - 6390, first_funding_at - 21, closed_at - 47917.\n"
   ]
  },
  {
   "cell_type": "markdown",
   "id": "c76304a7",
   "metadata": {},
   "source": [
    "## Предабработка данных"
   ]
  },
  {
   "cell_type": "markdown",
   "id": "6b6f8935",
   "metadata": {},
   "source": [
    "Преобразуем типы данных"
   ]
  },
  {
   "cell_type": "code",
   "execution_count": 152,
   "id": "51b978ef",
   "metadata": {},
   "outputs": [],
   "source": [
    "columns = ['founded_at', 'first_funding_at', 'last_funding_at', 'closed_at']\n",
    "\n",
    "for i in columns:\n",
    "    data_train[i] = pd.to_datetime(data_train[i], format='%Y-%m-%d')\n",
    "    data_test[i] = pd.to_datetime(data_test[i], format='%Y-%m-%d')"
   ]
  },
  {
   "cell_type": "code",
   "execution_count": 153,
   "id": "94c482d7",
   "metadata": {},
   "outputs": [
    {
     "name": "stdout",
     "output_type": "stream",
     "text": [
      "<class 'pandas.core.frame.DataFrame'>\n",
      "RangeIndex: 52879 entries, 0 to 52878\n",
      "Data columns (total 13 columns):\n",
      " #   Column             Non-Null Count  Dtype         \n",
      "---  ------             --------------  -----         \n",
      " 0   name               52878 non-null  object        \n",
      " 1   category_list      50374 non-null  object        \n",
      " 2   funding_total_usd  42753 non-null  float64       \n",
      " 3   status             52879 non-null  object        \n",
      " 4   country_code       47351 non-null  object        \n",
      " 5   state_code         46082 non-null  object        \n",
      " 6   region             46489 non-null  object        \n",
      " 7   city               46489 non-null  object        \n",
      " 8   funding_rounds     52879 non-null  int64         \n",
      " 9   founded_at         52879 non-null  datetime64[ns]\n",
      " 10  first_funding_at   52858 non-null  datetime64[ns]\n",
      " 11  last_funding_at    52879 non-null  datetime64[ns]\n",
      " 12  closed_at          4962 non-null   datetime64[ns]\n",
      "dtypes: datetime64[ns](4), float64(1), int64(1), object(7)\n",
      "memory usage: 5.2+ MB\n"
     ]
    }
   ],
   "source": [
    "data_train.info()"
   ]
  },
  {
   "cell_type": "markdown",
   "id": "b5c65405",
   "metadata": {},
   "source": [
    "Приведем данные типа `object` к единому регистру и уберем пробелы в начале и конце строк если они имеются. Столбец `name` не будем трогать, так как заглавные буквы и пробелы, могут быть отличительной чертой названия компании."
   ]
  },
  {
   "cell_type": "code",
   "execution_count": 154,
   "id": "0b0d0ce9",
   "metadata": {},
   "outputs": [
    {
     "data": {
      "text/plain": [
       "array(['operating', 'closed'], dtype=object)"
      ]
     },
     "execution_count": 154,
     "metadata": {},
     "output_type": "execute_result"
    }
   ],
   "source": [
    "data_train['status'].unique()"
   ]
  },
  {
   "cell_type": "code",
   "execution_count": 155,
   "id": "fe128227",
   "metadata": {},
   "outputs": [],
   "source": [
    "columns = ['category_list', 'country_code', 'state_code', 'region', 'city']\n",
    "\n",
    "for col in columns:\n",
    "    data_train[col] = data_train[col].str.lower()\n",
    "    data_test[col] = data_test[col].str.lower()\n",
    "    data_train[col] = data_train[col].str.strip()\n",
    "    data_test[col] = data_test[col].str.strip()"
   ]
  },
  {
   "cell_type": "markdown",
   "id": "34448a55",
   "metadata": {},
   "source": [
    "Заполним пропущенные значения в столбце `funding_total_usd` используя SimpleImputer(strategy='median')"
   ]
  },
  {
   "cell_type": "code",
   "execution_count": 156,
   "id": "115b83ef",
   "metadata": {},
   "outputs": [],
   "source": [
    "imputer = SimpleImputer(strategy='median')\n",
    "\n",
    "data_train['funding_total_usd'] = imputer.fit_transform(data_train[['funding_total_usd']])\n",
    "data_test['funding_total_usd'] = imputer.transform(data_test[['funding_total_usd']])"
   ]
  },
  {
   "cell_type": "code",
   "execution_count": 157,
   "id": "4260359f",
   "metadata": {},
   "outputs": [
    {
     "data": {
      "text/plain": [
       "name                     1\n",
       "category_list         2505\n",
       "funding_total_usd        0\n",
       "status                   0\n",
       "country_code          5528\n",
       "state_code            6797\n",
       "region                6390\n",
       "city                  6390\n",
       "funding_rounds           0\n",
       "founded_at               0\n",
       "first_funding_at        21\n",
       "last_funding_at          0\n",
       "closed_at            47917\n",
       "dtype: int64"
      ]
     },
     "execution_count": 157,
     "metadata": {},
     "output_type": "execute_result"
    }
   ],
   "source": [
    "data_train.isna().sum()"
   ]
  },
  {
   "cell_type": "code",
   "execution_count": 158,
   "id": "0e5abf1d",
   "metadata": {},
   "outputs": [
    {
     "data": {
      "text/plain": [
       "name                     0\n",
       "category_list          601\n",
       "funding_total_usd        0\n",
       "country_code          1384\n",
       "state_code            1699\n",
       "region                1593\n",
       "city                  1591\n",
       "funding_rounds           0\n",
       "founded_at               0\n",
       "first_funding_at         0\n",
       "last_funding_at          0\n",
       "closed_at            11977\n",
       "dtype: int64"
      ]
     },
     "execution_count": 158,
     "metadata": {},
     "output_type": "execute_result"
    }
   ],
   "source": [
    "data_test.isna().sum()"
   ]
  },
  {
   "cell_type": "markdown",
   "id": "fbb70b42",
   "metadata": {},
   "source": [
    "Удалим строку с пропущенным значением в `name`"
   ]
  },
  {
   "cell_type": "code",
   "execution_count": 159,
   "id": "6aa81298",
   "metadata": {},
   "outputs": [],
   "source": [
    "data_train = data_train.dropna(subset=['name'])"
   ]
  },
  {
   "cell_type": "code",
   "execution_count": 160,
   "id": "99360475",
   "metadata": {},
   "outputs": [
    {
     "data": {
      "text/plain": [
       "name                     0\n",
       "category_list         2505\n",
       "funding_total_usd        0\n",
       "status                   0\n",
       "country_code          5528\n",
       "state_code            6797\n",
       "region                6390\n",
       "city                  6390\n",
       "funding_rounds           0\n",
       "founded_at               0\n",
       "first_funding_at        21\n",
       "last_funding_at          0\n",
       "closed_at            47917\n",
       "dtype: int64"
      ]
     },
     "execution_count": 160,
     "metadata": {},
     "output_type": "execute_result"
    }
   ],
   "source": [
    "data_train.isna().sum()"
   ]
  },
  {
   "cell_type": "markdown",
   "id": "81fe5ae9",
   "metadata": {},
   "source": [
    "\n",
    "Обработка пропусков в `'category_list'`, `country_code`, `state_code`, `region`, `city`.\\\n",
    "\\\n",
    "Поскольку пропуски по этим столбцам представляют в средней 12% данных, простое удаление строк может привести к потере большого количества информации.\\\n",
    "Заполним пропуски наиболее часто встречающимися значениями."
   ]
  },
  {
   "cell_type": "code",
   "execution_count": 161,
   "id": "46b4f7ed",
   "metadata": {},
   "outputs": [],
   "source": [
    "imputer_category = SimpleImputer(strategy = 'most_frequent')\n",
    "\n",
    "columns = ['category_list', 'country_code', 'state_code', 'region', 'city']\n",
    "\n",
    "for col in columns:\n",
    "    data_train[col] = imputer_category.fit_transform(data_train[[col]]).squeeze()\n",
    "    data_test[col] = imputer_category.transform(data_test[[col]]).squeeze()"
   ]
  },
  {
   "cell_type": "code",
   "execution_count": 162,
   "id": "c61e4118",
   "metadata": {},
   "outputs": [
    {
     "data": {
      "text/plain": [
       "name                     0\n",
       "category_list            0\n",
       "funding_total_usd        0\n",
       "status                   0\n",
       "country_code             0\n",
       "state_code               0\n",
       "region                   0\n",
       "city                     0\n",
       "funding_rounds           0\n",
       "founded_at               0\n",
       "first_funding_at        21\n",
       "last_funding_at          0\n",
       "closed_at            47917\n",
       "dtype: int64"
      ]
     },
     "execution_count": 162,
     "metadata": {},
     "output_type": "execute_result"
    }
   ],
   "source": [
    "data_train.isna().sum()"
   ]
  },
  {
   "cell_type": "code",
   "execution_count": 163,
   "id": "fb2b4c04",
   "metadata": {},
   "outputs": [
    {
     "data": {
      "text/plain": [
       "name                     0\n",
       "category_list            0\n",
       "funding_total_usd        0\n",
       "country_code             0\n",
       "state_code               0\n",
       "region                   0\n",
       "city                     0\n",
       "funding_rounds           0\n",
       "founded_at               0\n",
       "first_funding_at         0\n",
       "last_funding_at          0\n",
       "closed_at            11977\n",
       "dtype: int64"
      ]
     },
     "execution_count": 163,
     "metadata": {},
     "output_type": "execute_result"
    }
   ],
   "source": [
    "data_test.isna().sum()"
   ]
  },
  {
   "cell_type": "markdown",
   "id": "e4c5aed2",
   "metadata": {},
   "source": [
    "Заполним пропуски в `first_funding_at` значением founded_at + 1 день. (Изначально я хотела  заполнять пропуски медианным значением от того сколько времени прошло с даты основания до даты первого раунда, но такой метод не подходит, так как способствует появлению аномалий в данных.)"
   ]
  },
  {
   "cell_type": "code",
   "execution_count": 164,
   "id": "2280e5ad",
   "metadata": {},
   "outputs": [],
   "source": [
    "data_train['first_funding_at'].fillna(data_train['founded_at'] + pd.Timedelta(days=1), inplace=True)"
   ]
  },
  {
   "cell_type": "code",
   "execution_count": 165,
   "id": "da6736e5",
   "metadata": {},
   "outputs": [
    {
     "data": {
      "text/plain": [
       "name                     0\n",
       "category_list            0\n",
       "funding_total_usd        0\n",
       "status                   0\n",
       "country_code             0\n",
       "state_code               0\n",
       "region                   0\n",
       "city                     0\n",
       "funding_rounds           0\n",
       "founded_at               0\n",
       "first_funding_at         0\n",
       "last_funding_at          0\n",
       "closed_at            47917\n",
       "dtype: int64"
      ]
     },
     "execution_count": 165,
     "metadata": {},
     "output_type": "execute_result"
    }
   ],
   "source": [
    "data_train.isna().sum()"
   ]
  },
  {
   "cell_type": "markdown",
   "id": "7258334e",
   "metadata": {},
   "source": [
    "Заполним пропуски в `closed_at` датой выгрузки файлов."
   ]
  },
  {
   "cell_type": "code",
   "execution_count": 166,
   "id": "92c0d2ee",
   "metadata": {},
   "outputs": [],
   "source": [
    "data_train['closed_at'] = data_train['closed_at'].fillna(pd.to_datetime('2018-01-01'))\n",
    "data_test['closed_at'] = data_test['closed_at'].fillna(pd.to_datetime('2018-01-01'))"
   ]
  },
  {
   "cell_type": "code",
   "execution_count": 167,
   "id": "1338e631",
   "metadata": {},
   "outputs": [
    {
     "data": {
      "text/plain": [
       "name                 0\n",
       "category_list        0\n",
       "funding_total_usd    0\n",
       "status               0\n",
       "country_code         0\n",
       "state_code           0\n",
       "region               0\n",
       "city                 0\n",
       "funding_rounds       0\n",
       "founded_at           0\n",
       "first_funding_at     0\n",
       "last_funding_at      0\n",
       "closed_at            0\n",
       "dtype: int64"
      ]
     },
     "execution_count": 167,
     "metadata": {},
     "output_type": "execute_result"
    }
   ],
   "source": [
    "data_train.isna().sum()"
   ]
  },
  {
   "cell_type": "code",
   "execution_count": 168,
   "id": "73119bb7",
   "metadata": {},
   "outputs": [
    {
     "data": {
      "text/plain": [
       "name                 0\n",
       "category_list        0\n",
       "funding_total_usd    0\n",
       "country_code         0\n",
       "state_code           0\n",
       "region               0\n",
       "city                 0\n",
       "funding_rounds       0\n",
       "founded_at           0\n",
       "first_funding_at     0\n",
       "last_funding_at      0\n",
       "closed_at            0\n",
       "dtype: int64"
      ]
     },
     "execution_count": 168,
     "metadata": {},
     "output_type": "execute_result"
    }
   ],
   "source": [
    "data_test.isna().sum()"
   ]
  },
  {
   "cell_type": "markdown",
   "id": "2acf5c7a",
   "metadata": {},
   "source": [
    "Вывод:\\\n",
    " Преобразовали столбцы с датами в формат `datetime`.\\\n",
    " Привели данные типа `object` к единому регистру.\\\n",
    " Были заполнены пропущенные значения в столбцах:\n",
    " - `name`\n",
    " - `funding_total_usd`\n",
    " - `category_list`\n",
    " - `country_code`\n",
    " - `state_code`\n",
    " - `region`\n",
    " - `city`\n",
    " - `first_funding_at`\n",
    " - `closed_at`\n"
   ]
  },
  {
   "cell_type": "markdown",
   "id": "2c204315",
   "metadata": {},
   "source": [
    "## Исследовательский анализ данных"
   ]
  },
  {
   "cell_type": "markdown",
   "id": "1bdd808f",
   "metadata": {},
   "source": [
    "`datetime`\n",
    "\\\n",
    "Нам даны данные о стартапах, функционировавших в период с 1970 по 2018 годы. Проверим не выходят ли даты за эти временные рамки."
   ]
  },
  {
   "cell_type": "code",
   "execution_count": 169,
   "id": "a6d0d489",
   "metadata": {},
   "outputs": [
    {
     "data": {
      "text/html": [
       "<div>\n",
       "<style scoped>\n",
       "    .dataframe tbody tr th:only-of-type {\n",
       "        vertical-align: middle;\n",
       "    }\n",
       "\n",
       "    .dataframe tbody tr th {\n",
       "        vertical-align: top;\n",
       "    }\n",
       "\n",
       "    .dataframe thead th {\n",
       "        text-align: right;\n",
       "    }\n",
       "</style>\n",
       "<table border=\"1\" class=\"dataframe\">\n",
       "  <thead>\n",
       "    <tr style=\"text-align: right;\">\n",
       "      <th></th>\n",
       "      <th>name</th>\n",
       "      <th>category_list</th>\n",
       "      <th>funding_total_usd</th>\n",
       "      <th>status</th>\n",
       "      <th>country_code</th>\n",
       "      <th>state_code</th>\n",
       "      <th>region</th>\n",
       "      <th>city</th>\n",
       "      <th>funding_rounds</th>\n",
       "      <th>founded_at</th>\n",
       "      <th>first_funding_at</th>\n",
       "      <th>last_funding_at</th>\n",
       "      <th>closed_at</th>\n",
       "    </tr>\n",
       "  </thead>\n",
       "  <tbody>\n",
       "    <tr>\n",
       "      <th>48</th>\n",
       "      <td>Daniel's Jewelers</td>\n",
       "      <td>software</td>\n",
       "      <td>2000000.0</td>\n",
       "      <td>operating</td>\n",
       "      <td>usa</td>\n",
       "      <td>ca</td>\n",
       "      <td>los angeles</td>\n",
       "      <td>culver city</td>\n",
       "      <td>1</td>\n",
       "      <td>1948-01-01</td>\n",
       "      <td>2014-11-24</td>\n",
       "      <td>2014-11-24</td>\n",
       "      <td>2018-01-01</td>\n",
       "    </tr>\n",
       "    <tr>\n",
       "      <th>317</th>\n",
       "      <td>Coleman Natural Foods</td>\n",
       "      <td>hospitality</td>\n",
       "      <td>9000000.0</td>\n",
       "      <td>operating</td>\n",
       "      <td>usa</td>\n",
       "      <td>nc</td>\n",
       "      <td>asheville</td>\n",
       "      <td>mountain home</td>\n",
       "      <td>1</td>\n",
       "      <td>1875-01-01</td>\n",
       "      <td>2003-08-20</td>\n",
       "      <td>2003-08-20</td>\n",
       "      <td>2018-01-01</td>\n",
       "    </tr>\n",
       "    <tr>\n",
       "      <th>404</th>\n",
       "      <td>Phnom Penh Water Supply Authority (PPWSA)</td>\n",
       "      <td>software</td>\n",
       "      <td>2000000.0</td>\n",
       "      <td>operating</td>\n",
       "      <td>khm</td>\n",
       "      <td>11</td>\n",
       "      <td>phnom penh</td>\n",
       "      <td>phnom penh</td>\n",
       "      <td>1</td>\n",
       "      <td>1960-01-01</td>\n",
       "      <td>2012-04-01</td>\n",
       "      <td>2012-04-01</td>\n",
       "      <td>2018-01-01</td>\n",
       "    </tr>\n",
       "    <tr>\n",
       "      <th>650</th>\n",
       "      <td>MDI Biological Laboratory</td>\n",
       "      <td>pharmaceuticals</td>\n",
       "      <td>75000.0</td>\n",
       "      <td>operating</td>\n",
       "      <td>usa</td>\n",
       "      <td>me</td>\n",
       "      <td>me - other</td>\n",
       "      <td>bar harbor</td>\n",
       "      <td>1</td>\n",
       "      <td>1898-01-01</td>\n",
       "      <td>2015-07-16</td>\n",
       "      <td>2015-07-16</td>\n",
       "      <td>2018-01-01</td>\n",
       "    </tr>\n",
       "    <tr>\n",
       "      <th>1120</th>\n",
       "      <td>Anacomp</td>\n",
       "      <td>consulting</td>\n",
       "      <td>7500000.0</td>\n",
       "      <td>operating</td>\n",
       "      <td>usa</td>\n",
       "      <td>ca</td>\n",
       "      <td>san diego</td>\n",
       "      <td>san diego</td>\n",
       "      <td>1</td>\n",
       "      <td>1968-01-01</td>\n",
       "      <td>2009-06-08</td>\n",
       "      <td>2009-06-08</td>\n",
       "      <td>2018-01-01</td>\n",
       "    </tr>\n",
       "    <tr>\n",
       "      <th>...</th>\n",
       "      <td>...</td>\n",
       "      <td>...</td>\n",
       "      <td>...</td>\n",
       "      <td>...</td>\n",
       "      <td>...</td>\n",
       "      <td>...</td>\n",
       "      <td>...</td>\n",
       "      <td>...</td>\n",
       "      <td>...</td>\n",
       "      <td>...</td>\n",
       "      <td>...</td>\n",
       "      <td>...</td>\n",
       "      <td>...</td>\n",
       "    </tr>\n",
       "    <tr>\n",
       "      <th>51474</th>\n",
       "      <td>Protean Electric</td>\n",
       "      <td>automotive|electronics|systems|technology</td>\n",
       "      <td>84000000.0</td>\n",
       "      <td>operating</td>\n",
       "      <td>usa</td>\n",
       "      <td>mi</td>\n",
       "      <td>detroit</td>\n",
       "      <td>troy</td>\n",
       "      <td>1</td>\n",
       "      <td>1963-01-01</td>\n",
       "      <td>2012-07-09</td>\n",
       "      <td>2012-07-09</td>\n",
       "      <td>2018-01-01</td>\n",
       "    </tr>\n",
       "    <tr>\n",
       "      <th>51730</th>\n",
       "      <td>Medicalodges</td>\n",
       "      <td>health and wellness</td>\n",
       "      <td>2200000.0</td>\n",
       "      <td>operating</td>\n",
       "      <td>usa</td>\n",
       "      <td>ks</td>\n",
       "      <td>ks - other</td>\n",
       "      <td>coffeyville</td>\n",
       "      <td>1</td>\n",
       "      <td>1961-01-01</td>\n",
       "      <td>2014-01-09</td>\n",
       "      <td>2014-01-09</td>\n",
       "      <td>2018-01-01</td>\n",
       "    </tr>\n",
       "    <tr>\n",
       "      <th>51935</th>\n",
       "      <td>FKK Corporation</td>\n",
       "      <td>hardware + software</td>\n",
       "      <td>2000000.0</td>\n",
       "      <td>operating</td>\n",
       "      <td>jpn</td>\n",
       "      <td>22</td>\n",
       "      <td>kyoto</td>\n",
       "      <td>kyoto-shi</td>\n",
       "      <td>1</td>\n",
       "      <td>1854-02-01</td>\n",
       "      <td>1995-01-01</td>\n",
       "      <td>1995-01-01</td>\n",
       "      <td>2018-01-01</td>\n",
       "    </tr>\n",
       "    <tr>\n",
       "      <th>52278</th>\n",
       "      <td>Since1910.com</td>\n",
       "      <td>e-commerce|fashion|jewelry</td>\n",
       "      <td>100000.0</td>\n",
       "      <td>operating</td>\n",
       "      <td>usa</td>\n",
       "      <td>ny</td>\n",
       "      <td>long island</td>\n",
       "      <td>garden city</td>\n",
       "      <td>1</td>\n",
       "      <td>1910-01-01</td>\n",
       "      <td>2007-01-01</td>\n",
       "      <td>2007-01-01</td>\n",
       "      <td>2018-01-01</td>\n",
       "    </tr>\n",
       "    <tr>\n",
       "      <th>52343</th>\n",
       "      <td>Smit Ovens</td>\n",
       "      <td>chemicals|commercial solar|energy</td>\n",
       "      <td>2000000.0</td>\n",
       "      <td>operating</td>\n",
       "      <td>nld</td>\n",
       "      <td>6</td>\n",
       "      <td>nld - other</td>\n",
       "      <td>ekkersrijt</td>\n",
       "      <td>1</td>\n",
       "      <td>1936-01-01</td>\n",
       "      <td>2014-06-12</td>\n",
       "      <td>2014-06-12</td>\n",
       "      <td>2018-01-01</td>\n",
       "    </tr>\n",
       "  </tbody>\n",
       "</table>\n",
       "<p>301 rows × 13 columns</p>\n",
       "</div>"
      ],
      "text/plain": [
       "                                            name  \\\n",
       "48                             Daniel's Jewelers   \n",
       "317                        Coleman Natural Foods   \n",
       "404    Phnom Penh Water Supply Authority (PPWSA)   \n",
       "650                    MDI Biological Laboratory   \n",
       "1120                                     Anacomp   \n",
       "...                                          ...   \n",
       "51474                           Protean Electric   \n",
       "51730                               Medicalodges   \n",
       "51935                            FKK Corporation   \n",
       "52278                              Since1910.com   \n",
       "52343                                 Smit Ovens   \n",
       "\n",
       "                                   category_list  funding_total_usd  \\\n",
       "48                                      software          2000000.0   \n",
       "317                                  hospitality          9000000.0   \n",
       "404                                     software          2000000.0   \n",
       "650                              pharmaceuticals            75000.0   \n",
       "1120                                  consulting          7500000.0   \n",
       "...                                          ...                ...   \n",
       "51474  automotive|electronics|systems|technology         84000000.0   \n",
       "51730                        health and wellness          2200000.0   \n",
       "51935                        hardware + software          2000000.0   \n",
       "52278                 e-commerce|fashion|jewelry           100000.0   \n",
       "52343          chemicals|commercial solar|energy          2000000.0   \n",
       "\n",
       "          status country_code state_code       region           city  \\\n",
       "48     operating          usa         ca  los angeles    culver city   \n",
       "317    operating          usa         nc    asheville  mountain home   \n",
       "404    operating          khm         11   phnom penh     phnom penh   \n",
       "650    operating          usa         me   me - other     bar harbor   \n",
       "1120   operating          usa         ca    san diego      san diego   \n",
       "...          ...          ...        ...          ...            ...   \n",
       "51474  operating          usa         mi      detroit           troy   \n",
       "51730  operating          usa         ks   ks - other    coffeyville   \n",
       "51935  operating          jpn         22        kyoto      kyoto-shi   \n",
       "52278  operating          usa         ny  long island    garden city   \n",
       "52343  operating          nld          6  nld - other     ekkersrijt   \n",
       "\n",
       "       funding_rounds founded_at first_funding_at last_funding_at  closed_at  \n",
       "48                  1 1948-01-01       2014-11-24      2014-11-24 2018-01-01  \n",
       "317                 1 1875-01-01       2003-08-20      2003-08-20 2018-01-01  \n",
       "404                 1 1960-01-01       2012-04-01      2012-04-01 2018-01-01  \n",
       "650                 1 1898-01-01       2015-07-16      2015-07-16 2018-01-01  \n",
       "1120                1 1968-01-01       2009-06-08      2009-06-08 2018-01-01  \n",
       "...               ...        ...              ...             ...        ...  \n",
       "51474               1 1963-01-01       2012-07-09      2012-07-09 2018-01-01  \n",
       "51730               1 1961-01-01       2014-01-09      2014-01-09 2018-01-01  \n",
       "51935               1 1854-02-01       1995-01-01      1995-01-01 2018-01-01  \n",
       "52278               1 1910-01-01       2007-01-01      2007-01-01 2018-01-01  \n",
       "52343               1 1936-01-01       2014-06-12      2014-06-12 2018-01-01  \n",
       "\n",
       "[301 rows x 13 columns]"
      ]
     },
     "execution_count": 169,
     "metadata": {},
     "output_type": "execute_result"
    }
   ],
   "source": [
    "data_train.query('founded_at < \"1970-01-01\"')"
   ]
  },
  {
   "cell_type": "markdown",
   "id": "e847f4a2",
   "metadata": {},
   "source": [
    "Удалим данные с несоответствующими датами."
   ]
  },
  {
   "cell_type": "code",
   "execution_count": 170,
   "id": "0e860b30",
   "metadata": {},
   "outputs": [],
   "source": [
    "data_train.query('founded_at >= \"1970-01-01\" ', inplace=True)"
   ]
  },
  {
   "cell_type": "code",
   "execution_count": 171,
   "id": "90b0fd75",
   "metadata": {},
   "outputs": [
    {
     "data": {
      "text/html": [
       "<div>\n",
       "<style scoped>\n",
       "    .dataframe tbody tr th:only-of-type {\n",
       "        vertical-align: middle;\n",
       "    }\n",
       "\n",
       "    .dataframe tbody tr th {\n",
       "        vertical-align: top;\n",
       "    }\n",
       "\n",
       "    .dataframe thead th {\n",
       "        text-align: right;\n",
       "    }\n",
       "</style>\n",
       "<table border=\"1\" class=\"dataframe\">\n",
       "  <thead>\n",
       "    <tr style=\"text-align: right;\">\n",
       "      <th></th>\n",
       "      <th>name</th>\n",
       "      <th>category_list</th>\n",
       "      <th>funding_total_usd</th>\n",
       "      <th>status</th>\n",
       "      <th>country_code</th>\n",
       "      <th>state_code</th>\n",
       "      <th>region</th>\n",
       "      <th>city</th>\n",
       "      <th>funding_rounds</th>\n",
       "      <th>founded_at</th>\n",
       "      <th>first_funding_at</th>\n",
       "      <th>last_funding_at</th>\n",
       "      <th>closed_at</th>\n",
       "    </tr>\n",
       "  </thead>\n",
       "  <tbody>\n",
       "    <tr>\n",
       "      <th>16845</th>\n",
       "      <td>DugoutFC Ltd</td>\n",
       "      <td>fantasy sports</td>\n",
       "      <td>100000.0</td>\n",
       "      <td>operating</td>\n",
       "      <td>usa</td>\n",
       "      <td>ca</td>\n",
       "      <td>sf bay area</td>\n",
       "      <td>san francisco</td>\n",
       "      <td>1</td>\n",
       "      <td>2105-02-17</td>\n",
       "      <td>2015-01-01</td>\n",
       "      <td>2015-01-01</td>\n",
       "      <td>2018-01-01</td>\n",
       "    </tr>\n",
       "    <tr>\n",
       "      <th>48217</th>\n",
       "      <td>LIVAMP</td>\n",
       "      <td>entertainment|music|video</td>\n",
       "      <td>300000.0</td>\n",
       "      <td>closed</td>\n",
       "      <td>usa</td>\n",
       "      <td>ca</td>\n",
       "      <td>sf bay area</td>\n",
       "      <td>san francisco</td>\n",
       "      <td>1</td>\n",
       "      <td>2041-09-21</td>\n",
       "      <td>2015-08-31</td>\n",
       "      <td>2015-08-31</td>\n",
       "      <td>2017-01-09</td>\n",
       "    </tr>\n",
       "  </tbody>\n",
       "</table>\n",
       "</div>"
      ],
      "text/plain": [
       "               name              category_list  funding_total_usd     status  \\\n",
       "16845  DugoutFC Ltd             fantasy sports           100000.0  operating   \n",
       "48217        LIVAMP  entertainment|music|video           300000.0     closed   \n",
       "\n",
       "      country_code state_code       region           city  funding_rounds  \\\n",
       "16845          usa         ca  sf bay area  san francisco               1   \n",
       "48217          usa         ca  sf bay area  san francisco               1   \n",
       "\n",
       "      founded_at first_funding_at last_funding_at  closed_at  \n",
       "16845 2105-02-17       2015-01-01      2015-01-01 2018-01-01  \n",
       "48217 2041-09-21       2015-08-31      2015-08-31 2017-01-09  "
      ]
     },
     "execution_count": 171,
     "metadata": {},
     "output_type": "execute_result"
    }
   ],
   "source": [
    "data_train.query('founded_at > \"2018-01-01\"')"
   ]
  },
  {
   "cell_type": "markdown",
   "id": "ce2fc47e",
   "metadata": {},
   "source": [
    "Всего 2 значения выходят за временные рамки, но судя по данным, можно предположить что данные были некорректно введены, повлиял человеческий фактор. Проверив информацию о фирмах в интернете, предположение подтвердилось. Исправим ошибки и сохраним эти данные."
   ]
  },
  {
   "cell_type": "code",
   "execution_count": 172,
   "id": "85fd056d",
   "metadata": {},
   "outputs": [],
   "source": [
    "data_train.loc[data_train['founded_at'] == \"2105-02-17\", 'founded_at'] = \"2015-02-17\"\n",
    "data_train.loc[data_train['founded_at'] == \"2041-09-21\", 'founded_at'] = \"2014-09-21\""
   ]
  },
  {
   "cell_type": "code",
   "execution_count": 173,
   "id": "e3e41ea5",
   "metadata": {},
   "outputs": [
    {
     "data": {
      "text/html": [
       "<div>\n",
       "<style scoped>\n",
       "    .dataframe tbody tr th:only-of-type {\n",
       "        vertical-align: middle;\n",
       "    }\n",
       "\n",
       "    .dataframe tbody tr th {\n",
       "        vertical-align: top;\n",
       "    }\n",
       "\n",
       "    .dataframe thead th {\n",
       "        text-align: right;\n",
       "    }\n",
       "</style>\n",
       "<table border=\"1\" class=\"dataframe\">\n",
       "  <thead>\n",
       "    <tr style=\"text-align: right;\">\n",
       "      <th></th>\n",
       "      <th>name</th>\n",
       "      <th>category_list</th>\n",
       "      <th>funding_total_usd</th>\n",
       "      <th>status</th>\n",
       "      <th>country_code</th>\n",
       "      <th>state_code</th>\n",
       "      <th>region</th>\n",
       "      <th>city</th>\n",
       "      <th>funding_rounds</th>\n",
       "      <th>founded_at</th>\n",
       "      <th>first_funding_at</th>\n",
       "      <th>last_funding_at</th>\n",
       "      <th>closed_at</th>\n",
       "    </tr>\n",
       "  </thead>\n",
       "  <tbody>\n",
       "  </tbody>\n",
       "</table>\n",
       "</div>"
      ],
      "text/plain": [
       "Empty DataFrame\n",
       "Columns: [name, category_list, funding_total_usd, status, country_code, state_code, region, city, funding_rounds, founded_at, first_funding_at, last_funding_at, closed_at]\n",
       "Index: []"
      ]
     },
     "execution_count": 173,
     "metadata": {},
     "output_type": "execute_result"
    }
   ],
   "source": [
    "data_train.query('founded_at < \"1970-01-01\" | founded_at > \"2018-01-01\"')"
   ]
  },
  {
   "cell_type": "code",
   "execution_count": 174,
   "id": "d68469c8",
   "metadata": {},
   "outputs": [
    {
     "data": {
      "text/html": [
       "<div>\n",
       "<style scoped>\n",
       "    .dataframe tbody tr th:only-of-type {\n",
       "        vertical-align: middle;\n",
       "    }\n",
       "\n",
       "    .dataframe tbody tr th {\n",
       "        vertical-align: top;\n",
       "    }\n",
       "\n",
       "    .dataframe thead th {\n",
       "        text-align: right;\n",
       "    }\n",
       "</style>\n",
       "<table border=\"1\" class=\"dataframe\">\n",
       "  <thead>\n",
       "    <tr style=\"text-align: right;\">\n",
       "      <th></th>\n",
       "      <th>founded_at</th>\n",
       "      <th>first_funding_at</th>\n",
       "      <th>last_funding_at</th>\n",
       "      <th>closed_at</th>\n",
       "    </tr>\n",
       "  </thead>\n",
       "  <tbody>\n",
       "    <tr>\n",
       "      <th>count</th>\n",
       "      <td>52577</td>\n",
       "      <td>52577</td>\n",
       "      <td>52577</td>\n",
       "      <td>52577</td>\n",
       "    </tr>\n",
       "    <tr>\n",
       "      <th>mean</th>\n",
       "      <td>2008-11-02 11:54:05.867965184</td>\n",
       "      <td>2011-07-16 15:37:53.305818112</td>\n",
       "      <td>2012-06-28 10:28:33.829240832</td>\n",
       "      <td>2017-06-10 05:32:16.565418240</td>\n",
       "    </tr>\n",
       "    <tr>\n",
       "      <th>min</th>\n",
       "      <td>1970-01-01 00:00:00</td>\n",
       "      <td>1977-05-15 00:00:00</td>\n",
       "      <td>1977-05-15 00:00:00</td>\n",
       "      <td>1983-11-21 00:00:00</td>\n",
       "    </tr>\n",
       "    <tr>\n",
       "      <th>25%</th>\n",
       "      <td>2006-09-27 00:00:00</td>\n",
       "      <td>2009-10-09 00:00:00</td>\n",
       "      <td>2011-02-01 00:00:00</td>\n",
       "      <td>2018-01-01 00:00:00</td>\n",
       "    </tr>\n",
       "    <tr>\n",
       "      <th>50%</th>\n",
       "      <td>2010-10-01 00:00:00</td>\n",
       "      <td>2012-07-20 00:00:00</td>\n",
       "      <td>2013-08-30 00:00:00</td>\n",
       "      <td>2018-01-01 00:00:00</td>\n",
       "    </tr>\n",
       "    <tr>\n",
       "      <th>75%</th>\n",
       "      <td>2013-01-01 00:00:00</td>\n",
       "      <td>2014-04-01 00:00:00</td>\n",
       "      <td>2014-11-17 00:00:00</td>\n",
       "      <td>2018-01-01 00:00:00</td>\n",
       "    </tr>\n",
       "    <tr>\n",
       "      <th>max</th>\n",
       "      <td>2016-04-02 00:00:00</td>\n",
       "      <td>2015-12-05 00:00:00</td>\n",
       "      <td>2115-12-01 00:00:00</td>\n",
       "      <td>2106-07-20 00:00:00</td>\n",
       "    </tr>\n",
       "  </tbody>\n",
       "</table>\n",
       "</div>"
      ],
      "text/plain": [
       "                          founded_at               first_funding_at  \\\n",
       "count                          52577                          52577   \n",
       "mean   2008-11-02 11:54:05.867965184  2011-07-16 15:37:53.305818112   \n",
       "min              1970-01-01 00:00:00            1977-05-15 00:00:00   \n",
       "25%              2006-09-27 00:00:00            2009-10-09 00:00:00   \n",
       "50%              2010-10-01 00:00:00            2012-07-20 00:00:00   \n",
       "75%              2013-01-01 00:00:00            2014-04-01 00:00:00   \n",
       "max              2016-04-02 00:00:00            2015-12-05 00:00:00   \n",
       "\n",
       "                     last_funding_at                      closed_at  \n",
       "count                          52577                          52577  \n",
       "mean   2012-06-28 10:28:33.829240832  2017-06-10 05:32:16.565418240  \n",
       "min              1977-05-15 00:00:00            1983-11-21 00:00:00  \n",
       "25%              2011-02-01 00:00:00            2018-01-01 00:00:00  \n",
       "50%              2013-08-30 00:00:00            2018-01-01 00:00:00  \n",
       "75%              2014-11-17 00:00:00            2018-01-01 00:00:00  \n",
       "max              2115-12-01 00:00:00            2106-07-20 00:00:00  "
      ]
     },
     "execution_count": 174,
     "metadata": {},
     "output_type": "execute_result"
    }
   ],
   "source": [
    "data_time = ['founded_at','first_funding_at', 'last_funding_at', 'closed_at']\n",
    "data_train[data_time].describe()"
   ]
  },
  {
   "cell_type": "code",
   "execution_count": 175,
   "id": "e6b16695",
   "metadata": {},
   "outputs": [
    {
     "data": {
      "text/html": [
       "<div>\n",
       "<style scoped>\n",
       "    .dataframe tbody tr th:only-of-type {\n",
       "        vertical-align: middle;\n",
       "    }\n",
       "\n",
       "    .dataframe tbody tr th {\n",
       "        vertical-align: top;\n",
       "    }\n",
       "\n",
       "    .dataframe thead th {\n",
       "        text-align: right;\n",
       "    }\n",
       "</style>\n",
       "<table border=\"1\" class=\"dataframe\">\n",
       "  <thead>\n",
       "    <tr style=\"text-align: right;\">\n",
       "      <th></th>\n",
       "      <th>name</th>\n",
       "      <th>category_list</th>\n",
       "      <th>funding_total_usd</th>\n",
       "      <th>status</th>\n",
       "      <th>country_code</th>\n",
       "      <th>state_code</th>\n",
       "      <th>region</th>\n",
       "      <th>city</th>\n",
       "      <th>funding_rounds</th>\n",
       "      <th>founded_at</th>\n",
       "      <th>first_funding_at</th>\n",
       "      <th>last_funding_at</th>\n",
       "      <th>closed_at</th>\n",
       "    </tr>\n",
       "  </thead>\n",
       "  <tbody>\n",
       "    <tr>\n",
       "      <th>7119</th>\n",
       "      <td>Rasyonel R&amp;D</td>\n",
       "      <td>embedded hardware and software|internet of things|recycling|web development</td>\n",
       "      <td>220000.0</td>\n",
       "      <td>closed</td>\n",
       "      <td>tur</td>\n",
       "      <td>35</td>\n",
       "      <td>izmir</td>\n",
       "      <td>izmir</td>\n",
       "      <td>3</td>\n",
       "      <td>2013-03-20</td>\n",
       "      <td>2013-04-05</td>\n",
       "      <td>2105-05-01</td>\n",
       "      <td>2106-07-20</td>\n",
       "    </tr>\n",
       "  </tbody>\n",
       "</table>\n",
       "</div>"
      ],
      "text/plain": [
       "              name  \\\n",
       "7119  Rasyonel R&D   \n",
       "\n",
       "                                                                    category_list  \\\n",
       "7119  embedded hardware and software|internet of things|recycling|web development   \n",
       "\n",
       "      funding_total_usd  status country_code state_code region   city  \\\n",
       "7119           220000.0  closed          tur         35  izmir  izmir   \n",
       "\n",
       "      funding_rounds founded_at first_funding_at last_funding_at  closed_at  \n",
       "7119               3 2013-03-20       2013-04-05      2105-05-01 2106-07-20  "
      ]
     },
     "execution_count": 175,
     "metadata": {},
     "output_type": "execute_result"
    }
   ],
   "source": [
    "data_train.query('closed_at > \"2018-01-01\"')"
   ]
  },
  {
   "cell_type": "markdown",
   "id": "787e237a",
   "metadata": {},
   "source": [
    "Проверив информацию о фирме в интернете, можно утверждать что скорее всего здесь допучена ошибка при вводе данных в двух столбцах. Исправим ее."
   ]
  },
  {
   "cell_type": "code",
   "execution_count": 176,
   "id": "1f451b88",
   "metadata": {},
   "outputs": [],
   "source": [
    "data_train.loc[data_train['last_funding_at'] == \"2105-05-01\", 'last_funding_at'] = \"2015-05-01\"\n",
    "data_train.loc[data_train['closed_at'] == \"2106-07-20\", 'closed_at'] = \"2016-07-20\""
   ]
  },
  {
   "cell_type": "code",
   "execution_count": 177,
   "id": "49147525",
   "metadata": {},
   "outputs": [
    {
     "data": {
      "text/html": [
       "<div>\n",
       "<style scoped>\n",
       "    .dataframe tbody tr th:only-of-type {\n",
       "        vertical-align: middle;\n",
       "    }\n",
       "\n",
       "    .dataframe tbody tr th {\n",
       "        vertical-align: top;\n",
       "    }\n",
       "\n",
       "    .dataframe thead th {\n",
       "        text-align: right;\n",
       "    }\n",
       "</style>\n",
       "<table border=\"1\" class=\"dataframe\">\n",
       "  <thead>\n",
       "    <tr style=\"text-align: right;\">\n",
       "      <th></th>\n",
       "      <th>name</th>\n",
       "      <th>category_list</th>\n",
       "      <th>funding_total_usd</th>\n",
       "      <th>status</th>\n",
       "      <th>country_code</th>\n",
       "      <th>state_code</th>\n",
       "      <th>region</th>\n",
       "      <th>city</th>\n",
       "      <th>funding_rounds</th>\n",
       "      <th>founded_at</th>\n",
       "      <th>first_funding_at</th>\n",
       "      <th>last_funding_at</th>\n",
       "      <th>closed_at</th>\n",
       "    </tr>\n",
       "  </thead>\n",
       "  <tbody>\n",
       "    <tr>\n",
       "      <th>9415</th>\n",
       "      <td>Wigzo Technologies</td>\n",
       "      <td>advertising|email|mobile</td>\n",
       "      <td>600000.0</td>\n",
       "      <td>operating</td>\n",
       "      <td>usa</td>\n",
       "      <td>ca</td>\n",
       "      <td>sf bay area</td>\n",
       "      <td>san francisco</td>\n",
       "      <td>2</td>\n",
       "      <td>2014-01-14</td>\n",
       "      <td>2014-08-18</td>\n",
       "      <td>2115-12-01</td>\n",
       "      <td>2018-01-01</td>\n",
       "    </tr>\n",
       "  </tbody>\n",
       "</table>\n",
       "</div>"
      ],
      "text/plain": [
       "                    name             category_list  funding_total_usd  \\\n",
       "9415  Wigzo Technologies  advertising|email|mobile           600000.0   \n",
       "\n",
       "         status country_code state_code       region           city  \\\n",
       "9415  operating          usa         ca  sf bay area  san francisco   \n",
       "\n",
       "      funding_rounds founded_at first_funding_at last_funding_at  closed_at  \n",
       "9415               2 2014-01-14       2014-08-18      2115-12-01 2018-01-01  "
      ]
     },
     "execution_count": 177,
     "metadata": {},
     "output_type": "execute_result"
    }
   ],
   "source": [
    "data_train.query('last_funding_at > \"2018-01-01\"')"
   ]
  },
  {
   "cell_type": "markdown",
   "id": "e0f3685d",
   "metadata": {},
   "source": [
    "Проверив информацию о фирме в интернете, можно утверждать что скорее всего здесь допучена ошибка при вводе данных. Исправим ее."
   ]
  },
  {
   "cell_type": "code",
   "execution_count": 178,
   "id": "4a485ddc",
   "metadata": {},
   "outputs": [],
   "source": [
    "data_train.loc[data_train['last_funding_at'] == \"2115-12-01\", 'last_funding_at'] = \"2015-12-01\""
   ]
  },
  {
   "cell_type": "code",
   "execution_count": 179,
   "id": "662801d3",
   "metadata": {},
   "outputs": [
    {
     "data": {
      "text/html": [
       "<div>\n",
       "<style scoped>\n",
       "    .dataframe tbody tr th:only-of-type {\n",
       "        vertical-align: middle;\n",
       "    }\n",
       "\n",
       "    .dataframe tbody tr th {\n",
       "        vertical-align: top;\n",
       "    }\n",
       "\n",
       "    .dataframe thead th {\n",
       "        text-align: right;\n",
       "    }\n",
       "</style>\n",
       "<table border=\"1\" class=\"dataframe\">\n",
       "  <thead>\n",
       "    <tr style=\"text-align: right;\">\n",
       "      <th></th>\n",
       "      <th>founded_at</th>\n",
       "      <th>first_funding_at</th>\n",
       "      <th>last_funding_at</th>\n",
       "      <th>closed_at</th>\n",
       "    </tr>\n",
       "  </thead>\n",
       "  <tbody>\n",
       "    <tr>\n",
       "      <th>count</th>\n",
       "      <td>52577</td>\n",
       "      <td>52577</td>\n",
       "      <td>52577</td>\n",
       "      <td>52577</td>\n",
       "    </tr>\n",
       "    <tr>\n",
       "      <th>mean</th>\n",
       "      <td>2008-11-02 11:54:05.867965184</td>\n",
       "      <td>2011-07-16 15:37:53.305818112</td>\n",
       "      <td>2012-06-27 02:47:55.097476096</td>\n",
       "      <td>2017-06-09 14:31:59.516137984</td>\n",
       "    </tr>\n",
       "    <tr>\n",
       "      <th>min</th>\n",
       "      <td>1970-01-01 00:00:00</td>\n",
       "      <td>1977-05-15 00:00:00</td>\n",
       "      <td>1977-05-15 00:00:00</td>\n",
       "      <td>1983-11-21 00:00:00</td>\n",
       "    </tr>\n",
       "    <tr>\n",
       "      <th>25%</th>\n",
       "      <td>2006-09-27 00:00:00</td>\n",
       "      <td>2009-10-09 00:00:00</td>\n",
       "      <td>2011-02-01 00:00:00</td>\n",
       "      <td>2018-01-01 00:00:00</td>\n",
       "    </tr>\n",
       "    <tr>\n",
       "      <th>50%</th>\n",
       "      <td>2010-10-01 00:00:00</td>\n",
       "      <td>2012-07-20 00:00:00</td>\n",
       "      <td>2013-08-30 00:00:00</td>\n",
       "      <td>2018-01-01 00:00:00</td>\n",
       "    </tr>\n",
       "    <tr>\n",
       "      <th>75%</th>\n",
       "      <td>2013-01-01 00:00:00</td>\n",
       "      <td>2014-04-01 00:00:00</td>\n",
       "      <td>2014-11-17 00:00:00</td>\n",
       "      <td>2018-01-01 00:00:00</td>\n",
       "    </tr>\n",
       "    <tr>\n",
       "      <th>max</th>\n",
       "      <td>2016-04-02 00:00:00</td>\n",
       "      <td>2015-12-05 00:00:00</td>\n",
       "      <td>2015-12-07 00:00:00</td>\n",
       "      <td>2018-01-01 00:00:00</td>\n",
       "    </tr>\n",
       "  </tbody>\n",
       "</table>\n",
       "</div>"
      ],
      "text/plain": [
       "                          founded_at               first_funding_at  \\\n",
       "count                          52577                          52577   \n",
       "mean   2008-11-02 11:54:05.867965184  2011-07-16 15:37:53.305818112   \n",
       "min              1970-01-01 00:00:00            1977-05-15 00:00:00   \n",
       "25%              2006-09-27 00:00:00            2009-10-09 00:00:00   \n",
       "50%              2010-10-01 00:00:00            2012-07-20 00:00:00   \n",
       "75%              2013-01-01 00:00:00            2014-04-01 00:00:00   \n",
       "max              2016-04-02 00:00:00            2015-12-05 00:00:00   \n",
       "\n",
       "                     last_funding_at                      closed_at  \n",
       "count                          52577                          52577  \n",
       "mean   2012-06-27 02:47:55.097476096  2017-06-09 14:31:59.516137984  \n",
       "min              1977-05-15 00:00:00            1983-11-21 00:00:00  \n",
       "25%              2011-02-01 00:00:00            2018-01-01 00:00:00  \n",
       "50%              2013-08-30 00:00:00            2018-01-01 00:00:00  \n",
       "75%              2014-11-17 00:00:00            2018-01-01 00:00:00  \n",
       "max              2015-12-07 00:00:00            2018-01-01 00:00:00  "
      ]
     },
     "execution_count": 179,
     "metadata": {},
     "output_type": "execute_result"
    }
   ],
   "source": [
    "data_train[data_time].describe()"
   ]
  },
  {
   "cell_type": "markdown",
   "id": "5e1f56b8",
   "metadata": {},
   "source": [
    "Проверим есть ли фирмы, у которых дата основания больше даты закрытия."
   ]
  },
  {
   "cell_type": "code",
   "execution_count": 180,
   "id": "84f50033",
   "metadata": {},
   "outputs": [
    {
     "data": {
      "text/plain": [
       "26"
      ]
     },
     "execution_count": 180,
     "metadata": {},
     "output_type": "execute_result"
    }
   ],
   "source": [
    "data_train.query('closed_at < founded_at')['name'].count()"
   ]
  },
  {
   "cell_type": "markdown",
   "id": "7fa94931",
   "metadata": {},
   "source": [
    "Действительно такие фирмы присутствуют. Удалим эти аномалии."
   ]
  },
  {
   "cell_type": "code",
   "execution_count": 181,
   "id": "bf5b38e0",
   "metadata": {},
   "outputs": [],
   "source": [
    "data_train.query('closed_at >= founded_at', inplace=True)"
   ]
  },
  {
   "cell_type": "code",
   "execution_count": 182,
   "id": "21379a2e",
   "metadata": {},
   "outputs": [
    {
     "data": {
      "text/html": [
       "<div>\n",
       "<style scoped>\n",
       "    .dataframe tbody tr th:only-of-type {\n",
       "        vertical-align: middle;\n",
       "    }\n",
       "\n",
       "    .dataframe tbody tr th {\n",
       "        vertical-align: top;\n",
       "    }\n",
       "\n",
       "    .dataframe thead th {\n",
       "        text-align: right;\n",
       "    }\n",
       "</style>\n",
       "<table border=\"1\" class=\"dataframe\">\n",
       "  <thead>\n",
       "    <tr style=\"text-align: right;\">\n",
       "      <th></th>\n",
       "      <th>name</th>\n",
       "      <th>category_list</th>\n",
       "      <th>funding_total_usd</th>\n",
       "      <th>status</th>\n",
       "      <th>country_code</th>\n",
       "      <th>state_code</th>\n",
       "      <th>region</th>\n",
       "      <th>city</th>\n",
       "      <th>funding_rounds</th>\n",
       "      <th>founded_at</th>\n",
       "      <th>first_funding_at</th>\n",
       "      <th>last_funding_at</th>\n",
       "      <th>closed_at</th>\n",
       "    </tr>\n",
       "  </thead>\n",
       "  <tbody>\n",
       "  </tbody>\n",
       "</table>\n",
       "</div>"
      ],
      "text/plain": [
       "Empty DataFrame\n",
       "Columns: [name, category_list, funding_total_usd, status, country_code, state_code, region, city, funding_rounds, founded_at, first_funding_at, last_funding_at, closed_at]\n",
       "Index: []"
      ]
     },
     "execution_count": 182,
     "metadata": {},
     "output_type": "execute_result"
    }
   ],
   "source": [
    "data_train.query('closed_at < founded_at')"
   ]
  },
  {
   "cell_type": "code",
   "execution_count": 183,
   "id": "43e253ed",
   "metadata": {},
   "outputs": [
    {
     "data": {
      "text/html": [
       "<div>\n",
       "<style scoped>\n",
       "    .dataframe tbody tr th:only-of-type {\n",
       "        vertical-align: middle;\n",
       "    }\n",
       "\n",
       "    .dataframe tbody tr th {\n",
       "        vertical-align: top;\n",
       "    }\n",
       "\n",
       "    .dataframe thead th {\n",
       "        text-align: right;\n",
       "    }\n",
       "</style>\n",
       "<table border=\"1\" class=\"dataframe\">\n",
       "  <thead>\n",
       "    <tr style=\"text-align: right;\">\n",
       "      <th></th>\n",
       "      <th>name</th>\n",
       "      <th>category_list</th>\n",
       "      <th>funding_total_usd</th>\n",
       "      <th>status</th>\n",
       "      <th>country_code</th>\n",
       "      <th>state_code</th>\n",
       "      <th>region</th>\n",
       "      <th>city</th>\n",
       "      <th>funding_rounds</th>\n",
       "      <th>founded_at</th>\n",
       "      <th>first_funding_at</th>\n",
       "      <th>last_funding_at</th>\n",
       "      <th>closed_at</th>\n",
       "    </tr>\n",
       "  </thead>\n",
       "  <tbody>\n",
       "    <tr>\n",
       "      <th>39759</th>\n",
       "      <td>EKU Power Drives</td>\n",
       "      <td>clean energy|energy efficiency|industrial|mining technologies|oil &amp; gas|technology</td>\n",
       "      <td>297149.0</td>\n",
       "      <td>operating</td>\n",
       "      <td>deu</td>\n",
       "      <td>1</td>\n",
       "      <td>stuttgart</td>\n",
       "      <td>stuttgart</td>\n",
       "      <td>3</td>\n",
       "      <td>2015-03-04</td>\n",
       "      <td>2015-03-05</td>\n",
       "      <td>2015-01-20</td>\n",
       "      <td>2018-01-01</td>\n",
       "    </tr>\n",
       "  </tbody>\n",
       "</table>\n",
       "</div>"
      ],
      "text/plain": [
       "                   name  \\\n",
       "39759  EKU Power Drives   \n",
       "\n",
       "                                                                            category_list  \\\n",
       "39759  clean energy|energy efficiency|industrial|mining technologies|oil & gas|technology   \n",
       "\n",
       "       funding_total_usd     status country_code state_code     region  \\\n",
       "39759           297149.0  operating          deu          1  stuttgart   \n",
       "\n",
       "            city  funding_rounds founded_at first_funding_at last_funding_at  \\\n",
       "39759  stuttgart               3 2015-03-04       2015-03-05      2015-01-20   \n",
       "\n",
       "       closed_at  \n",
       "39759 2018-01-01  "
      ]
     },
     "execution_count": 183,
     "metadata": {},
     "output_type": "execute_result"
    }
   ],
   "source": [
    "data_train.query('first_funding_at > last_funding_at and funding_rounds != 1')"
   ]
  },
  {
   "cell_type": "code",
   "execution_count": 184,
   "id": "3bc28b53",
   "metadata": {},
   "outputs": [],
   "source": [
    "data_train = data_train.drop(index=39759)"
   ]
  },
  {
   "cell_type": "code",
   "execution_count": 185,
   "id": "9be50c68",
   "metadata": {},
   "outputs": [
    {
     "data": {
      "text/html": [
       "<div>\n",
       "<style scoped>\n",
       "    .dataframe tbody tr th:only-of-type {\n",
       "        vertical-align: middle;\n",
       "    }\n",
       "\n",
       "    .dataframe tbody tr th {\n",
       "        vertical-align: top;\n",
       "    }\n",
       "\n",
       "    .dataframe thead th {\n",
       "        text-align: right;\n",
       "    }\n",
       "</style>\n",
       "<table border=\"1\" class=\"dataframe\">\n",
       "  <thead>\n",
       "    <tr style=\"text-align: right;\">\n",
       "      <th></th>\n",
       "      <th>name</th>\n",
       "      <th>category_list</th>\n",
       "      <th>funding_total_usd</th>\n",
       "      <th>status</th>\n",
       "      <th>country_code</th>\n",
       "      <th>state_code</th>\n",
       "      <th>region</th>\n",
       "      <th>city</th>\n",
       "      <th>funding_rounds</th>\n",
       "      <th>founded_at</th>\n",
       "      <th>first_funding_at</th>\n",
       "      <th>last_funding_at</th>\n",
       "      <th>closed_at</th>\n",
       "    </tr>\n",
       "  </thead>\n",
       "  <tbody>\n",
       "  </tbody>\n",
       "</table>\n",
       "</div>"
      ],
      "text/plain": [
       "Empty DataFrame\n",
       "Columns: [name, category_list, funding_total_usd, status, country_code, state_code, region, city, funding_rounds, founded_at, first_funding_at, last_funding_at, closed_at]\n",
       "Index: []"
      ]
     },
     "execution_count": 185,
     "metadata": {},
     "output_type": "execute_result"
    }
   ],
   "source": [
    "data_train.query('first_funding_at > last_funding_at')"
   ]
  },
  {
   "cell_type": "code",
   "execution_count": 186,
   "id": "f290f233",
   "metadata": {},
   "outputs": [],
   "source": [
    "data_train = data_train.reset_index(drop=True)"
   ]
  },
  {
   "cell_type": "code",
   "execution_count": 187,
   "id": "a7f9316f",
   "metadata": {},
   "outputs": [
    {
     "name": "stdout",
     "output_type": "stream",
     "text": [
      "<class 'pandas.core.frame.DataFrame'>\n",
      "RangeIndex: 52550 entries, 0 to 52549\n",
      "Data columns (total 13 columns):\n",
      " #   Column             Non-Null Count  Dtype         \n",
      "---  ------             --------------  -----         \n",
      " 0   name               52550 non-null  object        \n",
      " 1   category_list      52550 non-null  object        \n",
      " 2   funding_total_usd  52550 non-null  float64       \n",
      " 3   status             52550 non-null  object        \n",
      " 4   country_code       52550 non-null  object        \n",
      " 5   state_code         52550 non-null  object        \n",
      " 6   region             52550 non-null  object        \n",
      " 7   city               52550 non-null  object        \n",
      " 8   funding_rounds     52550 non-null  int64         \n",
      " 9   founded_at         52550 non-null  datetime64[ns]\n",
      " 10  first_funding_at   52550 non-null  datetime64[ns]\n",
      " 11  last_funding_at    52550 non-null  datetime64[ns]\n",
      " 12  closed_at          52550 non-null  datetime64[ns]\n",
      "dtypes: datetime64[ns](4), float64(1), int64(1), object(7)\n",
      "memory usage: 5.2+ MB\n"
     ]
    }
   ],
   "source": [
    "data_train.info(\n",
    "    \n",
    ")"
   ]
  },
  {
   "cell_type": "markdown",
   "id": "672d5dc7",
   "metadata": {},
   "source": [
    "Добавим в датафрейм новые столбецы `lifetime` и `lifetime_category`. "
   ]
  },
  {
   "cell_type": "code",
   "execution_count": 188,
   "id": "6f40faf5",
   "metadata": {},
   "outputs": [],
   "source": [
    "data_train['lifetime'] = (data_train['closed_at'] - data_train['founded_at']).dt.days\n",
    "data_test['lifetime'] = (data_test['closed_at'] - data_test['founded_at']).dt.days"
   ]
  },
  {
   "cell_type": "code",
   "execution_count": 189,
   "id": "e676b9aa",
   "metadata": {},
   "outputs": [],
   "source": [
    "def categorize_lifetime(lifetime):\n",
    "    if lifetime < 365:\n",
    "        return 'до 1 года'\n",
    "    elif lifetime >= 365 and lifetime < 1825:\n",
    "        return '1-5 лет'\n",
    "    elif lifetime >= 1825 and lifetime < 3650:\n",
    "        return '5-10 лет'\n",
    "    elif lifetime >= 3650 and lifetime < 7300:\n",
    "        return '10-20 лет'\n",
    "    else:\n",
    "        return 'более 20 лет'\n",
    "\n",
    "data_train['lifetime_category'] = data_train['lifetime'].apply(categorize_lifetime)\n",
    "data_test['lifetime_category'] = data_test['lifetime'].apply(categorize_lifetime)"
   ]
  },
  {
   "cell_type": "code",
   "execution_count": 190,
   "id": "5d195d0a",
   "metadata": {},
   "outputs": [
    {
     "data": {
      "text/html": [
       "<div>\n",
       "<style scoped>\n",
       "    .dataframe tbody tr th:only-of-type {\n",
       "        vertical-align: middle;\n",
       "    }\n",
       "\n",
       "    .dataframe tbody tr th {\n",
       "        vertical-align: top;\n",
       "    }\n",
       "\n",
       "    .dataframe thead th {\n",
       "        text-align: right;\n",
       "    }\n",
       "</style>\n",
       "<table border=\"1\" class=\"dataframe\">\n",
       "  <thead>\n",
       "    <tr style=\"text-align: right;\">\n",
       "      <th></th>\n",
       "      <th>lifetime</th>\n",
       "      <th>lifetime_category</th>\n",
       "    </tr>\n",
       "  </thead>\n",
       "  <tbody>\n",
       "    <tr>\n",
       "      <th>24024</th>\n",
       "      <td>6940</td>\n",
       "      <td>10-20 лет</td>\n",
       "    </tr>\n",
       "    <tr>\n",
       "      <th>28792</th>\n",
       "      <td>1826</td>\n",
       "      <td>5-10 лет</td>\n",
       "    </tr>\n",
       "    <tr>\n",
       "      <th>35977</th>\n",
       "      <td>1040</td>\n",
       "      <td>1-5 лет</td>\n",
       "    </tr>\n",
       "    <tr>\n",
       "      <th>24945</th>\n",
       "      <td>2147</td>\n",
       "      <td>5-10 лет</td>\n",
       "    </tr>\n",
       "    <tr>\n",
       "      <th>28148</th>\n",
       "      <td>7670</td>\n",
       "      <td>более 20 лет</td>\n",
       "    </tr>\n",
       "    <tr>\n",
       "      <th>31116</th>\n",
       "      <td>4869</td>\n",
       "      <td>10-20 лет</td>\n",
       "    </tr>\n",
       "    <tr>\n",
       "      <th>45455</th>\n",
       "      <td>4383</td>\n",
       "      <td>10-20 лет</td>\n",
       "    </tr>\n",
       "    <tr>\n",
       "      <th>32590</th>\n",
       "      <td>2040</td>\n",
       "      <td>5-10 лет</td>\n",
       "    </tr>\n",
       "    <tr>\n",
       "      <th>46483</th>\n",
       "      <td>6770</td>\n",
       "      <td>10-20 лет</td>\n",
       "    </tr>\n",
       "    <tr>\n",
       "      <th>23971</th>\n",
       "      <td>2557</td>\n",
       "      <td>5-10 лет</td>\n",
       "    </tr>\n",
       "  </tbody>\n",
       "</table>\n",
       "</div>"
      ],
      "text/plain": [
       "       lifetime lifetime_category\n",
       "24024      6940         10-20 лет\n",
       "28792      1826          5-10 лет\n",
       "35977      1040           1-5 лет\n",
       "24945      2147          5-10 лет\n",
       "28148      7670      более 20 лет\n",
       "31116      4869         10-20 лет\n",
       "45455      4383         10-20 лет\n",
       "32590      2040          5-10 лет\n",
       "46483      6770         10-20 лет\n",
       "23971      2557          5-10 лет"
      ]
     },
     "execution_count": 190,
     "metadata": {},
     "output_type": "execute_result"
    }
   ],
   "source": [
    "data_train[['lifetime', 'lifetime_category']].sample(10)"
   ]
  },
  {
   "cell_type": "code",
   "execution_count": 191,
   "id": "d5915de0",
   "metadata": {},
   "outputs": [
    {
     "data": {
      "text/html": [
       "<div>\n",
       "<style scoped>\n",
       "    .dataframe tbody tr th:only-of-type {\n",
       "        vertical-align: middle;\n",
       "    }\n",
       "\n",
       "    .dataframe tbody tr th {\n",
       "        vertical-align: top;\n",
       "    }\n",
       "\n",
       "    .dataframe thead th {\n",
       "        text-align: right;\n",
       "    }\n",
       "</style>\n",
       "<table border=\"1\" class=\"dataframe\">\n",
       "  <thead>\n",
       "    <tr style=\"text-align: right;\">\n",
       "      <th></th>\n",
       "      <th>lifetime</th>\n",
       "      <th>lifetime_category</th>\n",
       "    </tr>\n",
       "  </thead>\n",
       "  <tbody>\n",
       "    <tr>\n",
       "      <th>6944</th>\n",
       "      <td>1706</td>\n",
       "      <td>1-5 лет</td>\n",
       "    </tr>\n",
       "    <tr>\n",
       "      <th>5288</th>\n",
       "      <td>1351</td>\n",
       "      <td>1-5 лет</td>\n",
       "    </tr>\n",
       "    <tr>\n",
       "      <th>3825</th>\n",
       "      <td>3256</td>\n",
       "      <td>5-10 лет</td>\n",
       "    </tr>\n",
       "    <tr>\n",
       "      <th>8770</th>\n",
       "      <td>5479</td>\n",
       "      <td>10-20 лет</td>\n",
       "    </tr>\n",
       "    <tr>\n",
       "      <th>864</th>\n",
       "      <td>3598</td>\n",
       "      <td>5-10 лет</td>\n",
       "    </tr>\n",
       "    <tr>\n",
       "      <th>4720</th>\n",
       "      <td>1645</td>\n",
       "      <td>1-5 лет</td>\n",
       "    </tr>\n",
       "    <tr>\n",
       "      <th>9890</th>\n",
       "      <td>4383</td>\n",
       "      <td>10-20 лет</td>\n",
       "    </tr>\n",
       "    <tr>\n",
       "      <th>3707</th>\n",
       "      <td>1055</td>\n",
       "      <td>1-5 лет</td>\n",
       "    </tr>\n",
       "    <tr>\n",
       "      <th>1249</th>\n",
       "      <td>1017</td>\n",
       "      <td>1-5 лет</td>\n",
       "    </tr>\n",
       "    <tr>\n",
       "      <th>2865</th>\n",
       "      <td>1497</td>\n",
       "      <td>1-5 лет</td>\n",
       "    </tr>\n",
       "  </tbody>\n",
       "</table>\n",
       "</div>"
      ],
      "text/plain": [
       "      lifetime lifetime_category\n",
       "6944      1706           1-5 лет\n",
       "5288      1351           1-5 лет\n",
       "3825      3256          5-10 лет\n",
       "8770      5479         10-20 лет\n",
       "864       3598          5-10 лет\n",
       "4720      1645           1-5 лет\n",
       "9890      4383         10-20 лет\n",
       "3707      1055           1-5 лет\n",
       "1249      1017           1-5 лет\n",
       "2865      1497           1-5 лет"
      ]
     },
     "execution_count": 191,
     "metadata": {},
     "output_type": "execute_result"
    }
   ],
   "source": [
    "data_test[['lifetime', 'lifetime_category']].sample(10)"
   ]
  },
  {
   "cell_type": "code",
   "execution_count": 192,
   "id": "7d7a64df",
   "metadata": {},
   "outputs": [
    {
     "data": {
      "image/png": "[encoded data removed]",
      "text/plain": [
       "<Figure size 1200x600 with 1 Axes>"
      ]
     },
     "metadata": {},
     "output_type": "display_data"
    }
   ],
   "source": [
    "plt.figure(figsize=(12, 6))\n",
    "pd.to_datetime(data_train['founded_at']).dt.year.hist(bins=range(int(pd.to_datetime(data_train['founded_at']).dt.year.min()), \n",
    "                                                               int(pd.to_datetime(data_train['founded_at']).dt.year.max()) + 1), \n",
    "                                                     alpha=0.7)\n",
    "plt.title('Гистограмма дат основания компаний')\n",
    "plt.xlabel('Год основания')\n",
    "plt.ylabel('Частота')\n",
    "plt.xticks(rotation=45)  # Поворот подписей годов для лучшей читаемости\n",
    "plt.grid(axis='y', linestyle='--', alpha=0.7)\n",
    "plt.tight_layout()\n",
    "plt.show()"
   ]
  },
  {
   "cell_type": "markdown",
   "id": "e86599fd",
   "metadata": {},
   "source": [
    "Количества компаний постепенно начинает расти с 1995 по 2000 года. Наибольшее количество компаний было основано в 2012-2013 годах — свыше 6600. После этого периода наблюдается существенное снижение числа новых компаний.\n"
   ]
  },
  {
   "cell_type": "markdown",
   "id": "f0e5adff",
   "metadata": {},
   "source": [
    "`category_list`\n",
    "\\\n",
    "Обработаем столбец с категориями. Создайте новый столбец, в котором каждой компании будет присвоена основная категория из списка."
   ]
  },
  {
   "cell_type": "code",
   "execution_count": 193,
   "id": "bca5968f",
   "metadata": {},
   "outputs": [],
   "source": [
    "data_train['primary_category'] = data_train['category_list'].str.split('|').str[0]\n",
    "data_test['primary_category'] = data_test['category_list'].str.split('|').str[0]"
   ]
  },
  {
   "cell_type": "code",
   "execution_count": 194,
   "id": "22cdd379",
   "metadata": {},
   "outputs": [
    {
     "data": {
      "text/html": [
       "<div>\n",
       "<style scoped>\n",
       "    .dataframe tbody tr th:only-of-type {\n",
       "        vertical-align: middle;\n",
       "    }\n",
       "\n",
       "    .dataframe tbody tr th {\n",
       "        vertical-align: top;\n",
       "    }\n",
       "\n",
       "    .dataframe thead th {\n",
       "        text-align: right;\n",
       "    }\n",
       "</style>\n",
       "<table border=\"1\" class=\"dataframe\">\n",
       "  <thead>\n",
       "    <tr style=\"text-align: right;\">\n",
       "      <th></th>\n",
       "      <th>name</th>\n",
       "      <th>category_list</th>\n",
       "      <th>funding_total_usd</th>\n",
       "      <th>status</th>\n",
       "      <th>country_code</th>\n",
       "      <th>state_code</th>\n",
       "      <th>region</th>\n",
       "      <th>city</th>\n",
       "      <th>funding_rounds</th>\n",
       "      <th>founded_at</th>\n",
       "      <th>first_funding_at</th>\n",
       "      <th>last_funding_at</th>\n",
       "      <th>closed_at</th>\n",
       "      <th>lifetime</th>\n",
       "      <th>lifetime_category</th>\n",
       "      <th>primary_category</th>\n",
       "    </tr>\n",
       "  </thead>\n",
       "  <tbody>\n",
       "    <tr>\n",
       "      <th>0</th>\n",
       "      <td>Lunchgate</td>\n",
       "      <td>online reservations|restaurants</td>\n",
       "      <td>828626.0</td>\n",
       "      <td>operating</td>\n",
       "      <td>che</td>\n",
       "      <td>25</td>\n",
       "      <td>zurich</td>\n",
       "      <td>zürich</td>\n",
       "      <td>2</td>\n",
       "      <td>2010-06-24</td>\n",
       "      <td>2011-05-01</td>\n",
       "      <td>2014-12-01</td>\n",
       "      <td>2018-01-01</td>\n",
       "      <td>2748</td>\n",
       "      <td>5-10 лет</td>\n",
       "      <td>online reservations</td>\n",
       "    </tr>\n",
       "    <tr>\n",
       "      <th>1</th>\n",
       "      <td>EarLens</td>\n",
       "      <td>manufacturing|medical|medical devices</td>\n",
       "      <td>42935019.0</td>\n",
       "      <td>operating</td>\n",
       "      <td>usa</td>\n",
       "      <td>ca</td>\n",
       "      <td>sf bay area</td>\n",
       "      <td>redwood city</td>\n",
       "      <td>4</td>\n",
       "      <td>2005-01-01</td>\n",
       "      <td>2010-05-04</td>\n",
       "      <td>2014-02-25</td>\n",
       "      <td>2018-01-01</td>\n",
       "      <td>4748</td>\n",
       "      <td>10-20 лет</td>\n",
       "      <td>manufacturing</td>\n",
       "    </tr>\n",
       "    <tr>\n",
       "      <th>2</th>\n",
       "      <td>Reviva Pharmaceuticals</td>\n",
       "      <td>biotechnology</td>\n",
       "      <td>35456381.0</td>\n",
       "      <td>operating</td>\n",
       "      <td>usa</td>\n",
       "      <td>ca</td>\n",
       "      <td>sf bay area</td>\n",
       "      <td>san jose</td>\n",
       "      <td>3</td>\n",
       "      <td>2006-01-01</td>\n",
       "      <td>2012-08-20</td>\n",
       "      <td>2014-07-02</td>\n",
       "      <td>2018-01-01</td>\n",
       "      <td>4383</td>\n",
       "      <td>10-20 лет</td>\n",
       "      <td>biotechnology</td>\n",
       "    </tr>\n",
       "    <tr>\n",
       "      <th>3</th>\n",
       "      <td>Sancilio and Company</td>\n",
       "      <td>health care</td>\n",
       "      <td>22250000.0</td>\n",
       "      <td>operating</td>\n",
       "      <td>usa</td>\n",
       "      <td>ca</td>\n",
       "      <td>sf bay area</td>\n",
       "      <td>san francisco</td>\n",
       "      <td>3</td>\n",
       "      <td>2004-01-01</td>\n",
       "      <td>2011-09-01</td>\n",
       "      <td>2014-07-18</td>\n",
       "      <td>2018-01-01</td>\n",
       "      <td>5114</td>\n",
       "      <td>10-20 лет</td>\n",
       "      <td>health care</td>\n",
       "    </tr>\n",
       "    <tr>\n",
       "      <th>4</th>\n",
       "      <td>WireTough Cylinders</td>\n",
       "      <td>manufacturing</td>\n",
       "      <td>2000000.0</td>\n",
       "      <td>operating</td>\n",
       "      <td>usa</td>\n",
       "      <td>va</td>\n",
       "      <td>va - other</td>\n",
       "      <td>bristol</td>\n",
       "      <td>1</td>\n",
       "      <td>2010-07-30</td>\n",
       "      <td>2012-02-01</td>\n",
       "      <td>2012-02-01</td>\n",
       "      <td>2018-01-01</td>\n",
       "      <td>2712</td>\n",
       "      <td>5-10 лет</td>\n",
       "      <td>manufacturing</td>\n",
       "    </tr>\n",
       "  </tbody>\n",
       "</table>\n",
       "</div>"
      ],
      "text/plain": [
       "                     name                          category_list  \\\n",
       "0               Lunchgate        online reservations|restaurants   \n",
       "1                 EarLens  manufacturing|medical|medical devices   \n",
       "2  Reviva Pharmaceuticals                          biotechnology   \n",
       "3    Sancilio and Company                            health care   \n",
       "4     WireTough Cylinders                          manufacturing   \n",
       "\n",
       "   funding_total_usd     status country_code state_code       region  \\\n",
       "0           828626.0  operating          che         25       zurich   \n",
       "1         42935019.0  operating          usa         ca  sf bay area   \n",
       "2         35456381.0  operating          usa         ca  sf bay area   \n",
       "3         22250000.0  operating          usa         ca  sf bay area   \n",
       "4          2000000.0  operating          usa         va   va - other   \n",
       "\n",
       "            city  funding_rounds founded_at first_funding_at last_funding_at  \\\n",
       "0         zürich               2 2010-06-24       2011-05-01      2014-12-01   \n",
       "1   redwood city               4 2005-01-01       2010-05-04      2014-02-25   \n",
       "2       san jose               3 2006-01-01       2012-08-20      2014-07-02   \n",
       "3  san francisco               3 2004-01-01       2011-09-01      2014-07-18   \n",
       "4        bristol               1 2010-07-30       2012-02-01      2012-02-01   \n",
       "\n",
       "   closed_at  lifetime lifetime_category     primary_category  \n",
       "0 2018-01-01      2748          5-10 лет  online reservations  \n",
       "1 2018-01-01      4748         10-20 лет        manufacturing  \n",
       "2 2018-01-01      4383         10-20 лет        biotechnology  \n",
       "3 2018-01-01      5114         10-20 лет          health care  \n",
       "4 2018-01-01      2712          5-10 лет        manufacturing  "
      ]
     },
     "execution_count": 194,
     "metadata": {},
     "output_type": "execute_result"
    }
   ],
   "source": [
    "data_train.head()"
   ]
  },
  {
   "cell_type": "code",
   "execution_count": 195,
   "id": "700481db",
   "metadata": {},
   "outputs": [
    {
     "data": {
      "text/html": [
       "<div>\n",
       "<style scoped>\n",
       "    .dataframe tbody tr th:only-of-type {\n",
       "        vertical-align: middle;\n",
       "    }\n",
       "\n",
       "    .dataframe tbody tr th {\n",
       "        vertical-align: top;\n",
       "    }\n",
       "\n",
       "    .dataframe thead th {\n",
       "        text-align: right;\n",
       "    }\n",
       "</style>\n",
       "<table border=\"1\" class=\"dataframe\">\n",
       "  <thead>\n",
       "    <tr style=\"text-align: right;\">\n",
       "      <th></th>\n",
       "      <th>name</th>\n",
       "      <th>category_list</th>\n",
       "      <th>funding_total_usd</th>\n",
       "      <th>country_code</th>\n",
       "      <th>state_code</th>\n",
       "      <th>region</th>\n",
       "      <th>city</th>\n",
       "      <th>funding_rounds</th>\n",
       "      <th>founded_at</th>\n",
       "      <th>first_funding_at</th>\n",
       "      <th>last_funding_at</th>\n",
       "      <th>closed_at</th>\n",
       "      <th>lifetime</th>\n",
       "      <th>lifetime_category</th>\n",
       "      <th>primary_category</th>\n",
       "    </tr>\n",
       "  </thead>\n",
       "  <tbody>\n",
       "    <tr>\n",
       "      <th>0</th>\n",
       "      <td>Crystalsol</td>\n",
       "      <td>clean technology</td>\n",
       "      <td>2819200.0</td>\n",
       "      <td>nic</td>\n",
       "      <td>17</td>\n",
       "      <td>sf bay area</td>\n",
       "      <td>san francisco</td>\n",
       "      <td>1</td>\n",
       "      <td>2008-06-01</td>\n",
       "      <td>2009-07-01</td>\n",
       "      <td>2009-07-01</td>\n",
       "      <td>2018-01-01</td>\n",
       "      <td>3501</td>\n",
       "      <td>5-10 лет</td>\n",
       "      <td>clean technology</td>\n",
       "    </tr>\n",
       "    <tr>\n",
       "      <th>1</th>\n",
       "      <td>JBI Fish &amp; Wings</td>\n",
       "      <td>hospitality</td>\n",
       "      <td>2000000.0</td>\n",
       "      <td>usa</td>\n",
       "      <td>tn</td>\n",
       "      <td>tn - other</td>\n",
       "      <td>humboldt</td>\n",
       "      <td>1</td>\n",
       "      <td>2010-07-25</td>\n",
       "      <td>2010-07-28</td>\n",
       "      <td>2010-07-28</td>\n",
       "      <td>2018-01-01</td>\n",
       "      <td>2717</td>\n",
       "      <td>5-10 лет</td>\n",
       "      <td>hospitality</td>\n",
       "    </tr>\n",
       "    <tr>\n",
       "      <th>2</th>\n",
       "      <td>COINPLUS</td>\n",
       "      <td>finance</td>\n",
       "      <td>428257.0</td>\n",
       "      <td>lux</td>\n",
       "      <td>3</td>\n",
       "      <td>esch-sur-alzette</td>\n",
       "      <td>esch-sur-alzette</td>\n",
       "      <td>2</td>\n",
       "      <td>2014-06-16</td>\n",
       "      <td>2014-05-15</td>\n",
       "      <td>2014-09-18</td>\n",
       "      <td>2018-01-01</td>\n",
       "      <td>1295</td>\n",
       "      <td>1-5 лет</td>\n",
       "      <td>finance</td>\n",
       "    </tr>\n",
       "    <tr>\n",
       "      <th>3</th>\n",
       "      <td>Imagine Communications</td>\n",
       "      <td>software|video|video streaming</td>\n",
       "      <td>34700000.0</td>\n",
       "      <td>usa</td>\n",
       "      <td>ca</td>\n",
       "      <td>san diego</td>\n",
       "      <td>san diego</td>\n",
       "      <td>4</td>\n",
       "      <td>2005-01-01</td>\n",
       "      <td>2005-01-01</td>\n",
       "      <td>2010-04-20</td>\n",
       "      <td>2018-01-01</td>\n",
       "      <td>4748</td>\n",
       "      <td>10-20 лет</td>\n",
       "      <td>software</td>\n",
       "    </tr>\n",
       "    <tr>\n",
       "      <th>4</th>\n",
       "      <td>DNA13</td>\n",
       "      <td>software</td>\n",
       "      <td>4530000.0</td>\n",
       "      <td>can</td>\n",
       "      <td>on</td>\n",
       "      <td>ottawa</td>\n",
       "      <td>ottawa</td>\n",
       "      <td>1</td>\n",
       "      <td>2001-01-01</td>\n",
       "      <td>2007-05-08</td>\n",
       "      <td>2007-05-08</td>\n",
       "      <td>2018-01-01</td>\n",
       "      <td>6209</td>\n",
       "      <td>10-20 лет</td>\n",
       "      <td>software</td>\n",
       "    </tr>\n",
       "  </tbody>\n",
       "</table>\n",
       "</div>"
      ],
      "text/plain": [
       "                     name                   category_list  funding_total_usd  \\\n",
       "0              Crystalsol                clean technology          2819200.0   \n",
       "1        JBI Fish & Wings                     hospitality          2000000.0   \n",
       "2                COINPLUS                         finance           428257.0   \n",
       "3  Imagine Communications  software|video|video streaming         34700000.0   \n",
       "4                   DNA13                        software          4530000.0   \n",
       "\n",
       "  country_code state_code            region              city  funding_rounds  \\\n",
       "0          nic         17       sf bay area     san francisco               1   \n",
       "1          usa         tn        tn - other          humboldt               1   \n",
       "2          lux          3  esch-sur-alzette  esch-sur-alzette               2   \n",
       "3          usa         ca         san diego         san diego               4   \n",
       "4          can         on            ottawa            ottawa               1   \n",
       "\n",
       "  founded_at first_funding_at last_funding_at  closed_at  lifetime  \\\n",
       "0 2008-06-01       2009-07-01      2009-07-01 2018-01-01      3501   \n",
       "1 2010-07-25       2010-07-28      2010-07-28 2018-01-01      2717   \n",
       "2 2014-06-16       2014-05-15      2014-09-18 2018-01-01      1295   \n",
       "3 2005-01-01       2005-01-01      2010-04-20 2018-01-01      4748   \n",
       "4 2001-01-01       2007-05-08      2007-05-08 2018-01-01      6209   \n",
       "\n",
       "  lifetime_category  primary_category  \n",
       "0          5-10 лет  clean technology  \n",
       "1          5-10 лет       hospitality  \n",
       "2           1-5 лет           finance  \n",
       "3         10-20 лет          software  \n",
       "4         10-20 лет          software  "
      ]
     },
     "execution_count": 195,
     "metadata": {},
     "output_type": "execute_result"
    }
   ],
   "source": [
    "data_test.head()"
   ]
  },
  {
   "cell_type": "markdown",
   "id": "47e01814",
   "metadata": {},
   "source": [
    "Целевой признак `status`"
   ]
  },
  {
   "cell_type": "code",
   "execution_count": 196,
   "id": "dada5a6b",
   "metadata": {},
   "outputs": [
    {
     "data": {
      "image/png": "[encoded data removed]",
      "text/plain": [
       "<Figure size 800x800 with 1 Axes>"
      ]
     },
     "metadata": {},
     "output_type": "display_data"
    }
   ],
   "source": [
    "plt.figure(figsize=(8, 8))\n",
    "data_train['status'].value_counts().plot(kind='pie', autopct='%1.1f%%', startangle=90)\n",
    "plt.title('Распределение по статусу компаний')\n",
    "plt.ylabel('')\n",
    "plt.tight_layout()\n",
    "plt.show()"
   ]
  },
  {
   "cell_type": "markdown",
   "id": "906b1a7a",
   "metadata": {},
   "source": [
    "Большая часть стартапов находится в активной фазе развития 90.6%, в то время как стартапов, завершивших свою деятельность, значительно меньше — 9.4%. Такое неравномерное распределение может свидетельствовать о различиях в успешности и стабильности стартапов на долгосрочную перспективу."
   ]
  },
  {
   "cell_type": "code",
   "execution_count": 197,
   "id": "56e4f5a7",
   "metadata": {},
   "outputs": [
    {
     "data": {
      "image/png": "[encoded data removed]",
      "text/plain": [
       "<Figure size 1200x800 with 1 Axes>"
      ]
     },
     "metadata": {},
     "output_type": "display_data"
    }
   ],
   "source": [
    "plt.figure(figsize=(12, 8))\n",
    "sns.countplot(data=data_train, x='country_code', hue='status', palette='Set2', order=data_train['country_code'].value_counts().head(20).index)\n",
    "plt.title('Распределение статусов стартапов по странам')\n",
    "plt.xlabel('Код страны')\n",
    "plt.ylabel('Количество стартапов')\n",
    "plt.xticks(rotation=45)\n",
    "plt.legend(title='Статус')\n",
    "plt.show()"
   ]
  },
  {
   "cell_type": "markdown",
   "id": "e75329f2",
   "metadata": {},
   "source": [
    "Безаговорочным лидером по количеству стартапов среди стран является USA, количество стартапов превышает 31000. "
   ]
  },
  {
   "cell_type": "code",
   "execution_count": 198,
   "id": "ab2294f5",
   "metadata": {},
   "outputs": [
    {
     "data": {
      "image/png": "[encoded data removed]",
      "text/plain": [
       "<Figure size 1200x800 with 1 Axes>"
      ]
     },
     "metadata": {},
     "output_type": "display_data"
    }
   ],
   "source": [
    "plt.figure(figsize=(12, 8))\n",
    "sns.countplot(data=data_train, x='city', hue='status', palette='Set2', order=data_train['city'].value_counts().head(20).index)\n",
    "plt.title('Распределение статусов стартапов по городам')\n",
    "plt.xlabel('Город')\n",
    "plt.ylabel('Количество стартапов')\n",
    "plt.xticks(rotation=45)\n",
    "plt.legend(title='Статус')\n",
    "plt.show()"
   ]
  },
  {
   "cell_type": "markdown",
   "id": "b4b5796d",
   "metadata": {},
   "source": [
    "san_francisco является абсолютным лидером по числу стартапов среди городов, их число превышает 7500."
   ]
  },
  {
   "cell_type": "code",
   "execution_count": 199,
   "id": "3d55ccfc",
   "metadata": {},
   "outputs": [
    {
     "data": {
      "image/png": "[encoded data removed]",
      "text/plain": [
       "<Figure size 1200x800 with 1 Axes>"
      ]
     },
     "metadata": {},
     "output_type": "display_data"
    }
   ],
   "source": [
    "plt.figure(figsize=(12, 8))\n",
    "sns.countplot(data=data_train, x='category_list', hue='status', palette='Set2', order=data_train['category_list'].value_counts().head(20).index)\n",
    "plt.title('Распределение статусов стартапов по категориям')\n",
    "plt.xlabel('Категории')\n",
    "plt.ylabel('Количество стартапов')\n",
    "plt.xticks(rotation=45)\n",
    "plt.legend(title='Статус')\n",
    "plt.show()"
   ]
  },
  {
   "cell_type": "markdown",
   "id": "c522730d",
   "metadata": {},
   "source": [
    "Из графиков можно сделать вывод, что к самым популярным категориям для действующих стартапов можно отнести biotechnology и software. Количество стартапов в данных областях превышает 3000.\n"
   ]
  },
  {
   "cell_type": "code",
   "execution_count": 200,
   "id": "c7d29eaa",
   "metadata": {},
   "outputs": [
    {
     "data": {
      "image/png": "[encoded data removed]",
      "text/plain": [
       "<Figure size 1200x800 with 1 Axes>"
      ]
     },
     "metadata": {},
     "output_type": "display_data"
    }
   ],
   "source": [
    "plt.figure(figsize=(12, 8))\n",
    "sns.countplot(data=data_train, x='funding_rounds', hue='status', palette='Set2', order=data_train['funding_rounds'].value_counts().head(20).index)\n",
    "plt.title('Распределение статусов стартапов по количеству раундов')\n",
    "plt.xlabel('Кол-во раундов')\n",
    "plt.ylabel('Количество стартапов')\n",
    "plt.xticks(rotation=45)\n",
    "plt.legend(title='Статус')\n",
    "plt.show()"
   ]
  },
  {
   "cell_type": "markdown",
   "id": "071b208d",
   "metadata": {},
   "source": [
    "Большее количество стартапов, как закрытых, так и действующих имели 1 раунд финансирования."
   ]
  },
  {
   "cell_type": "markdown",
   "id": "c3dd03f8",
   "metadata": {},
   "source": [
    "`funding_total_usd`"
   ]
  },
  {
   "cell_type": "code",
   "execution_count": 201,
   "id": "761cf5cf",
   "metadata": {},
   "outputs": [
    {
     "data": {
      "image/png": "[encoded data removed]",
      "text/plain": [
       "<Figure size 1000x600 with 1 Axes>"
      ]
     },
     "metadata": {},
     "output_type": "display_data"
    }
   ],
   "source": [
    "plt.figure(figsize=(10, 6))\n",
    "sns.boxplot(x=data_train['funding_total_usd'])\n",
    "plt.title('Диаграмма размаха для суммы финансирования стартапов')\n",
    "plt.xlabel('Сумма финансирования (USD)')\n",
    "plt.show()"
   ]
  },
  {
   "cell_type": "markdown",
   "id": "6e8c41e8",
   "metadata": {},
   "source": [
    "График демонстрирует значительное количество аномальных значений, но их количество настолько велико, что просто удалить их нельзя."
   ]
  },
  {
   "cell_type": "markdown",
   "id": "10fc5b9e",
   "metadata": {},
   "source": [
    "## Проверка на мультиколлинеарность"
   ]
  },
  {
   "cell_type": "code",
   "execution_count": 202,
   "id": "d0a1566c",
   "metadata": {},
   "outputs": [
    {
     "name": "stdout",
     "output_type": "stream",
     "text": [
      "interval columns not set, guessing: ['funding_total_usd', 'funding_rounds', 'lifetime']\n"
     ]
    },
    {
     "data": {
      "image/png": "[encoded data removed]",
      "text/plain": [
       "<Figure size 1000x1000 with 2 Axes>"
      ]
     },
     "metadata": {},
     "output_type": "display_data"
    }
   ],
   "source": [
    "phik_overview = data_train.sample(1000).phik_matrix()\n",
    "plot_correlation_matrix(phik_overview.values, x_labels=phik_overview.columns, y_labels=phik_overview.index, \n",
    "                        vmin=0, vmax=1, color_map='Greens', title=r'correlation $\\phi_K$', fontsize_factor=1,\n",
    "                        figsize=(10,10))\n",
    "plt.tight_layout()"
   ]
  },
  {
   "cell_type": "code",
   "execution_count": 203,
   "id": "27ceedac",
   "metadata": {},
   "outputs": [],
   "source": [
    "\n",
    "columns_train = ['funding_total_usd', 'status', 'country_code', 'state_code', 'funding_rounds', 'lifetime', 'lifetime_category', 'primary_category']\n",
    "columns_test = ['funding_total_usd', 'country_code', 'state_code', 'funding_rounds', 'lifetime', 'lifetime_category', 'primary_category']\n",
    "\n",
    "df_train = data_train[columns_train].copy()\n",
    "df_test = data_test[columns_test].copy()"
   ]
  },
  {
   "cell_type": "markdown",
   "id": "b30cee82",
   "metadata": {},
   "source": [
    "**Вывод:** Aнализ матрицы показал, что многие признаки сильно коррелируют между собой. Признак `name` уникальный, при обучении его использовать не будем. `status` коррелирует с датой закрытия 'closed_at', т.к. с помощью нее он и получен. Не используем 'closed_at' в финальном списке признаков. Признаки даты - тоже сильно коррелируют с другими признаками.\n",
    "С географическими данными тоже наблюдается высокая корреляция. У признака category_list не наблюдается корреляции с целевым признаком, а вот у primary_category, которые мы выделили, корреляция есть.\\\n",
    "Для дальнейшего анализа будем использовать следующие признаки:\\\n",
    "\\\n",
    "Числовые\n",
    "- funding_total_usd\n",
    "- funding_rounds\n",
    "- lifetime\n",
    "\n",
    "Категориальные\n",
    "- country_code\n",
    "- state_code\n",
    "- lifetime_category\n",
    "- primary_category"
   ]
  },
  {
   "cell_type": "code",
   "execution_count": 204,
   "id": "6651437e",
   "metadata": {},
   "outputs": [
    {
     "data": {
      "text/html": [
       "<div>\n",
       "<style scoped>\n",
       "    .dataframe tbody tr th:only-of-type {\n",
       "        vertical-align: middle;\n",
       "    }\n",
       "\n",
       "    .dataframe tbody tr th {\n",
       "        vertical-align: top;\n",
       "    }\n",
       "\n",
       "    .dataframe thead th {\n",
       "        text-align: right;\n",
       "    }\n",
       "</style>\n",
       "<table border=\"1\" class=\"dataframe\">\n",
       "  <thead>\n",
       "    <tr style=\"text-align: right;\">\n",
       "      <th></th>\n",
       "      <th>funding_total_usd</th>\n",
       "      <th>status</th>\n",
       "      <th>country_code</th>\n",
       "      <th>state_code</th>\n",
       "      <th>funding_rounds</th>\n",
       "      <th>lifetime</th>\n",
       "      <th>lifetime_category</th>\n",
       "      <th>primary_category</th>\n",
       "    </tr>\n",
       "  </thead>\n",
       "  <tbody>\n",
       "    <tr>\n",
       "      <th>0</th>\n",
       "      <td>828626.0</td>\n",
       "      <td>operating</td>\n",
       "      <td>che</td>\n",
       "      <td>25</td>\n",
       "      <td>2</td>\n",
       "      <td>2748</td>\n",
       "      <td>5-10 лет</td>\n",
       "      <td>online reservations</td>\n",
       "    </tr>\n",
       "    <tr>\n",
       "      <th>1</th>\n",
       "      <td>42935019.0</td>\n",
       "      <td>operating</td>\n",
       "      <td>usa</td>\n",
       "      <td>ca</td>\n",
       "      <td>4</td>\n",
       "      <td>4748</td>\n",
       "      <td>10-20 лет</td>\n",
       "      <td>manufacturing</td>\n",
       "    </tr>\n",
       "    <tr>\n",
       "      <th>2</th>\n",
       "      <td>35456381.0</td>\n",
       "      <td>operating</td>\n",
       "      <td>usa</td>\n",
       "      <td>ca</td>\n",
       "      <td>3</td>\n",
       "      <td>4383</td>\n",
       "      <td>10-20 лет</td>\n",
       "      <td>biotechnology</td>\n",
       "    </tr>\n",
       "    <tr>\n",
       "      <th>3</th>\n",
       "      <td>22250000.0</td>\n",
       "      <td>operating</td>\n",
       "      <td>usa</td>\n",
       "      <td>ca</td>\n",
       "      <td>3</td>\n",
       "      <td>5114</td>\n",
       "      <td>10-20 лет</td>\n",
       "      <td>health care</td>\n",
       "    </tr>\n",
       "    <tr>\n",
       "      <th>4</th>\n",
       "      <td>2000000.0</td>\n",
       "      <td>operating</td>\n",
       "      <td>usa</td>\n",
       "      <td>va</td>\n",
       "      <td>1</td>\n",
       "      <td>2712</td>\n",
       "      <td>5-10 лет</td>\n",
       "      <td>manufacturing</td>\n",
       "    </tr>\n",
       "  </tbody>\n",
       "</table>\n",
       "</div>"
      ],
      "text/plain": [
       "   funding_total_usd     status country_code state_code  funding_rounds  \\\n",
       "0           828626.0  operating          che         25               2   \n",
       "1         42935019.0  operating          usa         ca               4   \n",
       "2         35456381.0  operating          usa         ca               3   \n",
       "3         22250000.0  operating          usa         ca               3   \n",
       "4          2000000.0  operating          usa         va               1   \n",
       "\n",
       "   lifetime lifetime_category     primary_category  \n",
       "0      2748          5-10 лет  online reservations  \n",
       "1      4748         10-20 лет        manufacturing  \n",
       "2      4383         10-20 лет        biotechnology  \n",
       "3      5114         10-20 лет          health care  \n",
       "4      2712          5-10 лет        manufacturing  "
      ]
     },
     "execution_count": 204,
     "metadata": {},
     "output_type": "execute_result"
    }
   ],
   "source": [
    "df_train.head()"
   ]
  },
  {
   "cell_type": "markdown",
   "id": "00c3632d",
   "metadata": {},
   "source": [
    "## Подготовка данных и выбор лучшей модели"
   ]
  },
  {
   "cell_type": "code",
   "execution_count": 205,
   "id": "4dbd0d0b",
   "metadata": {},
   "outputs": [],
   "source": [
    "features = df_train.drop(['status'], axis=1)\n",
    "target = df_train['status']\n",
    "target = target.replace({'operating':0, 'closed':1})\n"
   ]
  },
  {
   "cell_type": "code",
   "execution_count": 206,
   "id": "c3e3ba3e",
   "metadata": {},
   "outputs": [
    {
     "name": "stdout",
     "output_type": "stream",
     "text": [
      "<class 'pandas.core.frame.DataFrame'>\n",
      "RangeIndex: 52550 entries, 0 to 52549\n",
      "Data columns (total 7 columns):\n",
      " #   Column             Non-Null Count  Dtype  \n",
      "---  ------             --------------  -----  \n",
      " 0   funding_total_usd  52550 non-null  float64\n",
      " 1   country_code       52550 non-null  object \n",
      " 2   state_code         52550 non-null  object \n",
      " 3   funding_rounds     52550 non-null  int64  \n",
      " 4   lifetime           52550 non-null  int64  \n",
      " 5   lifetime_category  52550 non-null  object \n",
      " 6   primary_category   52550 non-null  object \n",
      "dtypes: float64(1), int64(2), object(4)\n",
      "memory usage: 2.8+ MB\n"
     ]
    }
   ],
   "source": [
    "features.info()"
   ]
  },
  {
   "cell_type": "code",
   "execution_count": 207,
   "id": "c4e41353",
   "metadata": {},
   "outputs": [],
   "source": [
    "TEST_SIZE = 0.2\n",
    "RANDOM_STATE = 12345"
   ]
  },
  {
   "cell_type": "code",
   "execution_count": 208,
   "id": "5c689c43",
   "metadata": {},
   "outputs": [
    {
     "data": {
      "text/plain": [
       "((52550, 16), (13211, 15))"
      ]
     },
     "execution_count": 208,
     "metadata": {},
     "output_type": "execute_result"
    }
   ],
   "source": [
    "features_train, features_test, target_train, target_test = train_test_split(\n",
    "    features, target, test_size = TEST_SIZE, random_state = RANDOM_STATE, stratify=target)\n",
    "data_train.shape, data_test.shape"
   ]
  },
  {
   "cell_type": "code",
   "execution_count": 209,
   "id": "a769eae7",
   "metadata": {},
   "outputs": [
    {
     "data": {
      "text/plain": [
       "0.8"
      ]
     },
     "execution_count": 209,
     "metadata": {},
     "output_type": "execute_result"
    }
   ],
   "source": [
    "len(features_train)/len(features)"
   ]
  },
  {
   "cell_type": "code",
   "execution_count": 210,
   "id": "1b4fbe96",
   "metadata": {},
   "outputs": [
    {
     "data": {
      "text/plain": [
       "0.2"
      ]
     },
     "execution_count": 210,
     "metadata": {},
     "output_type": "execute_result"
    }
   ],
   "source": [
    "len(features_test)/len(features)"
   ]
  },
  {
   "cell_type": "code",
   "execution_count": 211,
   "id": "11a7e503",
   "metadata": {},
   "outputs": [],
   "source": [
    "categorical = features.select_dtypes(include=['object']).columns.tolist()\n",
    "numeric = features.select_dtypes(include=['int64', 'float64']).columns.tolist()"
   ]
  },
  {
   "cell_type": "code",
   "execution_count": 212,
   "id": "e9e6eb58",
   "metadata": {},
   "outputs": [
    {
     "data": {
      "text/plain": [
       "['country_code', 'state_code', 'lifetime_category', 'primary_category']"
      ]
     },
     "execution_count": 212,
     "metadata": {},
     "output_type": "execute_result"
    }
   ],
   "source": [
    "categorical"
   ]
  },
  {
   "cell_type": "code",
   "execution_count": 213,
   "id": "88c56fcf",
   "metadata": {},
   "outputs": [
    {
     "data": {
      "text/plain": [
       "['funding_total_usd', 'funding_rounds', 'lifetime']"
      ]
     },
     "execution_count": 213,
     "metadata": {},
     "output_type": "execute_result"
    }
   ],
   "source": [
    "numeric"
   ]
  },
  {
   "cell_type": "code",
   "execution_count": 214,
   "id": "6d31105c",
   "metadata": {},
   "outputs": [],
   "source": [
    "\n",
    "categorical_transformer = Pipeline(\n",
    "    [\n",
    "    ('onehot', OneHotEncoder(drop='first', handle_unknown='ignore', sparse_output=False, max_categories=10))\n",
    "]\n",
    ")\n",
    "\n",
    "numeric_transformer = Pipeline(steps=[\n",
    "    ('scaler', StandardScaler())\n",
    "])\n",
    "\n",
    "data_preprocessor = ColumnTransformer(\n",
    "    transformers=[\n",
    "        ('cat', categorical_transformer, categorical),\n",
    "        ('num', numeric_transformer, numeric)\n",
    "    ],\n",
    "    remainder='passthrough'\n",
    ")\n"
   ]
  },
  {
   "cell_type": "code",
   "execution_count": 215,
   "id": "298fcf92",
   "metadata": {},
   "outputs": [
    {
     "name": "stdout",
     "output_type": "stream",
     "text": [
      "Fitting 5 folds for each of 2088 candidates, totalling 10440 fits\n"
     ]
    },
    {
     "name": "stdout",
     "output_type": "stream",
     "text": [
      "Лучшая модель и её параметры:\n",
      "\n",
      " Pipeline(steps=[('preprocessor',\n",
      "                 ColumnTransformer(remainder='passthrough',\n",
      "                                   transformers=[('cat',\n",
      "                                                  Pipeline(steps=[('onehot',\n",
      "                                                                   OneHotEncoder(drop='first',\n",
      "                                                                                 handle_unknown='ignore',\n",
      "                                                                                 max_categories=10,\n",
      "                                                                                 sparse_output=False))]),\n",
      "                                                  ['country_code', 'state_code',\n",
      "                                                   'lifetime_category',\n",
      "                                                   'primary_category']),\n",
      "                                                 ('num',\n",
      "                                                  Pipeline(steps=[('scaler',\n",
      "                                                                   'passthrough')]),\n",
      "                                                  ['funding_total_usd',\n",
      "                                                   'funding_rounds',\n",
      "                                                   'lifetime'])])),\n",
      "                ('models',\n",
      "                 RandomForestClassifier(max_depth=20, random_state=12345))])\n",
      "F1 лучшей модели: 0.7\n"
     ]
    }
   ],
   "source": [
    "pipe_final = Pipeline(\n",
    "    [\n",
    "        ('preprocessor', data_preprocessor),\n",
    "        ('models', DecisionTreeClassifier(random_state=RANDOM_STATE))\n",
    "    ]\n",
    ")\n",
    "\n",
    "param_grid = [\n",
    "    {\n",
    "        'models': [DecisionTreeClassifier(random_state=RANDOM_STATE)],\n",
    "        'models__max_depth': range(2, 20),\n",
    "        'models__max_features': range(2, 20),\n",
    "        'preprocessor__num__scaler': [StandardScaler(), MinMaxScaler(), 'passthrough'],\n",
    "        'models__class_weight': ['balanced', None]\n",
    "    },\n",
    "    {\n",
    "        'models': [LogisticRegression(random_state=RANDOM_STATE, solver='liblinear', penalty='l1')],\n",
    "        'models__C': range(1, 10),\n",
    "        'preprocessor__num__scaler': [StandardScaler(), MinMaxScaler(), 'passthrough'],\n",
    "        'models__class_weight': ['balanced', None]\n",
    "    },\n",
    "    {\n",
    "        'models': [KNeighborsClassifier()],\n",
    "        'models__n_neighbors': range(2, 8),\n",
    "        'preprocessor__num': [StandardScaler(), MinMaxScaler(), 'passthrough']   \n",
    "    },\n",
    "    {\n",
    "        'models': [RandomForestClassifier(random_state=RANDOM_STATE)],\n",
    "        'models__n_estimators': [50, 100, 150],\n",
    "        'models__max_depth': [None, 10, 20, 30],\n",
    "        'preprocessor__num__scaler': [StandardScaler(), MinMaxScaler(), 'passthrough'],\n",
    "        'models__class_weight': ['balanced', None]\n",
    "    }\n",
    "]\n",
    "\n",
    "grid = GridSearchCV(\n",
    "    pipe_final,\n",
    "    param_grid,\n",
    "    cv=5,\n",
    "    scoring='f1', \n",
    "    verbose=2,\n",
    "    error_score='raise',\n",
    "    n_jobs=-1)\n",
    "\n",
    "\n",
    "grid.fit(features_train, target_train)\n",
    "\n",
    "print('Лучшая модель и её параметры:\\n\\n', grid.best_estimator_)\n",
    "print('F1 лучшей модели:', grid.best_score_.round(2))"
   ]
  },
  {
   "cell_type": "code",
   "execution_count": 216,
   "id": "833cd60f",
   "metadata": {},
   "outputs": [
    {
     "name": "stdout",
     "output_type": "stream",
     "text": [
      "F1 = 0.70\n"
     ]
    }
   ],
   "source": [
    "target_pred = grid.predict(features_test)\n",
    "print(f\"F1 = {f1_score(target_test, target_pred, pos_label=1):.2f}\")"
   ]
  },
  {
   "cell_type": "markdown",
   "id": "824843e6",
   "metadata": {},
   "source": [
    "## Вывод\n",
    "\n",
    "**Модель, показавшая лучший результат:**\n",
    "\n",
    "- DecisionTreeClassifier(max_depth=7, max_features=9, random_state=42)\n",
    "- MinMaxScaler() применялся для масштабирования числовых признаков\n",
    "- lifetime наиболее важный признак\n",
    "- Метрика лучшей модели на кросс-валидации: 0.6830379886708718"
   ]
  }
 ],
 "metadata": {
  "ExecuteTimeLog": [
   {
    "duration": 405,
    "start_time": "2024-04-05T14:21:44.228Z"
   },
   {
    "duration": 96,
    "start_time": "2024-04-05T14:29:00.439Z"
   },
   {
    "duration": 60,
    "start_time": "2024-04-05T14:29:49.123Z"
   },
   {
    "duration": 42,
    "start_time": "2024-04-05T14:30:03.517Z"
   },
   {
    "duration": 205,
    "start_time": "2024-04-05T14:33:29.559Z"
   },
   {
    "duration": 72,
    "start_time": "2024-04-05T14:33:52.839Z"
   },
   {
    "duration": 20,
    "start_time": "2024-04-05T14:34:07.182Z"
   },
   {
    "duration": 1891,
    "start_time": "2024-04-05T14:34:36.583Z"
   },
   {
    "duration": 12,
    "start_time": "2024-04-05T14:34:44.210Z"
   },
   {
    "duration": 420,
    "start_time": "2024-04-05T14:34:59.318Z"
   },
   {
    "duration": 2143,
    "start_time": "2024-04-05T14:34:59.740Z"
   },
   {
    "duration": 0,
    "start_time": "2024-04-05T14:35:01.885Z"
   },
   {
    "duration": 44,
    "start_time": "2024-04-05T14:35:58.953Z"
   },
   {
    "duration": 43,
    "start_time": "2024-04-05T14:36:12.598Z"
   },
   {
    "duration": 40,
    "start_time": "2024-04-05T14:38:03.278Z"
   }
  ],
  "kernelspec": {
   "display_name": "Python 3 (ipykernel)",
   "language": "python",
   "name": "python3"
  },
  "language_info": {
   "codemirror_mode": {
    "name": "ipython",
    "version": 3
   },
   "file_extension": ".py",
   "mimetype": "text/x-python",
   "name": "python",
   "nbconvert_exporter": "python",
   "pygments_lexer": "ipython3",
   "version": "3.8.10"
  },
  "toc": {
   "base_numbering": "1",
   "nav_menu": {},
   "number_sections": true,
   "sideBar": true,
   "skip_h1_title": true,
   "title_cell": "Table of Contents",
   "title_sidebar": "Contents",
   "toc_cell": false,
   "toc_position": {
    "height": "calc(100% - 180px)",
    "left": "10px",
    "top": "150px",
    "width": "688px"
   },
   "toc_section_display": true,
   "toc_window_display": true
  }
 },
 "nbformat": 4,
 "nbformat_minor": 5
}
