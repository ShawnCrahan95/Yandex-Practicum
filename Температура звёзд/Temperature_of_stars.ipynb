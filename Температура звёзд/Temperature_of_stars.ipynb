{
 "cells": [
  {
   "cell_type": "markdown",
   "metadata": {},
   "source": [
    "# Прогнозирование температуры звезды\n",
    "\n",
    "Задача от обсерватории «Небо на ладони»: придумать, как с помощью нейросети определять температуру на поверхности обнаруженных звёзд. Обычно для расчёта температуры учёные пользуются следующими методами:\n",
    "Закон смещения Вина.\n",
    "Закон Стефана-Больцмана.\n",
    "Спектральный анализ.\n",
    "Каждый из них имеет плюсы и минусы. Обсерватория хочет внедрить технологии машинного обучения для предсказания температуры звёзд, надеясь, что этот метод будет наиболее точным и удобным.\n",
    "В базе обсерватории есть характеристики уже изученных 240 звёзд.\n",
    "\n",
    "Характеристики:\n",
    "\n",
    "Относительная светимость L/Lo — светимость звезды относительно Солнца.\n",
    "\n",
    "Относительный радиус R/Ro — радиус звезды относительно радиуса Солнца.\n",
    "\n",
    "Абсолютная звёздная величина Mv — физическая величина, характеризующая блеск звезды.\n",
    "\n",
    "Звёздный цвет (white, red, blue, yellow, yellow-orange и др.) — цвет звезды, который определяют на основе спектрального анализа.\n",
    "\n",
    "Тип звезды.\n",
    "Тип звезды\tНомер, соответствующий типу:\n",
    "\n",
    " - Коричневый карлик\t0\n",
    " \n",
    " - Красный карлик\t1\n",
    " \n",
    " - Белый карлик\t2\n",
    " \n",
    " - Звёзды главной последовательности\t3\n",
    " \n",
    " - Сверхгигант\t4\n",
    " \n",
    " - Гипергигант\t5\n",
    " \n",
    "Абсолютная температура T(K) — температура на поверхности звезды в Кельвинах.\n",
    "\n",
    "Необходимо разработать нейронную сеть, которая поможет предсказывать абсолютную температуру на поверхности звезды."
   ]
  },
  {
   "cell_type": "markdown",
   "metadata": {},
   "source": [
    "## Загрузка данных"
   ]
  },
  {
   "cell_type": "markdown",
   "metadata": {},
   "source": [
    "### Импортируем библиотеки"
   ]
  },
  {
   "cell_type": "code",
   "execution_count": 1,
   "metadata": {},
   "outputs": [
    {
     "name": "stdout",
     "output_type": "stream",
     "text": [
      "Requirement already satisfied: torch in c:\\users\\shawn\\appdata\\local\\programs\\python\\python312\\lib\\site-packages (2.4.1)\n",
      "Requirement already satisfied: filelock in c:\\users\\shawn\\appdata\\local\\programs\\python\\python312\\lib\\site-packages (from torch) (3.16.1)\n",
      "Requirement already satisfied: typing-extensions>=4.8.0 in c:\\users\\shawn\\appdata\\local\\programs\\python\\python312\\lib\\site-packages (from torch) (4.12.2)\n",
      "Requirement already satisfied: sympy in c:\\users\\shawn\\appdata\\local\\programs\\python\\python312\\lib\\site-packages (from torch) (1.13.2)\n",
      "Requirement already satisfied: networkx in c:\\users\\shawn\\appdata\\local\\programs\\python\\python312\\lib\\site-packages (from torch) (3.3)\n",
      "Requirement already satisfied: jinja2 in c:\\users\\shawn\\appdata\\local\\programs\\python\\python312\\lib\\site-packages (from torch) (3.1.4)\n",
      "Requirement already satisfied: fsspec in c:\\users\\shawn\\appdata\\local\\programs\\python\\python312\\lib\\site-packages (from torch) (2024.9.0)\n",
      "Requirement already satisfied: setuptools in c:\\users\\shawn\\appdata\\local\\programs\\python\\python312\\lib\\site-packages (from torch) (75.1.0)\n",
      "Requirement already satisfied: MarkupSafe>=2.0 in c:\\users\\shawn\\appdata\\local\\programs\\python\\python312\\lib\\site-packages (from jinja2->torch) (2.1.5)\n",
      "Requirement already satisfied: mpmath<1.4,>=1.1.0 in c:\\users\\shawn\\appdata\\local\\programs\\python\\python312\\lib\\site-packages (from sympy->torch) (1.3.0)\n",
      "Note: you may need to restart the kernel to use updated packages.\n",
      "Requirement already satisfied: optuna in c:\\users\\shawn\\appdata\\local\\programs\\python\\python312\\lib\\site-packages (4.0.0)\n",
      "Requirement already satisfied: alembic>=1.5.0 in c:\\users\\shawn\\appdata\\local\\programs\\python\\python312\\lib\\site-packages (from optuna) (1.13.2)\n",
      "Requirement already satisfied: colorlog in c:\\users\\shawn\\appdata\\local\\programs\\python\\python312\\lib\\site-packages (from optuna) (6.8.2)\n",
      "Requirement already satisfied: numpy in c:\\users\\shawn\\appdata\\local\\programs\\python\\python312\\lib\\site-packages (from optuna) (1.26.4)\n",
      "Requirement already satisfied: packaging>=20.0 in c:\\users\\shawn\\appdata\\roaming\\python\\python312\\site-packages (from optuna) (24.0)\n",
      "Requirement already satisfied: sqlalchemy>=1.3.0 in c:\\users\\shawn\\appdata\\local\\programs\\python\\python312\\lib\\site-packages (from optuna) (2.0.35)\n",
      "Requirement already satisfied: tqdm in c:\\users\\shawn\\appdata\\local\\programs\\python\\python312\\lib\\site-packages (from optuna) (4.66.4)\n",
      "Requirement already satisfied: PyYAML in c:\\users\\shawn\\appdata\\local\\programs\\python\\python312\\lib\\site-packages (from optuna) (6.0.2)\n",
      "Requirement already satisfied: Mako in c:\\users\\shawn\\appdata\\local\\programs\\python\\python312\\lib\\site-packages (from alembic>=1.5.0->optuna) (1.3.5)\n",
      "Requirement already satisfied: typing-extensions>=4 in c:\\users\\shawn\\appdata\\local\\programs\\python\\python312\\lib\\site-packages (from alembic>=1.5.0->optuna) (4.12.2)\n",
      "Requirement already satisfied: greenlet!=0.4.17 in c:\\users\\shawn\\appdata\\local\\programs\\python\\python312\\lib\\site-packages (from sqlalchemy>=1.3.0->optuna) (3.1.1)\n",
      "Requirement already satisfied: colorama in c:\\users\\shawn\\appdata\\roaming\\python\\python312\\site-packages (from colorlog->optuna) (0.4.6)\n",
      "Requirement already satisfied: MarkupSafe>=0.9.2 in c:\\users\\shawn\\appdata\\local\\programs\\python\\python312\\lib\\site-packages (from Mako->alembic>=1.5.0->optuna) (2.1.5)\n",
      "Note: you may need to restart the kernel to use updated packages.\n"
     ]
    }
   ],
   "source": [
    "%pip install torch\n",
    "%pip install optuna"
   ]
  },
  {
   "cell_type": "code",
   "execution_count": 2,
   "metadata": {},
   "outputs": [
    {
     "name": "stdout",
     "output_type": "stream",
     "text": [
      "Requirement already satisfied: scikit-learn in c:\\users\\shawn\\appdata\\local\\programs\\python\\python312\\lib\\site-packages (1.5.2)\n",
      "Requirement already satisfied: numpy>=1.19.5 in c:\\users\\shawn\\appdata\\local\\programs\\python\\python312\\lib\\site-packages (from scikit-learn) (1.26.4)\n",
      "Requirement already satisfied: scipy>=1.6.0 in c:\\users\\shawn\\appdata\\local\\programs\\python\\python312\\lib\\site-packages (from scikit-learn) (1.13.1)\n",
      "Requirement already satisfied: joblib>=1.2.0 in c:\\users\\shawn\\appdata\\local\\programs\\python\\python312\\lib\\site-packages (from scikit-learn) (1.4.2)\n",
      "Requirement already satisfied: threadpoolctl>=3.1.0 in c:\\users\\shawn\\appdata\\local\\programs\\python\\python312\\lib\\site-packages (from scikit-learn) (3.5.0)\n"
     ]
    }
   ],
   "source": [
    "!pip install -U scikit-learn"
   ]
  },
  {
   "cell_type": "code",
   "execution_count": 3,
   "metadata": {},
   "outputs": [
    {
     "name": "stderr",
     "output_type": "stream",
     "text": [
      "c:\\Users\\shawn\\AppData\\Local\\Programs\\Python\\Python312\\Lib\\site-packages\\tqdm\\auto.py:21: TqdmWarning: IProgress not found. Please update jupyter and ipywidgets. See https://ipywidgets.readthedocs.io/en/stable/user_install.html\n",
      "  from .autonotebook import tqdm as notebook_tqdm\n"
     ]
    }
   ],
   "source": [
    "import pandas as pd\n",
    "import numpy as np\n",
    "from math import ceil\n",
    "import random\n",
    "\n",
    "import matplotlib.pyplot as plt\n",
    "import seaborn as sns\n",
    "\n",
    "from sklearn.metrics import r2_score, mean_squared_error\n",
    "from sklearn.model_selection import train_test_split\n",
    "from sklearn.preprocessing import StandardScaler,  OneHotEncoder\n",
    "\n",
    "import torch\n",
    "import torch.nn as nn\n",
    "import optuna\n",
    "\n",
    "import warnings\n",
    "warnings.filterwarnings(\"ignore\")"
   ]
  },
  {
   "cell_type": "markdown",
   "metadata": {},
   "source": [
    "### Функции"
   ]
  },
  {
   "cell_type": "code",
   "execution_count": 4,
   "metadata": {},
   "outputs": [],
   "source": [
    "# Функция для получения общей информации о датафрейме\n",
    "def get_info(data):\n",
    "    display(data.sample(10))\n",
    "    display(data.info())\n",
    "    display(data.describe(include='all'))\n",
    "    print('Количество явных дубликатов:', data.duplicated().sum())\n",
    "    display(data.isna().sum())\n",
    "    numeric_data = data.select_dtypes(include=['number'])\n",
    "    display(numeric_data.corr())\n",
    "    plt.rcParams['figure.figsize'] = (9, 7)\n",
    "    sns.heatmap(numeric_data.corr(), annot=True, linewidths=3, linecolor='white')\n",
    "    data.hist(figsize=(9, 9));"
   ]
  },
  {
   "cell_type": "code",
   "execution_count": 5,
   "metadata": {},
   "outputs": [],
   "source": [
    "\n",
    "try:\n",
    "    df = pd.read_csv('/datasets/6_class.csv')\n",
    "except:\n",
    "    df = pd.read_csv('./6_class.csv')\n",
    "\n"
   ]
  },
  {
   "cell_type": "code",
   "execution_count": 6,
   "metadata": {},
   "outputs": [
    {
     "data": {
      "text/html": [
       "<div>\n",
       "<style scoped>\n",
       "    .dataframe tbody tr th:only-of-type {\n",
       "        vertical-align: middle;\n",
       "    }\n",
       "\n",
       "    .dataframe tbody tr th {\n",
       "        vertical-align: top;\n",
       "    }\n",
       "\n",
       "    .dataframe thead th {\n",
       "        text-align: right;\n",
       "    }\n",
       "</style>\n",
       "<table border=\"1\" class=\"dataframe\">\n",
       "  <thead>\n",
       "    <tr style=\"text-align: right;\">\n",
       "      <th></th>\n",
       "      <th>Unnamed: 0</th>\n",
       "      <th>Temperature (K)</th>\n",
       "      <th>Luminosity(L/Lo)</th>\n",
       "      <th>Radius(R/Ro)</th>\n",
       "      <th>Absolute magnitude(Mv)</th>\n",
       "      <th>Star type</th>\n",
       "      <th>Star color</th>\n",
       "    </tr>\n",
       "  </thead>\n",
       "  <tbody>\n",
       "    <tr>\n",
       "      <th>107</th>\n",
       "      <td>107</td>\n",
       "      <td>12893</td>\n",
       "      <td>184000.000000</td>\n",
       "      <td>36.000</td>\n",
       "      <td>-6.340</td>\n",
       "      <td>4</td>\n",
       "      <td>Blue</td>\n",
       "    </tr>\n",
       "    <tr>\n",
       "      <th>186</th>\n",
       "      <td>186</td>\n",
       "      <td>2968</td>\n",
       "      <td>0.000461</td>\n",
       "      <td>0.119</td>\n",
       "      <td>17.450</td>\n",
       "      <td>0</td>\n",
       "      <td>Red</td>\n",
       "    </tr>\n",
       "    <tr>\n",
       "      <th>72</th>\n",
       "      <td>72</td>\n",
       "      <td>3304</td>\n",
       "      <td>0.008500</td>\n",
       "      <td>0.180</td>\n",
       "      <td>13.200</td>\n",
       "      <td>1</td>\n",
       "      <td>Red</td>\n",
       "    </tr>\n",
       "    <tr>\n",
       "      <th>5</th>\n",
       "      <td>5</td>\n",
       "      <td>2840</td>\n",
       "      <td>0.000650</td>\n",
       "      <td>0.110</td>\n",
       "      <td>16.980</td>\n",
       "      <td>0</td>\n",
       "      <td>Red</td>\n",
       "    </tr>\n",
       "    <tr>\n",
       "      <th>41</th>\n",
       "      <td>41</td>\n",
       "      <td>3365</td>\n",
       "      <td>340000.000000</td>\n",
       "      <td>23.000</td>\n",
       "      <td>-6.200</td>\n",
       "      <td>4</td>\n",
       "      <td>Red</td>\n",
       "    </tr>\n",
       "    <tr>\n",
       "      <th>193</th>\n",
       "      <td>193</td>\n",
       "      <td>3212</td>\n",
       "      <td>0.001600</td>\n",
       "      <td>0.378</td>\n",
       "      <td>12.854</td>\n",
       "      <td>1</td>\n",
       "      <td>Red</td>\n",
       "    </tr>\n",
       "    <tr>\n",
       "      <th>74</th>\n",
       "      <td>74</td>\n",
       "      <td>3550</td>\n",
       "      <td>0.004000</td>\n",
       "      <td>0.291</td>\n",
       "      <td>10.890</td>\n",
       "      <td>1</td>\n",
       "      <td>Red</td>\n",
       "    </tr>\n",
       "    <tr>\n",
       "      <th>52</th>\n",
       "      <td>52</td>\n",
       "      <td>3834</td>\n",
       "      <td>272000.000000</td>\n",
       "      <td>1183.000</td>\n",
       "      <td>-9.200</td>\n",
       "      <td>5</td>\n",
       "      <td>Red</td>\n",
       "    </tr>\n",
       "    <tr>\n",
       "      <th>44</th>\n",
       "      <td>44</td>\n",
       "      <td>3008</td>\n",
       "      <td>280000.000000</td>\n",
       "      <td>25.000</td>\n",
       "      <td>-6.000</td>\n",
       "      <td>4</td>\n",
       "      <td>Red</td>\n",
       "    </tr>\n",
       "    <tr>\n",
       "      <th>124</th>\n",
       "      <td>124</td>\n",
       "      <td>3511</td>\n",
       "      <td>0.000640</td>\n",
       "      <td>0.109</td>\n",
       "      <td>17.120</td>\n",
       "      <td>0</td>\n",
       "      <td>Red</td>\n",
       "    </tr>\n",
       "  </tbody>\n",
       "</table>\n",
       "</div>"
      ],
      "text/plain": [
       "     Unnamed: 0  Temperature (K)  Luminosity(L/Lo)  Radius(R/Ro)  \\\n",
       "107         107            12893     184000.000000        36.000   \n",
       "186         186             2968          0.000461         0.119   \n",
       "72           72             3304          0.008500         0.180   \n",
       "5             5             2840          0.000650         0.110   \n",
       "41           41             3365     340000.000000        23.000   \n",
       "193         193             3212          0.001600         0.378   \n",
       "74           74             3550          0.004000         0.291   \n",
       "52           52             3834     272000.000000      1183.000   \n",
       "44           44             3008     280000.000000        25.000   \n",
       "124         124             3511          0.000640         0.109   \n",
       "\n",
       "     Absolute magnitude(Mv)  Star type Star color  \n",
       "107                  -6.340          4       Blue  \n",
       "186                  17.450          0        Red  \n",
       "72                   13.200          1        Red  \n",
       "5                    16.980          0        Red  \n",
       "41                   -6.200          4        Red  \n",
       "193                  12.854          1        Red  \n",
       "74                   10.890          1        Red  \n",
       "52                   -9.200          5        Red  \n",
       "44                   -6.000          4        Red  \n",
       "124                  17.120          0        Red  "
      ]
     },
     "metadata": {},
     "output_type": "display_data"
    },
    {
     "name": "stdout",
     "output_type": "stream",
     "text": [
      "<class 'pandas.core.frame.DataFrame'>\n",
      "RangeIndex: 240 entries, 0 to 239\n",
      "Data columns (total 7 columns):\n",
      " #   Column                  Non-Null Count  Dtype  \n",
      "---  ------                  --------------  -----  \n",
      " 0   Unnamed: 0              240 non-null    int64  \n",
      " 1   Temperature (K)         240 non-null    int64  \n",
      " 2   Luminosity(L/Lo)        240 non-null    float64\n",
      " 3   Radius(R/Ro)            240 non-null    float64\n",
      " 4   Absolute magnitude(Mv)  240 non-null    float64\n",
      " 5   Star type               240 non-null    int64  \n",
      " 6   Star color              240 non-null    object \n",
      "dtypes: float64(3), int64(3), object(1)\n",
      "memory usage: 13.3+ KB\n"
     ]
    },
    {
     "data": {
      "text/plain": [
       "None"
      ]
     },
     "metadata": {},
     "output_type": "display_data"
    },
    {
     "data": {
      "text/html": [
       "<div>\n",
       "<style scoped>\n",
       "    .dataframe tbody tr th:only-of-type {\n",
       "        vertical-align: middle;\n",
       "    }\n",
       "\n",
       "    .dataframe tbody tr th {\n",
       "        vertical-align: top;\n",
       "    }\n",
       "\n",
       "    .dataframe thead th {\n",
       "        text-align: right;\n",
       "    }\n",
       "</style>\n",
       "<table border=\"1\" class=\"dataframe\">\n",
       "  <thead>\n",
       "    <tr style=\"text-align: right;\">\n",
       "      <th></th>\n",
       "      <th>Unnamed: 0</th>\n",
       "      <th>Temperature (K)</th>\n",
       "      <th>Luminosity(L/Lo)</th>\n",
       "      <th>Radius(R/Ro)</th>\n",
       "      <th>Absolute magnitude(Mv)</th>\n",
       "      <th>Star type</th>\n",
       "      <th>Star color</th>\n",
       "    </tr>\n",
       "  </thead>\n",
       "  <tbody>\n",
       "    <tr>\n",
       "      <th>count</th>\n",
       "      <td>240.00000</td>\n",
       "      <td>240.000000</td>\n",
       "      <td>240.000000</td>\n",
       "      <td>240.000000</td>\n",
       "      <td>240.000000</td>\n",
       "      <td>240.000000</td>\n",
       "      <td>240</td>\n",
       "    </tr>\n",
       "    <tr>\n",
       "      <th>unique</th>\n",
       "      <td>NaN</td>\n",
       "      <td>NaN</td>\n",
       "      <td>NaN</td>\n",
       "      <td>NaN</td>\n",
       "      <td>NaN</td>\n",
       "      <td>NaN</td>\n",
       "      <td>19</td>\n",
       "    </tr>\n",
       "    <tr>\n",
       "      <th>top</th>\n",
       "      <td>NaN</td>\n",
       "      <td>NaN</td>\n",
       "      <td>NaN</td>\n",
       "      <td>NaN</td>\n",
       "      <td>NaN</td>\n",
       "      <td>NaN</td>\n",
       "      <td>Red</td>\n",
       "    </tr>\n",
       "    <tr>\n",
       "      <th>freq</th>\n",
       "      <td>NaN</td>\n",
       "      <td>NaN</td>\n",
       "      <td>NaN</td>\n",
       "      <td>NaN</td>\n",
       "      <td>NaN</td>\n",
       "      <td>NaN</td>\n",
       "      <td>112</td>\n",
       "    </tr>\n",
       "    <tr>\n",
       "      <th>mean</th>\n",
       "      <td>119.50000</td>\n",
       "      <td>10497.462500</td>\n",
       "      <td>107188.361635</td>\n",
       "      <td>237.157781</td>\n",
       "      <td>4.382396</td>\n",
       "      <td>2.500000</td>\n",
       "      <td>NaN</td>\n",
       "    </tr>\n",
       "    <tr>\n",
       "      <th>std</th>\n",
       "      <td>69.42622</td>\n",
       "      <td>9552.425037</td>\n",
       "      <td>179432.244940</td>\n",
       "      <td>517.155763</td>\n",
       "      <td>10.532512</td>\n",
       "      <td>1.711394</td>\n",
       "      <td>NaN</td>\n",
       "    </tr>\n",
       "    <tr>\n",
       "      <th>min</th>\n",
       "      <td>0.00000</td>\n",
       "      <td>1939.000000</td>\n",
       "      <td>0.000080</td>\n",
       "      <td>0.008400</td>\n",
       "      <td>-11.920000</td>\n",
       "      <td>0.000000</td>\n",
       "      <td>NaN</td>\n",
       "    </tr>\n",
       "    <tr>\n",
       "      <th>25%</th>\n",
       "      <td>59.75000</td>\n",
       "      <td>3344.250000</td>\n",
       "      <td>0.000865</td>\n",
       "      <td>0.102750</td>\n",
       "      <td>-6.232500</td>\n",
       "      <td>1.000000</td>\n",
       "      <td>NaN</td>\n",
       "    </tr>\n",
       "    <tr>\n",
       "      <th>50%</th>\n",
       "      <td>119.50000</td>\n",
       "      <td>5776.000000</td>\n",
       "      <td>0.070500</td>\n",
       "      <td>0.762500</td>\n",
       "      <td>8.313000</td>\n",
       "      <td>2.500000</td>\n",
       "      <td>NaN</td>\n",
       "    </tr>\n",
       "    <tr>\n",
       "      <th>75%</th>\n",
       "      <td>179.25000</td>\n",
       "      <td>15055.500000</td>\n",
       "      <td>198050.000000</td>\n",
       "      <td>42.750000</td>\n",
       "      <td>13.697500</td>\n",
       "      <td>4.000000</td>\n",
       "      <td>NaN</td>\n",
       "    </tr>\n",
       "    <tr>\n",
       "      <th>max</th>\n",
       "      <td>239.00000</td>\n",
       "      <td>40000.000000</td>\n",
       "      <td>849420.000000</td>\n",
       "      <td>1948.500000</td>\n",
       "      <td>20.060000</td>\n",
       "      <td>5.000000</td>\n",
       "      <td>NaN</td>\n",
       "    </tr>\n",
       "  </tbody>\n",
       "</table>\n",
       "</div>"
      ],
      "text/plain": [
       "        Unnamed: 0  Temperature (K)  Luminosity(L/Lo)  Radius(R/Ro)  \\\n",
       "count    240.00000       240.000000        240.000000    240.000000   \n",
       "unique         NaN              NaN               NaN           NaN   \n",
       "top            NaN              NaN               NaN           NaN   \n",
       "freq           NaN              NaN               NaN           NaN   \n",
       "mean     119.50000     10497.462500     107188.361635    237.157781   \n",
       "std       69.42622      9552.425037     179432.244940    517.155763   \n",
       "min        0.00000      1939.000000          0.000080      0.008400   \n",
       "25%       59.75000      3344.250000          0.000865      0.102750   \n",
       "50%      119.50000      5776.000000          0.070500      0.762500   \n",
       "75%      179.25000     15055.500000     198050.000000     42.750000   \n",
       "max      239.00000     40000.000000     849420.000000   1948.500000   \n",
       "\n",
       "        Absolute magnitude(Mv)   Star type Star color  \n",
       "count               240.000000  240.000000        240  \n",
       "unique                     NaN         NaN         19  \n",
       "top                        NaN         NaN        Red  \n",
       "freq                       NaN         NaN        112  \n",
       "mean                  4.382396    2.500000        NaN  \n",
       "std                  10.532512    1.711394        NaN  \n",
       "min                 -11.920000    0.000000        NaN  \n",
       "25%                  -6.232500    1.000000        NaN  \n",
       "50%                   8.313000    2.500000        NaN  \n",
       "75%                  13.697500    4.000000        NaN  \n",
       "max                  20.060000    5.000000        NaN  "
      ]
     },
     "metadata": {},
     "output_type": "display_data"
    },
    {
     "name": "stdout",
     "output_type": "stream",
     "text": [
      "Количество явных дубликатов: 0\n"
     ]
    },
    {
     "data": {
      "text/plain": [
       "Unnamed: 0                0\n",
       "Temperature (K)           0\n",
       "Luminosity(L/Lo)          0\n",
       "Radius(R/Ro)              0\n",
       "Absolute magnitude(Mv)    0\n",
       "Star type                 0\n",
       "Star color                0\n",
       "dtype: int64"
      ]
     },
     "metadata": {},
     "output_type": "display_data"
    },
    {
     "data": {
      "text/html": [
       "<div>\n",
       "<style scoped>\n",
       "    .dataframe tbody tr th:only-of-type {\n",
       "        vertical-align: middle;\n",
       "    }\n",
       "\n",
       "    .dataframe tbody tr th {\n",
       "        vertical-align: top;\n",
       "    }\n",
       "\n",
       "    .dataframe thead th {\n",
       "        text-align: right;\n",
       "    }\n",
       "</style>\n",
       "<table border=\"1\" class=\"dataframe\">\n",
       "  <thead>\n",
       "    <tr style=\"text-align: right;\">\n",
       "      <th></th>\n",
       "      <th>Unnamed: 0</th>\n",
       "      <th>Temperature (K)</th>\n",
       "      <th>Luminosity(L/Lo)</th>\n",
       "      <th>Radius(R/Ro)</th>\n",
       "      <th>Absolute magnitude(Mv)</th>\n",
       "      <th>Star type</th>\n",
       "    </tr>\n",
       "  </thead>\n",
       "  <tbody>\n",
       "    <tr>\n",
       "      <th>Unnamed: 0</th>\n",
       "      <td>1.000000</td>\n",
       "      <td>0.391056</td>\n",
       "      <td>0.322719</td>\n",
       "      <td>0.167608</td>\n",
       "      <td>-0.257015</td>\n",
       "      <td>0.246505</td>\n",
       "    </tr>\n",
       "    <tr>\n",
       "      <th>Temperature (K)</th>\n",
       "      <td>0.391056</td>\n",
       "      <td>1.000000</td>\n",
       "      <td>0.393404</td>\n",
       "      <td>0.064216</td>\n",
       "      <td>-0.420261</td>\n",
       "      <td>0.411129</td>\n",
       "    </tr>\n",
       "    <tr>\n",
       "      <th>Luminosity(L/Lo)</th>\n",
       "      <td>0.322719</td>\n",
       "      <td>0.393404</td>\n",
       "      <td>1.000000</td>\n",
       "      <td>0.526516</td>\n",
       "      <td>-0.692619</td>\n",
       "      <td>0.676845</td>\n",
       "    </tr>\n",
       "    <tr>\n",
       "      <th>Radius(R/Ro)</th>\n",
       "      <td>0.167608</td>\n",
       "      <td>0.064216</td>\n",
       "      <td>0.526516</td>\n",
       "      <td>1.000000</td>\n",
       "      <td>-0.608728</td>\n",
       "      <td>0.660975</td>\n",
       "    </tr>\n",
       "    <tr>\n",
       "      <th>Absolute magnitude(Mv)</th>\n",
       "      <td>-0.257015</td>\n",
       "      <td>-0.420261</td>\n",
       "      <td>-0.692619</td>\n",
       "      <td>-0.608728</td>\n",
       "      <td>1.000000</td>\n",
       "      <td>-0.955276</td>\n",
       "    </tr>\n",
       "    <tr>\n",
       "      <th>Star type</th>\n",
       "      <td>0.246505</td>\n",
       "      <td>0.411129</td>\n",
       "      <td>0.676845</td>\n",
       "      <td>0.660975</td>\n",
       "      <td>-0.955276</td>\n",
       "      <td>1.000000</td>\n",
       "    </tr>\n",
       "  </tbody>\n",
       "</table>\n",
       "</div>"
      ],
      "text/plain": [
       "                        Unnamed: 0  Temperature (K)  Luminosity(L/Lo)  \\\n",
       "Unnamed: 0                1.000000         0.391056          0.322719   \n",
       "Temperature (K)           0.391056         1.000000          0.393404   \n",
       "Luminosity(L/Lo)          0.322719         0.393404          1.000000   \n",
       "Radius(R/Ro)              0.167608         0.064216          0.526516   \n",
       "Absolute magnitude(Mv)   -0.257015        -0.420261         -0.692619   \n",
       "Star type                 0.246505         0.411129          0.676845   \n",
       "\n",
       "                        Radius(R/Ro)  Absolute magnitude(Mv)  Star type  \n",
       "Unnamed: 0                  0.167608               -0.257015   0.246505  \n",
       "Temperature (K)             0.064216               -0.420261   0.411129  \n",
       "Luminosity(L/Lo)            0.526516               -0.692619   0.676845  \n",
       "Radius(R/Ro)                1.000000               -0.608728   0.660975  \n",
       "Absolute magnitude(Mv)     -0.608728                1.000000  -0.955276  \n",
       "Star type                   0.660975               -0.955276   1.000000  "
      ]
     },
     "metadata": {},
     "output_type": "display_data"
    },
    {
     "data": {
      "image/png": "[encoded data removed]",
      "text/plain": [
       "<Figure size 900x700 with 2 Axes>"
      ]
     },
     "metadata": {},
     "output_type": "display_data"
    },
    {
     "data": {
      "image/png": "[encoded data removed]",
      "text/plain": [
       "<Figure size 900x900 with 6 Axes>"
      ]
     },
     "metadata": {},
     "output_type": "display_data"
    }
   ],
   "source": [
    "get_info(df)"
   ]
  },
  {
   "cell_type": "markdown",
   "metadata": {},
   "source": [
    "**Выводы:** Явных дубликатов и пропусков в данных нет. Нужно преобразовать типы данных в столбцах star_type и star_color. Видим, что  столбц Unnamed: 0 дублирует индекс. Из матрицы корреляции видно, что есть два мультиколлениарных признака Star type и Absolute magnitude. В столбцах Temperature(K), Luminosity(L/Lo), Radius(R/Ro) - наблюдаются выбросы. Рассмотрим их далее более детально. Нужно изменить названия столбцов."
   ]
  },
  {
   "cell_type": "markdown",
   "metadata": {},
   "source": [
    "## Предобработка и анализ данных"
   ]
  },
  {
   "cell_type": "markdown",
   "metadata": {},
   "source": [
    "Измения названия столбцов"
   ]
  },
  {
   "cell_type": "code",
   "execution_count": 7,
   "metadata": {},
   "outputs": [
    {
     "data": {
      "text/plain": [
       "Index(['unnamed_0', 'temperature', 'luminosity', 'radius',\n",
       "       'absolute_magnitude', 'star_type', 'star_color'],\n",
       "      dtype='object')"
      ]
     },
     "execution_count": 7,
     "metadata": {},
     "output_type": "execute_result"
    }
   ],
   "source": [
    "df.rename(columns = {'Unnamed: 0' : 'unnamed_0', 'Temperature (K)': 'temperature', 'Luminosity(L/Lo)': 'luminosity', 'Radius(R/Ro)': 'radius',\n",
    "                      'Absolute magnitude(Mv)': 'absolute_magnitude', 'Star type': 'star_type', 'Star color': 'star_color'}, inplace = True )\n",
    "df.columns"
   ]
  },
  {
   "cell_type": "markdown",
   "metadata": {},
   "source": [
    "Переведем признаки star_type и star_color к категориальному типу."
   ]
  },
  {
   "cell_type": "code",
   "execution_count": 8,
   "metadata": {},
   "outputs": [],
   "source": [
    "df['star_type'] = df['star_type'].astype('category')\n",
    "df['star_color'] = df['star_color'].astype('category')"
   ]
  },
  {
   "cell_type": "code",
   "execution_count": 9,
   "metadata": {},
   "outputs": [
    {
     "name": "stdout",
     "output_type": "stream",
     "text": [
      "<class 'pandas.core.frame.DataFrame'>\n",
      "RangeIndex: 240 entries, 0 to 239\n",
      "Data columns (total 7 columns):\n",
      " #   Column              Non-Null Count  Dtype   \n",
      "---  ------              --------------  -----   \n",
      " 0   unnamed_0           240 non-null    int64   \n",
      " 1   temperature         240 non-null    int64   \n",
      " 2   luminosity          240 non-null    float64 \n",
      " 3   radius              240 non-null    float64 \n",
      " 4   absolute_magnitude  240 non-null    float64 \n",
      " 5   star_type           240 non-null    category\n",
      " 6   star_color          240 non-null    category\n",
      "dtypes: category(2), float64(3), int64(2)\n",
      "memory usage: 10.9 KB\n"
     ]
    }
   ],
   "source": [
    "df.info()"
   ]
  },
  {
   "cell_type": "markdown",
   "metadata": {},
   "source": [
    "### Рассмотрим каждый столбец отдельно"
   ]
  },
  {
   "cell_type": "markdown",
   "metadata": {},
   "source": [
    "Удалим столбец unnamed_0."
   ]
  },
  {
   "cell_type": "code",
   "execution_count": 10,
   "metadata": {},
   "outputs": [],
   "source": [
    "df.drop('unnamed_0', axis=1, inplace=True)"
   ]
  },
  {
   "cell_type": "code",
   "execution_count": 11,
   "metadata": {},
   "outputs": [
    {
     "data": {
      "text/html": [
       "<div>\n",
       "<style scoped>\n",
       "    .dataframe tbody tr th:only-of-type {\n",
       "        vertical-align: middle;\n",
       "    }\n",
       "\n",
       "    .dataframe tbody tr th {\n",
       "        vertical-align: top;\n",
       "    }\n",
       "\n",
       "    .dataframe thead th {\n",
       "        text-align: right;\n",
       "    }\n",
       "</style>\n",
       "<table border=\"1\" class=\"dataframe\">\n",
       "  <thead>\n",
       "    <tr style=\"text-align: right;\">\n",
       "      <th></th>\n",
       "      <th>temperature</th>\n",
       "      <th>luminosity</th>\n",
       "      <th>radius</th>\n",
       "      <th>absolute_magnitude</th>\n",
       "      <th>star_type</th>\n",
       "      <th>star_color</th>\n",
       "    </tr>\n",
       "  </thead>\n",
       "  <tbody>\n",
       "    <tr>\n",
       "      <th>0</th>\n",
       "      <td>3068</td>\n",
       "      <td>0.002400</td>\n",
       "      <td>0.1700</td>\n",
       "      <td>16.12</td>\n",
       "      <td>0</td>\n",
       "      <td>Red</td>\n",
       "    </tr>\n",
       "    <tr>\n",
       "      <th>1</th>\n",
       "      <td>3042</td>\n",
       "      <td>0.000500</td>\n",
       "      <td>0.1542</td>\n",
       "      <td>16.60</td>\n",
       "      <td>0</td>\n",
       "      <td>Red</td>\n",
       "    </tr>\n",
       "    <tr>\n",
       "      <th>2</th>\n",
       "      <td>2600</td>\n",
       "      <td>0.000300</td>\n",
       "      <td>0.1020</td>\n",
       "      <td>18.70</td>\n",
       "      <td>0</td>\n",
       "      <td>Red</td>\n",
       "    </tr>\n",
       "    <tr>\n",
       "      <th>3</th>\n",
       "      <td>2800</td>\n",
       "      <td>0.000200</td>\n",
       "      <td>0.1600</td>\n",
       "      <td>16.65</td>\n",
       "      <td>0</td>\n",
       "      <td>Red</td>\n",
       "    </tr>\n",
       "    <tr>\n",
       "      <th>4</th>\n",
       "      <td>1939</td>\n",
       "      <td>0.000138</td>\n",
       "      <td>0.1030</td>\n",
       "      <td>20.06</td>\n",
       "      <td>0</td>\n",
       "      <td>Red</td>\n",
       "    </tr>\n",
       "  </tbody>\n",
       "</table>\n",
       "</div>"
      ],
      "text/plain": [
       "   temperature  luminosity  radius  absolute_magnitude star_type star_color\n",
       "0         3068    0.002400  0.1700               16.12         0        Red\n",
       "1         3042    0.000500  0.1542               16.60         0        Red\n",
       "2         2600    0.000300  0.1020               18.70         0        Red\n",
       "3         2800    0.000200  0.1600               16.65         0        Red\n",
       "4         1939    0.000138  0.1030               20.06         0        Red"
      ]
     },
     "execution_count": 11,
     "metadata": {},
     "output_type": "execute_result"
    }
   ],
   "source": [
    "df.head()"
   ]
  },
  {
   "cell_type": "markdown",
   "metadata": {},
   "source": [
    "#### Столбец температуры"
   ]
  },
  {
   "cell_type": "code",
   "execution_count": 12,
   "metadata": {},
   "outputs": [
    {
     "data": {
      "image/png": "[encoded data removed]",
      "text/plain": [
       "<Figure size 900x700 with 1 Axes>"
      ]
     },
     "metadata": {},
     "output_type": "display_data"
    }
   ],
   "source": [
    "plt.xlabel(\"Температура\", fontsize = 12)\n",
    "plt.ylabel(\"Количество звезд\", fontsize = 12)\n",
    "plt.title(\"Столбец temperature\", fontsize = 15)\n",
    "df['temperature'].hist(bins= 30)\n",
    "plt.show()"
   ]
  },
  {
   "cell_type": "code",
   "execution_count": 13,
   "metadata": {},
   "outputs": [
    {
     "data": {
      "image/png": "[encoded data removed]",
      "text/plain": [
       "<Figure size 800x400 with 1 Axes>"
      ]
     },
     "metadata": {},
     "output_type": "display_data"
    }
   ],
   "source": [
    "plt.figure(figsize = (8, 4))\n",
    "sns.boxplot(data = df['temperature'], orient='h')\n",
    "plt.xlabel('Температура', fontsize=12)\n",
    "plt.title('Коробчатая диаграмма по целевому признаку температура', fontsize = 15)\n",
    "plt.show()"
   ]
  },
  {
   "cell_type": "code",
   "execution_count": 14,
   "metadata": {},
   "outputs": [
    {
     "data": {
      "text/html": [
       "<div>\n",
       "<style scoped>\n",
       "    .dataframe tbody tr th:only-of-type {\n",
       "        vertical-align: middle;\n",
       "    }\n",
       "\n",
       "    .dataframe tbody tr th {\n",
       "        vertical-align: top;\n",
       "    }\n",
       "\n",
       "    .dataframe thead th {\n",
       "        text-align: right;\n",
       "    }\n",
       "</style>\n",
       "<table border=\"1\" class=\"dataframe\">\n",
       "  <thead>\n",
       "    <tr style=\"text-align: right;\">\n",
       "      <th></th>\n",
       "      <th>temperature</th>\n",
       "      <th>luminosity</th>\n",
       "      <th>radius</th>\n",
       "      <th>absolute_magnitude</th>\n",
       "      <th>star_type</th>\n",
       "      <th>star_color</th>\n",
       "    </tr>\n",
       "  </thead>\n",
       "  <tbody>\n",
       "    <tr>\n",
       "      <th>30</th>\n",
       "      <td>39000</td>\n",
       "      <td>204000.0</td>\n",
       "      <td>10.60</td>\n",
       "      <td>-4.70</td>\n",
       "      <td>3</td>\n",
       "      <td>Blue</td>\n",
       "    </tr>\n",
       "    <tr>\n",
       "      <th>49</th>\n",
       "      <td>33750</td>\n",
       "      <td>220000.0</td>\n",
       "      <td>26.00</td>\n",
       "      <td>-6.10</td>\n",
       "      <td>4</td>\n",
       "      <td>Blue</td>\n",
       "    </tr>\n",
       "    <tr>\n",
       "      <th>99</th>\n",
       "      <td>36108</td>\n",
       "      <td>198000.0</td>\n",
       "      <td>10.20</td>\n",
       "      <td>-4.40</td>\n",
       "      <td>3</td>\n",
       "      <td>Blue</td>\n",
       "    </tr>\n",
       "    <tr>\n",
       "      <th>100</th>\n",
       "      <td>33300</td>\n",
       "      <td>240000.0</td>\n",
       "      <td>12.00</td>\n",
       "      <td>-6.50</td>\n",
       "      <td>4</td>\n",
       "      <td>Blue</td>\n",
       "    </tr>\n",
       "    <tr>\n",
       "      <th>101</th>\n",
       "      <td>40000</td>\n",
       "      <td>813000.0</td>\n",
       "      <td>14.00</td>\n",
       "      <td>-6.23</td>\n",
       "      <td>4</td>\n",
       "      <td>Blue</td>\n",
       "    </tr>\n",
       "    <tr>\n",
       "      <th>109</th>\n",
       "      <td>33421</td>\n",
       "      <td>352000.0</td>\n",
       "      <td>67.00</td>\n",
       "      <td>-5.79</td>\n",
       "      <td>4</td>\n",
       "      <td>Blue</td>\n",
       "    </tr>\n",
       "    <tr>\n",
       "      <th>159</th>\n",
       "      <td>37800</td>\n",
       "      <td>202900.0</td>\n",
       "      <td>6.86</td>\n",
       "      <td>-4.56</td>\n",
       "      <td>3</td>\n",
       "      <td>Blue</td>\n",
       "    </tr>\n",
       "    <tr>\n",
       "      <th>214</th>\n",
       "      <td>34190</td>\n",
       "      <td>198200.0</td>\n",
       "      <td>6.39</td>\n",
       "      <td>-4.57</td>\n",
       "      <td>3</td>\n",
       "      <td>Blue</td>\n",
       "    </tr>\n",
       "    <tr>\n",
       "      <th>231</th>\n",
       "      <td>38234</td>\n",
       "      <td>272830.0</td>\n",
       "      <td>1356.00</td>\n",
       "      <td>-9.29</td>\n",
       "      <td>5</td>\n",
       "      <td>Blue</td>\n",
       "    </tr>\n",
       "    <tr>\n",
       "      <th>235</th>\n",
       "      <td>38940</td>\n",
       "      <td>374830.0</td>\n",
       "      <td>1356.00</td>\n",
       "      <td>-9.93</td>\n",
       "      <td>5</td>\n",
       "      <td>Blue</td>\n",
       "    </tr>\n",
       "    <tr>\n",
       "      <th>239</th>\n",
       "      <td>37882</td>\n",
       "      <td>294903.0</td>\n",
       "      <td>1783.00</td>\n",
       "      <td>-7.80</td>\n",
       "      <td>5</td>\n",
       "      <td>Blue</td>\n",
       "    </tr>\n",
       "  </tbody>\n",
       "</table>\n",
       "</div>"
      ],
      "text/plain": [
       "     temperature  luminosity   radius  absolute_magnitude star_type star_color\n",
       "30         39000    204000.0    10.60               -4.70         3       Blue\n",
       "49         33750    220000.0    26.00               -6.10         4       Blue\n",
       "99         36108    198000.0    10.20               -4.40         3       Blue\n",
       "100        33300    240000.0    12.00               -6.50         4       Blue\n",
       "101        40000    813000.0    14.00               -6.23         4       Blue\n",
       "109        33421    352000.0    67.00               -5.79         4       Blue\n",
       "159        37800    202900.0     6.86               -4.56         3       Blue\n",
       "214        34190    198200.0     6.39               -4.57         3       Blue\n",
       "231        38234    272830.0  1356.00               -9.29         5       Blue\n",
       "235        38940    374830.0  1356.00               -9.93         5       Blue\n",
       "239        37882    294903.0  1783.00               -7.80         5       Blue"
      ]
     },
     "execution_count": 14,
     "metadata": {},
     "output_type": "execute_result"
    }
   ],
   "source": [
    "df.query('temperature > 33000')"
   ]
  },
  {
   "cell_type": "markdown",
   "metadata": {},
   "source": [
    "Ошибки в данных нет, голубые звезды действительно могут достигать таких высоких температур."
   ]
  },
  {
   "cell_type": "code",
   "execution_count": 15,
   "metadata": {},
   "outputs": [
    {
     "data": {
      "text/html": [
       "<div>\n",
       "<style scoped>\n",
       "    .dataframe tbody tr th:only-of-type {\n",
       "        vertical-align: middle;\n",
       "    }\n",
       "\n",
       "    .dataframe tbody tr th {\n",
       "        vertical-align: top;\n",
       "    }\n",
       "\n",
       "    .dataframe thead th {\n",
       "        text-align: right;\n",
       "    }\n",
       "</style>\n",
       "<table border=\"1\" class=\"dataframe\">\n",
       "  <thead>\n",
       "    <tr style=\"text-align: right;\">\n",
       "      <th></th>\n",
       "      <th>temperature</th>\n",
       "      <th>luminosity</th>\n",
       "      <th>radius</th>\n",
       "      <th>absolute_magnitude</th>\n",
       "      <th>star_type</th>\n",
       "      <th>star_color</th>\n",
       "    </tr>\n",
       "  </thead>\n",
       "  <tbody>\n",
       "    <tr>\n",
       "      <th>0</th>\n",
       "      <td>3068</td>\n",
       "      <td>0.002400</td>\n",
       "      <td>0.1700</td>\n",
       "      <td>16.120</td>\n",
       "      <td>0</td>\n",
       "      <td>Red</td>\n",
       "    </tr>\n",
       "    <tr>\n",
       "      <th>1</th>\n",
       "      <td>3042</td>\n",
       "      <td>0.000500</td>\n",
       "      <td>0.1542</td>\n",
       "      <td>16.600</td>\n",
       "      <td>0</td>\n",
       "      <td>Red</td>\n",
       "    </tr>\n",
       "    <tr>\n",
       "      <th>2</th>\n",
       "      <td>2600</td>\n",
       "      <td>0.000300</td>\n",
       "      <td>0.1020</td>\n",
       "      <td>18.700</td>\n",
       "      <td>0</td>\n",
       "      <td>Red</td>\n",
       "    </tr>\n",
       "    <tr>\n",
       "      <th>3</th>\n",
       "      <td>2800</td>\n",
       "      <td>0.000200</td>\n",
       "      <td>0.1600</td>\n",
       "      <td>16.650</td>\n",
       "      <td>0</td>\n",
       "      <td>Red</td>\n",
       "    </tr>\n",
       "    <tr>\n",
       "      <th>4</th>\n",
       "      <td>1939</td>\n",
       "      <td>0.000138</td>\n",
       "      <td>0.1030</td>\n",
       "      <td>20.060</td>\n",
       "      <td>0</td>\n",
       "      <td>Red</td>\n",
       "    </tr>\n",
       "    <tr>\n",
       "      <th>...</th>\n",
       "      <td>...</td>\n",
       "      <td>...</td>\n",
       "      <td>...</td>\n",
       "      <td>...</td>\n",
       "      <td>...</td>\n",
       "      <td>...</td>\n",
       "    </tr>\n",
       "    <tr>\n",
       "      <th>195</th>\n",
       "      <td>3598</td>\n",
       "      <td>0.002700</td>\n",
       "      <td>0.6700</td>\n",
       "      <td>13.667</td>\n",
       "      <td>1</td>\n",
       "      <td>Red</td>\n",
       "    </tr>\n",
       "    <tr>\n",
       "      <th>196</th>\n",
       "      <td>3142</td>\n",
       "      <td>0.001320</td>\n",
       "      <td>0.2580</td>\n",
       "      <td>14.120</td>\n",
       "      <td>1</td>\n",
       "      <td>Red</td>\n",
       "    </tr>\n",
       "    <tr>\n",
       "      <th>197</th>\n",
       "      <td>3496</td>\n",
       "      <td>0.001250</td>\n",
       "      <td>0.3360</td>\n",
       "      <td>14.940</td>\n",
       "      <td>1</td>\n",
       "      <td>Red</td>\n",
       "    </tr>\n",
       "    <tr>\n",
       "      <th>198</th>\n",
       "      <td>3324</td>\n",
       "      <td>0.006500</td>\n",
       "      <td>0.4710</td>\n",
       "      <td>12.780</td>\n",
       "      <td>1</td>\n",
       "      <td>Red</td>\n",
       "    </tr>\n",
       "    <tr>\n",
       "      <th>199</th>\n",
       "      <td>3463</td>\n",
       "      <td>0.002700</td>\n",
       "      <td>0.6750</td>\n",
       "      <td>14.776</td>\n",
       "      <td>1</td>\n",
       "      <td>Red</td>\n",
       "    </tr>\n",
       "  </tbody>\n",
       "</table>\n",
       "<p>116 rows × 6 columns</p>\n",
       "</div>"
      ],
      "text/plain": [
       "     temperature  luminosity  radius  absolute_magnitude star_type star_color\n",
       "0           3068    0.002400  0.1700              16.120         0        Red\n",
       "1           3042    0.000500  0.1542              16.600         0        Red\n",
       "2           2600    0.000300  0.1020              18.700         0        Red\n",
       "3           2800    0.000200  0.1600              16.650         0        Red\n",
       "4           1939    0.000138  0.1030              20.060         0        Red\n",
       "..           ...         ...     ...                 ...       ...        ...\n",
       "195         3598    0.002700  0.6700              13.667         1        Red\n",
       "196         3142    0.001320  0.2580              14.120         1        Red\n",
       "197         3496    0.001250  0.3360              14.940         1        Red\n",
       "198         3324    0.006500  0.4710              12.780         1        Red\n",
       "199         3463    0.002700  0.6750              14.776         1        Red\n",
       "\n",
       "[116 rows x 6 columns]"
      ]
     },
     "execution_count": 15,
     "metadata": {},
     "output_type": "execute_result"
    }
   ],
   "source": [
    "df.query('temperature < 5000')"
   ]
  },
  {
   "cell_type": "code",
   "execution_count": 16,
   "metadata": {},
   "outputs": [
    {
     "data": {
      "text/plain": [
       "star_color\n",
       "Red                   112\n",
       "Blue                   55\n",
       "Blue-white             26\n",
       "Blue White             10\n",
       "yellow-white            8\n",
       "White                   7\n",
       "Blue white              3\n",
       "white                   3\n",
       "Yellowish White         3\n",
       "Whitish                 2\n",
       "yellowish               2\n",
       "Orange                  2\n",
       "Blue                    1\n",
       "White-Yellow            1\n",
       "Orange-Red              1\n",
       "Yellowish               1\n",
       "Blue-White              1\n",
       "Blue white              1\n",
       "Pale yellow orange      1\n",
       "Name: count, dtype: int64"
      ]
     },
     "execution_count": 16,
     "metadata": {},
     "output_type": "execute_result"
    }
   ],
   "source": [
    "df['star_color'].value_counts()"
   ]
  },
  {
   "cell_type": "markdown",
   "metadata": {},
   "source": [
    "В данных преобдатают звезду красного цвета с температурой до 6000 K."
   ]
  },
  {
   "cell_type": "markdown",
   "metadata": {},
   "source": [
    "### Столбец относительной светимости"
   ]
  },
  {
   "cell_type": "code",
   "execution_count": 17,
   "metadata": {},
   "outputs": [
    {
     "data": {
      "image/png": "[encoded data removed]",
      "text/plain": [
       "<Figure size 900x700 with 1 Axes>"
      ]
     },
     "metadata": {},
     "output_type": "display_data"
    }
   ],
   "source": [
    "plt.xlabel(\"Относительная светимость\", fontsize = 12)\n",
    "plt.ylabel(\"Количество звезд\", fontsize = 12)\n",
    "plt.title(\"Столбец luminosity\", fontsize = 15)\n",
    "df['luminosity'].hist(bins= 20)\n",
    "plt.show()"
   ]
  },
  {
   "cell_type": "code",
   "execution_count": 18,
   "metadata": {},
   "outputs": [
    {
     "data": {
      "image/png": "[encoded data removed]",
      "text/plain": [
       "<Figure size 800x400 with 1 Axes>"
      ]
     },
     "metadata": {},
     "output_type": "display_data"
    }
   ],
   "source": [
    "plt.figure(figsize = (8, 4))\n",
    "sns.boxplot(data = df['luminosity'], orient='h')\n",
    "plt.xlabel('Относительная светимость', fontsize=12)\n",
    "plt.title('Коробчатая диаграмма по относительной светимости звезды', fontsize = 15)\n",
    "plt.show()"
   ]
  },
  {
   "cell_type": "code",
   "execution_count": 19,
   "metadata": {},
   "outputs": [
    {
     "data": {
      "text/html": [
       "<div>\n",
       "<style scoped>\n",
       "    .dataframe tbody tr th:only-of-type {\n",
       "        vertical-align: middle;\n",
       "    }\n",
       "\n",
       "    .dataframe tbody tr th {\n",
       "        vertical-align: top;\n",
       "    }\n",
       "\n",
       "    .dataframe thead th {\n",
       "        text-align: right;\n",
       "    }\n",
       "</style>\n",
       "<table border=\"1\" class=\"dataframe\">\n",
       "  <thead>\n",
       "    <tr style=\"text-align: right;\">\n",
       "      <th></th>\n",
       "      <th>temperature</th>\n",
       "      <th>luminosity</th>\n",
       "      <th>radius</th>\n",
       "      <th>absolute_magnitude</th>\n",
       "      <th>star_type</th>\n",
       "      <th>star_color</th>\n",
       "    </tr>\n",
       "  </thead>\n",
       "  <tbody>\n",
       "    <tr>\n",
       "      <th>53</th>\n",
       "      <td>3749</td>\n",
       "      <td>550000.0</td>\n",
       "      <td>1648.0</td>\n",
       "      <td>-8.050</td>\n",
       "      <td>5</td>\n",
       "      <td>Orange</td>\n",
       "    </tr>\n",
       "    <tr>\n",
       "      <th>101</th>\n",
       "      <td>40000</td>\n",
       "      <td>813000.0</td>\n",
       "      <td>14.0</td>\n",
       "      <td>-6.230</td>\n",
       "      <td>4</td>\n",
       "      <td>Blue</td>\n",
       "    </tr>\n",
       "    <tr>\n",
       "      <th>162</th>\n",
       "      <td>12675</td>\n",
       "      <td>452000.0</td>\n",
       "      <td>83.0</td>\n",
       "      <td>-5.620</td>\n",
       "      <td>4</td>\n",
       "      <td>Blue</td>\n",
       "    </tr>\n",
       "    <tr>\n",
       "      <th>172</th>\n",
       "      <td>4287</td>\n",
       "      <td>630000.0</td>\n",
       "      <td>1315.0</td>\n",
       "      <td>-9.200</td>\n",
       "      <td>5</td>\n",
       "      <td>Orange</td>\n",
       "    </tr>\n",
       "    <tr>\n",
       "      <th>223</th>\n",
       "      <td>23440</td>\n",
       "      <td>537430.0</td>\n",
       "      <td>81.0</td>\n",
       "      <td>-5.975</td>\n",
       "      <td>4</td>\n",
       "      <td>Blue</td>\n",
       "    </tr>\n",
       "    <tr>\n",
       "      <th>226</th>\n",
       "      <td>9892</td>\n",
       "      <td>593900.0</td>\n",
       "      <td>80.0</td>\n",
       "      <td>-7.262</td>\n",
       "      <td>4</td>\n",
       "      <td>Blue</td>\n",
       "    </tr>\n",
       "    <tr>\n",
       "      <th>227</th>\n",
       "      <td>10930</td>\n",
       "      <td>783930.0</td>\n",
       "      <td>25.0</td>\n",
       "      <td>-6.224</td>\n",
       "      <td>4</td>\n",
       "      <td>Blue</td>\n",
       "    </tr>\n",
       "    <tr>\n",
       "      <th>229</th>\n",
       "      <td>21738</td>\n",
       "      <td>748890.0</td>\n",
       "      <td>92.0</td>\n",
       "      <td>-7.346</td>\n",
       "      <td>4</td>\n",
       "      <td>Blue</td>\n",
       "    </tr>\n",
       "    <tr>\n",
       "      <th>232</th>\n",
       "      <td>32489</td>\n",
       "      <td>648430.0</td>\n",
       "      <td>1948.5</td>\n",
       "      <td>-10.840</td>\n",
       "      <td>5</td>\n",
       "      <td>Blue</td>\n",
       "    </tr>\n",
       "    <tr>\n",
       "      <th>233</th>\n",
       "      <td>27739</td>\n",
       "      <td>849420.0</td>\n",
       "      <td>1252.0</td>\n",
       "      <td>-7.590</td>\n",
       "      <td>5</td>\n",
       "      <td>Blue-white</td>\n",
       "    </tr>\n",
       "    <tr>\n",
       "      <th>234</th>\n",
       "      <td>21904</td>\n",
       "      <td>748490.0</td>\n",
       "      <td>1130.0</td>\n",
       "      <td>-7.670</td>\n",
       "      <td>5</td>\n",
       "      <td>Blue-white</td>\n",
       "    </tr>\n",
       "    <tr>\n",
       "      <th>236</th>\n",
       "      <td>30839</td>\n",
       "      <td>834042.0</td>\n",
       "      <td>1194.0</td>\n",
       "      <td>-10.630</td>\n",
       "      <td>5</td>\n",
       "      <td>Blue</td>\n",
       "    </tr>\n",
       "    <tr>\n",
       "      <th>237</th>\n",
       "      <td>8829</td>\n",
       "      <td>537493.0</td>\n",
       "      <td>1423.0</td>\n",
       "      <td>-10.730</td>\n",
       "      <td>5</td>\n",
       "      <td>White</td>\n",
       "    </tr>\n",
       "  </tbody>\n",
       "</table>\n",
       "</div>"
      ],
      "text/plain": [
       "     temperature  luminosity  radius  absolute_magnitude star_type  star_color\n",
       "53          3749    550000.0  1648.0              -8.050         5      Orange\n",
       "101        40000    813000.0    14.0              -6.230         4        Blue\n",
       "162        12675    452000.0    83.0              -5.620         4        Blue\n",
       "172         4287    630000.0  1315.0              -9.200         5      Orange\n",
       "223        23440    537430.0    81.0              -5.975         4        Blue\n",
       "226         9892    593900.0    80.0              -7.262         4        Blue\n",
       "227        10930    783930.0    25.0              -6.224         4        Blue\n",
       "229        21738    748890.0    92.0              -7.346         4        Blue\n",
       "232        32489    648430.0  1948.5             -10.840         5        Blue\n",
       "233        27739    849420.0  1252.0              -7.590         5  Blue-white\n",
       "234        21904    748490.0  1130.0              -7.670         5  Blue-white\n",
       "236        30839    834042.0  1194.0             -10.630         5        Blue\n",
       "237         8829    537493.0  1423.0             -10.730         5       White"
      ]
     },
     "execution_count": 19,
     "metadata": {},
     "output_type": "execute_result"
    }
   ],
   "source": [
    "df.query('luminosity > 430000')"
   ]
  },
  {
   "cell_type": "markdown",
   "metadata": {},
   "source": [
    "Здесь также выбросы не являются ошибкой, поскольку есть звезды с такими показателями светимости, что опять же характерно для звезд с отрицательной абсолютной величиной. Пример ярчайшая звезда созвездия Кормы, звезда имеет собственное имя Наос и ее светимость достигает 870 000 L."
   ]
  },
  {
   "cell_type": "markdown",
   "metadata": {},
   "source": [
    "### Столбец относительного радиуса "
   ]
  },
  {
   "cell_type": "code",
   "execution_count": 20,
   "metadata": {},
   "outputs": [
    {
     "data": {
      "image/png": "[encoded data removed]",
      "text/plain": [
       "<Figure size 900x700 with 1 Axes>"
      ]
     },
     "metadata": {},
     "output_type": "display_data"
    }
   ],
   "source": [
    "plt.xlabel(\"Относительный радиус\", fontsize=12)\n",
    "plt.ylabel(\"Количество звезд\", fontsize=12)\n",
    "plt.title(\"Столбец radius\", fontsize=15)\n",
    "df['radius'].hist(bins=30)\n",
    "plt.show()"
   ]
  },
  {
   "cell_type": "code",
   "execution_count": 21,
   "metadata": {},
   "outputs": [
    {
     "data": {
      "image/png": "[encoded data removed]",
      "text/plain": [
       "<Figure size 800x400 with 1 Axes>"
      ]
     },
     "metadata": {},
     "output_type": "display_data"
    }
   ],
   "source": [
    "plt.figure(figsize = (8, 4))\n",
    "sns.boxplot(data = df['radius'], orient='h')\n",
    "plt.xlabel('Относительный радиус', fontsize=12)\n",
    "plt.title('Коробчатая диаграмма по относительному радиусу звезды', fontsize = 15)\n",
    "plt.show()"
   ]
  },
  {
   "cell_type": "code",
   "execution_count": 22,
   "metadata": {},
   "outputs": [
    {
     "data": {
      "text/html": [
       "<div>\n",
       "<style scoped>\n",
       "    .dataframe tbody tr th:only-of-type {\n",
       "        vertical-align: middle;\n",
       "    }\n",
       "\n",
       "    .dataframe tbody tr th {\n",
       "        vertical-align: top;\n",
       "    }\n",
       "\n",
       "    .dataframe thead th {\n",
       "        text-align: right;\n",
       "    }\n",
       "</style>\n",
       "<table border=\"1\" class=\"dataframe\">\n",
       "  <thead>\n",
       "    <tr style=\"text-align: right;\">\n",
       "      <th></th>\n",
       "      <th>temperature</th>\n",
       "      <th>luminosity</th>\n",
       "      <th>radius</th>\n",
       "      <th>absolute_magnitude</th>\n",
       "      <th>star_type</th>\n",
       "      <th>star_color</th>\n",
       "    </tr>\n",
       "  </thead>\n",
       "  <tbody>\n",
       "    <tr>\n",
       "      <th>50</th>\n",
       "      <td>3490</td>\n",
       "      <td>270000.0</td>\n",
       "      <td>1520.0</td>\n",
       "      <td>-9.40</td>\n",
       "      <td>5</td>\n",
       "      <td>Red</td>\n",
       "    </tr>\n",
       "    <tr>\n",
       "      <th>51</th>\n",
       "      <td>3750</td>\n",
       "      <td>283000.0</td>\n",
       "      <td>1260.0</td>\n",
       "      <td>-7.63</td>\n",
       "      <td>5</td>\n",
       "      <td>Red</td>\n",
       "    </tr>\n",
       "    <tr>\n",
       "      <th>52</th>\n",
       "      <td>3834</td>\n",
       "      <td>272000.0</td>\n",
       "      <td>1183.0</td>\n",
       "      <td>-9.20</td>\n",
       "      <td>5</td>\n",
       "      <td>Red</td>\n",
       "    </tr>\n",
       "    <tr>\n",
       "      <th>53</th>\n",
       "      <td>3749</td>\n",
       "      <td>550000.0</td>\n",
       "      <td>1648.0</td>\n",
       "      <td>-8.05</td>\n",
       "      <td>5</td>\n",
       "      <td>Orange</td>\n",
       "    </tr>\n",
       "    <tr>\n",
       "      <th>54</th>\n",
       "      <td>3650</td>\n",
       "      <td>310000.0</td>\n",
       "      <td>1324.0</td>\n",
       "      <td>-7.79</td>\n",
       "      <td>5</td>\n",
       "      <td>Red</td>\n",
       "    </tr>\n",
       "    <tr>\n",
       "      <th>55</th>\n",
       "      <td>3450</td>\n",
       "      <td>263000.0</td>\n",
       "      <td>1349.0</td>\n",
       "      <td>-11.75</td>\n",
       "      <td>5</td>\n",
       "      <td>Red</td>\n",
       "    </tr>\n",
       "    <tr>\n",
       "      <th>56</th>\n",
       "      <td>3660</td>\n",
       "      <td>363000.0</td>\n",
       "      <td>1673.0</td>\n",
       "      <td>-11.92</td>\n",
       "      <td>5</td>\n",
       "      <td>Red</td>\n",
       "    </tr>\n",
       "    <tr>\n",
       "      <th>57</th>\n",
       "      <td>3450</td>\n",
       "      <td>174000.0</td>\n",
       "      <td>1284.0</td>\n",
       "      <td>-11.28</td>\n",
       "      <td>5</td>\n",
       "      <td>Red</td>\n",
       "    </tr>\n",
       "    <tr>\n",
       "      <th>58</th>\n",
       "      <td>3752</td>\n",
       "      <td>209000.0</td>\n",
       "      <td>955.0</td>\n",
       "      <td>-11.24</td>\n",
       "      <td>5</td>\n",
       "      <td>Red</td>\n",
       "    </tr>\n",
       "    <tr>\n",
       "      <th>59</th>\n",
       "      <td>3535</td>\n",
       "      <td>195000.0</td>\n",
       "      <td>1546.0</td>\n",
       "      <td>-11.36</td>\n",
       "      <td>5</td>\n",
       "      <td>Red</td>\n",
       "    </tr>\n",
       "    <tr>\n",
       "      <th>110</th>\n",
       "      <td>3459</td>\n",
       "      <td>100000.0</td>\n",
       "      <td>1289.0</td>\n",
       "      <td>-10.70</td>\n",
       "      <td>5</td>\n",
       "      <td>Red</td>\n",
       "    </tr>\n",
       "    <tr>\n",
       "      <th>111</th>\n",
       "      <td>3605</td>\n",
       "      <td>126000.0</td>\n",
       "      <td>1124.0</td>\n",
       "      <td>-10.81</td>\n",
       "      <td>5</td>\n",
       "      <td>Red</td>\n",
       "    </tr>\n",
       "    <tr>\n",
       "      <th>112</th>\n",
       "      <td>3615</td>\n",
       "      <td>200000.0</td>\n",
       "      <td>1635.0</td>\n",
       "      <td>-11.33</td>\n",
       "      <td>5</td>\n",
       "      <td>Red</td>\n",
       "    </tr>\n",
       "    <tr>\n",
       "      <th>113</th>\n",
       "      <td>3399</td>\n",
       "      <td>117000.0</td>\n",
       "      <td>1486.0</td>\n",
       "      <td>-10.92</td>\n",
       "      <td>5</td>\n",
       "      <td>Red</td>\n",
       "    </tr>\n",
       "    <tr>\n",
       "      <th>114</th>\n",
       "      <td>3610</td>\n",
       "      <td>132000.0</td>\n",
       "      <td>1522.0</td>\n",
       "      <td>-10.86</td>\n",
       "      <td>5</td>\n",
       "      <td>Red</td>\n",
       "    </tr>\n",
       "    <tr>\n",
       "      <th>115</th>\n",
       "      <td>3553</td>\n",
       "      <td>145000.0</td>\n",
       "      <td>1324.0</td>\n",
       "      <td>-11.03</td>\n",
       "      <td>5</td>\n",
       "      <td>Red</td>\n",
       "    </tr>\n",
       "    <tr>\n",
       "      <th>116</th>\n",
       "      <td>4015</td>\n",
       "      <td>282000.0</td>\n",
       "      <td>1534.0</td>\n",
       "      <td>-11.39</td>\n",
       "      <td>5</td>\n",
       "      <td>Red</td>\n",
       "    </tr>\n",
       "    <tr>\n",
       "      <th>117</th>\n",
       "      <td>3625</td>\n",
       "      <td>74000.0</td>\n",
       "      <td>876.0</td>\n",
       "      <td>-10.25</td>\n",
       "      <td>5</td>\n",
       "      <td>Red</td>\n",
       "    </tr>\n",
       "    <tr>\n",
       "      <th>118</th>\n",
       "      <td>6850</td>\n",
       "      <td>229000.0</td>\n",
       "      <td>1467.0</td>\n",
       "      <td>-10.07</td>\n",
       "      <td>5</td>\n",
       "      <td>Red</td>\n",
       "    </tr>\n",
       "    <tr>\n",
       "      <th>119</th>\n",
       "      <td>3780</td>\n",
       "      <td>200000.0</td>\n",
       "      <td>1324.0</td>\n",
       "      <td>-10.70</td>\n",
       "      <td>5</td>\n",
       "      <td>Red</td>\n",
       "    </tr>\n",
       "    <tr>\n",
       "      <th>170</th>\n",
       "      <td>3570</td>\n",
       "      <td>320000.0</td>\n",
       "      <td>1480.0</td>\n",
       "      <td>-7.58</td>\n",
       "      <td>5</td>\n",
       "      <td>Red</td>\n",
       "    </tr>\n",
       "    <tr>\n",
       "      <th>171</th>\n",
       "      <td>3500</td>\n",
       "      <td>138000.0</td>\n",
       "      <td>1420.0</td>\n",
       "      <td>-8.18</td>\n",
       "      <td>5</td>\n",
       "      <td>Red</td>\n",
       "    </tr>\n",
       "    <tr>\n",
       "      <th>172</th>\n",
       "      <td>4287</td>\n",
       "      <td>630000.0</td>\n",
       "      <td>1315.0</td>\n",
       "      <td>-9.20</td>\n",
       "      <td>5</td>\n",
       "      <td>Orange</td>\n",
       "    </tr>\n",
       "    <tr>\n",
       "      <th>173</th>\n",
       "      <td>26000</td>\n",
       "      <td>316000.0</td>\n",
       "      <td>1679.0</td>\n",
       "      <td>-9.10</td>\n",
       "      <td>5</td>\n",
       "      <td>Blue</td>\n",
       "    </tr>\n",
       "    <tr>\n",
       "      <th>174</th>\n",
       "      <td>3600</td>\n",
       "      <td>240000.0</td>\n",
       "      <td>1190.0</td>\n",
       "      <td>-7.89</td>\n",
       "      <td>5</td>\n",
       "      <td>Red</td>\n",
       "    </tr>\n",
       "    <tr>\n",
       "      <th>175</th>\n",
       "      <td>3614</td>\n",
       "      <td>145000.0</td>\n",
       "      <td>1553.0</td>\n",
       "      <td>-7.71</td>\n",
       "      <td>5</td>\n",
       "      <td>Red</td>\n",
       "    </tr>\n",
       "    <tr>\n",
       "      <th>176</th>\n",
       "      <td>18000</td>\n",
       "      <td>200000.0</td>\n",
       "      <td>1045.0</td>\n",
       "      <td>-8.30</td>\n",
       "      <td>5</td>\n",
       "      <td>Blue</td>\n",
       "    </tr>\n",
       "    <tr>\n",
       "      <th>177</th>\n",
       "      <td>11000</td>\n",
       "      <td>170000.0</td>\n",
       "      <td>1779.0</td>\n",
       "      <td>-9.90</td>\n",
       "      <td>5</td>\n",
       "      <td>Blue-white</td>\n",
       "    </tr>\n",
       "    <tr>\n",
       "      <th>178</th>\n",
       "      <td>12100</td>\n",
       "      <td>120000.0</td>\n",
       "      <td>708.9</td>\n",
       "      <td>-7.84</td>\n",
       "      <td>5</td>\n",
       "      <td>Blue-white</td>\n",
       "    </tr>\n",
       "    <tr>\n",
       "      <th>179</th>\n",
       "      <td>24490</td>\n",
       "      <td>248490.0</td>\n",
       "      <td>1134.5</td>\n",
       "      <td>-8.24</td>\n",
       "      <td>5</td>\n",
       "      <td>Blue-white</td>\n",
       "    </tr>\n",
       "    <tr>\n",
       "      <th>230</th>\n",
       "      <td>24145</td>\n",
       "      <td>382993.0</td>\n",
       "      <td>1494.0</td>\n",
       "      <td>-8.84</td>\n",
       "      <td>5</td>\n",
       "      <td>Blue-white</td>\n",
       "    </tr>\n",
       "    <tr>\n",
       "      <th>231</th>\n",
       "      <td>38234</td>\n",
       "      <td>272830.0</td>\n",
       "      <td>1356.0</td>\n",
       "      <td>-9.29</td>\n",
       "      <td>5</td>\n",
       "      <td>Blue</td>\n",
       "    </tr>\n",
       "    <tr>\n",
       "      <th>232</th>\n",
       "      <td>32489</td>\n",
       "      <td>648430.0</td>\n",
       "      <td>1948.5</td>\n",
       "      <td>-10.84</td>\n",
       "      <td>5</td>\n",
       "      <td>Blue</td>\n",
       "    </tr>\n",
       "    <tr>\n",
       "      <th>233</th>\n",
       "      <td>27739</td>\n",
       "      <td>849420.0</td>\n",
       "      <td>1252.0</td>\n",
       "      <td>-7.59</td>\n",
       "      <td>5</td>\n",
       "      <td>Blue-white</td>\n",
       "    </tr>\n",
       "    <tr>\n",
       "      <th>234</th>\n",
       "      <td>21904</td>\n",
       "      <td>748490.0</td>\n",
       "      <td>1130.0</td>\n",
       "      <td>-7.67</td>\n",
       "      <td>5</td>\n",
       "      <td>Blue-white</td>\n",
       "    </tr>\n",
       "    <tr>\n",
       "      <th>235</th>\n",
       "      <td>38940</td>\n",
       "      <td>374830.0</td>\n",
       "      <td>1356.0</td>\n",
       "      <td>-9.93</td>\n",
       "      <td>5</td>\n",
       "      <td>Blue</td>\n",
       "    </tr>\n",
       "    <tr>\n",
       "      <th>236</th>\n",
       "      <td>30839</td>\n",
       "      <td>834042.0</td>\n",
       "      <td>1194.0</td>\n",
       "      <td>-10.63</td>\n",
       "      <td>5</td>\n",
       "      <td>Blue</td>\n",
       "    </tr>\n",
       "    <tr>\n",
       "      <th>237</th>\n",
       "      <td>8829</td>\n",
       "      <td>537493.0</td>\n",
       "      <td>1423.0</td>\n",
       "      <td>-10.73</td>\n",
       "      <td>5</td>\n",
       "      <td>White</td>\n",
       "    </tr>\n",
       "    <tr>\n",
       "      <th>238</th>\n",
       "      <td>9235</td>\n",
       "      <td>404940.0</td>\n",
       "      <td>1112.0</td>\n",
       "      <td>-11.23</td>\n",
       "      <td>5</td>\n",
       "      <td>White</td>\n",
       "    </tr>\n",
       "    <tr>\n",
       "      <th>239</th>\n",
       "      <td>37882</td>\n",
       "      <td>294903.0</td>\n",
       "      <td>1783.0</td>\n",
       "      <td>-7.80</td>\n",
       "      <td>5</td>\n",
       "      <td>Blue</td>\n",
       "    </tr>\n",
       "  </tbody>\n",
       "</table>\n",
       "</div>"
      ],
      "text/plain": [
       "     temperature  luminosity  radius  absolute_magnitude star_type  star_color\n",
       "50          3490    270000.0  1520.0               -9.40         5         Red\n",
       "51          3750    283000.0  1260.0               -7.63         5         Red\n",
       "52          3834    272000.0  1183.0               -9.20         5         Red\n",
       "53          3749    550000.0  1648.0               -8.05         5      Orange\n",
       "54          3650    310000.0  1324.0               -7.79         5         Red\n",
       "55          3450    263000.0  1349.0              -11.75         5         Red\n",
       "56          3660    363000.0  1673.0              -11.92         5         Red\n",
       "57          3450    174000.0  1284.0              -11.28         5         Red\n",
       "58          3752    209000.0   955.0              -11.24         5         Red\n",
       "59          3535    195000.0  1546.0              -11.36         5         Red\n",
       "110         3459    100000.0  1289.0              -10.70         5         Red\n",
       "111         3605    126000.0  1124.0              -10.81         5         Red\n",
       "112         3615    200000.0  1635.0              -11.33         5         Red\n",
       "113         3399    117000.0  1486.0              -10.92         5         Red\n",
       "114         3610    132000.0  1522.0              -10.86         5         Red\n",
       "115         3553    145000.0  1324.0              -11.03         5         Red\n",
       "116         4015    282000.0  1534.0              -11.39         5         Red\n",
       "117         3625     74000.0   876.0              -10.25         5         Red\n",
       "118         6850    229000.0  1467.0              -10.07         5         Red\n",
       "119         3780    200000.0  1324.0              -10.70         5         Red\n",
       "170         3570    320000.0  1480.0               -7.58         5         Red\n",
       "171         3500    138000.0  1420.0               -8.18         5         Red\n",
       "172         4287    630000.0  1315.0               -9.20         5      Orange\n",
       "173        26000    316000.0  1679.0               -9.10         5        Blue\n",
       "174         3600    240000.0  1190.0               -7.89         5         Red\n",
       "175         3614    145000.0  1553.0               -7.71         5         Red\n",
       "176        18000    200000.0  1045.0               -8.30         5        Blue\n",
       "177        11000    170000.0  1779.0               -9.90         5  Blue-white\n",
       "178        12100    120000.0   708.9               -7.84         5  Blue-white\n",
       "179        24490    248490.0  1134.5               -8.24         5  Blue-white\n",
       "230        24145    382993.0  1494.0               -8.84         5  Blue-white\n",
       "231        38234    272830.0  1356.0               -9.29         5        Blue\n",
       "232        32489    648430.0  1948.5              -10.84         5        Blue\n",
       "233        27739    849420.0  1252.0               -7.59         5  Blue-white\n",
       "234        21904    748490.0  1130.0               -7.67         5  Blue-white\n",
       "235        38940    374830.0  1356.0               -9.93         5        Blue\n",
       "236        30839    834042.0  1194.0              -10.63         5        Blue\n",
       "237         8829    537493.0  1423.0              -10.73         5       White\n",
       "238         9235    404940.0  1112.0              -11.23         5       White\n",
       "239        37882    294903.0  1783.0               -7.80         5        Blue"
      ]
     },
     "execution_count": 22,
     "metadata": {},
     "output_type": "execute_result"
    }
   ],
   "source": [
    "df.query('radius > 600')"
   ]
  },
  {
   "cell_type": "markdown",
   "metadata": {},
   "source": [
    "Схожая картина с прерыдущими столбцами. Такие характеристики звезд имеют место быть. Ничего менять не будем."
   ]
  },
  {
   "cell_type": "markdown",
   "metadata": {},
   "source": [
    "#### Столбец абсолютной звёздной величины "
   ]
  },
  {
   "cell_type": "code",
   "execution_count": 23,
   "metadata": {},
   "outputs": [
    {
     "data": {
      "image/png": "[encoded data removed]",
      "text/plain": [
       "<Figure size 900x700 with 1 Axes>"
      ]
     },
     "metadata": {},
     "output_type": "display_data"
    }
   ],
   "source": [
    "plt.xlabel(\"Абсолютная звёздная величина\", fontsize=12)\n",
    "plt.ylabel(\"Количество звезд\", fontsize=12)\n",
    "plt.title(\"Столбец absolute_magnitude\", fontsize=15)\n",
    "df['absolute_magnitude'].hist(bins=10)\n",
    "plt.show()"
   ]
  },
  {
   "cell_type": "markdown",
   "metadata": {},
   "source": [
    "График имеет симметричное увеличение в обе стороны, что говорит о нисзком количестве схожиж звезд, по данному показателю, среди изученных."
   ]
  },
  {
   "cell_type": "markdown",
   "metadata": {},
   "source": [
    "#### Столбец типов звезд"
   ]
  },
  {
   "cell_type": "code",
   "execution_count": 24,
   "metadata": {},
   "outputs": [
    {
     "data": {
      "image/png": "[encoded data removed]",
      "text/plain": [
       "<Figure size 800x400 with 1 Axes>"
      ]
     },
     "metadata": {},
     "output_type": "display_data"
    }
   ],
   "source": [
    "df['star_type'].value_counts().plot.bar(figsize=(8, 4), grid=True)\n",
    "plt.title('Столбец absolute_magnitude', fontsize=15)\n",
    "plt.xlabel('Тип звезды', fontsize=12)\n",
    "plt.ylabel('Количество', fontsize=12);"
   ]
  },
  {
   "cell_type": "markdown",
   "metadata": {},
   "source": [
    "Нам даны 6 типов звезд, по 40 звезд каждого типа."
   ]
  },
  {
   "cell_type": "markdown",
   "metadata": {},
   "source": [
    "#### Стобце цвета звезд"
   ]
  },
  {
   "cell_type": "code",
   "execution_count": 25,
   "metadata": {},
   "outputs": [
    {
     "data": {
      "text/plain": [
       "['Red', 'Blue White', 'White', 'Yellowish White', 'Blue white', ..., 'yellowish', 'Yellowish', 'Orange-Red', 'Blue white ', 'Blue-White']\n",
       "Length: 19\n",
       "Categories (19, object): ['Blue', 'Blue ', 'Blue White', 'Blue white', ..., 'Yellowish White', 'white', 'yellow-white', 'yellowish']"
      ]
     },
     "execution_count": 25,
     "metadata": {},
     "output_type": "execute_result"
    }
   ],
   "source": [
    "df['star_color'].unique()"
   ]
  },
  {
   "cell_type": "markdown",
   "metadata": {},
   "source": [
    "В названиях цветов есть повторения, один и тот-же цвет написаный по разному. Приведем все к нижнему регистру,  уберем пробелы в начале и конце строки и заменим пробелы между словами на `-`."
   ]
  },
  {
   "cell_type": "code",
   "execution_count": 26,
   "metadata": {},
   "outputs": [
    {
     "data": {
      "text/plain": [
       "array(['red', 'blue-white', 'white', 'yellowish-white',\n",
       "       'pale-yellow-orange', 'blue', 'whitish', 'yellow-white', 'orange',\n",
       "       'yellowish', 'orange-red'], dtype=object)"
      ]
     },
     "execution_count": 26,
     "metadata": {},
     "output_type": "execute_result"
    }
   ],
   "source": [
    "df['star_color'] = df['star_color'].str.lower() \n",
    "df['star_color'] = df['star_color'].str.strip() \n",
    "df['star_color'] = df['star_color'].str.replace(' ', '-')\n",
    "df['star_color'] = df['star_color'].str.replace('white-yellow', 'yellow-white')\n",
    "df['star_color'].unique()"
   ]
  },
  {
   "cell_type": "code",
   "execution_count": 27,
   "metadata": {},
   "outputs": [
    {
     "data": {
      "image/png": "[encoded data removed]",
      "text/plain": [
       "<Figure size 800x400 with 1 Axes>"
      ]
     },
     "metadata": {},
     "output_type": "display_data"
    }
   ],
   "source": [
    "df['star_color'].value_counts().plot.bar(figsize=(8, 4))\n",
    "plt.title('Количество звезд в каждом цвете')\n",
    "plt.xlabel('Цвет звезды')\n",
    "plt.ylabel('Количество');"
   ]
  },
  {
   "cell_type": "markdown",
   "metadata": {},
   "source": [
    "Большинство представленных звезд имеет красный цвет, также преобладают голубые и бело-желтые."
   ]
  },
  {
   "cell_type": "code",
   "execution_count": 28,
   "metadata": {},
   "outputs": [
    {
     "data": {
      "text/plain": [
       "star_color\n",
       "red                   112\n",
       "blue                   56\n",
       "blue-white             41\n",
       "white                  10\n",
       "yellow-white            9\n",
       "yellowish-white         3\n",
       "yellowish               3\n",
       "whitish                 2\n",
       "orange                  2\n",
       "pale-yellow-orange      1\n",
       "orange-red              1\n",
       "Name: count, dtype: int64"
      ]
     },
     "execution_count": 28,
     "metadata": {},
     "output_type": "execute_result"
    }
   ],
   "source": [
    "df['star_color'].value_counts()"
   ]
  },
  {
   "cell_type": "markdown",
   "metadata": {},
   "source": [
    "Некоторых цветов слишком мало, объединим их в отделтную категорию other."
   ]
  },
  {
   "cell_type": "code",
   "execution_count": 29,
   "metadata": {},
   "outputs": [],
   "source": [
    "threshold = 9\n",
    "df['star_color'] = df['star_color'].apply(lambda x: x if df['star_color'].value_counts()[x] >= threshold else 'other')"
   ]
  },
  {
   "cell_type": "code",
   "execution_count": 30,
   "metadata": {},
   "outputs": [
    {
     "data": {
      "text/plain": [
       "star_color\n",
       "red             112\n",
       "blue             56\n",
       "blue-white       41\n",
       "other            12\n",
       "white            10\n",
       "yellow-white      9\n",
       "Name: count, dtype: int64"
      ]
     },
     "execution_count": 30,
     "metadata": {},
     "output_type": "execute_result"
    }
   ],
   "source": [
    "df['star_color'].value_counts()"
   ]
  },
  {
   "cell_type": "code",
   "execution_count": 31,
   "metadata": {},
   "outputs": [
    {
     "data": {
      "image/png": "[encoded data removed]",
      "text/plain": [
       "<Figure size 800x400 with 1 Axes>"
      ]
     },
     "metadata": {},
     "output_type": "display_data"
    }
   ],
   "source": [
    "df['star_color'].value_counts().plot.bar(figsize=(8, 4))\n",
    "plt.title('Количество звезд в каждом цвете')\n",
    "plt.xlabel('Цвет звезды')\n",
    "plt.ylabel('Количество');"
   ]
  },
  {
   "cell_type": "markdown",
   "metadata": {},
   "source": [
    "**Выводы:** \n",
    "- Мы изменили названия столбцов\n",
    "- Привели столбецы star_type и star_color в категориальный тип\n",
    "- Удалили нерелевантный столбец\n",
    "- Детально изучили каждый столбец\n",
    "- Убрали неявные дубликаты в столбце star_color\n",
    "- Объединила цвета которых меньше 9 в категорию other"
   ]
  },
  {
   "cell_type": "markdown",
   "metadata": {},
   "source": [
    "## Подготовка данных к построению модели"
   ]
  },
  {
   "cell_type": "markdown",
   "metadata": {},
   "source": [
    "Разделение данных на выборки"
   ]
  },
  {
   "cell_type": "code",
   "execution_count": 32,
   "metadata": {},
   "outputs": [],
   "source": [
    "RANDOM_STATE = 12345"
   ]
  },
  {
   "cell_type": "code",
   "execution_count": 33,
   "metadata": {},
   "outputs": [],
   "source": [
    "target = df['temperature']\n",
    "features = df.drop('temperature', axis=1)"
   ]
  },
  {
   "cell_type": "code",
   "execution_count": 34,
   "metadata": {},
   "outputs": [
    {
     "name": "stdout",
     "output_type": "stream",
     "text": [
      "Index(['luminosity', 'radius', 'absolute_magnitude'], dtype='object')\n"
     ]
    },
    {
     "data": {
      "text/plain": [
       "Index(['star_type', 'star_color'], dtype='object')"
      ]
     },
     "execution_count": 34,
     "metadata": {},
     "output_type": "execute_result"
    }
   ],
   "source": [
    "numeric = features.select_dtypes(include='float64').columns\n",
    "categorical = features.select_dtypes(exclude='float64').columns\n",
    "print(numeric)\n",
    "categorical"
   ]
  },
  {
   "cell_type": "code",
   "execution_count": 35,
   "metadata": {},
   "outputs": [
    {
     "name": "stdout",
     "output_type": "stream",
     "text": [
      "Величина тренировочного датасета: 180\n",
      "Величина тестового датасета: 60\n"
     ]
    }
   ],
   "source": [
    "features_train, features_test, target_train,  target_test = train_test_split(\n",
    "    features, target, test_size=0.25, random_state=RANDOM_STATE)\n",
    "print(f'Величина тренировочного датасета: {features_train.shape[0]}')\n",
    "print(f'Величина тестового датасета: {features_test.shape[0]}')"
   ]
  },
  {
   "cell_type": "markdown",
   "metadata": {},
   "source": [
    "Масштабирование числовых переменных"
   ]
  },
  {
   "cell_type": "code",
   "execution_count": 36,
   "metadata": {},
   "outputs": [],
   "source": [
    "scaler = StandardScaler()\n",
    "features_train[numeric] = scaler.fit_transform(features_train[numeric])\n",
    "features_test[numeric] = scaler.transform(features_test[numeric])"
   ]
  },
  {
   "cell_type": "markdown",
   "metadata": {},
   "source": [
    "Кодирование категориальных преременных"
   ]
  },
  {
   "cell_type": "code",
   "execution_count": 37,
   "metadata": {},
   "outputs": [],
   "source": [
    "encoder = OneHotEncoder(drop='first', sparse_output=False, handle_unknown='ignore')\n",
    "encoder.fit(features_train[categorical])\n",
    "\n",
    "features_train[encoder.get_feature_names_out()] = encoder.transform(features_train[categorical]) \n",
    "features_train = features_train.drop(categorical, axis=1)\n",
    "\n",
    "features_test[encoder.get_feature_names_out()] = encoder.transform(features_test[categorical])\n",
    "features_test = features_test.drop(categorical, axis=1)"
   ]
  },
  {
   "cell_type": "code",
   "execution_count": 38,
   "metadata": {},
   "outputs": [
    {
     "data": {
      "text/html": [
       "<div>\n",
       "<style scoped>\n",
       "    .dataframe tbody tr th:only-of-type {\n",
       "        vertical-align: middle;\n",
       "    }\n",
       "\n",
       "    .dataframe tbody tr th {\n",
       "        vertical-align: top;\n",
       "    }\n",
       "\n",
       "    .dataframe thead th {\n",
       "        text-align: right;\n",
       "    }\n",
       "</style>\n",
       "<table border=\"1\" class=\"dataframe\">\n",
       "  <thead>\n",
       "    <tr style=\"text-align: right;\">\n",
       "      <th></th>\n",
       "      <th>luminosity</th>\n",
       "      <th>radius</th>\n",
       "      <th>absolute_magnitude</th>\n",
       "      <th>star_type_1</th>\n",
       "      <th>star_type_2</th>\n",
       "      <th>star_type_3</th>\n",
       "      <th>star_type_4</th>\n",
       "      <th>star_type_5</th>\n",
       "      <th>star_color_blue-white</th>\n",
       "      <th>star_color_other</th>\n",
       "      <th>star_color_red</th>\n",
       "      <th>star_color_white</th>\n",
       "      <th>star_color_yellow-white</th>\n",
       "    </tr>\n",
       "  </thead>\n",
       "  <tbody>\n",
       "    <tr>\n",
       "      <th>99</th>\n",
       "      <td>0.573322</td>\n",
       "      <td>-0.412010</td>\n",
       "      <td>-0.894946</td>\n",
       "      <td>0.0</td>\n",
       "      <td>0.0</td>\n",
       "      <td>1.0</td>\n",
       "      <td>0.0</td>\n",
       "      <td>0.0</td>\n",
       "      <td>0.0</td>\n",
       "      <td>0.0</td>\n",
       "      <td>0.0</td>\n",
       "      <td>0.0</td>\n",
       "      <td>0.0</td>\n",
       "    </tr>\n",
       "    <tr>\n",
       "      <th>206</th>\n",
       "      <td>-0.586360</td>\n",
       "      <td>-0.433149</td>\n",
       "      <td>0.524323</td>\n",
       "      <td>0.0</td>\n",
       "      <td>1.0</td>\n",
       "      <td>0.0</td>\n",
       "      <td>0.0</td>\n",
       "      <td>0.0</td>\n",
       "      <td>0.0</td>\n",
       "      <td>0.0</td>\n",
       "      <td>0.0</td>\n",
       "      <td>0.0</td>\n",
       "      <td>0.0</td>\n",
       "    </tr>\n",
       "    <tr>\n",
       "      <th>10</th>\n",
       "      <td>-0.586360</td>\n",
       "      <td>-0.432117</td>\n",
       "      <td>0.537614</td>\n",
       "      <td>1.0</td>\n",
       "      <td>0.0</td>\n",
       "      <td>0.0</td>\n",
       "      <td>0.0</td>\n",
       "      <td>0.0</td>\n",
       "      <td>0.0</td>\n",
       "      <td>0.0</td>\n",
       "      <td>1.0</td>\n",
       "      <td>0.0</td>\n",
       "      <td>0.0</td>\n",
       "    </tr>\n",
       "    <tr>\n",
       "      <th>156</th>\n",
       "      <td>-0.501317</td>\n",
       "      <td>-0.421783</td>\n",
       "      <td>-0.837985</td>\n",
       "      <td>0.0</td>\n",
       "      <td>0.0</td>\n",
       "      <td>1.0</td>\n",
       "      <td>0.0</td>\n",
       "      <td>0.0</td>\n",
       "      <td>1.0</td>\n",
       "      <td>0.0</td>\n",
       "      <td>0.0</td>\n",
       "      <td>0.0</td>\n",
       "      <td>0.0</td>\n",
       "    </tr>\n",
       "    <tr>\n",
       "      <th>135</th>\n",
       "      <td>-0.586360</td>\n",
       "      <td>-0.431660</td>\n",
       "      <td>0.923047</td>\n",
       "      <td>1.0</td>\n",
       "      <td>0.0</td>\n",
       "      <td>0.0</td>\n",
       "      <td>0.0</td>\n",
       "      <td>0.0</td>\n",
       "      <td>0.0</td>\n",
       "      <td>0.0</td>\n",
       "      <td>1.0</td>\n",
       "      <td>0.0</td>\n",
       "      <td>0.0</td>\n",
       "    </tr>\n",
       "  </tbody>\n",
       "</table>\n",
       "</div>"
      ],
      "text/plain": [
       "     luminosity    radius  absolute_magnitude  star_type_1  star_type_2  \\\n",
       "99     0.573322 -0.412010           -0.894946          0.0          0.0   \n",
       "206   -0.586360 -0.433149            0.524323          0.0          1.0   \n",
       "10    -0.586360 -0.432117            0.537614          1.0          0.0   \n",
       "156   -0.501317 -0.421783           -0.837985          0.0          0.0   \n",
       "135   -0.586360 -0.431660            0.923047          1.0          0.0   \n",
       "\n",
       "     star_type_3  star_type_4  star_type_5  star_color_blue-white  \\\n",
       "99           1.0          0.0          0.0                    0.0   \n",
       "206          0.0          0.0          0.0                    0.0   \n",
       "10           0.0          0.0          0.0                    0.0   \n",
       "156          1.0          0.0          0.0                    1.0   \n",
       "135          0.0          0.0          0.0                    0.0   \n",
       "\n",
       "     star_color_other  star_color_red  star_color_white  \\\n",
       "99                0.0             0.0               0.0   \n",
       "206               0.0             0.0               0.0   \n",
       "10                0.0             1.0               0.0   \n",
       "156               0.0             0.0               0.0   \n",
       "135               0.0             1.0               0.0   \n",
       "\n",
       "     star_color_yellow-white  \n",
       "99                       0.0  \n",
       "206                      0.0  \n",
       "10                       0.0  \n",
       "156                      0.0  \n",
       "135                      0.0  "
      ]
     },
     "execution_count": 38,
     "metadata": {},
     "output_type": "execute_result"
    }
   ],
   "source": [
    "features_train.head()"
   ]
  },
  {
   "cell_type": "markdown",
   "metadata": {},
   "source": [
    "Перевод датасета в тензор"
   ]
  },
  {
   "cell_type": "code",
   "execution_count": 39,
   "metadata": {},
   "outputs": [],
   "source": [
    "X_train = torch.FloatTensor(features_train.values)\n",
    "X_test = torch.FloatTensor(features_test.values)\n",
    "y_train = torch.FloatTensor(target_train.values)\n",
    "y_test = torch.FloatTensor(target_test.values)"
   ]
  },
  {
   "cell_type": "markdown",
   "metadata": {},
   "source": [
    "## Построение базовой нейронной сети"
   ]
  },
  {
   "cell_type": "code",
   "execution_count": 41,
   "metadata": {},
   "outputs": [
    {
     "name": "stdout",
     "output_type": "stream",
     "text": [
      "Эпоха:  0\n",
      "r2_train: -1.25, rmse_train: 13727.0\n",
      "r2_test:  -1.15, rmse_test: 15460.0\n",
      "Эпоха:  100\n",
      "r2_train: -0.89, rmse_train: 12576.0\n",
      "r2_test:  -0.81, rmse_test: 14217.0\n",
      "Эпоха:  200\n",
      "r2_train: 0.27, rmse_train: 7817.0\n",
      "r2_test:  0.26, rmse_test: 9056.0\n",
      "Эпоха:  300\n",
      "r2_train: 0.42, rmse_train: 6952.0\n",
      "r2_test:  0.43, rmse_test: 7961.0\n",
      "Эпоха:  400\n",
      "r2_train: 0.48, rmse_train: 6571.0\n",
      "r2_test:  0.49, rmse_test: 7545.0\n",
      "Эпоха:  500\n",
      "r2_train: 0.56, rmse_train: 6092.0\n",
      "r2_test:  0.58, rmse_test: 6872.0\n",
      "Эпоха:  600\n",
      "r2_train: 0.66, rmse_train: 5342.0\n",
      "r2_test:  0.67, rmse_test: 6033.0\n",
      "Эпоха:  700\n",
      "r2_train: 0.74, rmse_train: 4656.0\n",
      "r2_test:  0.74, rmse_test: 5371.0\n",
      "Эпоха:  800\n",
      "r2_train: 0.78, rmse_train: 4266.0\n",
      "r2_test:  0.77, rmse_test: 5088.0\n",
      "Эпоха:  900\n",
      "r2_train: 0.81, rmse_train: 4022.0\n",
      "r2_test:  0.78, rmse_test: 4974.0\n",
      "Эпоха:  1000\n",
      "r2_train: 0.83, rmse_train: 3807.0\n",
      "r2_test:  0.8, rmse_test: 4678.0\n",
      "Эпоха:  1100\n",
      "r2_train: 0.84, rmse_train: 3631.0\n",
      "r2_test:  0.82, rmse_test: 4501.0\n",
      "Эпоха:  1200\n",
      "r2_train: 0.85, rmse_train: 3512.0\n",
      "r2_test:  0.83, rmse_test: 4355.0\n",
      "Эпоха:  1300\n",
      "r2_train: 0.86, rmse_train: 3427.0\n",
      "r2_test:  0.83, rmse_test: 4318.0\n",
      "Эпоха:  1400\n",
      "r2_train: 0.87, rmse_train: 3354.0\n",
      "r2_test:  0.84, rmse_test: 4279.0\n",
      "Эпоха:  1500\n",
      "r2_train: 0.87, rmse_train: 3293.0\n",
      "r2_test:  0.84, rmse_test: 4261.0\n",
      "Эпоха:  1600\n",
      "r2_train: 0.88, rmse_train: 3232.0\n",
      "r2_test:  0.84, rmse_test: 4233.0\n",
      "Эпоха:  1700\n",
      "r2_train: 0.88, rmse_train: 3184.0\n",
      "r2_test:  0.84, rmse_test: 4235.0\n",
      "Эпоха:  1800\n",
      "r2_train: 0.88, rmse_train: 3140.0\n",
      "r2_test:  0.84, rmse_test: 4239.0\n",
      "Эпоха:  1900\n",
      "r2_train: 0.89, rmse_train: 3096.0\n",
      "r2_test:  0.84, rmse_test: 4219.0\n",
      "Эпоха:  2000\n",
      "r2_train: 0.89, rmse_train: 3033.0\n",
      "r2_test:  0.84, rmse_test: 4238.0\n",
      "Эпоха:  2100\n",
      "r2_train: 0.89, rmse_train: 2981.0\n",
      "r2_test:  0.84, rmse_test: 4261.0\n",
      "Эпоха:  2200\n",
      "r2_train: 0.9, rmse_train: 2930.0\n",
      "r2_test:  0.84, rmse_test: 4273.0\n",
      "Эпоха:  2300\n",
      "r2_train: 0.9, rmse_train: 2887.0\n",
      "r2_test:  0.84, rmse_test: 4276.0\n",
      "Эпоха:  2400\n",
      "r2_train: 0.9, rmse_train: 2846.0\n",
      "r2_test:  0.83, rmse_test: 4287.0\n"
     ]
    }
   ],
   "source": [
    "random.seed(RANDOM_STATE)\n",
    "np.random.seed(RANDOM_STATE)\n",
    "torch.manual_seed(RANDOM_STATE)\n",
    "torch.use_deterministic_algorithms(True)\n",
    "\n",
    "class Net(nn.Module):\n",
    "    def __init__(self, n_in_neurons, n_hidden_neurons_1, n_hidden_neurons_2, n_out_neurons):\n",
    "        super(Net, self).__init__()\n",
    "        \n",
    "        self.fc1 = nn.Linear(n_in_neurons, n_hidden_neurons_1)\n",
    "        self.act1 = nn.ELU()\n",
    "        self.fc2 = nn.Linear(n_hidden_neurons_1, n_hidden_neurons_2)\n",
    "        self.act2 = nn.ReLU()\n",
    "        self.fc3 = nn.Linear(n_hidden_neurons_2, n_out_neurons)    \n",
    "        \n",
    "    def forward(self, x):\n",
    "        x = self.fc1(x)\n",
    "        x = self.act1(x)\n",
    "        x = self.fc2(x)\n",
    "        x = self.act2(x)\n",
    "        x = self.fc3(x)\n",
    "        return x\n",
    "\n",
    "n_in_neurons = features_train.shape[1]\n",
    "n_hidden_neurons_1 = 25\n",
    "n_hidden_neurons_2 = 17\n",
    "n_out_neurons = 1\n",
    "\n",
    "net = Net(n_in_neurons, n_hidden_neurons_1, n_hidden_neurons_2, n_out_neurons)\n",
    "\n",
    "optimizer = torch.optim.Adam(net.parameters(), lr=1e-2)\n",
    "\n",
    "loss = nn.MSELoss()\n",
    "\n",
    "num_epochs = 2500 \n",
    "\n",
    "train_rmse_history = []\n",
    "test_rmse_history = []\n",
    "\n",
    "for epoch in range(num_epochs):\n",
    "    optimizer.zero_grad()\n",
    "    preds = net.forward(X_train).flatten()\n",
    "    loss_value = loss(preds,y_train)\n",
    "    loss_value.backward()\n",
    "    optimizer.step()\n",
    "\n",
    "    if epoch % 100 == 0 or epoch == num_epochs:\n",
    "        print(\"Эпоха: \", epoch)\n",
    "\n",
    "        train_preds = net.forward(X_train)\n",
    "        r2_train = np.round(r2_score(y_train, train_preds.detach().numpy()), 2)\n",
    "        rmse_train = np.round(mean_squared_error(y_train, train_preds.detach().numpy(), squared=False))\n",
    "        train_rmse_history.append(rmse_train)\n",
    "        print(f\"r2_train: {r2_train}, rmse_train: {rmse_train}\")\n",
    "\n",
    "        net.eval()\n",
    "        test_preds = net.forward(X_test)\n",
    "        test_preds = test_preds.flatten().detach().numpy()\n",
    "        r2_test = np.round(r2_score(y_test, test_preds), 2)\n",
    "        rmse_test = np.round(mean_squared_error(y_test, test_preds, squared=False))\n",
    "        test_rmse_history.append(rmse_test)\n",
    "        print(f\"r2_test:  {r2_test}, rmse_test: {rmse_test}\")\n",
    "\n",
    "\n",
    "batch_size = None\n",
    "learning_rate = None\n",
    "drop_out = None\n",
    "data = {\n",
    "    \"epoch\": epoch, \n",
    "    \"batch_size\": batch_size, \n",
    "    \"learning_rate\": learning_rate, \n",
    "    \"drop_out\": drop_out, \n",
    "    \"rmse_train\": rmse_train, \n",
    "    \"rmse_test\": rmse_test, \n",
    "    \"r2_train\": r2_train, \n",
    "    \"r2_test\": r2_test}\n",
    "results = pd.DataFrame([data])"
   ]
  },
  {
   "cell_type": "code",
   "execution_count": 42,
   "metadata": {},
   "outputs": [
    {
     "data": {
      "image/png": "[encoded data removed]",
      "text/plain": [
       "<Figure size 900x700 with 1 Axes>"
      ]
     },
     "metadata": {},
     "output_type": "display_data"
    }
   ],
   "source": [
    "plt.plot(train_rmse_history, label='Train RMSE')\n",
    "plt.plot(test_rmse_history, label='Test RMSE')\n",
    "plt.xlabel('Эпоха')\n",
    "plt.ylabel('RMSE')\n",
    "plt.legend()\n",
    "plt.show()"
   ]
  },
  {
   "cell_type": "code",
   "execution_count": 43,
   "metadata": {},
   "outputs": [],
   "source": [
    "def vizual(y_pred, y_true):\n",
    "    \n",
    "    x = np.arange(len(y_true))\n",
    "\n",
    "    fig,ax = plt.subplots()\n",
    "    fig.set_figwidth(18)\n",
    "    fig.set_figheight(8)\n",
    "    ax.set_xticks(x)\n",
    "    fact = ax.bar(x, y_true, width = 0.9, label = 'Факт')\n",
    "    forecast = ax.bar(x, y_pred , width = 0.4, label = 'Прогноз')\n",
    "    ax.legend()\n",
    "    ax.set_title('График \"Факт-прогноз\"', fontsize=20)\n",
    "    ax.set_xlabel('Номер звезды')\n",
    "    ax.set_ylabel('Температура звезды')\n",
    "    plt.grid(axis='y')\n",
    "    plt.show()"
   ]
  },
  {
   "cell_type": "code",
   "execution_count": 44,
   "metadata": {},
   "outputs": [
    {
     "data": {
      "image/png": "[encoded data removed]",
      "text/plain": [
       "<Figure size 1800x800 with 1 Axes>"
      ]
     },
     "metadata": {},
     "output_type": "display_data"
    }
   ],
   "source": [
    "vizual(test_preds, y_test)"
   ]
  },
  {
   "cell_type": "markdown",
   "metadata": {},
   "source": [
    "**Вывод:**\\\n",
    "Лучшее RMSE составило 4219 на эпохе 1900., что говорит о том, что модель демонстрирует хорошую производительность.\\\n",
    "Анализируя график сопоставления предсказанных и фактических значений температур звёзд, можно утверждать, что звезды с низкими температурами (до 5000К) прогнозируются хорошо. Звезды со средней и высокой температурой прогнозируются гораздо хуже, здесь удалось верно спрогнозировать мало звезд."
   ]
  },
  {
   "cell_type": "markdown",
   "metadata": {},
   "source": [
    "## Улучшение нейронной сети"
   ]
  },
  {
   "cell_type": "markdown",
   "metadata": {},
   "source": [
    "Попробуем улучшить сеть путем перебора параметров, таких как dropout, размер батча и скорость обучения."
   ]
  },
  {
   "cell_type": "code",
   "execution_count": 45,
   "metadata": {},
   "outputs": [
    {
     "name": "stderr",
     "output_type": "stream",
     "text": [
      "[I 2024-09-21 16:50:34,155] A new study created in memory with name: no-name-53defff2-335b-4006-873e-87a78a25f77e\n",
      "[I 2024-09-21 16:50:44,799] Trial 0 finished with value: 4437.88037109375 and parameters: {'learning_rate': 0.09303199318889764, 'drop_out': 0.16327511091635719, 'batch_size': 39}. Best is trial 0 with value: 4437.88037109375.\n",
      "[I 2024-09-21 16:50:52,447] Trial 1 finished with value: 4946.6494140625 and parameters: {'learning_rate': 0.021251467576750935, 'drop_out': 0.21354500581633734, 'batch_size': 60}. Best is trial 0 with value: 4437.88037109375.\n",
      "[I 2024-09-21 16:51:00,344] Trial 2 finished with value: 4920.619140625 and parameters: {'learning_rate': 0.09648693745382654, 'drop_out': 0.23063541937431417, 'batch_size': 68}. Best is trial 0 with value: 4437.88037109375.\n",
      "[I 2024-09-21 16:51:08,213] Trial 3 finished with value: 4828.02587890625 and parameters: {'learning_rate': 0.0657034172143218, 'drop_out': 0.24954296185425476, 'batch_size': 79}. Best is trial 0 with value: 4437.88037109375.\n",
      "[I 2024-09-21 16:51:16,833] Trial 4 finished with value: 4696.55078125 and parameters: {'learning_rate': 0.0018304414962137957, 'drop_out': 0.12128887533954387, 'batch_size': 45}. Best is trial 0 with value: 4437.88037109375.\n",
      "[I 2024-09-21 16:51:25,014] Trial 5 finished with value: 4775.38818359375 and parameters: {'learning_rate': 0.06598470712514473, 'drop_out': 0.261962510508187, 'batch_size': 74}. Best is trial 0 with value: 4437.88037109375.\n",
      "[I 2024-09-21 16:51:32,634] Trial 6 finished with value: 5726.1416015625 and parameters: {'learning_rate': 0.0965001121398211, 'drop_out': 0.24473706938399067, 'batch_size': 62}. Best is trial 0 with value: 4437.88037109375.\n",
      "[I 2024-09-21 16:51:41,014] Trial 7 finished with value: 7563.939453125 and parameters: {'learning_rate': 0.07202790846042896, 'drop_out': 0.19351980144385927, 'batch_size': 46}. Best is trial 0 with value: 4437.88037109375.\n",
      "[I 2024-09-21 16:51:48,589] Trial 8 finished with value: 4495.9951171875 and parameters: {'learning_rate': 0.04452481598259614, 'drop_out': 0.24593781654937028, 'batch_size': 80}. Best is trial 0 with value: 4437.88037109375.\n",
      "[I 2024-09-21 16:51:59,024] Trial 9 finished with value: 4564.7294921875 and parameters: {'learning_rate': 0.06801049746560323, 'drop_out': 0.25816450356955767, 'batch_size': 38}. Best is trial 0 with value: 4437.88037109375.\n",
      "[I 2024-09-21 16:52:06,676] Trial 10 finished with value: 4475.69384765625 and parameters: {'learning_rate': 0.0036580783032036214, 'drop_out': 0.2600740487850921, 'batch_size': 76}. Best is trial 0 with value: 4437.88037109375.\n",
      "[I 2024-09-21 16:52:16,959] Trial 11 finished with value: 4646.61474609375 and parameters: {'learning_rate': 0.0034429448324972615, 'drop_out': 0.19834946368917716, 'batch_size': 56}. Best is trial 0 with value: 4437.88037109375.\n",
      "[I 2024-09-21 16:52:24,788] Trial 12 finished with value: 4731.62060546875 and parameters: {'learning_rate': 0.060040235031518674, 'drop_out': 0.11039150902050672, 'batch_size': 75}. Best is trial 0 with value: 4437.88037109375.\n",
      "[I 2024-09-21 16:52:35,005] Trial 13 finished with value: 4672.4013671875 and parameters: {'learning_rate': 0.07309835185238461, 'drop_out': 0.2636700022779829, 'batch_size': 55}. Best is trial 0 with value: 4437.88037109375.\n",
      "[I 2024-09-21 16:52:45,498] Trial 14 finished with value: 5183.97900390625 and parameters: {'learning_rate': 0.08120875147152222, 'drop_out': 0.11919370514891332, 'batch_size': 41}. Best is trial 0 with value: 4437.88037109375.\n",
      "[I 2024-09-21 16:52:55,513] Trial 15 finished with value: 5985.7216796875 and parameters: {'learning_rate': 0.026613187098708142, 'drop_out': 0.19362115079058703, 'batch_size': 53}. Best is trial 0 with value: 4437.88037109375.\n",
      "[I 2024-09-21 16:53:05,450] Trial 16 finished with value: 4772.267578125 and parameters: {'learning_rate': 0.07124146824070872, 'drop_out': 0.13561060117670762, 'batch_size': 57}. Best is trial 0 with value: 4437.88037109375.\n",
      "[I 2024-09-21 16:53:12,871] Trial 17 finished with value: 4820.794921875 and parameters: {'learning_rate': 0.017606480649862085, 'drop_out': 0.253762783681162, 'batch_size': 77}. Best is trial 0 with value: 4437.88037109375.\n",
      "[I 2024-09-21 16:53:23,018] Trial 18 finished with value: 4405.353515625 and parameters: {'learning_rate': 0.06133987214135685, 'drop_out': 0.13003669893377634, 'batch_size': 54}. Best is trial 18 with value: 4405.353515625.\n",
      "[I 2024-09-21 16:53:30,519] Trial 19 finished with value: 4533.21142578125 and parameters: {'learning_rate': 0.03835715042948934, 'drop_out': 0.2697202823955558, 'batch_size': 76}. Best is trial 18 with value: 4405.353515625.\n",
      "[I 2024-09-21 16:53:40,323] Trial 20 finished with value: 4643.06787109375 and parameters: {'learning_rate': 0.039001023394571566, 'drop_out': 0.16309918067922477, 'batch_size': 58}. Best is trial 18 with value: 4405.353515625.\n",
      "[I 2024-09-21 16:53:47,700] Trial 21 finished with value: 4459.490234375 and parameters: {'learning_rate': 0.019593985467415576, 'drop_out': 0.12516830876547405, 'batch_size': 65}. Best is trial 18 with value: 4405.353515625.\n",
      "[I 2024-09-21 16:53:55,083] Trial 22 finished with value: 4902.63671875 and parameters: {'learning_rate': 0.0801610650767928, 'drop_out': 0.21470731303972862, 'batch_size': 79}. Best is trial 18 with value: 4405.353515625.\n",
      "[I 2024-09-21 16:54:04,889] Trial 23 finished with value: 4686.345703125 and parameters: {'learning_rate': 0.06377138333661038, 'drop_out': 0.27768434496228533, 'batch_size': 55}. Best is trial 18 with value: 4405.353515625.\n",
      "[I 2024-09-21 16:54:15,714] Trial 24 finished with value: 5520.40185546875 and parameters: {'learning_rate': 0.03581003645913101, 'drop_out': 0.24284607370890413, 'batch_size': 55}. Best is trial 18 with value: 4405.353515625.\n",
      "[I 2024-09-21 16:54:23,918] Trial 25 finished with value: 4851.89208984375 and parameters: {'learning_rate': 0.023338123045543308, 'drop_out': 0.14899488804837283, 'batch_size': 70}. Best is trial 18 with value: 4405.353515625.\n",
      "[I 2024-09-21 16:54:32,443] Trial 26 finished with value: 4356.62548828125 and parameters: {'learning_rate': 0.05002206903662554, 'drop_out': 0.2830187346799553, 'batch_size': 78}. Best is trial 26 with value: 4356.62548828125.\n",
      "[I 2024-09-21 16:54:41,974] Trial 27 finished with value: 5038.38330078125 and parameters: {'learning_rate': 0.053789990735866364, 'drop_out': 0.15049851891148533, 'batch_size': 66}. Best is trial 26 with value: 4356.62548828125.\n",
      "[I 2024-09-21 16:54:52,844] Trial 28 finished with value: 4572.1484375 and parameters: {'learning_rate': 0.03737643761566316, 'drop_out': 0.19972968858221063, 'batch_size': 41}. Best is trial 26 with value: 4356.62548828125.\n",
      "[I 2024-09-21 16:55:01,265] Trial 29 finished with value: 5001.7216796875 and parameters: {'learning_rate': 0.036002999027858654, 'drop_out': 0.2301703573246411, 'batch_size': 45}. Best is trial 26 with value: 4356.62548828125.\n",
      "[I 2024-09-21 16:55:09,001] Trial 30 finished with value: 4929.5986328125 and parameters: {'learning_rate': 0.07710480926976464, 'drop_out': 0.25636742067425083, 'batch_size': 73}. Best is trial 26 with value: 4356.62548828125.\n",
      "[I 2024-09-21 16:55:16,697] Trial 31 finished with value: 5283.13330078125 and parameters: {'learning_rate': 0.09504066827504674, 'drop_out': 0.12146458244020884, 'batch_size': 76}. Best is trial 26 with value: 4356.62548828125.\n",
      "[I 2024-09-21 16:55:24,586] Trial 32 finished with value: 4712.21337890625 and parameters: {'learning_rate': 0.03426946102933613, 'drop_out': 0.2652760853629289, 'batch_size': 75}. Best is trial 26 with value: 4356.62548828125.\n",
      "[I 2024-09-21 16:55:32,995] Trial 33 finished with value: 4602.0126953125 and parameters: {'learning_rate': 0.005228815129296975, 'drop_out': 0.13915899981775928, 'batch_size': 45}. Best is trial 26 with value: 4356.62548828125.\n",
      "[I 2024-09-21 16:55:43,683] Trial 34 finished with value: 4302.662109375 and parameters: {'learning_rate': 0.06307298817662098, 'drop_out': 0.11724462102455042, 'batch_size': 37}. Best is trial 34 with value: 4302.662109375.\n",
      "[I 2024-09-21 16:55:51,386] Trial 35 finished with value: 4761.7041015625 and parameters: {'learning_rate': 0.05206682540386224, 'drop_out': 0.2378682659316596, 'batch_size': 73}. Best is trial 34 with value: 4302.662109375.\n",
      "[I 2024-09-21 16:55:59,145] Trial 36 finished with value: 5520.95556640625 and parameters: {'learning_rate': 0.065088806648889, 'drop_out': 0.21632373510614797, 'batch_size': 66}. Best is trial 34 with value: 4302.662109375.\n",
      "[I 2024-09-21 16:56:09,334] Trial 37 finished with value: 4372.27392578125 and parameters: {'learning_rate': 0.02598926884760596, 'drop_out': 0.2800319366965215, 'batch_size': 52}. Best is trial 34 with value: 4302.662109375.\n",
      "[I 2024-09-21 16:56:17,113] Trial 38 finished with value: 4575.25927734375 and parameters: {'learning_rate': 0.003031561641014489, 'drop_out': 0.29193220279936316, 'batch_size': 63}. Best is trial 34 with value: 4302.662109375.\n",
      "[I 2024-09-21 16:56:27,599] Trial 39 finished with value: 4937.662109375 and parameters: {'learning_rate': 0.0518074187603627, 'drop_out': 0.23647127662754078, 'batch_size': 54}. Best is trial 34 with value: 4302.662109375.\n",
      "[I 2024-09-21 16:56:40,203] Trial 40 finished with value: 7180.61181640625 and parameters: {'learning_rate': 0.0927225269544858, 'drop_out': 0.2031759544337301, 'batch_size': 33}. Best is trial 34 with value: 4302.662109375.\n",
      "[I 2024-09-21 16:56:48,370] Trial 41 finished with value: 4564.67919921875 and parameters: {'learning_rate': 0.0571833215217073, 'drop_out': 0.22304863674474884, 'batch_size': 78}. Best is trial 34 with value: 4302.662109375.\n",
      "[I 2024-09-21 16:57:01,392] Trial 42 finished with value: 4815.18701171875 and parameters: {'learning_rate': 0.04212097211737929, 'drop_out': 0.1528879949150967, 'batch_size': 34}. Best is trial 34 with value: 4302.662109375.\n",
      "[I 2024-09-21 16:57:14,111] Trial 43 finished with value: 4379.48974609375 and parameters: {'learning_rate': 0.04909857796592217, 'drop_out': 0.1929325725721906, 'batch_size': 31}. Best is trial 34 with value: 4302.662109375.\n",
      "[I 2024-09-21 16:57:22,009] Trial 44 finished with value: 5890.64306640625 and parameters: {'learning_rate': 0.06973346872388017, 'drop_out': 0.2433894224730452, 'batch_size': 67}. Best is trial 34 with value: 4302.662109375.\n",
      "[I 2024-09-21 16:57:29,917] Trial 45 finished with value: 4927.732421875 and parameters: {'learning_rate': 0.04202075070176503, 'drop_out': 0.1030197689588318, 'batch_size': 76}. Best is trial 34 with value: 4302.662109375.\n",
      "[I 2024-09-21 16:57:38,396] Trial 46 finished with value: 5712.5673828125 and parameters: {'learning_rate': 0.07914849309292564, 'drop_out': 0.13303983383263532, 'batch_size': 45}. Best is trial 34 with value: 4302.662109375.\n",
      "[I 2024-09-21 16:57:48,905] Trial 47 finished with value: 4416.5263671875 and parameters: {'learning_rate': 0.061483585276140014, 'drop_out': 0.1728980573437718, 'batch_size': 37}. Best is trial 34 with value: 4302.662109375.\n",
      "[I 2024-09-21 16:57:59,431] Trial 48 finished with value: 4540.2607421875 and parameters: {'learning_rate': 0.018553077529030633, 'drop_out': 0.27357793420940923, 'batch_size': 44}. Best is trial 34 with value: 4302.662109375.\n",
      "[I 2024-09-21 16:58:09,832] Trial 49 finished with value: 4893.79345703125 and parameters: {'learning_rate': 0.05893278251015148, 'drop_out': 0.1907989751818938, 'batch_size': 50}. Best is trial 34 with value: 4302.662109375.\n",
      "[I 2024-09-21 16:58:20,453] Trial 50 finished with value: 4662.67041015625 and parameters: {'learning_rate': 0.08838081007250734, 'drop_out': 0.2385416029589498, 'batch_size': 44}. Best is trial 34 with value: 4302.662109375.\n",
      "[I 2024-09-21 16:58:28,476] Trial 51 finished with value: 4623.5283203125 and parameters: {'learning_rate': 0.00737958288734307, 'drop_out': 0.13972472275176978, 'batch_size': 77}. Best is trial 34 with value: 4302.662109375.\n",
      "[I 2024-09-21 16:58:41,064] Trial 52 finished with value: 5741.36279296875 and parameters: {'learning_rate': 0.08558694321028835, 'drop_out': 0.29094694691218503, 'batch_size': 32}. Best is trial 34 with value: 4302.662109375.\n",
      "[I 2024-09-21 16:58:53,667] Trial 53 finished with value: 6108.20166015625 and parameters: {'learning_rate': 0.05836769637850247, 'drop_out': 0.19609925332982586, 'batch_size': 31}. Best is trial 34 with value: 4302.662109375.\n",
      "[I 2024-09-21 16:59:01,662] Trial 54 finished with value: 4502.3974609375 and parameters: {'learning_rate': 0.0379884259097051, 'drop_out': 0.18281836023531184, 'batch_size': 60}. Best is trial 34 with value: 4302.662109375.\n",
      "[I 2024-09-21 16:59:09,433] Trial 55 finished with value: 4694.89892578125 and parameters: {'learning_rate': 0.06750312400816852, 'drop_out': 0.2677731400876633, 'batch_size': 69}. Best is trial 34 with value: 4302.662109375.\n",
      "[I 2024-09-21 16:59:17,345] Trial 56 finished with value: 4333.48193359375 and parameters: {'learning_rate': 0.04066940336008189, 'drop_out': 0.25890584627793656, 'batch_size': 75}. Best is trial 34 with value: 4302.662109375.\n",
      "[I 2024-09-21 16:59:25,090] Trial 57 finished with value: 4845.75927734375 and parameters: {'learning_rate': 0.026986479395030263, 'drop_out': 0.29783940147562116, 'batch_size': 73}. Best is trial 34 with value: 4302.662109375.\n",
      "[I 2024-09-21 16:59:33,151] Trial 58 finished with value: 4337.1015625 and parameters: {'learning_rate': 0.07341623844773794, 'drop_out': 0.1711131249412707, 'batch_size': 75}. Best is trial 34 with value: 4302.662109375.\n",
      "[I 2024-09-21 16:59:46,291] Trial 59 finished with value: 4909.06298828125 and parameters: {'learning_rate': 0.08692794999188146, 'drop_out': 0.29115328916672756, 'batch_size': 30}. Best is trial 34 with value: 4302.662109375.\n",
      "[I 2024-09-21 16:59:54,365] Trial 60 finished with value: 4599.96826171875 and parameters: {'learning_rate': 0.0026375631499784905, 'drop_out': 0.1628140114517488, 'batch_size': 80}. Best is trial 34 with value: 4302.662109375.\n",
      "[I 2024-09-21 17:00:02,691] Trial 61 finished with value: 5229.7353515625 and parameters: {'learning_rate': 0.015735578092443064, 'drop_out': 0.13347542374170088, 'batch_size': 68}. Best is trial 34 with value: 4302.662109375.\n",
      "[I 2024-09-21 17:00:13,321] Trial 62 finished with value: 4371.07373046875 and parameters: {'learning_rate': 0.007883436949277987, 'drop_out': 0.2410946877192541, 'batch_size': 53}. Best is trial 34 with value: 4302.662109375.\n",
      "[I 2024-09-21 17:00:21,337] Trial 63 finished with value: 4773.03271484375 and parameters: {'learning_rate': 0.0020086333964059715, 'drop_out': 0.2549647725732524, 'batch_size': 70}. Best is trial 34 with value: 4302.662109375.\n",
      "[I 2024-09-21 17:00:29,153] Trial 64 finished with value: 4981.76123046875 and parameters: {'learning_rate': 0.015807375722840692, 'drop_out': 0.10474072635801779, 'batch_size': 68}. Best is trial 34 with value: 4302.662109375.\n",
      "[I 2024-09-21 17:00:39,506] Trial 65 finished with value: 4059.168212890625 and parameters: {'learning_rate': 0.023143347809441096, 'drop_out': 0.15243487955302285, 'batch_size': 53}. Best is trial 65 with value: 4059.168212890625.\n",
      "[I 2024-09-21 17:00:47,712] Trial 66 finished with value: 4625.5419921875 and parameters: {'learning_rate': 0.025742764932194805, 'drop_out': 0.21365671231814937, 'batch_size': 73}. Best is trial 65 with value: 4059.168212890625.\n",
      "[I 2024-09-21 17:00:55,689] Trial 67 finished with value: 5043.3505859375 and parameters: {'learning_rate': 0.03843185416592749, 'drop_out': 0.18649302328640732, 'batch_size': 72}. Best is trial 65 with value: 4059.168212890625.\n",
      "[I 2024-09-21 17:01:06,566] Trial 68 finished with value: 4938.12060546875 and parameters: {'learning_rate': 0.0377420616337252, 'drop_out': 0.10811065438523244, 'batch_size': 58}. Best is trial 65 with value: 4059.168212890625.\n",
      "[I 2024-09-21 17:01:16,617] Trial 69 finished with value: 4517.3583984375 and parameters: {'learning_rate': 0.0456733780382811, 'drop_out': 0.2450601953453462, 'batch_size': 49}. Best is trial 65 with value: 4059.168212890625.\n",
      "[I 2024-09-21 17:01:26,687] Trial 70 finished with value: 5044.79931640625 and parameters: {'learning_rate': 0.08422558707518174, 'drop_out': 0.19386293871672486, 'batch_size': 58}. Best is trial 65 with value: 4059.168212890625.\n",
      "[I 2024-09-21 17:01:34,196] Trial 71 finished with value: 4430.3935546875 and parameters: {'learning_rate': 0.06645873458526085, 'drop_out': 0.19244837350493427, 'batch_size': 61}. Best is trial 65 with value: 4059.168212890625.\n",
      "[I 2024-09-21 17:01:44,106] Trial 72 finished with value: 4851.13427734375 and parameters: {'learning_rate': 0.022966182487350648, 'drop_out': 0.2465726233510398, 'batch_size': 49}. Best is trial 65 with value: 4059.168212890625.\n",
      "[I 2024-09-21 17:01:54,563] Trial 73 finished with value: 4735.0537109375 and parameters: {'learning_rate': 0.020288619635285884, 'drop_out': 0.15423255495879368, 'batch_size': 42}. Best is trial 65 with value: 4059.168212890625.\n",
      "[I 2024-09-21 17:02:05,047] Trial 74 finished with value: 4563.30078125 and parameters: {'learning_rate': 0.016061767163291194, 'drop_out': 0.25427474084026525, 'batch_size': 43}. Best is trial 65 with value: 4059.168212890625.\n",
      "[I 2024-09-21 17:02:15,133] Trial 75 finished with value: 4734.466796875 and parameters: {'learning_rate': 0.01362679709980491, 'drop_out': 0.23303343066453877, 'batch_size': 51}. Best is trial 65 with value: 4059.168212890625.\n",
      "[I 2024-09-21 17:02:23,545] Trial 76 finished with value: 5195.02294921875 and parameters: {'learning_rate': 0.06710900887744951, 'drop_out': 0.2319627034195986, 'batch_size': 45}. Best is trial 65 with value: 4059.168212890625.\n",
      "[I 2024-09-21 17:02:34,214] Trial 77 finished with value: 4813.0341796875 and parameters: {'learning_rate': 0.020921199861846276, 'drop_out': 0.1444054252998252, 'batch_size': 36}. Best is trial 65 with value: 4059.168212890625.\n",
      "[I 2024-09-21 17:02:44,652] Trial 78 finished with value: 4359.2041015625 and parameters: {'learning_rate': 0.0046773986619961325, 'drop_out': 0.10682631670482386, 'batch_size': 41}. Best is trial 65 with value: 4059.168212890625.\n",
      "[I 2024-09-21 17:02:52,332] Trial 79 finished with value: 4930.94873046875 and parameters: {'learning_rate': 0.023607016940084262, 'drop_out': 0.22498212438496187, 'batch_size': 75}. Best is trial 65 with value: 4059.168212890625.\n",
      "[I 2024-09-21 17:03:00,988] Trial 80 finished with value: 5527.052734375 and parameters: {'learning_rate': 0.07819307360805129, 'drop_out': 0.2442902537256149, 'batch_size': 45}. Best is trial 65 with value: 4059.168212890625.\n",
      "[I 2024-09-21 17:03:08,565] Trial 81 finished with value: 4891.619140625 and parameters: {'learning_rate': 0.03694525822589479, 'drop_out': 0.1392163567728579, 'batch_size': 77}. Best is trial 65 with value: 4059.168212890625.\n",
      "[I 2024-09-21 17:03:16,995] Trial 82 finished with value: 4760.5908203125 and parameters: {'learning_rate': 0.056611666017426024, 'drop_out': 0.26345830737814213, 'batch_size': 47}. Best is trial 65 with value: 4059.168212890625.\n",
      "[I 2024-09-21 17:03:24,444] Trial 83 finished with value: 4507.052734375 and parameters: {'learning_rate': 0.08017171201953767, 'drop_out': 0.12082089250546833, 'batch_size': 66}. Best is trial 65 with value: 4059.168212890625.\n",
      "[I 2024-09-21 17:03:32,794] Trial 84 finished with value: 4764.37744140625 and parameters: {'learning_rate': 0.09182740109565032, 'drop_out': 0.26071707372583974, 'batch_size': 46}. Best is trial 65 with value: 4059.168212890625.\n",
      "[I 2024-09-21 17:03:43,291] Trial 85 finished with value: 5576.09423828125 and parameters: {'learning_rate': 0.02625561074712272, 'drop_out': 0.19900043487142755, 'batch_size': 51}. Best is trial 65 with value: 4059.168212890625.\n",
      "[I 2024-09-21 17:03:51,171] Trial 86 finished with value: 4396.89208984375 and parameters: {'learning_rate': 0.043068772433982466, 'drop_out': 0.1148756609689538, 'batch_size': 60}. Best is trial 65 with value: 4059.168212890625.\n",
      "[I 2024-09-21 17:04:02,019] Trial 87 finished with value: 4920.9453125 and parameters: {'learning_rate': 0.07497277362100178, 'drop_out': 0.25951524533216397, 'batch_size': 49}. Best is trial 65 with value: 4059.168212890625.\n",
      "[I 2024-09-21 17:04:09,976] Trial 88 finished with value: 5269.3291015625 and parameters: {'learning_rate': 0.07991865712922054, 'drop_out': 0.19435947392283792, 'batch_size': 66}. Best is trial 65 with value: 4059.168212890625.\n",
      "[I 2024-09-21 17:04:17,933] Trial 89 finished with value: 4939.71435546875 and parameters: {'learning_rate': 0.01973205623817574, 'drop_out': 0.186919141875922, 'batch_size': 71}. Best is trial 65 with value: 4059.168212890625.\n",
      "[I 2024-09-21 17:04:30,682] Trial 90 finished with value: 6805.55810546875 and parameters: {'learning_rate': 0.08280099015864519, 'drop_out': 0.13790509669632564, 'batch_size': 31}. Best is trial 65 with value: 4059.168212890625.\n",
      "[I 2024-09-21 17:04:41,087] Trial 91 finished with value: 4168.44970703125 and parameters: {'learning_rate': 0.07064564721954097, 'drop_out': 0.16945402388378783, 'batch_size': 51}. Best is trial 65 with value: 4059.168212890625.\n",
      "[I 2024-09-21 17:04:48,724] Trial 92 finished with value: 4844.32861328125 and parameters: {'learning_rate': 0.07704080141459416, 'drop_out': 0.2925756132608574, 'batch_size': 75}. Best is trial 65 with value: 4059.168212890625.\n",
      "[I 2024-09-21 17:04:56,230] Trial 93 finished with value: 4826.6328125 and parameters: {'learning_rate': 0.014359284400729332, 'drop_out': 0.25956094299841437, 'batch_size': 64}. Best is trial 65 with value: 4059.168212890625.\n",
      "[I 2024-09-21 17:05:03,776] Trial 94 finished with value: 5356.71044921875 and parameters: {'learning_rate': 0.05347523582498735, 'drop_out': 0.2731963310412334, 'batch_size': 68}. Best is trial 65 with value: 4059.168212890625.\n",
      "[I 2024-09-21 17:05:13,831] Trial 95 finished with value: 4202.24169921875 and parameters: {'learning_rate': 0.01022705609510588, 'drop_out': 0.16588788640631405, 'batch_size': 51}. Best is trial 65 with value: 4059.168212890625.\n",
      "[I 2024-09-21 17:05:21,915] Trial 96 finished with value: 5340.25390625 and parameters: {'learning_rate': 0.001095496168844732, 'drop_out': 0.219512712625393, 'batch_size': 64}. Best is trial 65 with value: 4059.168212890625.\n",
      "[I 2024-09-21 17:05:31,904] Trial 97 finished with value: 5368.162109375 and parameters: {'learning_rate': 0.03726179539280929, 'drop_out': 0.1792997714853956, 'batch_size': 54}. Best is trial 65 with value: 4059.168212890625.\n",
      "[I 2024-09-21 17:05:39,272] Trial 98 finished with value: 4953.20751953125 and parameters: {'learning_rate': 0.0585269101537813, 'drop_out': 0.12742742556215275, 'batch_size': 80}. Best is trial 65 with value: 4059.168212890625.\n",
      "[I 2024-09-21 17:05:49,716] Trial 99 finished with value: 5652.88916015625 and parameters: {'learning_rate': 0.05122539366953591, 'drop_out': 0.19861334090914795, 'batch_size': 39}. Best is trial 65 with value: 4059.168212890625.\n"
     ]
    },
    {
     "name": "stdout",
     "output_type": "stream",
     "text": [
      "Лучшие параметры: {'learning_rate': 0.023143347809441096, 'drop_out': 0.15243487955302285, 'batch_size': 53}\n",
      "Лучшее оптимальное значение целевой функции: 4059.168212890625\n"
     ]
    }
   ],
   "source": [
    "random.seed(RANDOM_STATE)\n",
    "np.random.seed(RANDOM_STATE)\n",
    "torch.manual_seed(RANDOM_STATE)\n",
    "torch.use_deterministic_algorithms(True)\n",
    "\n",
    "class Net(nn.Module):\n",
    "    def __init__(self, n_in_neurons, n_hidden_neurons_1, n_hidden_neurons_2, n_out_neurons, drop_out):\n",
    "        super(Net, self).__init__()\n",
    "        \n",
    "        self.fc1 = nn.Linear(n_in_neurons, n_hidden_neurons_1)\n",
    "        self.act1 = nn.ELU()\n",
    "        \n",
    "        self.fc2 = nn.Linear(n_hidden_neurons_1, n_hidden_neurons_2)\n",
    "        self.dp2 = nn.Dropout(drop_out)\n",
    "        self.act2 = nn.ReLU()\n",
    "        \n",
    "        self.fc3 = nn.Linear(n_hidden_neurons_2, n_out_neurons)     \n",
    "    \n",
    "    def forward(self, x):\n",
    "        x = self.fc1(x)\n",
    "        x = self.act1(x)\n",
    "        \n",
    "        x = self.fc2(x)\n",
    "        x = self.dp2(x)\n",
    "        x = self.act2(x)\n",
    "        \n",
    "        x = self.fc3(x)\n",
    "        return x\n",
    "\n",
    "def objective(trial):\n",
    "    \n",
    "    num_epochs = 2500\n",
    "    \n",
    "    n_in_neurons = features_train.shape[1]\n",
    "    n_hidden_neurons_1 = 25\n",
    "    n_hidden_neurons_2 = 17\n",
    "    n_out_neurons = 1\n",
    "    \n",
    "    learning_rate =  trial.suggest_float('learning_rate', 0.001, 0.1) #, step=0.005)\n",
    "    drop_out = trial.suggest_float('drop_out', 0.1, 0.3) #, step=0.1)  \n",
    "    batch_size = trial.suggest_int('batch_size', 30, 80) #, step=5)\n",
    "    \n",
    "    net = Net(n_in_neurons, n_hidden_neurons_1, n_hidden_neurons_2, n_out_neurons, drop_out)\n",
    "    optimizer = torch.optim.Adam(net.parameters(), lr=learning_rate) \n",
    "    loss = nn.MSELoss()\n",
    "    \n",
    "    num_batches = ceil(len(X_train)/batch_size)\n",
    "    \n",
    "    for epoch in range(num_epochs):\n",
    "        order = np.random.permutation(len(X_train))\n",
    "\n",
    "        for batch_idx in range(num_batches):\n",
    "            start_index = batch_idx * batch_size \n",
    "            batch_indexes = order[start_index:start_index+batch_size]\n",
    "            X_batch = X_train[batch_indexes]\n",
    "            y_batch = y_train[batch_indexes]\n",
    "            \n",
    "            optimizer.zero_grad()\n",
    "            preds = net.forward(X_batch).flatten() \n",
    "            loss_value = loss(preds,y_batch) \n",
    "            loss_value.backward()\n",
    "            optimizer.step()\n",
    "    \n",
    "    with torch.no_grad():\n",
    "        \n",
    "        net.eval()\n",
    "        test_preds = net.forward(X_test)\n",
    "        test_preds = test_preds.flatten().detach().numpy()\n",
    "        r2 = r2_score(y_test, test_preds)\n",
    "        rmse = mean_squared_error(y_test, test_preds, squared=False)\n",
    "    \n",
    "    return rmse\n",
    "\n",
    "study = optuna.create_study(direction='minimize', sampler=optuna.samplers.RandomSampler(seed=RANDOM_STATE), pruner=optuna.pruners.MedianPruner())\n",
    "study.optimize(objective, n_trials=100)\n",
    "\n",
    "print(\"Лучшие параметры:\", study.best_params)\n",
    "print(\"Лучшее оптимальное значение целевой функции:\", study.best_value)"
   ]
  },
  {
   "cell_type": "markdown",
   "metadata": {},
   "source": [
    "После перебора параметро показатель RMSE улучшился, обучим новую нейросеть с подобранными значениями гиперпараметров и посмотрим на график."
   ]
  },
  {
   "cell_type": "code",
   "execution_count": 46,
   "metadata": {},
   "outputs": [
    {
     "name": "stdout",
     "output_type": "stream",
     "text": [
      "Эпоха:  0\n",
      "r2_train: -1.25, rmse_train: 13726.0\n",
      "r2_test:  -1.15, rmse_test: 15460.0\n",
      "Эпоха:  50\n",
      "r2_train: 0.47, rmse_train: 6659.0\n",
      "r2_test:  0.49, rmse_test: 7547.0\n",
      "Эпоха:  100\n",
      "r2_train: 0.74, rmse_train: 4671.0\n",
      "r2_test:  0.75, rmse_test: 5315.0\n",
      "Эпоха:  150\n",
      "r2_train: 0.82, rmse_train: 3922.0\n",
      "r2_test:  0.79, rmse_test: 4781.0\n",
      "Эпоха:  200\n",
      "r2_train: 0.84, rmse_train: 3691.0\n",
      "r2_test:  0.81, rmse_test: 4644.0\n",
      "Эпоха:  250\n",
      "r2_train: 0.85, rmse_train: 3531.0\n",
      "r2_test:  0.81, rmse_test: 4542.0\n",
      "Эпоха:  300\n",
      "r2_train: 0.86, rmse_train: 3413.0\n",
      "r2_test:  0.81, rmse_test: 4582.0\n",
      "Ранняя остановка: 300\n"
     ]
    }
   ],
   "source": [
    "random.seed(RANDOM_STATE)\n",
    "np.random.seed(RANDOM_STATE)\n",
    "torch.manual_seed(RANDOM_STATE)\n",
    "torch.use_deterministic_algorithms(True)\n",
    "\n",
    "learning_rate = study.best_params[\"learning_rate\"]\n",
    "drop_out = study.best_params[\"drop_out\"]\n",
    "batch_size = study.best_params[\"batch_size\"]\n",
    "\n",
    "\n",
    "class Net(nn.Module):\n",
    "    def __init__(self, n_in_neurons, n_hidden_neurons_1, n_hidden_neurons_2, n_out_neurons, drop_out):\n",
    "        super(Net, self).__init__()\n",
    "        \n",
    "        self.fc1 = nn.Linear(n_in_neurons, n_hidden_neurons_1)\n",
    "        self.act1 = nn.ELU()\n",
    "        \n",
    "        self.fc2 = nn.Linear(n_hidden_neurons_1, n_hidden_neurons_2)\n",
    "        self.dp2 = nn.Dropout(drop_out)\n",
    "        self.act2 = nn.ReLU()\n",
    "        \n",
    "        self.fc3 = nn.Linear(n_hidden_neurons_2, n_out_neurons)     \n",
    "    \n",
    "    def forward(self, x):\n",
    "        x = self.fc1(x)\n",
    "        x = self.act1(x)\n",
    "        \n",
    "        x = self.fc2(x)\n",
    "        x = self.dp2(x)\n",
    "        x = self.act2(x)\n",
    "        \n",
    "        x = self.fc3(x)\n",
    "        return x\n",
    "   \n",
    "n_in_neurons = features_train.shape[1]\n",
    "n_hidden_neurons_1 = 25\n",
    "n_hidden_neurons_2 = 17\n",
    "n_out_neurons = 1\n",
    "\n",
    "net = Net(n_in_neurons, n_hidden_neurons_1, n_hidden_neurons_2, n_out_neurons, drop_out)\n",
    "optimizer = torch.optim.Adam(net.parameters(), lr=learning_rate) \n",
    "loss = nn.MSELoss()\n",
    "     \n",
    "num_epochs = 2500\n",
    "batch_size = batch_size\n",
    "\n",
    "num_batches = ceil(len(X_train)/batch_size)\n",
    "\n",
    "best_loss = None\n",
    "counter = 0\n",
    "patience = 4\n",
    "\n",
    "for epoch in range(num_epochs):\n",
    "    order = np.random.permutation(len(X_train))\n",
    "    \n",
    "    for batch_idx in range(num_batches):\n",
    "        start_index = batch_idx * batch_size \n",
    "        batch_indexes = order[start_index:start_index+batch_size]\n",
    "        X_batch = X_train[batch_indexes]\n",
    "        y_batch = y_train[batch_indexes]\n",
    "        \n",
    "        optimizer.zero_grad()\n",
    "        preds = net.forward(X_batch).flatten() \n",
    "        loss_value = loss(preds,y_batch) \n",
    "        loss_value.backward()\n",
    "        optimizer.step()\n",
    "\n",
    "    if epoch % 50 == 0 or epoch == num_epochs:\n",
    "        print(\"Эпоха: \", epoch)\n",
    "    \n",
    "        train_preds = net.forward(X_train)\n",
    "        r2_train = np.round(r2_score(y_train, train_preds.detach().numpy()), 2)\n",
    "        rmse_train = np.round(mean_squared_error(y_train, train_preds.detach().numpy(), squared=False))\n",
    "        print(f\"r2_train: {r2_train}, rmse_train: {rmse_train}\")\n",
    "\n",
    "        net.eval()\n",
    "        test_preds = net.forward(X_test)\n",
    "        test_preds = test_preds.flatten().detach().numpy()\n",
    "        r2_test = np.round(r2_score(y_test, test_preds), 2)\n",
    "        rmse_test = np.round(mean_squared_error(y_test, test_preds, squared=False))\n",
    "        print(f\"r2_test:  {r2_test}, rmse_test: {rmse_test}\")\n",
    "\n",
    "        # Добавим критерий остановы        \n",
    "        if best_loss == None:\n",
    "            best_loss = loss_value\n",
    "        elif best_loss - loss_value > 0:\n",
    "            best_loss = loss_value\n",
    "            counter = 0\n",
    "        elif best_loss - loss_value < 0:\n",
    "            counter += 1\n",
    "        if counter >= patience:\n",
    "            print('Ранняя остановка:', epoch)\n",
    "            break\n",
    "\n",
    "data = {\n",
    "    \"epoch\": epoch, \n",
    "    \"batch_size\": batch_size, \n",
    "    \"learning_rate\": learning_rate, \n",
    "    \"drop_out\": drop_out, \n",
    "    \"rmse_train\": rmse_train, \n",
    "    \"rmse_test\": rmse_test, \n",
    "    \"r2_train\": r2_train, \n",
    "    \"r2_test\": r2_test}\n",
    "results = pd.concat([results, pd.DataFrame([data])])"
   ]
  },
  {
   "cell_type": "code",
   "execution_count": 47,
   "metadata": {},
   "outputs": [
    {
     "data": {
      "image/png": "[encoded data removed]",
      "text/plain": [
       "<Figure size 1800x800 with 1 Axes>"
      ]
     },
     "metadata": {},
     "output_type": "display_data"
    }
   ],
   "source": [
    "vizual(test_preds, y_test)"
   ]
  },
  {
   "cell_type": "markdown",
   "metadata": {},
   "source": [
    "Нейронная сеть с гиперпараметрами подобранными тюнингом стала  хуже прогнозировать температуру на поверхности звезд как при малых температурах так и при средних, прогносирование при высоких температурах почти не изменилось."
   ]
  },
  {
   "cell_type": "code",
   "execution_count": 48,
   "metadata": {},
   "outputs": [
    {
     "data": {
      "text/html": [
       "<div>\n",
       "<style scoped>\n",
       "    .dataframe tbody tr th:only-of-type {\n",
       "        vertical-align: middle;\n",
       "    }\n",
       "\n",
       "    .dataframe tbody tr th {\n",
       "        vertical-align: top;\n",
       "    }\n",
       "\n",
       "    .dataframe thead th {\n",
       "        text-align: right;\n",
       "    }\n",
       "</style>\n",
       "<table border=\"1\" class=\"dataframe\">\n",
       "  <thead>\n",
       "    <tr style=\"text-align: right;\">\n",
       "      <th></th>\n",
       "      <th>epoch</th>\n",
       "      <th>batch_size</th>\n",
       "      <th>learning_rate</th>\n",
       "      <th>drop_out</th>\n",
       "      <th>rmse_train</th>\n",
       "      <th>rmse_test</th>\n",
       "      <th>r2_train</th>\n",
       "      <th>r2_test</th>\n",
       "    </tr>\n",
       "  </thead>\n",
       "  <tbody>\n",
       "    <tr>\n",
       "      <th>0</th>\n",
       "      <td>2499</td>\n",
       "      <td>None</td>\n",
       "      <td>NaN</td>\n",
       "      <td>NaN</td>\n",
       "      <td>2846.0</td>\n",
       "      <td>4287.0</td>\n",
       "      <td>0.90</td>\n",
       "      <td>0.83</td>\n",
       "    </tr>\n",
       "    <tr>\n",
       "      <th>0</th>\n",
       "      <td>300</td>\n",
       "      <td>53</td>\n",
       "      <td>0.023143</td>\n",
       "      <td>0.152435</td>\n",
       "      <td>3413.0</td>\n",
       "      <td>4582.0</td>\n",
       "      <td>0.86</td>\n",
       "      <td>0.81</td>\n",
       "    </tr>\n",
       "  </tbody>\n",
       "</table>\n",
       "</div>"
      ],
      "text/plain": [
       "   epoch batch_size  learning_rate  drop_out  rmse_train  rmse_test  r2_train  \\\n",
       "0   2499       None            NaN       NaN      2846.0     4287.0      0.90   \n",
       "0    300         53       0.023143  0.152435      3413.0     4582.0      0.86   \n",
       "\n",
       "   r2_test  \n",
       "0     0.83  \n",
       "0     0.81  "
      ]
     },
     "execution_count": 48,
     "metadata": {},
     "output_type": "execute_result"
    }
   ],
   "source": [
    "results"
   ]
  },
  {
   "cell_type": "markdown",
   "metadata": {},
   "source": [
    "## Вывод"
   ]
  },
  {
   "cell_type": "markdown",
   "metadata": {},
   "source": [
    "Загрузили данные.\n",
    "Была сделана предобработка данных.\n",
    "- Изменили названия столбцов.\n",
    "- Привели признаки star_type и star_color к категориальному типу.\n",
    "- Удалили неинформативныйй столбец unnamed_0.\n",
    "- Избавились от дублирующихся названий звезд.\n",
    "\n",
    "Разделили данные на выборки.\\\n",
    "Произвели кодирование и масштабирование данных.\\\n",
    "Перевели датасет в тензор.\\\n",
    "\\\n",
    "Построили базовую нейронную сеть, которая имеет:\n",
    "- 2 скрытых слоя\n",
    "- функцию активации nn.ELU() на первом слое и nn.ReLU() на втором\n",
    "- 18 нейронов на входном слое, 25 нейронов в первом слое, 17 нейронов во втором слое и 1 нейрон на выходе\n",
    "- скорость обучения 1e-2\n",
    "- количество эпох 2500 \n",
    "\n",
    "На тестовых данных мы получили RMSE 4287 тем самым выполнив условие, что значение целевой метрики RMSE должно быть меньше 4500.\\\n",
    "Улучшение модели путем перебора параметров dropout, размер батча и скорость обучения при помощи optuna, не удалось, показание метрики rmse  ухудшилось - 4639.0.\\\n",
    "Таким образом лучшим вариантом сети с rmse на тестовой выборке = 4287 оказалась базовая сеть обученная без разбиения на батчи и использолвания «dropout»\n",
    "\n"
   ]
  }
 ],
 "metadata": {
  "ExecuteTimeLog": [
   {
    "duration": 7034,
    "start_time": "2024-09-20T18:49:04.352Z"
   },
   {
    "duration": 3826,
    "start_time": "2024-09-20T18:49:11.388Z"
   },
   {
    "duration": 6,
    "start_time": "2024-09-20T18:49:15.215Z"
   },
   {
    "duration": 159,
    "start_time": "2024-09-20T18:49:15.224Z"
   },
   {
    "duration": 1304,
    "start_time": "2024-09-20T18:49:15.384Z"
   },
   {
    "duration": 5,
    "start_time": "2024-09-20T18:49:16.690Z"
   },
   {
    "duration": 11,
    "start_time": "2024-09-20T18:49:16.696Z"
   },
   {
    "duration": 16,
    "start_time": "2024-09-20T18:49:16.708Z"
   },
   {
    "duration": 5,
    "start_time": "2024-09-20T18:49:16.726Z"
   },
   {
    "duration": 25,
    "start_time": "2024-09-20T18:49:16.734Z"
   },
   {
    "duration": 218,
    "start_time": "2024-09-20T18:49:16.761Z"
   },
   {
    "duration": 134,
    "start_time": "2024-09-20T18:49:16.980Z"
   },
   {
    "duration": 15,
    "start_time": "2024-09-20T18:49:17.116Z"
   },
   {
    "duration": 18,
    "start_time": "2024-09-20T18:49:17.146Z"
   },
   {
    "duration": 18,
    "start_time": "2024-09-20T18:49:17.166Z"
   },
   {
    "duration": 198,
    "start_time": "2024-09-20T18:49:17.185Z"
   },
   {
    "duration": 129,
    "start_time": "2024-09-20T18:49:17.384Z"
   },
   {
    "duration": 15,
    "start_time": "2024-09-20T18:49:17.515Z"
   },
   {
    "duration": 338,
    "start_time": "2024-09-20T18:49:17.532Z"
   },
   {
    "duration": 121,
    "start_time": "2024-09-20T18:49:17.871Z"
   },
   {
    "duration": 20,
    "start_time": "2024-09-20T18:49:17.994Z"
   },
   {
    "duration": 180,
    "start_time": "2024-09-20T18:49:18.016Z"
   },
   {
    "duration": 155,
    "start_time": "2024-09-20T18:49:18.198Z"
   },
   {
    "duration": 6,
    "start_time": "2024-09-20T18:49:18.355Z"
   },
   {
    "duration": 18,
    "start_time": "2024-09-20T18:49:18.363Z"
   },
   {
    "duration": 212,
    "start_time": "2024-09-20T18:49:18.382Z"
   },
   {
    "duration": 3,
    "start_time": "2024-09-20T18:49:18.597Z"
   },
   {
    "duration": 10,
    "start_time": "2024-09-20T18:49:18.605Z"
   },
   {
    "duration": 26,
    "start_time": "2024-09-20T18:49:18.617Z"
   },
   {
    "duration": 32,
    "start_time": "2024-09-20T18:49:18.646Z"
   },
   {
    "duration": 41,
    "start_time": "2024-09-20T18:49:18.681Z"
   },
   {
    "duration": 147,
    "start_time": "2024-09-20T18:49:18.724Z"
   },
   {
    "duration": 0,
    "start_time": "2024-09-20T18:49:18.873Z"
   },
   {
    "duration": 0,
    "start_time": "2024-09-20T18:49:18.874Z"
   },
   {
    "duration": 0,
    "start_time": "2024-09-20T18:49:18.875Z"
   },
   {
    "duration": 0,
    "start_time": "2024-09-20T18:49:18.876Z"
   },
   {
    "duration": 0,
    "start_time": "2024-09-20T18:49:18.878Z"
   },
   {
    "duration": 0,
    "start_time": "2024-09-20T18:49:18.879Z"
   },
   {
    "duration": 0,
    "start_time": "2024-09-20T18:49:18.880Z"
   },
   {
    "duration": 0,
    "start_time": "2024-09-20T18:49:18.884Z"
   },
   {
    "duration": 0,
    "start_time": "2024-09-20T18:49:18.885Z"
   },
   {
    "duration": 0,
    "start_time": "2024-09-20T18:49:18.886Z"
   },
   {
    "duration": 0,
    "start_time": "2024-09-20T18:49:18.888Z"
   },
   {
    "duration": 6001,
    "start_time": "2024-09-20T18:52:24.368Z"
   },
   {
    "duration": 7290,
    "start_time": "2024-09-20T18:52:30.371Z"
   },
   {
    "duration": 3808,
    "start_time": "2024-09-20T18:52:37.666Z"
   },
   {
    "duration": 5,
    "start_time": "2024-09-20T18:52:41.476Z"
   },
   {
    "duration": 34,
    "start_time": "2024-09-20T18:52:41.483Z"
   },
   {
    "duration": 1292,
    "start_time": "2024-09-20T18:52:41.518Z"
   },
   {
    "duration": 6,
    "start_time": "2024-09-20T18:52:42.812Z"
   },
   {
    "duration": 10,
    "start_time": "2024-09-20T18:52:42.820Z"
   },
   {
    "duration": 22,
    "start_time": "2024-09-20T18:52:42.831Z"
   },
   {
    "duration": 6,
    "start_time": "2024-09-20T18:52:42.854Z"
   },
   {
    "duration": 16,
    "start_time": "2024-09-20T18:52:42.861Z"
   },
   {
    "duration": 228,
    "start_time": "2024-09-20T18:52:42.879Z"
   },
   {
    "duration": 145,
    "start_time": "2024-09-20T18:52:43.112Z"
   },
   {
    "duration": 22,
    "start_time": "2024-09-20T18:52:43.259Z"
   },
   {
    "duration": 21,
    "start_time": "2024-09-20T18:52:43.283Z"
   },
   {
    "duration": 7,
    "start_time": "2024-09-20T18:52:43.306Z"
   },
   {
    "duration": 208,
    "start_time": "2024-09-20T18:52:43.315Z"
   },
   {
    "duration": 216,
    "start_time": "2024-09-20T18:52:43.524Z"
   },
   {
    "duration": 13,
    "start_time": "2024-09-20T18:52:43.745Z"
   },
   {
    "duration": 208,
    "start_time": "2024-09-20T18:52:43.760Z"
   },
   {
    "duration": 211,
    "start_time": "2024-09-20T18:52:43.970Z"
   },
   {
    "duration": 34,
    "start_time": "2024-09-20T18:52:44.183Z"
   },
   {
    "duration": 227,
    "start_time": "2024-09-20T18:52:44.221Z"
   },
   {
    "duration": 192,
    "start_time": "2024-09-20T18:52:44.450Z"
   },
   {
    "duration": 7,
    "start_time": "2024-09-20T18:52:44.645Z"
   },
   {
    "duration": 11,
    "start_time": "2024-09-20T18:52:44.654Z"
   },
   {
    "duration": 239,
    "start_time": "2024-09-20T18:52:44.668Z"
   },
   {
    "duration": 2,
    "start_time": "2024-09-20T18:52:44.909Z"
   },
   {
    "duration": 7,
    "start_time": "2024-09-20T18:52:44.913Z"
   },
   {
    "duration": 26,
    "start_time": "2024-09-20T18:52:44.922Z"
   },
   {
    "duration": 29,
    "start_time": "2024-09-20T18:52:44.950Z"
   },
   {
    "duration": 17,
    "start_time": "2024-09-20T18:52:44.981Z"
   },
   {
    "duration": 19,
    "start_time": "2024-09-20T18:52:45.000Z"
   },
   {
    "duration": 56,
    "start_time": "2024-09-20T18:52:45.021Z"
   },
   {
    "duration": 26,
    "start_time": "2024-09-20T18:52:45.079Z"
   },
   {
    "duration": 51,
    "start_time": "2024-09-20T18:52:45.107Z"
   },
   {
    "duration": 6699,
    "start_time": "2024-09-20T18:52:45.161Z"
   },
   {
    "duration": 245,
    "start_time": "2024-09-20T18:52:51.862Z"
   },
   {
    "duration": 4,
    "start_time": "2024-09-20T18:52:52.110Z"
   },
   {
    "duration": 1168,
    "start_time": "2024-09-20T18:52:52.119Z"
   },
   {
    "duration": 1765686,
    "start_time": "2024-09-20T18:52:53.289Z"
   },
   {
    "duration": 1578,
    "start_time": "2024-09-20T19:22:18.978Z"
   },
   {
    "duration": 1185,
    "start_time": "2024-09-20T19:22:20.558Z"
   },
   {
    "duration": 10,
    "start_time": "2024-09-20T19:22:21.745Z"
   }
  ],
  "kernelspec": {
   "display_name": "Python 3 (ipykernel)",
   "language": "python",
   "name": "python3"
  },
  "language_info": {
   "codemirror_mode": {
    "name": "ipython",
    "version": 3
   },
   "file_extension": ".py",
   "mimetype": "text/x-python",
   "name": "python",
   "nbconvert_exporter": "python",
   "pygments_lexer": "ipython3",
   "version": "3.9.5"
  },
  "toc": {
   "base_numbering": 1,
   "nav_menu": {},
   "number_sections": true,
   "sideBar": true,
   "skip_h1_title": true,
   "title_cell": "Table of Contents",
   "title_sidebar": "Contents",
   "toc_cell": false,
   "toc_position": {},
   "toc_section_display": true,
   "toc_window_display": false
  }
 },
 "nbformat": 4,
 "nbformat_minor": 2
}
